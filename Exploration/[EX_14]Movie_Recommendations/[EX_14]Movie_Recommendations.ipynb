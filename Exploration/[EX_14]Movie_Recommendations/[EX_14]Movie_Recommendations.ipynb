{
 "cells": [
  {
   "cell_type": "markdown",
   "id": "709face9",
   "metadata": {},
   "source": [
    "# EXPLORATION_14 아이유팬이 좋아할만한 다른 아티스트 찾기"
   ]
  },
  {
   "cell_type": "markdown",
   "id": "01aab4bd",
   "metadata": {},
   "source": [
    "- 추천 시스템이란?   \n",
    "=> 나와 비슷한 다른 사용자들이 좋아하는 것과 비슷한 것을 내게 추쳔해주는 것!   \n",
    "\n",
    "- 협업 필터링방식과 콘텐츠 기반 필터링방식의 차이점은?  \n",
    "    - 협업 필터링은 다수의 사용자의 아이템 구매 이력 정보만으로 사용자간 유사성 및 아이템 간 유사성을 파악함  \n",
    "    - 콘텐츠 기반 필터링은 아이템의 고유의 정보를 바탕으로 아이템 간 유사성을 파악한다.\n",
    "\n",
    "=> 콘텐츠 기반 필터링에서는 아이템 자체의 속성에만 주목하고 사용자와 아이템 간의 관련성 에는 주목하지 않는다."
   ]
  },
  {
   "cell_type": "markdown",
   "id": "b5ab5a1e",
   "metadata": {},
   "source": [
    "추천시스템은  \n",
    "1. 아이템이 많고,   \n",
    "2. 유저의 취향은 다양할 때 유저가 소비할 만한 아이템을 예측하는 모델이다.   \n",
    "ex) 유튜브, 페이스북, 아마존 등이 있다."
   ]
  },
  {
   "cell_type": "markdown",
   "id": "be5e1f00",
   "metadata": {},
   "source": [
    "## 1) 데이터 준비와 전처리"
   ]
  },
  {
   "cell_type": "code",
   "execution_count": 1,
   "id": "26ea3cdb",
   "metadata": {},
   "outputs": [
    {
     "name": "stdout",
     "output_type": "stream",
     "text": [
      "뿅~\n"
     ]
    }
   ],
   "source": [
    "## 필요한 라이브러리 import하기!\n",
    "\n",
    "import os\n",
    "import pandas as pd\n",
    "import numpy as np\n",
    "from scipy.sparse import csr_matrix\n",
    "from implicit.als import AlternatingLeastSquares\n",
    "import os\n",
    "import numpy as np\n",
    "\n",
    "print(\"뿅~\")"
   ]
  },
  {
   "cell_type": "code",
   "execution_count": 2,
   "id": "1a4c9779",
   "metadata": {},
   "outputs": [
    {
     "data": {
      "text/html": [
       "<div>\n",
       "<style scoped>\n",
       "    .dataframe tbody tr th:only-of-type {\n",
       "        vertical-align: middle;\n",
       "    }\n",
       "\n",
       "    .dataframe tbody tr th {\n",
       "        vertical-align: top;\n",
       "    }\n",
       "\n",
       "    .dataframe thead th {\n",
       "        text-align: right;\n",
       "    }\n",
       "</style>\n",
       "<table border=\"1\" class=\"dataframe\">\n",
       "  <thead>\n",
       "    <tr style=\"text-align: right;\">\n",
       "      <th></th>\n",
       "      <th>user_id</th>\n",
       "      <th>movie_id</th>\n",
       "      <th>ratings</th>\n",
       "      <th>timestamp</th>\n",
       "    </tr>\n",
       "  </thead>\n",
       "  <tbody>\n",
       "    <tr>\n",
       "      <th>0</th>\n",
       "      <td>1</td>\n",
       "      <td>1193</td>\n",
       "      <td>5</td>\n",
       "      <td>978300760</td>\n",
       "    </tr>\n",
       "    <tr>\n",
       "      <th>1</th>\n",
       "      <td>1</td>\n",
       "      <td>661</td>\n",
       "      <td>3</td>\n",
       "      <td>978302109</td>\n",
       "    </tr>\n",
       "    <tr>\n",
       "      <th>2</th>\n",
       "      <td>1</td>\n",
       "      <td>914</td>\n",
       "      <td>3</td>\n",
       "      <td>978301968</td>\n",
       "    </tr>\n",
       "    <tr>\n",
       "      <th>3</th>\n",
       "      <td>1</td>\n",
       "      <td>3408</td>\n",
       "      <td>4</td>\n",
       "      <td>978300275</td>\n",
       "    </tr>\n",
       "    <tr>\n",
       "      <th>4</th>\n",
       "      <td>1</td>\n",
       "      <td>2355</td>\n",
       "      <td>5</td>\n",
       "      <td>978824291</td>\n",
       "    </tr>\n",
       "  </tbody>\n",
       "</table>\n",
       "</div>"
      ],
      "text/plain": [
       "   user_id  movie_id  ratings  timestamp\n",
       "0        1      1193        5  978300760\n",
       "1        1       661        3  978302109\n",
       "2        1       914        3  978301968\n",
       "3        1      3408        4  978300275\n",
       "4        1      2355        5  978824291"
      ]
     },
     "execution_count": 2,
     "metadata": {},
     "output_type": "execute_result"
    }
   ],
   "source": [
    "## 저장되어있는 데이터를 불러오는데 위에서 5개만 ! 확인해보기!\n",
    "\n",
    "rating_file_path=os.getenv('HOME') + '/aiffel/recommendata_iu/data/ml-1m/ratings.dat'\n",
    "ratings_cols = ['user_id', 'movie_id', 'ratings', 'timestamp']\n",
    "ratings = pd.read_csv(rating_file_path, sep='::', names=ratings_cols, engine='python', encoding = \"ISO-8859-1\")\n",
    "orginal_data_size = len(ratings)\n",
    "ratings.head()"
   ]
  },
  {
   "cell_type": "code",
   "execution_count": 3,
   "id": "9268f299",
   "metadata": {},
   "outputs": [
    {
     "name": "stdout",
     "output_type": "stream",
     "text": [
      "orginal_data_size: 1000209, filtered_data_size: 836478\n",
      "Ratio of Remaining Data is 83.63%\n"
     ]
    }
   ],
   "source": [
    "## 평점 3점 이상만 남기고 3점 미만은 다 제외시키고 보겠다~~~~\n",
    "\n",
    "ratings = ratings[ratings['ratings']>=3]\n",
    "filtered_data_size = len(ratings)\n",
    "\n",
    "print(f'orginal_data_size: {orginal_data_size}, filtered_data_size: {filtered_data_size}')\n",
    "print(f'Ratio of Remaining Data is {filtered_data_size / orginal_data_size:.2%}')"
   ]
  },
  {
   "cell_type": "code",
   "execution_count": 4,
   "id": "240ba055",
   "metadata": {},
   "outputs": [],
   "source": [
    "## ratings 컬럼의 이름을 counts로 바꿔준다.\n",
    "\n",
    "ratings.rename(columns={'ratings':'counts'}, inplace=True)"
   ]
  },
  {
   "cell_type": "code",
   "execution_count": 5,
   "id": "2601abb6",
   "metadata": {},
   "outputs": [
    {
     "data": {
      "text/plain": [
       "0          5\n",
       "1          3\n",
       "2          3\n",
       "3          4\n",
       "4          5\n",
       "          ..\n",
       "1000203    3\n",
       "1000205    5\n",
       "1000206    5\n",
       "1000207    4\n",
       "1000208    4\n",
       "Name: counts, Length: 836478, dtype: int64"
      ]
     },
     "execution_count": 5,
     "metadata": {},
     "output_type": "execute_result"
    }
   ],
   "source": [
    "## 컬럼이름이 잘 되었는지 확인해보기!\n",
    "\n",
    "ratings['counts']"
   ]
  },
  {
   "cell_type": "code",
   "execution_count": 6,
   "id": "480c87fe",
   "metadata": {
    "scrolled": true
   },
   "outputs": [
    {
     "data": {
      "text/html": [
       "<div>\n",
       "<style scoped>\n",
       "    .dataframe tbody tr th:only-of-type {\n",
       "        vertical-align: middle;\n",
       "    }\n",
       "\n",
       "    .dataframe tbody tr th {\n",
       "        vertical-align: top;\n",
       "    }\n",
       "\n",
       "    .dataframe thead th {\n",
       "        text-align: right;\n",
       "    }\n",
       "</style>\n",
       "<table border=\"1\" class=\"dataframe\">\n",
       "  <thead>\n",
       "    <tr style=\"text-align: right;\">\n",
       "      <th></th>\n",
       "      <th>movie_id</th>\n",
       "      <th>title</th>\n",
       "      <th>genre</th>\n",
       "    </tr>\n",
       "  </thead>\n",
       "  <tbody>\n",
       "    <tr>\n",
       "      <th>0</th>\n",
       "      <td>1</td>\n",
       "      <td>Toy Story (1995)</td>\n",
       "      <td>Animation|Children's|Comedy</td>\n",
       "    </tr>\n",
       "    <tr>\n",
       "      <th>1</th>\n",
       "      <td>2</td>\n",
       "      <td>Jumanji (1995)</td>\n",
       "      <td>Adventure|Children's|Fantasy</td>\n",
       "    </tr>\n",
       "    <tr>\n",
       "      <th>2</th>\n",
       "      <td>3</td>\n",
       "      <td>Grumpier Old Men (1995)</td>\n",
       "      <td>Comedy|Romance</td>\n",
       "    </tr>\n",
       "    <tr>\n",
       "      <th>3</th>\n",
       "      <td>4</td>\n",
       "      <td>Waiting to Exhale (1995)</td>\n",
       "      <td>Comedy|Drama</td>\n",
       "    </tr>\n",
       "    <tr>\n",
       "      <th>4</th>\n",
       "      <td>5</td>\n",
       "      <td>Father of the Bride Part II (1995)</td>\n",
       "      <td>Comedy</td>\n",
       "    </tr>\n",
       "  </tbody>\n",
       "</table>\n",
       "</div>"
      ],
      "text/plain": [
       "   movie_id                               title                         genre\n",
       "0         1                    Toy Story (1995)   Animation|Children's|Comedy\n",
       "1         2                      Jumanji (1995)  Adventure|Children's|Fantasy\n",
       "2         3             Grumpier Old Men (1995)                Comedy|Romance\n",
       "3         4            Waiting to Exhale (1995)                  Comedy|Drama\n",
       "4         5  Father of the Bride Part II (1995)                        Comedy"
      ]
     },
     "execution_count": 6,
     "metadata": {},
     "output_type": "execute_result"
    }
   ],
   "source": [
    "## 영화 제목을 보기 위해 메타 데이터를 불러오기!\n",
    "\n",
    "movie_file_path=os.getenv('HOME') + '/aiffel/recommendata_iu/data/ml-1m/movies.dat'\n",
    "cols = ['movie_id', 'title', 'genre'] \n",
    "movies = pd.read_csv(movie_file_path, sep='::', names=cols, engine='python', encoding='ISO-8859-1')\n",
    "movies.head()"
   ]
  },
  {
   "cell_type": "markdown",
   "id": "ecb17894",
   "metadata": {},
   "source": [
    "## 2) 분석해 봅시다."
   ]
  },
  {
   "cell_type": "markdown",
   "id": "f37bc03d",
   "metadata": {},
   "source": [
    "- ratings 에 있는 유니크한 영화 개수  \n",
    "- ratings 에 있는 유니크한 사용자 수  \n",
    "- 가장 인기 있는 영화 30개(인기순)  \n",
    "\n",
    "** pandas.DataFrame.nunique() 은 특정 컬럼에 포함된 유니크한 데이터의 개수를 알아보는데 유용함 **"
   ]
  },
  {
   "cell_type": "code",
   "execution_count": 7,
   "id": "1fcc4915",
   "metadata": {
    "scrolled": true
   },
   "outputs": [
    {
     "name": "stdout",
     "output_type": "stream",
     "text": [
      "3628\n"
     ]
    }
   ],
   "source": [
    "##ratings에 있는 유니크한 영화 개수\n",
    "\n",
    "print(ratings['movie_id'].nunique())  "
   ]
  },
  {
   "cell_type": "code",
   "execution_count": 8,
   "id": "4117d7e6",
   "metadata": {},
   "outputs": [
    {
     "name": "stdout",
     "output_type": "stream",
     "text": [
      "6039\n"
     ]
    }
   ],
   "source": [
    "## rating에 있는 유니크한 사용자 수\n",
    "\n",
    "print(ratings['user_id'].nunique())  "
   ]
  },
  {
   "cell_type": "code",
   "execution_count": 9,
   "id": "f74d3b1b",
   "metadata": {},
   "outputs": [
    {
     "data": {
      "text/plain": [
       "movie_id\n",
       "2858    3211\n",
       "260     2910\n",
       "1196    2885\n",
       "1210    2716\n",
       "2028    2561\n",
       "589     2509\n",
       "593     2498\n",
       "1198    2473\n",
       "1270    2460\n",
       "2571    2434\n",
       "480     2413\n",
       "2762    2385\n",
       "608     2371\n",
       "110     2314\n",
       "1580    2297\n",
       "527     2257\n",
       "1197    2252\n",
       "2396    2213\n",
       "1617    2210\n",
       "318     2194\n",
       "858     2167\n",
       "1265    2121\n",
       "1097    2102\n",
       "2997    2066\n",
       "2716    2051\n",
       "296     2030\n",
       "356     2022\n",
       "1240    2019\n",
       "1       2000\n",
       "457     1941\n",
       "Name: user_id, dtype: int64"
      ]
     },
     "execution_count": 9,
     "metadata": {},
     "output_type": "execute_result"
    }
   ],
   "source": [
    "## 가장 인기 있는 영화 30개(인기순)\n",
    "\n",
    "mv_count = ratings.groupby('movie_id')['user_id'].count()\n",
    "mv_count.sort_values(ascending=False).head(30)"
   ]
  },
  {
   "cell_type": "code",
   "execution_count": 10,
   "id": "70c55500",
   "metadata": {},
   "outputs": [
    {
     "data": {
      "text/plain": [
       "title\n",
       "American Beauty (1999)                                   3211\n",
       "Star Wars: Episode IV - A New Hope (1977)                2910\n",
       "Star Wars: Episode V - The Empire Strikes Back (1980)    2885\n",
       "Star Wars: Episode VI - Return of the Jedi (1983)        2716\n",
       "Saving Private Ryan (1998)                               2561\n",
       "Terminator 2: Judgment Day (1991)                        2509\n",
       "Silence of the Lambs, The (1991)                         2498\n",
       "Raiders of the Lost Ark (1981)                           2473\n",
       "Back to the Future (1985)                                2460\n",
       "Matrix, The (1999)                                       2434\n",
       "Jurassic Park (1993)                                     2413\n",
       "Sixth Sense, The (1999)                                  2385\n",
       "Fargo (1996)                                             2371\n",
       "Braveheart (1995)                                        2314\n",
       "Men in Black (1997)                                      2297\n",
       "Schindler's List (1993)                                  2257\n",
       "Princess Bride, The (1987)                               2252\n",
       "Shakespeare in Love (1998)                               2213\n",
       "L.A. Confidential (1997)                                 2210\n",
       "Shawshank Redemption, The (1994)                         2194\n",
       "Godfather, The (1972)                                    2167\n",
       "Groundhog Day (1993)                                     2121\n",
       "E.T. the Extra-Terrestrial (1982)                        2102\n",
       "Being John Malkovich (1999)                              2066\n",
       "Ghostbusters (1984)                                      2051\n",
       "Pulp Fiction (1994)                                      2030\n",
       "Forrest Gump (1994)                                      2022\n",
       "Terminator, The (1984)                                   2019\n",
       "Toy Story (1995)                                         2000\n",
       "Fugitive, The (1993)                                     1941\n",
       "Name: user_id, dtype: int64"
      ]
     },
     "execution_count": 10,
     "metadata": {},
     "output_type": "execute_result"
    }
   ],
   "source": [
    "## 앞선 두 데이터프레임을 합쳐서 출력해보기\n",
    "\n",
    "\n",
    "mv_total = pd.merge(ratings, movies, how='left')\n",
    "mv_total\n",
    "\n",
    "mv_count = mv_total.groupby('title')['user_id'].count()\n",
    "mv_count.sort_values(ascending=False).head(30)"
   ]
  },
  {
   "cell_type": "markdown",
   "id": "b79e7550",
   "metadata": {},
   "source": [
    "## 3) 내가 선호하는 영화를 5가지 골라서 ratings에 추가해 줍시다."
   ]
  },
  {
   "cell_type": "code",
   "execution_count": 11,
   "id": "f4ab11b3",
   "metadata": {},
   "outputs": [
    {
     "data": {
      "text/html": [
       "<div>\n",
       "<style scoped>\n",
       "    .dataframe tbody tr th:only-of-type {\n",
       "        vertical-align: middle;\n",
       "    }\n",
       "\n",
       "    .dataframe tbody tr th {\n",
       "        vertical-align: top;\n",
       "    }\n",
       "\n",
       "    .dataframe thead th {\n",
       "        text-align: right;\n",
       "    }\n",
       "</style>\n",
       "<table border=\"1\" class=\"dataframe\">\n",
       "  <thead>\n",
       "    <tr style=\"text-align: right;\">\n",
       "      <th></th>\n",
       "      <th>movie_id</th>\n",
       "      <th>title</th>\n",
       "      <th>genre</th>\n",
       "    </tr>\n",
       "  </thead>\n",
       "  <tbody>\n",
       "    <tr>\n",
       "      <th>0</th>\n",
       "      <td>1</td>\n",
       "      <td>Toy Story (1995)</td>\n",
       "      <td>Animation|Children's|Comedy</td>\n",
       "    </tr>\n",
       "    <tr>\n",
       "      <th>3045</th>\n",
       "      <td>3114</td>\n",
       "      <td>Toy Story 2 (1999)</td>\n",
       "      <td>Animation|Children's|Comedy</td>\n",
       "    </tr>\n",
       "  </tbody>\n",
       "</table>\n",
       "</div>"
      ],
      "text/plain": [
       "      movie_id               title                        genre\n",
       "0            1    Toy Story (1995)  Animation|Children's|Comedy\n",
       "3045      3114  Toy Story 2 (1999)  Animation|Children's|Comedy"
      ]
     },
     "execution_count": 11,
     "metadata": {},
     "output_type": "execute_result"
    }
   ],
   "source": [
    "## 일단 영화제목을 찾아보자! (내가 원하는 영화가 있을 수도 있고 없을 수도 있으니까!!!!!)\n",
    "## 1. toy story\n",
    "\n",
    "movies[movies['title'].str.lower().str.contains('toy story')]"
   ]
  },
  {
   "cell_type": "code",
   "execution_count": 12,
   "id": "56791634",
   "metadata": {
    "scrolled": true
   },
   "outputs": [
    {
     "data": {
      "text/html": [
       "<div>\n",
       "<style scoped>\n",
       "    .dataframe tbody tr th:only-of-type {\n",
       "        vertical-align: middle;\n",
       "    }\n",
       "\n",
       "    .dataframe tbody tr th {\n",
       "        vertical-align: top;\n",
       "    }\n",
       "\n",
       "    .dataframe thead th {\n",
       "        text-align: right;\n",
       "    }\n",
       "</style>\n",
       "<table border=\"1\" class=\"dataframe\">\n",
       "  <thead>\n",
       "    <tr style=\"text-align: right;\">\n",
       "      <th></th>\n",
       "      <th>movie_id</th>\n",
       "      <th>title</th>\n",
       "      <th>genre</th>\n",
       "    </tr>\n",
       "  </thead>\n",
       "  <tbody>\n",
       "    <tr>\n",
       "      <th>1539</th>\n",
       "      <td>1580</td>\n",
       "      <td>Men in Black (1997)</td>\n",
       "      <td>Action|Adventure|Comedy|Sci-Fi</td>\n",
       "    </tr>\n",
       "  </tbody>\n",
       "</table>\n",
       "</div>"
      ],
      "text/plain": [
       "      movie_id                title                           genre\n",
       "1539      1580  Men in Black (1997)  Action|Adventure|Comedy|Sci-Fi"
      ]
     },
     "execution_count": 12,
     "metadata": {},
     "output_type": "execute_result"
    }
   ],
   "source": [
    "## 2. men in black\n",
    "\n",
    "movies[movies['title'].str.lower().str.contains('men in black')]"
   ]
  },
  {
   "cell_type": "code",
   "execution_count": 13,
   "id": "66f066d7",
   "metadata": {
    "scrolled": true
   },
   "outputs": [
    {
     "data": {
      "text/html": [
       "<div>\n",
       "<style scoped>\n",
       "    .dataframe tbody tr th:only-of-type {\n",
       "        vertical-align: middle;\n",
       "    }\n",
       "\n",
       "    .dataframe tbody tr th {\n",
       "        vertical-align: top;\n",
       "    }\n",
       "\n",
       "    .dataframe thead th {\n",
       "        text-align: right;\n",
       "    }\n",
       "</style>\n",
       "<table border=\"1\" class=\"dataframe\">\n",
       "  <thead>\n",
       "    <tr style=\"text-align: right;\">\n",
       "      <th></th>\n",
       "      <th>movie_id</th>\n",
       "      <th>title</th>\n",
       "      <th>genre</th>\n",
       "    </tr>\n",
       "  </thead>\n",
       "  <tbody>\n",
       "    <tr>\n",
       "      <th>1672</th>\n",
       "      <td>1721</td>\n",
       "      <td>Titanic (1997)</td>\n",
       "      <td>Drama|Romance</td>\n",
       "    </tr>\n",
       "    <tr>\n",
       "      <th>2088</th>\n",
       "      <td>2157</td>\n",
       "      <td>Chambermaid on the Titanic, The (1998)</td>\n",
       "      <td>Romance</td>\n",
       "    </tr>\n",
       "    <tr>\n",
       "      <th>3334</th>\n",
       "      <td>3403</td>\n",
       "      <td>Raise the Titanic (1980)</td>\n",
       "      <td>Drama|Thriller</td>\n",
       "    </tr>\n",
       "    <tr>\n",
       "      <th>3335</th>\n",
       "      <td>3404</td>\n",
       "      <td>Titanic (1953)</td>\n",
       "      <td>Action|Drama</td>\n",
       "    </tr>\n",
       "  </tbody>\n",
       "</table>\n",
       "</div>"
      ],
      "text/plain": [
       "      movie_id                                   title           genre\n",
       "1672      1721                          Titanic (1997)   Drama|Romance\n",
       "2088      2157  Chambermaid on the Titanic, The (1998)         Romance\n",
       "3334      3403                Raise the Titanic (1980)  Drama|Thriller\n",
       "3335      3404                          Titanic (1953)    Action|Drama"
      ]
     },
     "execution_count": 13,
     "metadata": {},
     "output_type": "execute_result"
    }
   ],
   "source": [
    "## 3. titanic\n",
    "\n",
    "movies[movies['title'].str.lower().str.contains('titanic')]"
   ]
  },
  {
   "cell_type": "code",
   "execution_count": 14,
   "id": "357f0b50",
   "metadata": {},
   "outputs": [
    {
     "name": "stdout",
     "output_type": "stream",
     "text": [
      "6041\n"
     ]
    }
   ],
   "source": [
    "## 사용자 인덱스 생성\n",
    "\n",
    "my_id = ratings['user_id'].max() + 1\n",
    "print(my_id)"
   ]
  },
  {
   "cell_type": "code",
   "execution_count": 15,
   "id": "112349a7",
   "metadata": {},
   "outputs": [
    {
     "data": {
      "text/html": [
       "<div>\n",
       "<style scoped>\n",
       "    .dataframe tbody tr th:only-of-type {\n",
       "        vertical-align: middle;\n",
       "    }\n",
       "\n",
       "    .dataframe tbody tr th {\n",
       "        vertical-align: top;\n",
       "    }\n",
       "\n",
       "    .dataframe thead th {\n",
       "        text-align: right;\n",
       "    }\n",
       "</style>\n",
       "<table border=\"1\" class=\"dataframe\">\n",
       "  <thead>\n",
       "    <tr style=\"text-align: right;\">\n",
       "      <th></th>\n",
       "      <th>user_id</th>\n",
       "      <th>movie_id</th>\n",
       "      <th>counts</th>\n",
       "      <th>timestamp</th>\n",
       "    </tr>\n",
       "  </thead>\n",
       "  <tbody>\n",
       "    <tr>\n",
       "      <th>0</th>\n",
       "      <td>1</td>\n",
       "      <td>1193</td>\n",
       "      <td>5</td>\n",
       "      <td>978300760</td>\n",
       "    </tr>\n",
       "    <tr>\n",
       "      <th>1</th>\n",
       "      <td>1</td>\n",
       "      <td>661</td>\n",
       "      <td>3</td>\n",
       "      <td>978302109</td>\n",
       "    </tr>\n",
       "    <tr>\n",
       "      <th>2</th>\n",
       "      <td>1</td>\n",
       "      <td>914</td>\n",
       "      <td>3</td>\n",
       "      <td>978301968</td>\n",
       "    </tr>\n",
       "    <tr>\n",
       "      <th>3</th>\n",
       "      <td>1</td>\n",
       "      <td>3408</td>\n",
       "      <td>4</td>\n",
       "      <td>978300275</td>\n",
       "    </tr>\n",
       "    <tr>\n",
       "      <th>4</th>\n",
       "      <td>1</td>\n",
       "      <td>2355</td>\n",
       "      <td>5</td>\n",
       "      <td>978824291</td>\n",
       "    </tr>\n",
       "    <tr>\n",
       "      <th>5</th>\n",
       "      <td>1</td>\n",
       "      <td>1197</td>\n",
       "      <td>3</td>\n",
       "      <td>978302268</td>\n",
       "    </tr>\n",
       "    <tr>\n",
       "      <th>6</th>\n",
       "      <td>1</td>\n",
       "      <td>1287</td>\n",
       "      <td>5</td>\n",
       "      <td>978302039</td>\n",
       "    </tr>\n",
       "    <tr>\n",
       "      <th>7</th>\n",
       "      <td>1</td>\n",
       "      <td>2804</td>\n",
       "      <td>5</td>\n",
       "      <td>978300719</td>\n",
       "    </tr>\n",
       "    <tr>\n",
       "      <th>8</th>\n",
       "      <td>1</td>\n",
       "      <td>594</td>\n",
       "      <td>4</td>\n",
       "      <td>978302268</td>\n",
       "    </tr>\n",
       "    <tr>\n",
       "      <th>9</th>\n",
       "      <td>1</td>\n",
       "      <td>919</td>\n",
       "      <td>4</td>\n",
       "      <td>978301368</td>\n",
       "    </tr>\n",
       "  </tbody>\n",
       "</table>\n",
       "</div>"
      ],
      "text/plain": [
       "   user_id  movie_id  counts  timestamp\n",
       "0        1      1193       5  978300760\n",
       "1        1       661       3  978302109\n",
       "2        1       914       3  978301968\n",
       "3        1      3408       4  978300275\n",
       "4        1      2355       5  978824291\n",
       "5        1      1197       3  978302268\n",
       "6        1      1287       5  978302039\n",
       "7        1      2804       5  978300719\n",
       "8        1       594       4  978302268\n",
       "9        1       919       4  978301368"
      ]
     },
     "execution_count": 15,
     "metadata": {},
     "output_type": "execute_result"
    }
   ],
   "source": [
    "ratings.head(10)"
   ]
  },
  {
   "cell_type": "code",
   "execution_count": 16,
   "id": "f15955d6",
   "metadata": {},
   "outputs": [
    {
     "data": {
      "text/html": [
       "<div>\n",
       "<style scoped>\n",
       "    .dataframe tbody tr th:only-of-type {\n",
       "        vertical-align: middle;\n",
       "    }\n",
       "\n",
       "    .dataframe tbody tr th {\n",
       "        vertical-align: top;\n",
       "    }\n",
       "\n",
       "    .dataframe thead th {\n",
       "        text-align: right;\n",
       "    }\n",
       "</style>\n",
       "<table border=\"1\" class=\"dataframe\">\n",
       "  <thead>\n",
       "    <tr style=\"text-align: right;\">\n",
       "      <th></th>\n",
       "      <th>user_id</th>\n",
       "      <th>movie_id</th>\n",
       "      <th>counts</th>\n",
       "    </tr>\n",
       "  </thead>\n",
       "  <tbody>\n",
       "    <tr>\n",
       "      <th>0</th>\n",
       "      <td>1</td>\n",
       "      <td>1193</td>\n",
       "      <td>5</td>\n",
       "    </tr>\n",
       "    <tr>\n",
       "      <th>1</th>\n",
       "      <td>1</td>\n",
       "      <td>661</td>\n",
       "      <td>3</td>\n",
       "    </tr>\n",
       "    <tr>\n",
       "      <th>2</th>\n",
       "      <td>1</td>\n",
       "      <td>914</td>\n",
       "      <td>3</td>\n",
       "    </tr>\n",
       "    <tr>\n",
       "      <th>3</th>\n",
       "      <td>1</td>\n",
       "      <td>3408</td>\n",
       "      <td>4</td>\n",
       "    </tr>\n",
       "    <tr>\n",
       "      <th>4</th>\n",
       "      <td>1</td>\n",
       "      <td>2355</td>\n",
       "      <td>5</td>\n",
       "    </tr>\n",
       "    <tr>\n",
       "      <th>...</th>\n",
       "      <td>...</td>\n",
       "      <td>...</td>\n",
       "      <td>...</td>\n",
       "    </tr>\n",
       "    <tr>\n",
       "      <th>1000203</th>\n",
       "      <td>6040</td>\n",
       "      <td>1090</td>\n",
       "      <td>3</td>\n",
       "    </tr>\n",
       "    <tr>\n",
       "      <th>1000205</th>\n",
       "      <td>6040</td>\n",
       "      <td>1094</td>\n",
       "      <td>5</td>\n",
       "    </tr>\n",
       "    <tr>\n",
       "      <th>1000206</th>\n",
       "      <td>6040</td>\n",
       "      <td>562</td>\n",
       "      <td>5</td>\n",
       "    </tr>\n",
       "    <tr>\n",
       "      <th>1000207</th>\n",
       "      <td>6040</td>\n",
       "      <td>1096</td>\n",
       "      <td>4</td>\n",
       "    </tr>\n",
       "    <tr>\n",
       "      <th>1000208</th>\n",
       "      <td>6040</td>\n",
       "      <td>1097</td>\n",
       "      <td>4</td>\n",
       "    </tr>\n",
       "  </tbody>\n",
       "</table>\n",
       "<p>836478 rows × 3 columns</p>\n",
       "</div>"
      ],
      "text/plain": [
       "         user_id  movie_id  counts\n",
       "0              1      1193       5\n",
       "1              1       661       3\n",
       "2              1       914       3\n",
       "3              1      3408       4\n",
       "4              1      2355       5\n",
       "...          ...       ...     ...\n",
       "1000203     6040      1090       3\n",
       "1000205     6040      1094       5\n",
       "1000206     6040       562       5\n",
       "1000207     6040      1096       4\n",
       "1000208     6040      1097       4\n",
       "\n",
       "[836478 rows x 3 columns]"
      ]
     },
     "execution_count": 16,
     "metadata": {},
     "output_type": "execute_result"
    }
   ],
   "source": [
    "## 위에 결과를 보니 필요없는 칼럼인 timestamp 가 있어서 제거해주자!\n",
    "\n",
    "using_cols = ['user_id', 'movie_id', 'counts']\n",
    "ratings = ratings[using_cols]\n",
    "ratings"
   ]
  },
  {
   "cell_type": "code",
   "execution_count": 17,
   "id": "7ab0e812",
   "metadata": {},
   "outputs": [
    {
     "data": {
      "text/html": [
       "<div>\n",
       "<style scoped>\n",
       "    .dataframe tbody tr th:only-of-type {\n",
       "        vertical-align: middle;\n",
       "    }\n",
       "\n",
       "    .dataframe tbody tr th {\n",
       "        vertical-align: top;\n",
       "    }\n",
       "\n",
       "    .dataframe thead th {\n",
       "        text-align: right;\n",
       "    }\n",
       "</style>\n",
       "<table border=\"1\" class=\"dataframe\">\n",
       "  <thead>\n",
       "    <tr style=\"text-align: right;\">\n",
       "      <th></th>\n",
       "      <th>user_id</th>\n",
       "      <th>movie_id</th>\n",
       "      <th>counts</th>\n",
       "    </tr>\n",
       "  </thead>\n",
       "  <tbody>\n",
       "    <tr>\n",
       "      <th>1000198</th>\n",
       "      <td>6040</td>\n",
       "      <td>2021</td>\n",
       "      <td>3</td>\n",
       "    </tr>\n",
       "    <tr>\n",
       "      <th>1000199</th>\n",
       "      <td>6040</td>\n",
       "      <td>2022</td>\n",
       "      <td>5</td>\n",
       "    </tr>\n",
       "    <tr>\n",
       "      <th>1000200</th>\n",
       "      <td>6040</td>\n",
       "      <td>2028</td>\n",
       "      <td>5</td>\n",
       "    </tr>\n",
       "    <tr>\n",
       "      <th>1000201</th>\n",
       "      <td>6040</td>\n",
       "      <td>1080</td>\n",
       "      <td>4</td>\n",
       "    </tr>\n",
       "    <tr>\n",
       "      <th>1000202</th>\n",
       "      <td>6040</td>\n",
       "      <td>1089</td>\n",
       "      <td>4</td>\n",
       "    </tr>\n",
       "    <tr>\n",
       "      <th>1000203</th>\n",
       "      <td>6040</td>\n",
       "      <td>1090</td>\n",
       "      <td>3</td>\n",
       "    </tr>\n",
       "    <tr>\n",
       "      <th>1000205</th>\n",
       "      <td>6040</td>\n",
       "      <td>1094</td>\n",
       "      <td>5</td>\n",
       "    </tr>\n",
       "    <tr>\n",
       "      <th>1000206</th>\n",
       "      <td>6040</td>\n",
       "      <td>562</td>\n",
       "      <td>5</td>\n",
       "    </tr>\n",
       "    <tr>\n",
       "      <th>1000207</th>\n",
       "      <td>6040</td>\n",
       "      <td>1096</td>\n",
       "      <td>4</td>\n",
       "    </tr>\n",
       "    <tr>\n",
       "      <th>1000208</th>\n",
       "      <td>6040</td>\n",
       "      <td>1097</td>\n",
       "      <td>4</td>\n",
       "    </tr>\n",
       "  </tbody>\n",
       "</table>\n",
       "</div>"
      ],
      "text/plain": [
       "         user_id  movie_id  counts\n",
       "1000198     6040      2021       3\n",
       "1000199     6040      2022       5\n",
       "1000200     6040      2028       5\n",
       "1000201     6040      1080       4\n",
       "1000202     6040      1089       4\n",
       "1000203     6040      1090       3\n",
       "1000205     6040      1094       5\n",
       "1000206     6040       562       5\n",
       "1000207     6040      1096       4\n",
       "1000208     6040      1097       4"
      ]
     },
     "execution_count": 17,
     "metadata": {},
     "output_type": "execute_result"
    }
   ],
   "source": [
    "ratings.tail(10) "
   ]
  },
  {
   "cell_type": "code",
   "execution_count": 18,
   "id": "4e03fb81",
   "metadata": {},
   "outputs": [
    {
     "data": {
      "text/html": [
       "<div>\n",
       "<style scoped>\n",
       "    .dataframe tbody tr th:only-of-type {\n",
       "        vertical-align: middle;\n",
       "    }\n",
       "\n",
       "    .dataframe tbody tr th {\n",
       "        vertical-align: top;\n",
       "    }\n",
       "\n",
       "    .dataframe thead th {\n",
       "        text-align: right;\n",
       "    }\n",
       "</style>\n",
       "<table border=\"1\" class=\"dataframe\">\n",
       "  <thead>\n",
       "    <tr style=\"text-align: right;\">\n",
       "      <th></th>\n",
       "      <th>user_id</th>\n",
       "      <th>movie_id</th>\n",
       "      <th>counts</th>\n",
       "    </tr>\n",
       "  </thead>\n",
       "  <tbody>\n",
       "    <tr>\n",
       "      <th>1000202</th>\n",
       "      <td>6040</td>\n",
       "      <td>1089</td>\n",
       "      <td>4</td>\n",
       "    </tr>\n",
       "    <tr>\n",
       "      <th>1000203</th>\n",
       "      <td>6040</td>\n",
       "      <td>1090</td>\n",
       "      <td>3</td>\n",
       "    </tr>\n",
       "    <tr>\n",
       "      <th>1000205</th>\n",
       "      <td>6040</td>\n",
       "      <td>1094</td>\n",
       "      <td>5</td>\n",
       "    </tr>\n",
       "    <tr>\n",
       "      <th>1000206</th>\n",
       "      <td>6040</td>\n",
       "      <td>562</td>\n",
       "      <td>5</td>\n",
       "    </tr>\n",
       "    <tr>\n",
       "      <th>1000207</th>\n",
       "      <td>6040</td>\n",
       "      <td>1096</td>\n",
       "      <td>4</td>\n",
       "    </tr>\n",
       "    <tr>\n",
       "      <th>1000208</th>\n",
       "      <td>6040</td>\n",
       "      <td>1097</td>\n",
       "      <td>4</td>\n",
       "    </tr>\n",
       "    <tr>\n",
       "      <th>0</th>\n",
       "      <td>6041</td>\n",
       "      <td>1</td>\n",
       "      <td>5</td>\n",
       "    </tr>\n",
       "    <tr>\n",
       "      <th>1</th>\n",
       "      <td>6041</td>\n",
       "      <td>3114</td>\n",
       "      <td>5</td>\n",
       "    </tr>\n",
       "    <tr>\n",
       "      <th>2</th>\n",
       "      <td>6041</td>\n",
       "      <td>1580</td>\n",
       "      <td>5</td>\n",
       "    </tr>\n",
       "    <tr>\n",
       "      <th>3</th>\n",
       "      <td>6041</td>\n",
       "      <td>1721</td>\n",
       "      <td>5</td>\n",
       "    </tr>\n",
       "  </tbody>\n",
       "</table>\n",
       "</div>"
      ],
      "text/plain": [
       "         user_id  movie_id  counts\n",
       "1000202     6040      1089       4\n",
       "1000203     6040      1090       3\n",
       "1000205     6040      1094       5\n",
       "1000206     6040       562       5\n",
       "1000207     6040      1096       4\n",
       "1000208     6040      1097       4\n",
       "0           6041         1       5\n",
       "1           6041      3114       5\n",
       "2           6041      1580       5\n",
       "3           6041      1721       5"
      ]
     },
     "execution_count": 18,
     "metadata": {},
     "output_type": "execute_result"
    }
   ],
   "source": [
    "## 내가 좋아하는 영화 데이터 확인\n",
    "\n",
    "my_mvid = [1, 3114, 1580, 1721]\n",
    "\n",
    "my_movie_list = pd.DataFrame(\n",
    "    {'user_id': [my_id] * 4, 'movie_id': my_mvid, 'counts': [5] * 4})\n",
    "\n",
    "if not ratings.isin({'user_id': [my_id]})['user_id'].any():\n",
    "    ratings = ratings.append(my_movie_list)\n",
    "    \n",
    "\n",
    "ratings.tail(10) "
   ]
  },
  {
   "cell_type": "code",
   "execution_count": 19,
   "id": "9c67fb62",
   "metadata": {},
   "outputs": [
    {
     "name": "stdout",
     "output_type": "stream",
     "text": [
      "user_id column indexing OK!!\n",
      "movie column indexing OK!!\n"
     ]
    },
    {
     "data": {
      "text/html": [
       "<div>\n",
       "<style scoped>\n",
       "    .dataframe tbody tr th:only-of-type {\n",
       "        vertical-align: middle;\n",
       "    }\n",
       "\n",
       "    .dataframe tbody tr th {\n",
       "        vertical-align: top;\n",
       "    }\n",
       "\n",
       "    .dataframe thead th {\n",
       "        text-align: right;\n",
       "    }\n",
       "</style>\n",
       "<table border=\"1\" class=\"dataframe\">\n",
       "  <thead>\n",
       "    <tr style=\"text-align: right;\">\n",
       "      <th></th>\n",
       "      <th>user_id</th>\n",
       "      <th>movie_id</th>\n",
       "      <th>counts</th>\n",
       "    </tr>\n",
       "  </thead>\n",
       "  <tbody>\n",
       "    <tr>\n",
       "      <th>0</th>\n",
       "      <td>0</td>\n",
       "      <td>0</td>\n",
       "      <td>5</td>\n",
       "    </tr>\n",
       "    <tr>\n",
       "      <th>1</th>\n",
       "      <td>0</td>\n",
       "      <td>1</td>\n",
       "      <td>3</td>\n",
       "    </tr>\n",
       "    <tr>\n",
       "      <th>2</th>\n",
       "      <td>0</td>\n",
       "      <td>2</td>\n",
       "      <td>3</td>\n",
       "    </tr>\n",
       "    <tr>\n",
       "      <th>3</th>\n",
       "      <td>0</td>\n",
       "      <td>3</td>\n",
       "      <td>4</td>\n",
       "    </tr>\n",
       "    <tr>\n",
       "      <th>4</th>\n",
       "      <td>0</td>\n",
       "      <td>4</td>\n",
       "      <td>5</td>\n",
       "    </tr>\n",
       "    <tr>\n",
       "      <th>...</th>\n",
       "      <td>...</td>\n",
       "      <td>...</td>\n",
       "      <td>...</td>\n",
       "    </tr>\n",
       "    <tr>\n",
       "      <th>1000208</th>\n",
       "      <td>6038</td>\n",
       "      <td>26</td>\n",
       "      <td>4</td>\n",
       "    </tr>\n",
       "    <tr>\n",
       "      <th>0</th>\n",
       "      <td>6039</td>\n",
       "      <td>40</td>\n",
       "      <td>5</td>\n",
       "    </tr>\n",
       "    <tr>\n",
       "      <th>1</th>\n",
       "      <td>6039</td>\n",
       "      <td>50</td>\n",
       "      <td>5</td>\n",
       "    </tr>\n",
       "    <tr>\n",
       "      <th>2</th>\n",
       "      <td>6039</td>\n",
       "      <td>175</td>\n",
       "      <td>5</td>\n",
       "    </tr>\n",
       "    <tr>\n",
       "      <th>3</th>\n",
       "      <td>6039</td>\n",
       "      <td>27</td>\n",
       "      <td>5</td>\n",
       "    </tr>\n",
       "  </tbody>\n",
       "</table>\n",
       "<p>836482 rows × 3 columns</p>\n",
       "</div>"
      ],
      "text/plain": [
       "         user_id  movie_id  counts\n",
       "0              0         0       5\n",
       "1              0         1       3\n",
       "2              0         2       3\n",
       "3              0         3       4\n",
       "4              0         4       5\n",
       "...          ...       ...     ...\n",
       "1000208     6038        26       4\n",
       "0           6039        40       5\n",
       "1           6039        50       5\n",
       "2           6039       175       5\n",
       "3           6039        27       5\n",
       "\n",
       "[836482 rows x 3 columns]"
      ]
     },
     "execution_count": 19,
     "metadata": {},
     "output_type": "execute_result"
    }
   ],
   "source": [
    "## user_id 랑 movie_id 를 고유한 값으로 만들기!\n",
    "\n",
    "user_unique = ratings['user_id'].unique()\n",
    "movie_unique = ratings['movie_id'].unique()\n",
    "\n",
    "user_to_idx = {v:k for k,v in enumerate(user_unique)}\n",
    "movie_to_idx = {v:k for k,v in enumerate(movie_unique)}\n",
    "\n",
    "temp_user_data = ratings['user_id'].map(user_to_idx.get).dropna()\n",
    "if len(temp_user_data) == len(ratings):   \n",
    "    print('user_id column indexing OK!!')\n",
    "    ratings['user_id'] = temp_user_data    \n",
    "else:\n",
    "    print('user_id column indexing Fail!!')\n",
    "\n",
    "temp_movie_data = ratings['movie_id'].map(movie_to_idx.get).dropna()\n",
    "if len(temp_movie_data) == len(ratings):\n",
    "    print('movie column indexing OK!!')\n",
    "    ratings['movie_id'] = temp_movie_data\n",
    "else:\n",
    "    print('movie column indexing Fail!!')\n",
    "\n",
    "ratings"
   ]
  },
  {
   "cell_type": "markdown",
   "id": "9d03f1f6",
   "metadata": {},
   "source": [
    "## 4) CSR matrix를 직접 만들어 봅시다."
   ]
  },
  {
   "cell_type": "code",
   "execution_count": 20,
   "id": "b29ee087",
   "metadata": {},
   "outputs": [
    {
     "name": "stdout",
     "output_type": "stream",
     "text": [
      "6039 3627\n"
     ]
    },
    {
     "data": {
      "text/plain": [
       "<6040x3628 sparse matrix of type '<class 'numpy.int64'>'\n",
       "\twith 836482 stored elements in Compressed Sparse Row format>"
      ]
     },
     "execution_count": 20,
     "metadata": {},
     "output_type": "execute_result"
    }
   ],
   "source": [
    "n_user = ratings['user_id'].max()\n",
    "n_movie = ratings['movie_id'].max()\n",
    "print(n_user, n_movie)     \n",
    "\n",
    "csr_data = csr_matrix((ratings['counts'], (ratings.user_id, ratings.movie_id)))\n",
    "csr_data"
   ]
  },
  {
   "cell_type": "markdown",
   "id": "27b1a074",
   "metadata": {},
   "source": [
    "## 5) als_model = AlternatingLeastSquares 모델을 직접 구성하여 훈련시켜 봅시다."
   ]
  },
  {
   "cell_type": "code",
   "execution_count": 21,
   "id": "f4977d0d",
   "metadata": {},
   "outputs": [],
   "source": [
    "import implicit\n",
    "from implicit.als import AlternatingLeastSquares\n",
    "import os\n",
    "import numpy as np\n",
    "\n",
    "## implicit 라이브러리에서 권장하고 있는 부분이다. 학습 내용과는 무관함\n",
    "os.environ['OPENBLAS_NUM_THREADS']='1'\n",
    "os.environ['KMP_DUPLICATE_LIB_OK']='True'\n",
    "os.environ['MKL_NUM_THREADS']='1'"
   ]
  },
  {
   "cell_type": "code",
   "execution_count": 22,
   "id": "77f54889",
   "metadata": {},
   "outputs": [],
   "source": [
    "## Implicit AlternatingLeastSquares 모델의 선언\n",
    "als_model = AlternatingLeastSquares(factors=128, regularization=0.01, use_gpu=False, iterations=15, dtype=np.float32)"
   ]
  },
  {
   "cell_type": "code",
   "execution_count": 23,
   "id": "68fe70de",
   "metadata": {},
   "outputs": [
    {
     "data": {
      "text/plain": [
       "<3628x6040 sparse matrix of type '<class 'numpy.int64'>'\n",
       "\twith 836482 stored elements in Compressed Sparse Column format>"
      ]
     },
     "execution_count": 23,
     "metadata": {},
     "output_type": "execute_result"
    }
   ],
   "source": [
    "## als 모델은 input으로 (item X user 꼴의 matrix를 받기 때문에 Transpose해준다.\n",
    "csr_data_transpose = csr_data.T\n",
    "csr_data_transpose"
   ]
  },
  {
   "cell_type": "code",
   "execution_count": 24,
   "id": "4fadc1c1",
   "metadata": {},
   "outputs": [
    {
     "data": {
      "text/plain": [
       "(3628, 6040)"
      ]
     },
     "execution_count": 24,
     "metadata": {},
     "output_type": "execute_result"
    }
   ],
   "source": [
    "csr_data_transpose.shape"
   ]
  },
  {
   "cell_type": "code",
   "execution_count": 25,
   "id": "e615a0de",
   "metadata": {},
   "outputs": [
    {
     "data": {
      "application/vnd.jupyter.widget-view+json": {
       "model_id": "d72c8c18d63b49a5acdf3a1173ea62f9",
       "version_major": 2,
       "version_minor": 0
      },
      "text/plain": [
       "  0%|          | 0/15 [00:00<?, ?it/s]"
      ]
     },
     "metadata": {},
     "output_type": "display_data"
    }
   ],
   "source": [
    "## 모델 훈련\n",
    "als_model.fit(csr_data_transpose)"
   ]
  },
  {
   "cell_type": "markdown",
   "id": "247959c6",
   "metadata": {},
   "source": [
    "## 6) 내가 선호하는 5가지 영화 중 하나와 그 외의 영화 하나를 골라 훈련된 모델이 예측한 나의 선호도를 파악해 보세요."
   ]
  },
  {
   "cell_type": "code",
   "execution_count": 26,
   "id": "f9be6bf1",
   "metadata": {},
   "outputs": [],
   "source": [
    "my_mvid = [1, 3114, 1580, 1721]"
   ]
  },
  {
   "cell_type": "code",
   "execution_count": 27,
   "id": "fab0a1d2",
   "metadata": {},
   "outputs": [],
   "source": [
    "## movie_id로 영화 title가져오기\n",
    "def get_movie_name(idx):\n",
    "    if idx in movies.movie_id:\n",
    "        return movies[movies['movie_id'] == idx]['title'].values[0]\n",
    "    else:\n",
    "        print('해당 인덱스의 영화가 존재하지 않습니다.')"
   ]
  },
  {
   "cell_type": "code",
   "execution_count": 28,
   "id": "4196fb4d",
   "metadata": {},
   "outputs": [
    {
     "data": {
      "text/plain": [
       "'Toy Story (1995)'"
      ]
     },
     "execution_count": 28,
     "metadata": {},
     "output_type": "execute_result"
    }
   ],
   "source": [
    "get_movie_name(1)"
   ]
  },
  {
   "cell_type": "code",
   "execution_count": 29,
   "id": "a5201281",
   "metadata": {},
   "outputs": [
    {
     "data": {
      "text/plain": [
       "'Toy Story 2 (1999)'"
      ]
     },
     "execution_count": 29,
     "metadata": {},
     "output_type": "execute_result"
    }
   ],
   "source": [
    "get_movie_name(3114)"
   ]
  },
  {
   "cell_type": "code",
   "execution_count": 30,
   "id": "13b5bf74",
   "metadata": {},
   "outputs": [
    {
     "data": {
      "text/plain": [
       "'Men in Black (1997)'"
      ]
     },
     "execution_count": 30,
     "metadata": {},
     "output_type": "execute_result"
    }
   ],
   "source": [
    "get_movie_name(1580)"
   ]
  },
  {
   "cell_type": "code",
   "execution_count": 31,
   "id": "303d46f9",
   "metadata": {},
   "outputs": [
    {
     "data": {
      "text/plain": [
       "'Titanic (1997)'"
      ]
     },
     "execution_count": 31,
     "metadata": {},
     "output_type": "execute_result"
    }
   ],
   "source": [
    "get_movie_name(1721)"
   ]
  },
  {
   "cell_type": "code",
   "execution_count": 32,
   "id": "8741d814",
   "metadata": {},
   "outputs": [
    {
     "data": {
      "text/plain": [
       "array([ 0.32568532,  0.1372878 , -0.6114649 , -0.33358303, -0.11206581,\n",
       "       -0.00260127,  0.24084835, -0.6683578 , -0.01239502, -0.05367496,\n",
       "       -0.27770644, -0.19265881, -0.07262883,  0.10513332,  0.13155515,\n",
       "       -0.6881761 , -0.06573337, -0.2219855 ,  0.5400352 , -0.6424611 ,\n",
       "       -0.50373733, -0.25565976,  0.51581144, -0.39567113, -0.39019623,\n",
       "        0.11767682, -0.43386835,  0.29959634, -0.02578807, -0.27080292,\n",
       "       -0.50630504,  0.57533586,  0.23932552, -0.50958145,  0.42794383,\n",
       "        1.0677775 ,  0.9559571 ,  0.92383045, -0.38921735, -0.43135467,\n",
       "       -0.15997711,  0.3766638 ,  0.2781313 ,  0.6754183 , -0.35795152,\n",
       "       -0.6292305 , -0.19331144,  0.12243497,  0.19547227, -0.19698825,\n",
       "        0.4226509 ,  0.22618473,  0.4908188 , -0.07686332,  1.220215  ,\n",
       "       -0.35676593, -0.26391476,  0.01689165, -0.00197709,  0.17157264,\n",
       "        0.05500438, -0.29053265, -0.42318276, -0.78155786,  0.25536463,\n",
       "        0.11051087,  0.39379966, -0.03872568,  0.17013735,  0.108977  ,\n",
       "       -0.2183992 , -0.02954265,  0.66961443, -0.21551527,  0.20123875,\n",
       "       -1.0210325 ,  0.14117663, -0.5570043 , -0.67215043,  0.1649931 ,\n",
       "       -0.4456867 ,  0.2826097 ,  0.47257164,  0.09050959,  1.1260757 ,\n",
       "       -0.3813624 ,  0.11590745, -0.24942395,  0.40101165, -0.15260872,\n",
       "       -0.46081308, -0.55523133, -0.5859982 , -0.12848264,  0.23974594,\n",
       "       -0.07475081, -0.05293764, -0.5377727 , -0.19566385,  0.15731646,\n",
       "        0.05696381,  0.8422138 ,  0.7116611 ,  0.03057621,  0.10685131,\n",
       "       -0.22256611,  0.6044651 ,  0.985081  ,  0.5677871 ,  0.04749277,\n",
       "       -0.78567916, -0.09234693, -0.6749789 , -0.07687794, -0.48387414,\n",
       "        0.7255417 ,  0.08947219,  0.3342411 ,  0.47751948,  0.01333701,\n",
       "       -0.34632087, -0.06990602,  0.00361569, -0.60202587,  0.16404468,\n",
       "        0.7079814 ,  0.31500292,  0.5464055 ], dtype=float32)"
      ]
     },
     "execution_count": 32,
     "metadata": {},
     "output_type": "execute_result"
    }
   ],
   "source": [
    "## my_id의 벡터\n",
    "mulder = user_to_idx[my_id]\n",
    "my_vector = als_model.user_factors[mulder]\n",
    "my_vector"
   ]
  },
  {
   "cell_type": "code",
   "execution_count": 33,
   "id": "319b9407",
   "metadata": {},
   "outputs": [
    {
     "data": {
      "text/plain": [
       "array([-0.01917237,  0.01923865,  0.0044138 , -0.00098112, -0.00325116,\n",
       "       -0.01115048, -0.01826386, -0.02292   , -0.01157439, -0.02231839,\n",
       "        0.02259148, -0.01249139,  0.00959122, -0.00138791,  0.02035173,\n",
       "       -0.01558151, -0.01860175, -0.01625199, -0.00778716,  0.03145387,\n",
       "        0.02477975,  0.03467689, -0.01073203, -0.00810319,  0.02104464,\n",
       "       -0.01199242,  0.02563928,  0.02419729,  0.01370389,  0.00852477,\n",
       "        0.00241979,  0.00433293,  0.01989476,  0.03250746,  0.01743457,\n",
       "        0.01100382, -0.0004028 ,  0.03191261,  0.00833113, -0.01586457,\n",
       "        0.00515113,  0.00817534, -0.00608768,  0.0123464 , -0.01862442,\n",
       "        0.01493935,  0.01330989, -0.01551812,  0.01911702,  0.00958668,\n",
       "        0.01888282,  0.03324556,  0.0343282 , -0.01093562,  0.01051   ,\n",
       "       -0.0125359 , -0.00986101,  0.01132499,  0.01011916, -0.01962673,\n",
       "        0.00022007,  0.00728764,  0.02239028, -0.02447522,  0.03705081,\n",
       "        0.0115905 , -0.03947629,  0.03745819, -0.01010483,  0.01190714,\n",
       "        0.00480629, -0.00582963,  0.02525462,  0.01334955,  0.00944297,\n",
       "       -0.00567048,  0.01255132, -0.00770342,  0.02816479,  0.00660957,\n",
       "        0.01235034,  0.02388934,  0.00475219,  0.01691821,  0.01177892,\n",
       "        0.00787283,  0.03040535,  0.03845962,  0.00137462, -0.03091666,\n",
       "        0.00981378,  0.00303551,  0.03203294, -0.01114199,  0.00300188,\n",
       "        0.00165397, -0.0040726 , -0.01857731, -0.02692224,  0.01801884,\n",
       "       -0.00853685,  0.00686303,  0.01647473, -0.00366994,  0.00526698,\n",
       "        0.01594114,  0.00622513,  0.00074967,  0.02605286,  0.0017369 ,\n",
       "       -0.00718812, -0.00856978, -0.00944599,  0.02933294, -0.00618124,\n",
       "        0.00403143,  0.02238326, -0.01319754, -0.0164425 , -0.00092126,\n",
       "        0.01595172,  0.0513083 , -0.02168455, -0.00953058,  0.01012221,\n",
       "       -0.01167088,  0.01146578,  0.00273514], dtype=float32)"
      ]
     },
     "execution_count": 33,
     "metadata": {},
     "output_type": "execute_result"
    }
   ],
   "source": [
    "## 'Toy Story (1995)'의 벡터\n",
    "toy_story = movie_to_idx[260]\n",
    "toy_story_vector = als_model.item_factors[toy_story]\n",
    "toy_story_vector"
   ]
  },
  {
   "cell_type": "code",
   "execution_count": 34,
   "id": "fcd02af1",
   "metadata": {},
   "outputs": [
    {
     "data": {
      "text/plain": [
       "0.105096444"
      ]
     },
     "execution_count": 34,
     "metadata": {},
     "output_type": "execute_result"
    }
   ],
   "source": [
    "np.dot(my_vector, toy_story_vector)"
   ]
  },
  {
   "cell_type": "code",
   "execution_count": 35,
   "id": "d8acff0b",
   "metadata": {},
   "outputs": [
    {
     "data": {
      "text/plain": [
       "array([ 0.01595385,  0.00181148,  0.02676142, -0.03652593, -0.00101577,\n",
       "       -0.00418329,  0.0518409 , -0.02597741, -0.01165512, -0.01440343,\n",
       "       -0.02680926, -0.02375953,  0.01530027,  0.00452498,  0.04534106,\n",
       "       -0.01399732,  0.01042453,  0.01294132,  0.01294549, -0.01195688,\n",
       "       -0.03030765, -0.00206182,  0.03640049, -0.00961219,  0.00270708,\n",
       "        0.02768481, -0.00620191,  0.00077469, -0.00368743,  0.00469424,\n",
       "       -0.0286862 ,  0.04599993, -0.0032003 ,  0.01787824,  0.01347096,\n",
       "        0.0109648 ,  0.04944182,  0.07376195,  0.02802599, -0.03057374,\n",
       "        0.00824197,  0.00726055, -0.00702859,  0.02722998, -0.04129879,\n",
       "       -0.01807319, -0.01048668,  0.00406061,  0.0104981 , -0.0066434 ,\n",
       "        0.01492139,  0.00935778,  0.02110783,  0.00464502,  0.03176497,\n",
       "       -0.00901751, -0.01605326,  0.00954026, -0.01619722, -0.01252645,\n",
       "        0.01631749,  0.01242343, -0.0303953 , -0.00758049, -0.00767461,\n",
       "        0.01613703,  0.02898905,  0.00433689,  0.02949817,  0.00040217,\n",
       "       -0.01169517,  0.02288196,  0.00984364,  0.00813986, -0.00465171,\n",
       "       -0.02614668, -0.00277331, -0.03193434,  0.00114126,  0.01104187,\n",
       "       -0.00516799,  0.00790169,  0.03500068, -0.00018544,  0.05193574,\n",
       "       -0.01924336, -0.00360607,  0.00579026,  0.03029835, -0.01012384,\n",
       "       -0.0094669 , -0.02178386, -0.01591509,  0.00668256, -0.0044368 ,\n",
       "        0.02836803,  0.034687  ,  0.01640377, -0.00144482,  0.00476929,\n",
       "        0.01823236,  0.03633215,  0.01349273,  0.02467762, -0.00120586,\n",
       "       -0.0307089 ,  0.03277751,  0.03417775,  0.02682924,  0.02143817,\n",
       "       -0.01053582,  0.02206575, -0.00459493,  0.00756117, -0.00523736,\n",
       "        0.00285963, -0.00792391,  0.01768605, -0.01440672, -0.00875184,\n",
       "       -0.00944097, -0.01522248,  0.01285712, -0.0152314 ,  0.00568896,\n",
       "        0.02772902,  0.03730032, -0.00231361], dtype=float32)"
      ]
     },
     "execution_count": 35,
     "metadata": {},
     "output_type": "execute_result"
    }
   ],
   "source": [
    "## 'Men in Black (1997)'  의 벡터\n",
    "men_in_black = movie_to_idx[3114]\n",
    "men_in_black_vector = als_model.item_factors[men_in_black]\n",
    "men_in_black_vector"
   ]
  },
  {
   "cell_type": "code",
   "execution_count": 36,
   "id": "a3792578",
   "metadata": {},
   "outputs": [
    {
     "data": {
      "text/plain": [
       "0.7600037"
      ]
     },
     "execution_count": 36,
     "metadata": {},
     "output_type": "execute_result"
    }
   ],
   "source": [
    "np.dot(my_vector, men_in_black_vector)"
   ]
  },
  {
   "cell_type": "code",
   "execution_count": 37,
   "id": "df84c97e",
   "metadata": {},
   "outputs": [
    {
     "data": {
      "text/plain": [
       "array([-0.00656817,  0.0094028 , -0.02596095, -0.00517603,  0.01443409,\n",
       "        0.00299188, -0.00855858, -0.01299242,  0.00341715, -0.01326967,\n",
       "        0.03021314,  0.02258575, -0.01205799,  0.02422245, -0.01254962,\n",
       "       -0.0046878 , -0.02359782,  0.00514713,  0.0003445 , -0.01784759,\n",
       "        0.01197349,  0.00180007, -0.00139866, -0.02082681, -0.0140435 ,\n",
       "        0.00346759,  0.01143556,  0.0158788 , -0.01116112, -0.00563349,\n",
       "        0.01143952,  0.00778315,  0.03324519, -0.01420218,  0.02488708,\n",
       "        0.04781577,  0.04114428,  0.0046234 , -0.01615397,  0.00962108,\n",
       "        0.01526745, -0.00254282,  0.04587974,  0.00664275,  0.01356303,\n",
       "       -0.00484995,  0.01563109,  0.01548687,  0.01259498,  0.0005339 ,\n",
       "        0.0014317 ,  0.0119743 ,  0.03581763, -0.00204599,  0.04789525,\n",
       "        0.01591144,  0.00748301,  0.00737652,  0.01952904,  0.01183734,\n",
       "       -0.00776866, -0.02013474, -0.00648585, -0.00287449,  0.01387788,\n",
       "        0.02172531, -0.00045063,  0.00021894,  0.01208431, -0.01284862,\n",
       "        0.02236752,  0.01009465,  0.03803203,  0.00395678,  0.00789541,\n",
       "        0.00490941,  0.01474993,  0.00412205,  0.01930235, -0.00060482,\n",
       "       -0.00904111,  0.01004093,  0.0212056 ,  0.00903099,  0.01303794,\n",
       "        0.01815968,  0.00138239, -0.00925817,  0.00614598, -0.00171742,\n",
       "        0.0026342 ,  0.00873769, -0.01704045,  0.00186144,  0.0112778 ,\n",
       "       -0.01197267,  0.01031414, -0.01246329,  0.01046268,  0.0234611 ,\n",
       "       -0.00127193,  0.00603271,  0.01998859, -0.0040147 ,  0.01070594,\n",
       "       -0.00125877,  0.0141098 , -0.0013764 ,  0.01959595, -0.03654775,\n",
       "       -0.02540863, -0.00748577, -0.00679146,  0.01107351,  0.00870758,\n",
       "        0.00696811,  0.01585981, -0.0011713 ,  0.06044977,  0.00093045,\n",
       "        0.02085638,  0.03475909, -0.00075502, -0.01107755, -0.02031887,\n",
       "        0.02821407, -0.02505882,  0.04136517], dtype=float32)"
      ]
     },
     "execution_count": 37,
     "metadata": {},
     "output_type": "execute_result"
    }
   ],
   "source": [
    "## 'Titanic (1997)'의 벡터\n",
    "titanic = movie_to_idx[1580]\n",
    "titanic_vector = als_model.item_factors[titanic]\n",
    "titanic_vector"
   ]
  },
  {
   "cell_type": "code",
   "execution_count": 38,
   "id": "094228b2",
   "metadata": {},
   "outputs": [
    {
     "data": {
      "text/plain": [
       "0.42970487"
      ]
     },
     "execution_count": 38,
     "metadata": {},
     "output_type": "execute_result"
    }
   ],
   "source": [
    "np.dot(my_vector, titanic_vector)"
   ]
  },
  {
   "cell_type": "code",
   "execution_count": 39,
   "id": "ba561948",
   "metadata": {},
   "outputs": [
    {
     "data": {
      "text/plain": [
       "array([ 0.0447985 ,  0.01126307, -0.03327607,  0.02565593,  0.00880078,\n",
       "        0.02816045, -0.02351508,  0.00697671,  0.02595522,  0.03044014,\n",
       "        0.00509895, -0.01549814, -0.00745883, -0.00846637,  0.00038747,\n",
       "        0.00394617,  0.02278604, -0.0106572 ,  0.01667752,  0.0173351 ,\n",
       "       -0.0113779 , -0.02412352,  0.00340881,  0.02180759,  0.00142706,\n",
       "        0.02146064, -0.00329052,  0.01753907,  0.03208223,  0.00350197,\n",
       "       -0.00928507,  0.00013703,  0.01414691, -0.00916377,  0.00180728,\n",
       "        0.05044581, -0.00244347,  0.00324625, -0.05655726,  0.02064607,\n",
       "       -0.02355216,  0.02432589, -0.03075584,  0.0210866 ,  0.01406657,\n",
       "       -0.01396128,  0.00794374,  0.01293468, -0.00012446,  0.01254342,\n",
       "        0.03160957,  0.00943429, -0.00702191, -0.00704917,  0.00792232,\n",
       "       -0.01715801, -0.00188814,  0.01001645,  0.01134555,  0.00543329,\n",
       "        0.0014602 , -0.00868362,  0.0146127 , -0.03460194, -0.00197425,\n",
       "       -0.00149967,  0.01715955,  0.02900592,  0.0004603 ,  0.02512415,\n",
       "        0.00468206, -0.02758645,  0.0176861 ,  0.00610629,  0.02142696,\n",
       "       -0.04050336,  0.00603645, -0.00415227, -0.05195617,  0.02068275,\n",
       "       -0.00332109,  0.01399342,  0.00321324,  0.0279539 ,  0.02006933,\n",
       "       -0.00373509,  0.04778094,  0.00686294,  0.00364043, -0.00977336,\n",
       "       -0.01312246, -0.01910067,  0.00697142,  0.01002246,  0.01201872,\n",
       "       -0.00884951, -0.03611355, -0.04496346, -0.00644474,  0.00423368,\n",
       "       -0.00674547,  0.0361486 ,  0.04366273, -0.02274035,  0.01778183,\n",
       "        0.03534133,  0.00890891,  0.03057918,  0.01535292,  0.03603844,\n",
       "       -0.02854095,  0.00583396, -0.01064517, -0.00852876, -0.02777789,\n",
       "        0.03623257, -0.00329803,  0.01579853,  0.01298645,  0.03241069,\n",
       "       -0.01427786,  0.00895492, -0.01965712,  0.00371974,  0.0468416 ,\n",
       "        0.03037067,  0.0011875 ,  0.02760558], dtype=float32)"
      ]
     },
     "execution_count": 39,
     "metadata": {},
     "output_type": "execute_result"
    }
   ],
   "source": [
    "## 'Toy Story 2 (1999)' 의 벡터\n",
    "toy_story_2 = movie_to_idx[1721]\n",
    "toy_story_2_vector = als_model.item_factors[toy_story_2]\n",
    "toy_story_2_vector"
   ]
  },
  {
   "cell_type": "code",
   "execution_count": 40,
   "id": "cf00ac7e",
   "metadata": {},
   "outputs": [
    {
     "data": {
      "text/plain": [
       "0.59489334"
      ]
     },
     "execution_count": 40,
     "metadata": {},
     "output_type": "execute_result"
    }
   ],
   "source": [
    "np.dot(my_vector, toy_story_2_vector)"
   ]
  },
  {
   "cell_type": "markdown",
   "id": "efa0cab2",
   "metadata": {},
   "source": [
    "'Toy Story (1995)'과 유사한 영화들과의 유사도"
   ]
  },
  {
   "cell_type": "code",
   "execution_count": 41,
   "id": "ecf79e0d",
   "metadata": {},
   "outputs": [
    {
     "data": {
      "text/plain": [
       "[(40, 0.99999994),\n",
       " (50, 0.7655787),\n",
       " (4, 0.52798843),\n",
       " (322, 0.5146994),\n",
       " (33, 0.49592587),\n",
       " (110, 0.47255933),\n",
       " (330, 0.43379906),\n",
       " (10, 0.3855836),\n",
       " (255, 0.37426057),\n",
       " (160, 0.3400017),\n",
       " (20, 0.33369708),\n",
       " (34, 0.32641202),\n",
       " (32, 0.32631457),\n",
       " (536, 0.31730995),\n",
       " (2144, 0.3159945)]"
      ]
     },
     "execution_count": 41,
     "metadata": {},
     "output_type": "execute_result"
    }
   ],
   "source": [
    "movie_id = movie_to_idx[1]\n",
    "similar_movie = als_model.similar_items(movie_id, N=15)\n",
    "similar_movie"
   ]
  },
  {
   "cell_type": "markdown",
   "id": "e5ff7a61",
   "metadata": {},
   "source": [
    "'Toy Story 2 (1999)' 과 유사한 영화들과의 유사도"
   ]
  },
  {
   "cell_type": "code",
   "execution_count": 42,
   "id": "0b0c8938",
   "metadata": {},
   "outputs": [
    {
     "data": {
      "text/plain": [
       "[(50, 1.0),\n",
       " (40, 0.7655787),\n",
       " (4, 0.60500145),\n",
       " (322, 0.40494907),\n",
       " (851, 0.39659852),\n",
       " (1706, 0.34935972),\n",
       " (32, 0.3353201),\n",
       " (33, 0.32044107),\n",
       " (277, 0.31568122),\n",
       " (474, 0.3051673),\n",
       " (16, 0.2992036),\n",
       " (1635, 0.29704216),\n",
       " (1996, 0.29112864),\n",
       " (110, 0.28127414),\n",
       " (126, 0.27916795)]"
      ]
     },
     "execution_count": 42,
     "metadata": {},
     "output_type": "execute_result"
    }
   ],
   "source": [
    "movie_id = movie_to_idx[3114]\n",
    "similar_movie = als_model.similar_items(movie_id, N=15)\n",
    "similar_movie"
   ]
  },
  {
   "cell_type": "markdown",
   "id": "bc24ae62",
   "metadata": {},
   "source": [
    "'Men in Black (1997)'   과 유사한 영화들과의 유사도"
   ]
  },
  {
   "cell_type": "code",
   "execution_count": 43,
   "id": "36ded470",
   "metadata": {
    "scrolled": true
   },
   "outputs": [
    {
     "data": {
      "text/plain": [
       "[(175, 0.9999999),\n",
       " (107, 0.806249),\n",
       " (92, 0.5925493),\n",
       " (62, 0.59000814),\n",
       " (150, 0.45334208),\n",
       " (145, 0.44330075),\n",
       " (124, 0.43046314),\n",
       " (82, 0.40646237),\n",
       " (375, 0.39272532),\n",
       " (138, 0.37827128),\n",
       " (3466, 0.37109998),\n",
       " (544, 0.34982917),\n",
       " (320, 0.34547448),\n",
       " (1754, 0.3448766),\n",
       " (670, 0.33863208)]"
      ]
     },
     "execution_count": 43,
     "metadata": {},
     "output_type": "execute_result"
    }
   ],
   "source": [
    "movie_id = movie_to_idx[1580]\n",
    "similar_movie = als_model.similar_items(movie_id, N=15)\n",
    "similar_movie"
   ]
  },
  {
   "cell_type": "markdown",
   "id": "ac76b620",
   "metadata": {},
   "source": [
    "'Titanic (1997)' 과 유사한 영화들과의 유사도"
   ]
  },
  {
   "cell_type": "code",
   "execution_count": 44,
   "id": "c7c96227",
   "metadata": {},
   "outputs": [
    {
     "data": {
      "text/plain": [
       "[(27, 0.99999994),\n",
       " (384, 0.43714318),\n",
       " (385, 0.36285695),\n",
       " (3493, 0.36050612),\n",
       " (641, 0.35996258),\n",
       " (498, 0.35550475),\n",
       " (1418, 0.342571),\n",
       " (626, 0.33746186),\n",
       " (59, 0.32228446),\n",
       " (1509, 0.32067144),\n",
       " (433, 0.31891754),\n",
       " (508, 0.30666268),\n",
       " (336, 0.29615644),\n",
       " (77, 0.29517177),\n",
       " (154, 0.28918162)]"
      ]
     },
     "execution_count": 44,
     "metadata": {},
     "output_type": "execute_result"
    }
   ],
   "source": [
    "movie_id = movie_to_idx[1721]\n",
    "similar_movie = als_model.similar_items(movie_id, N=15)\n",
    "similar_movie"
   ]
  },
  {
   "cell_type": "markdown",
   "id": "7356f7d4",
   "metadata": {},
   "source": [
    "## 7) 내가 좋아하는 영화와 비슷한 영화를 추천받아 봅시다."
   ]
  },
  {
   "cell_type": "code",
   "execution_count": 45,
   "id": "a6395808",
   "metadata": {},
   "outputs": [
    {
     "name": "stdout",
     "output_type": "stream",
     "text": [
      "      movie_id               title                        genre\n",
      "3045      3114  Toy Story 2 (1999)  Animation|Children's|Comedy\n",
      "----------------------------------------------------------------------------------------\n",
      "   movie_id             title                        genre\n",
      "0         1  Toy Story (1995)  Animation|Children's|Comedy\n",
      "----------------------------------------------------------------------------------------\n",
      "      movie_id                 title                        genre\n",
      "2286      2355  Bug's Life, A (1998)  Animation|Children's|Comedy\n",
      "----------------------------------------------------------------------------------------\n",
      "    movie_id        title                    genre\n",
      "33        34  Babe (1995)  Children's|Comedy|Drama\n",
      "----------------------------------------------------------------------------------------\n",
      "      movie_id                   title                 genre\n",
      "2692      2761  Iron Giant, The (1999)  Animation|Children's\n",
      "----------------------------------------------------------------------------------------\n",
      "      movie_id                 title              genre\n",
      "3088      3157  Stuart Little (1999)  Children's|Comedy\n",
      "----------------------------------------------------------------------------------------\n",
      "      movie_id            title                                          genre\n",
      "1526      1566  Hercules (1997)  Adventure|Animation|Children's|Comedy|Musical\n",
      "----------------------------------------------------------------------------------------\n",
      "     movie_id           title                                genre\n",
      "584       588  Aladdin (1992)  Animation|Children's|Comedy|Musical\n",
      "----------------------------------------------------------------------------------------\n",
      "      movie_id                         title              genre\n",
      "2315      2384  Babe: Pig in the City (1998)  Children's|Comedy\n",
      "----------------------------------------------------------------------------------------\n",
      "      movie_id               title                        genre\n",
      "3682      3751  Chicken Run (2000)  Animation|Children's|Comedy\n",
      "----------------------------------------------------------------------------------------\n",
      "      movie_id          title                 genre\n",
      "2618      2687  Tarzan (1999)  Animation|Children's\n",
      "----------------------------------------------------------------------------------------\n",
      "      movie_id            title                 genre\n",
      "3546      3615  Dinosaur (2000)  Animation|Children's\n",
      "----------------------------------------------------------------------------------------\n",
      "      movie_id                        title              genre\n",
      "1547      1588  George of the Jungle (1997)  Children's|Comedy\n",
      "----------------------------------------------------------------------------------------\n",
      "      movie_id                 title           genre\n",
      "1245      1265  Groundhog Day (1993)  Comedy|Romance\n",
      "----------------------------------------------------------------------------------------\n",
      "      movie_id                       title           genre\n",
      "2327      2396  Shakespeare in Love (1998)  Comedy|Romance\n",
      "----------------------------------------------------------------------------------------\n"
     ]
    }
   ],
   "source": [
    "def get_similar_movie(favorite_movie):\n",
    "    movie_id = movie_to_idx[favorite_movie]\n",
    "    similar_movie = als_model.similar_items(movie_id, N=15)\n",
    "    idx_to_movie = {v:k for k,v in movie_to_idx.items()}\n",
    "    recommand_list = [idx_to_movie[i[0]] for i in similar_movie]\n",
    "    for movie in recommand_list:\n",
    "        print(movies[movies['movie_id'] == movie], '----------------------------------------------------------------------------------------', sep='\\n')\n",
    "\n",
    "## 'Toy Story 2 (1999)'       \n",
    "\n",
    "get_similar_movie(3114)"
   ]
  },
  {
   "cell_type": "code",
   "execution_count": 46,
   "id": "8179aa57",
   "metadata": {},
   "outputs": [
    {
     "name": "stdout",
     "output_type": "stream",
     "text": [
      "      movie_id                title                           genre\n",
      "1539      1580  Men in Black (1997)  Action|Adventure|Comedy|Sci-Fi\n",
      "----------------------------------------------------------------------------------------\n",
      "     movie_id                 title                    genre\n",
      "476       480  Jurassic Park (1993)  Action|Adventure|Sci-Fi\n",
      "----------------------------------------------------------------------------------------\n",
      "     movie_id                              title                   genre\n",
      "585       589  Terminator 2: Judgment Day (1991)  Action|Sci-Fi|Thriller\n",
      "----------------------------------------------------------------------------------------\n",
      "      movie_id                title                             genre\n",
      "2847      2916  Total Recall (1990)  Action|Adventure|Sci-Fi|Thriller\n",
      "----------------------------------------------------------------------------------------\n",
      "     movie_id                          title              genre\n",
      "770       780  Independence Day (ID4) (1996)  Action|Sci-Fi|War\n",
      "----------------------------------------------------------------------------------------\n",
      "      movie_id                      title          genre\n",
      "1491      1527  Fifth Element, The (1997)  Action|Sci-Fi\n",
      "----------------------------------------------------------------------------------------\n",
      "      movie_id               title                   genre\n",
      "2502      2571  Matrix, The (1999)  Action|Sci-Fi|Thriller\n",
      "----------------------------------------------------------------------------------------\n",
      "      movie_id                                  title  \\\n",
      "1505      1544  Lost World: Jurassic Park, The (1997)   \n",
      "\n",
      "                                 genre  \n",
      "1505  Action|Adventure|Sci-Fi|Thriller  \n",
      "----------------------------------------------------------------------------------------\n",
      "      movie_id            title                   genre\n",
      "1533      1573  Face/Off (1997)  Action|Sci-Fi|Thriller\n",
      "----------------------------------------------------------------------------------------\n",
      "     movie_id             title                            genre\n",
      "376       380  True Lies (1994)  Action|Adventure|Comedy|Romance\n",
      "----------------------------------------------------------------------------------------\n",
      "     movie_id                                      title  genre\n",
      "977       989  Schlafes Bruder (Brother of Sleep) (1995)  Drama\n",
      "----------------------------------------------------------------------------------------\n",
      "     movie_id            title                    genre\n",
      "313       316  Stargate (1994)  Action|Adventure|Sci-Fi\n",
      "----------------------------------------------------------------------------------------\n",
      "      movie_id               title   genre\n",
      "1155      1171  Bob Roberts (1992)  Comedy\n",
      "----------------------------------------------------------------------------------------\n",
      "     movie_id                 title  genre\n",
      "265       268  Little Odessa (1994)  Drama\n",
      "----------------------------------------------------------------------------------------\n",
      "      movie_id                title                    genre\n",
      "3106      3175  Galaxy Quest (1999)  Adventure|Comedy|Sci-Fi\n",
      "----------------------------------------------------------------------------------------\n"
     ]
    }
   ],
   "source": [
    "## 'Men in Black (1997)'  \n",
    "\n",
    "get_similar_movie(1580)"
   ]
  },
  {
   "cell_type": "code",
   "execution_count": 47,
   "id": "cf09dce6",
   "metadata": {},
   "outputs": [
    {
     "name": "stdout",
     "output_type": "stream",
     "text": [
      "      movie_id           title          genre\n",
      "1672      1721  Titanic (1997)  Drama|Romance\n",
      "----------------------------------------------------------------------------------------\n",
      "      movie_id                 title          genre\n",
      "1372      1393  Jerry Maguire (1996)  Drama|Romance\n",
      "----------------------------------------------------------------------------------------\n",
      "      movie_id                    title  genre\n",
      "1636      1682  Truman Show, The (1998)  Drama\n",
      "----------------------------------------------------------------------------------------\n",
      "      movie_id           title   genre\n",
      "3526      3595  Held Up (2000)  Comedy\n",
      "----------------------------------------------------------------------------------------\n",
      "    movie_id                      title  genre\n",
      "61        62  Mr. Holland's Opus (1995)  Drama\n",
      "----------------------------------------------------------------------------------------\n",
      "      movie_id                                  title          genre\n",
      "2056      2125  Ever After: A Cinderella Story (1998)  Drama|Romance\n",
      "----------------------------------------------------------------------------------------\n",
      "      movie_id                  title    genre\n",
      "1767      1835  City of Angels (1998)  Romance\n",
      "----------------------------------------------------------------------------------------\n",
      "      movie_id                   title           genre\n",
      "2355      2424  You've Got Mail (1998)  Comedy|Romance\n",
      "----------------------------------------------------------------------------------------\n",
      "      movie_id                   title        genre\n",
      "2199      2268  Few Good Men, A (1992)  Crime|Drama\n",
      "----------------------------------------------------------------------------------------\n",
      "      movie_id                        title              genre\n",
      "1166      1183  English Patient, The (1996)  Drama|Romance|War\n",
      "----------------------------------------------------------------------------------------\n",
      "      movie_id                title          genre\n",
      "3190      3259  Far and Away (1992)  Drama|Romance\n",
      "----------------------------------------------------------------------------------------\n",
      "     movie_id         title                    genre\n",
      "583       587  Ghost (1990)  Comedy|Romance|Thriller\n",
      "----------------------------------------------------------------------------------------\n",
      "     movie_id                title           genre\n",
      "593       597  Pretty Woman (1990)  Comedy|Romance\n",
      "----------------------------------------------------------------------------------------\n",
      "      movie_id               title  genre\n",
      "2167      2236  Simon Birch (1998)  Drama\n",
      "----------------------------------------------------------------------------------------\n",
      "      movie_id                      title         genre\n",
      "1726      1784  As Good As It Gets (1997)  Comedy|Drama\n",
      "----------------------------------------------------------------------------------------\n"
     ]
    }
   ],
   "source": [
    "## 'Titanic (1997)'\n",
    "\n",
    "get_similar_movie(1721)"
   ]
  },
  {
   "cell_type": "code",
   "execution_count": 48,
   "id": "2b2f1720",
   "metadata": {},
   "outputs": [
    {
     "name": "stdout",
     "output_type": "stream",
     "text": [
      "   movie_id             title                        genre\n",
      "0         1  Toy Story (1995)  Animation|Children's|Comedy\n",
      "----------------------------------------------------------------------------------------\n",
      "      movie_id               title                        genre\n",
      "3045      3114  Toy Story 2 (1999)  Animation|Children's|Comedy\n",
      "----------------------------------------------------------------------------------------\n",
      "      movie_id                 title                        genre\n",
      "2286      2355  Bug's Life, A (1998)  Animation|Children's|Comedy\n",
      "----------------------------------------------------------------------------------------\n",
      "    movie_id        title                    genre\n",
      "33        34  Babe (1995)  Children's|Comedy|Drama\n",
      "----------------------------------------------------------------------------------------\n",
      "     movie_id           title                                genre\n",
      "584       588  Aladdin (1992)  Animation|Children's|Comedy|Musical\n",
      "----------------------------------------------------------------------------------------\n",
      "      movie_id                 title           genre\n",
      "1245      1265  Groundhog Day (1993)  Comedy|Romance\n",
      "----------------------------------------------------------------------------------------\n",
      "     movie_id                  title                         genre\n",
      "360       364  Lion King, The (1994)  Animation|Children's|Musical\n",
      "----------------------------------------------------------------------------------------\n",
      "     movie_id                        title                         genre\n",
      "591       595  Beauty and the Beast (1991)  Animation|Children's|Musical\n",
      "----------------------------------------------------------------------------------------\n",
      "      movie_id                                title   genre\n",
      "1854      1923  There's Something About Mary (1998)  Comedy\n",
      "----------------------------------------------------------------------------------------\n",
      "     movie_id                title               genre\n",
      "352       356  Forrest Gump (1994)  Comedy|Romance|War\n",
      "----------------------------------------------------------------------------------------\n",
      "      movie_id                 title   genre\n",
      "2252      2321  Pleasantville (1998)  Comedy\n",
      "----------------------------------------------------------------------------------------\n",
      "      movie_id         title                 genre\n",
      "1838      1907  Mulan (1998)  Animation|Children's\n",
      "----------------------------------------------------------------------------------------\n",
      "      movie_id            title                                          genre\n",
      "1526      1566  Hercules (1997)  Adventure|Animation|Children's|Comedy|Musical\n",
      "----------------------------------------------------------------------------------------\n",
      "      movie_id                    title                                genre\n",
      "2009      2078  Jungle Book, The (1967)  Animation|Children's|Comedy|Musical\n",
      "----------------------------------------------------------------------------------------\n",
      "      movie_id                         title   genre\n",
      "1308      1328  Amityville Curse, The (1990)  Horror\n",
      "----------------------------------------------------------------------------------------\n"
     ]
    }
   ],
   "source": [
    "## 'Toy Story (1995)' \n",
    "\n",
    "get_similar_movie(1)"
   ]
  },
  {
   "cell_type": "markdown",
   "id": "38cf0939",
   "metadata": {},
   "source": [
    "## 8) 내가 가장 좋아할 만한 영화들을 추천받아 봅시다."
   ]
  },
  {
   "cell_type": "code",
   "execution_count": 49,
   "id": "2e851331",
   "metadata": {
    "scrolled": false
   },
   "outputs": [
    {
     "name": "stdout",
     "output_type": "stream",
     "text": [
      "      movie_id                 title                        genre\n",
      "2286      2355  Bug's Life, A (1998)  Animation|Children's|Comedy\n",
      "--------------------------------------------------------------------\n",
      "    movie_id        title                    genre\n",
      "33        34  Babe (1995)  Children's|Comedy|Drama\n",
      "--------------------------------------------------------------------\n",
      "     movie_id                 title                    genre\n",
      "476       480  Jurassic Park (1993)  Action|Adventure|Sci-Fi\n",
      "--------------------------------------------------------------------\n",
      "     movie_id                              title                   genre\n",
      "585       589  Terminator 2: Judgment Day (1991)  Action|Sci-Fi|Thriller\n",
      "--------------------------------------------------------------------\n",
      "      movie_id               title                   genre\n",
      "2502      2571  Matrix, The (1999)  Action|Sci-Fi|Thriller\n",
      "--------------------------------------------------------------------\n",
      "     movie_id                title               genre\n",
      "352       356  Forrest Gump (1994)  Comedy|Romance|War\n",
      "--------------------------------------------------------------------\n",
      "      movie_id                                             title  \\\n",
      "2559      2628  Star Wars: Episode I - The Phantom Menace (1999)   \n",
      "\n",
      "                                genre  \n",
      "2559  Action|Adventure|Fantasy|Sci-Fi  \n",
      "--------------------------------------------------------------------\n",
      "      movie_id                title                    genre\n",
      "3106      3175  Galaxy Quest (1999)  Adventure|Comedy|Sci-Fi\n",
      "--------------------------------------------------------------------\n",
      "      movie_id                 title           genre\n",
      "1245      1265  Groundhog Day (1993)  Comedy|Romance\n",
      "--------------------------------------------------------------------\n",
      "      movie_id                                              title  \\\n",
      "1192      1210  Star Wars: Episode VI - Return of the Jedi (1983)   \n",
      "\n",
      "                                    genre  \n",
      "1192  Action|Adventure|Romance|Sci-Fi|War  \n",
      "--------------------------------------------------------------------\n",
      "     movie_id           title                                genre\n",
      "584       588  Aladdin (1992)  Animation|Children's|Comedy|Musical\n",
      "--------------------------------------------------------------------\n",
      "     movie_id                      title              genre\n",
      "908       920  Gone with the Wind (1939)  Drama|Romance|War\n",
      "--------------------------------------------------------------------\n",
      "      movie_id                title                             genre\n",
      "2847      2916  Total Recall (1990)  Action|Adventure|Sci-Fi|Thriller\n",
      "--------------------------------------------------------------------\n",
      "      movie_id                   title         genre\n",
      "2789      2858  American Beauty (1999)  Comedy|Drama\n",
      "--------------------------------------------------------------------\n",
      "      movie_id                      title         genre\n",
      "1726      1784  As Good As It Gets (1997)  Comedy|Drama\n",
      "--------------------------------------------------------------------\n",
      "      movie_id             title   genre\n",
      "2722      2791  Airplane! (1980)  Comedy\n",
      "--------------------------------------------------------------------\n",
      "      movie_id                   title                 genre\n",
      "2692      2761  Iron Giant, The (1999)  Animation|Children's\n",
      "--------------------------------------------------------------------\n",
      "      movie_id               title                        genre\n",
      "3682      3751  Chicken Run (2000)  Animation|Children's|Comedy\n",
      "--------------------------------------------------------------------\n",
      "      movie_id                       title           genre\n",
      "2327      2396  Shakespeare in Love (1998)  Comedy|Romance\n",
      "--------------------------------------------------------------------\n",
      "      movie_id                   title           genre\n",
      "2355      2424  You've Got Mail (1998)  Comedy|Romance\n",
      "--------------------------------------------------------------------\n"
     ]
    }
   ],
   "source": [
    "def recommand_movie(user_id):\n",
    "    user = user_to_idx[user_id]\n",
    "    movie_recommended = als_model.recommend(user, csr_data, N=20, filter_already_liked_items=True)\n",
    "    idx_to_movie = {v:k for k,v in movie_to_idx.items()}\n",
    "    recommand_list = [idx_to_movie[i[0]] for i in movie_recommended]\n",
    "    for movie in recommand_list:\n",
    "        print(movies[movies['movie_id'] == movie], '--------------------------------------------------------------------', sep='\\n')\n",
    "\n",
    "recommand_movie(my_id)"
   ]
  },
  {
   "cell_type": "code",
   "execution_count": 57,
   "id": "accfa938",
   "metadata": {},
   "outputs": [
    {
     "data": {
      "text/plain": [
       "[1721,\n",
       " 1393,\n",
       " 1682,\n",
       " 3595,\n",
       " 62,\n",
       " 2125,\n",
       " 1835,\n",
       " 2424,\n",
       " 2268,\n",
       " 1183,\n",
       " 3259,\n",
       " 587,\n",
       " 597,\n",
       " 2236,\n",
       " 1784]"
      ]
     },
     "execution_count": 57,
     "metadata": {},
     "output_type": "execute_result"
    }
   ],
   "source": [
    "idx_to_movie = {v:k for k,v in movie_to_idx.items()}\n",
    "[idx_to_movie[i[0]] for i in similar_movie]"
   ]
  },
  {
   "cell_type": "code",
   "execution_count": 58,
   "id": "730e80a8",
   "metadata": {},
   "outputs": [
    {
     "data": {
      "text/plain": [
       "[(3114, 0.0005615478690651856),\n",
       " (1721, 0.0004596653379270268),\n",
       " (1, -0.0031226922038830613),\n",
       " (1580, -0.006001433584500284)]"
      ]
     },
     "execution_count": 58,
     "metadata": {},
     "output_type": "execute_result"
    }
   ],
   "source": [
    "## 기여도 체크\n",
    "\n",
    "def get_contribution(m_id):\n",
    "    user = user_to_idx[my_id]\n",
    "    explain = als_model.explain(user, csr_data, itemid=m_id)\n",
    "    explain = [(idx_to_movie[i[0]], i[1]) for i in explain[1]]\n",
    "    return explain\n",
    "\n",
    "get_contribution(2355)  ## 추천받은 첫번째 영화 <2355  Bug's Life, A (1998)>"
   ]
  },
  {
   "cell_type": "markdown",
   "id": "f1441c54",
   "metadata": {},
   "source": [
    "# 회고!"
   ]
  },
  {
   "cell_type": "markdown",
   "id": "83699e4e",
   "metadata": {},
   "source": [
    "## < 어려웠던 점>  \n",
    "컬럼을 제거하고 필요한 컬럼만 선택해서 처리하는 데이터 전처리 과정이 어려웠던 것 같다. 그리고 영화를 고르는 과정에서 예전 영화들 1900년대 영화들이 많고 2000년대 영화는 없는 경우가 많아서 좋아하는 영화를 정확히 보기는 어려웠다. 그니까 더 좋아하는 영화가 있는데 덜 좋아하는 영화를 어쩔 수 없이 선택을 해서 나중에 영화를 추천해준 것에 정확히 나의 데이터가 안들어가있는 느낌이었다. 그리고 추천된 영화도 모르는 경우가 많아서 영화제목을 찾아보았다. 나중에는 영화 데이터를 좀 더 최신것으로 준비해서 해봐야겠다고 생각이 들었다."
   ]
  },
  {
   "cell_type": "markdown",
   "id": "5bdfba93",
   "metadata": {},
   "source": [
    "## < 알아낸 점> & < 아직까지 모호한 점>  \n",
    "- 추천 시스템이란?   \n",
    "=> 나와 비슷한 다른 사용자들이 좋아하는 것과 비슷한 것을 내게 추쳔해주는 것!   \n",
    "\n",
    "- 협업 필터링방식과 콘텐츠 기반 필터링방식의 차이점은?  \n",
    "    - 협업 필터링은 다수의 사용자의 아이템 구매 이력 정보만으로 사용자간 유사성 및 아이템 간 유사성을 파악함  \n",
    "    - 콘텐츠 기반 필터링은 아이템의 고유의 정보를 바탕으로 아이템 간 유사성을 파악한다.\n",
    "\n",
    "=> 콘텐츠 기반 필터링에서는 아이템 자체의 속성에만 주목하고 사용자와 아이템 간의 관련성 에는 주목하지 않는다.\n",
    "\n",
    "추천시스템은  \n",
    "1. 아이템이 많고,   \n",
    "2. 유저의 취향은 다양할 때 유저가 소비할 만한 아이템을 예측하는 모델이다.   \n",
    "ex) 유튜브, 페이스북, 아마존 등이 있다.   \n",
    "\n",
    "또한, 데이터를 탐색해서 원하는 데이터만 추려서 처리를 해두면, 데이터를 사용하기에 아주 효율적이라는 것을 이번에 깨달았다."
   ]
  },
  {
   "cell_type": "markdown",
   "id": "66852af7",
   "metadata": {},
   "source": [
    "## <시도한 것들>  \n",
    "시도해본 것은 아니지만! 이 노드를 하면서 이래저래 찾아보면서 데이터를 더 처리할 수 있는 방법들이 많은 것 같다. 특히 나는 영화를 고를 때 제목, 별점도 중요하게 보지만 장르를 먼저 선택하고 고르는 경우가 많다. 그래서 다음에는 데이터를 장르별로 나눠서 정리를 해보고 영화를 골라보는 것도 재밌을 것이라고 생각했다. 그리고 영화 별점이나 평점 순을 그래프나 시각화해서 표현을 해봐도 재밌을 것 같다고 생각을 했다... 생각은 했지만...생각보다 시간이 없어서,, 일단 pass하고 다음에 꼭 해보고 싶다."
   ]
  },
  {
   "cell_type": "markdown",
   "id": "9a0a3d9e",
   "metadata": {},
   "source": [
    "## < 자기 다짐>  \n",
    "으음 뭔가 노드를 하다가 조금 재밌는 노드를 하면 더 하고싶은 욕심이 생길때 가 있는데 그럴 때마다 다 한 노드를 망칠까봐 아니면 값이 틀어질까봐 못했던 경우가 많았는데 제출도 중요하지만 노드에 있는 자료 외에 것도 찾아서 해보는 것도 좋을 것 같다고 생각이 들었다. 위에 적기는 했는데 내가 진짜 좋아하는 영화가 없는 경우에는 그 영화를 별점을 주고 넣으면 어떨까 생각을 해보았다. 예를 들어서 해리포터가 영화 리스트에는 없던데 내가 없는 영화를 별점을 매겨서 저 데이터에 추가를 해주면 어떨까 싶었다. 제발...생각만 하지말고 실천을 해보자~~~"
   ]
  }
 ],
 "metadata": {
  "kernelspec": {
   "display_name": "Python 3 (ipykernel)",
   "language": "python",
   "name": "python3"
  },
  "language_info": {
   "codemirror_mode": {
    "name": "ipython",
    "version": 3
   },
   "file_extension": ".py",
   "mimetype": "text/x-python",
   "name": "python",
   "nbconvert_exporter": "python",
   "pygments_lexer": "ipython3",
   "version": "3.9.7"
  }
 },
 "nbformat": 4,
 "nbformat_minor": 5
}
