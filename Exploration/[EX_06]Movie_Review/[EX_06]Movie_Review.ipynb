{
 "cells": [
  {
   "cell_type": "markdown",
   "id": "64231cb9",
   "metadata": {},
   "source": [
    "# EXPLORATION 06. 영화리뷰 텍스트 감성분석하기"
   ]
  },
  {
   "cell_type": "markdown",
   "id": "375b4c1a",
   "metadata": {},
   "source": [
    "## 1. 데이터 준비와 확인"
   ]
  },
  {
   "cell_type": "markdown",
   "id": "e3d7a224",
   "metadata": {},
   "source": [
    "### 필요한 모듈 import하기"
   ]
  },
  {
   "cell_type": "code",
   "execution_count": 1,
   "id": "054f1576",
   "metadata": {},
   "outputs": [],
   "source": [
    "import pandas as pd\n",
    "import urllib.request\n",
    "%matplotlib inline\n",
    "import matplotlib.pyplot as plt\n",
    "import re\n",
    "from konlpy.tag import Okt\n",
    "from tensorflow import keras\n",
    "from tensorflow.keras.preprocessing.text import Tokenizer\n",
    "import numpy as np\n",
    "from tensorflow.keras.preprocessing.sequence import pad_sequences\n",
    "from collections import Counter\n",
    "import numpy as np\n",
    "import tensorflow as tf\n",
    "import os"
   ]
  },
  {
   "cell_type": "code",
   "execution_count": 2,
   "id": "a4fe15ae",
   "metadata": {},
   "outputs": [
    {
     "data": {
      "text/html": [
       "<div>\n",
       "<style scoped>\n",
       "    .dataframe tbody tr th:only-of-type {\n",
       "        vertical-align: middle;\n",
       "    }\n",
       "\n",
       "    .dataframe tbody tr th {\n",
       "        vertical-align: top;\n",
       "    }\n",
       "\n",
       "    .dataframe thead th {\n",
       "        text-align: right;\n",
       "    }\n",
       "</style>\n",
       "<table border=\"1\" class=\"dataframe\">\n",
       "  <thead>\n",
       "    <tr style=\"text-align: right;\">\n",
       "      <th></th>\n",
       "      <th>id</th>\n",
       "      <th>document</th>\n",
       "      <th>label</th>\n",
       "    </tr>\n",
       "  </thead>\n",
       "  <tbody>\n",
       "    <tr>\n",
       "      <th>0</th>\n",
       "      <td>9976970</td>\n",
       "      <td>아 더빙.. 진짜 짜증나네요 목소리</td>\n",
       "      <td>0</td>\n",
       "    </tr>\n",
       "    <tr>\n",
       "      <th>1</th>\n",
       "      <td>3819312</td>\n",
       "      <td>흠...포스터보고 초딩영화줄....오버연기조차 가볍지 않구나</td>\n",
       "      <td>1</td>\n",
       "    </tr>\n",
       "    <tr>\n",
       "      <th>2</th>\n",
       "      <td>10265843</td>\n",
       "      <td>너무재밓었다그래서보는것을추천한다</td>\n",
       "      <td>0</td>\n",
       "    </tr>\n",
       "    <tr>\n",
       "      <th>3</th>\n",
       "      <td>9045019</td>\n",
       "      <td>교도소 이야기구먼 ..솔직히 재미는 없다..평점 조정</td>\n",
       "      <td>0</td>\n",
       "    </tr>\n",
       "    <tr>\n",
       "      <th>4</th>\n",
       "      <td>6483659</td>\n",
       "      <td>사이몬페그의 익살스런 연기가 돋보였던 영화!스파이더맨에서 늙어보이기만 했던 커스틴 ...</td>\n",
       "      <td>1</td>\n",
       "    </tr>\n",
       "  </tbody>\n",
       "</table>\n",
       "</div>"
      ],
      "text/plain": [
       "         id                                           document  label\n",
       "0   9976970                                아 더빙.. 진짜 짜증나네요 목소리      0\n",
       "1   3819312                  흠...포스터보고 초딩영화줄....오버연기조차 가볍지 않구나      1\n",
       "2  10265843                                  너무재밓었다그래서보는것을추천한다      0\n",
       "3   9045019                      교도소 이야기구먼 ..솔직히 재미는 없다..평점 조정      0\n",
       "4   6483659  사이몬페그의 익살스런 연기가 돋보였던 영화!스파이더맨에서 늙어보이기만 했던 커스틴 ...      1"
      ]
     },
     "execution_count": 2,
     "metadata": {},
     "output_type": "execute_result"
    }
   ],
   "source": [
    "import pandas as pd\n",
    "\n",
    "## 데이터를 읽어보자. \n",
    "train_data = pd.read_table('~/aiffel/sentiment_classification/data/ratings_train.txt')\n",
    "test_data = pd.read_table('~/aiffel/sentiment_classification/data/ratings_test.txt')\n",
    "\n",
    "train_data.head()"
   ]
  },
  {
   "cell_type": "markdown",
   "id": "493698d2",
   "metadata": {},
   "source": [
    "## 2. 데이터로더 구성"
   ]
  },
  {
   "cell_type": "markdown",
   "id": "c8f7ccdd",
   "metadata": {},
   "source": [
    "### 수행내용  \n",
    "- 데이터의 중복 제거   \n",
    "- NaN 결측치 제거   \n",
    "- 불용어(Stopwords) 제거   \n",
    "- 사전 (word_to_index) 구성   \n",
    "- 텍스트 스트링을 사전 인덱스 스트링으로 변환  \n",
    "- X_train, y_train, X_test, y_test, word_to_index 리턴"
   ]
  },
  {
   "cell_type": "code",
   "execution_count": 3,
   "id": "6ae5e0ef",
   "metadata": {},
   "outputs": [],
   "source": [
    "from konlpy.tag import Mecab\n",
    "import numpy as np\n",
    "from collections import Counter\n",
    "\n",
    "tokenizer = Mecab()\n",
    "stopwords = ['의','가','이','은','들','는','좀','잘','걍','과','도','를','으로','자','에','와','한','하다']\n",
    "\n",
    "def load_data(train_data, test_data, num_words=10000):\n",
    "    train_data.drop_duplicates(subset=['document'], inplace=True)\n",
    "    train_data = train_data.dropna(how = 'any') \n",
    "    test_data.drop_duplicates(subset=['document'], inplace=True)\n",
    "    test_data = test_data.dropna(how = 'any') \n",
    "    \n",
    "    X_train = []\n",
    "    for sentence in train_data['document']:\n",
    "        temp_X = tokenizer.morphs(sentence) ## 토큰화\n",
    "        temp_X = [word for word in temp_X if not word in stopwords] ## 불용어 제거\n",
    "        X_train.append(temp_X)\n",
    "\n",
    "    X_test = []\n",
    "    for sentence in test_data['document']:\n",
    "        temp_X = tokenizer.morphs(sentence) ## 토큰화\n",
    "        temp_X = [word for word in temp_X if not word in stopwords] ## 불용어 제거\n",
    "        X_test.append(temp_X)\n",
    "    \n",
    "    words = np.concatenate(X_train).tolist()\n",
    "    counter = Counter(words)\n",
    "    counter = counter.most_common(10000-4)\n",
    "    vocab = ['<PAD>', '<BOS>', '<UNK>', '<UNUSED>'] + [key for key, _ in counter]\n",
    "    word_to_index = {word:index for index, word in enumerate(vocab)}\n",
    "        \n",
    "    def wordlist_to_indexlist(wordlist):\n",
    "        return [word_to_index[word] if word in word_to_index else word_to_index['<UNK>'] for word in wordlist]\n",
    "        \n",
    "    X_train = list(map(wordlist_to_indexlist, X_train))\n",
    "    X_test = list(map(wordlist_to_indexlist, X_test))\n",
    "        \n",
    "    return X_train, np.array(list(train_data['label'])), X_test, np.array(list(test_data['label'])), word_to_index\n",
    "    \n",
    "X_train, y_train, X_test, y_test, word_to_index = load_data(train_data, test_data) "
   ]
  },
  {
   "cell_type": "code",
   "execution_count": 4,
   "id": "de2ecdc0",
   "metadata": {},
   "outputs": [
    {
     "name": "stdout",
     "output_type": "stream",
     "text": [
      "훈련 샘플 개수: 25000, 테스트 개수: 25000\n"
     ]
    }
   ],
   "source": [
    "imdb = tf.keras.datasets.imdb\n",
    "\n",
    "## IMDb 데이터셋 다운로드 \n",
    "(x_train, y_train), (x_test, y_test) = imdb.load_data(num_words=10000)\n",
    "print(\"훈련 샘플 개수: {}, 테스트 개수: {}\".format(len(x_train), len(x_test)))"
   ]
  },
  {
   "cell_type": "code",
   "execution_count": 5,
   "id": "8e5697cb",
   "metadata": {},
   "outputs": [],
   "source": [
    "## 딕셔너리 생성\n",
    "index_to_word = {index:word for word, index in word_to_index.items()}"
   ]
  },
  {
   "cell_type": "code",
   "execution_count": 6,
   "id": "bfff1d35",
   "metadata": {},
   "outputs": [
    {
     "name": "stdout",
     "output_type": "stream",
     "text": [
      "[32, 74, 919, 4, 4, 39, 228, 20, 33, 748]\n",
      "더 빙 . . 진짜 짜증 나 네요 목소리\n",
      "라벨:  1\n",
      "[1028, 4, 11, 519, 549, 687, 5, 120, 4, 70, 1639, 52, 925, 1006, 15, 44, 391]\n",
      ". .. 포스터 보고 초딩 영화 줄 . ... 오버 연기 조차 가볍 지 않 구나\n",
      "라벨:  0\n",
      "[24, 205, 2]\n",
      "재 <UNK>\n",
      "라벨:  0\n",
      "[8409, 158, 3925, 4, 4, 298, 94, 17, 6, 4, 4, 58, 3479]\n",
      "이야기 구먼 . . 솔직히 재미 없 다 . . 평점 조정\n",
      "라벨:  1\n",
      "[2, 8894, 1108, 52, 2832, 60, 5, 14, 2758, 41, 1188, 35, 351, 42, 22, 40, 60, 2, 2, 427, 3102, 1766, 6]\n",
      "익살 스런 연기 돋보였 던 영화 ! 스파이더맨 에서 늙 어 보이 기 만 했 던 <UNK> <UNK> 너무나 이뻐 보였 다\n",
      "라벨:  0\n",
      "[675, 2, 2, 131, 420, 185, 1547, 712, 65, 1694, 715, 53, 375, 192, 271, 5, 4, 69, 4, 11, 2179, 122, 750, 4]\n",
      "<UNK> <UNK> 3 세 부터 초등 학교 1 학년 생 인 8 살 용 영화 . ㅋㅋㅋ . .. 별반 개 아까움 .\n",
      "라벨:  0\n",
      "[253, 381, 9, 384, 2012, 55, 15, 817, 6, 4]\n",
      "긴장감 을 제대로 살려 내 지 못했 다 .\n",
      "라벨:  1\n",
      "[232, 1450, 144, 6, 425, 756, 2, 2, 52, 1532, 290, 99, 250, 4, 4, 28, 855, 29, 353, 652, 540, 509, 583, 6, 3318, 4, 8895, 22, 1460, 1460, 4, 4, 71, 304, 17, 6, 52, 104, 8, 77, 22, 2, 43]\n",
      "반개 아깝 다 욕 나온다 <UNK> <UNK> 연기 생활 몇 년 인지 . . 정말 발 로 해도 그것 보단 낫 겟 다 납치 . 감금 만 반복 반복 . . 드라마 가족 없 다 연기 못 하 사람 만 <UNK> 네\n",
      "라벨:  0\n",
      "[128, 17, 23, 94, 16, 290, 27, 48, 5]\n",
      "없 는데 재미 있 몇 안 되 영화\n",
      "라벨:  1\n",
      "[63, 656, 58, 240, 760, 18, 574, 89, 2, 4, 4, 1482, 637, 736, 81, 22, 24, 2, 16, 20, 18]\n",
      "케 평점 낮 건데 ? 꽤 볼 <UNK> . . 헐리우드 식 화려 함 만 너무 <UNK> 있 나 ?\n",
      "라벨:  0\n"
     ]
    }
   ],
   "source": [
    "## 문장 1개를 활용할 딕셔너리와 함께 주면, 단어 인덱스 리스트 벡터로 변환해 주는 함수이다. \n",
    "## 단, 모든 문장은 <BOS>로 시작하는 것으로 한다. \n",
    "def get_encoded_sentence(sentence, word_to_index):\n",
    "    return [word_to_index['<BOS>']]+[word_to_index[word] if word in word_to_index else word_to_index['<UNK>'] for word in sentence.split()]\n",
    "\n",
    "## 여러 개의 문장 리스트를 한꺼번에 단어 인덱스 리스트 벡터로 encode해 주는 함수이다. \n",
    "def get_encoded_sentences(sentences, word_to_index):\n",
    "    return [get_encoded_sentence(sentence, word_to_index) for sentence in sentences]\n",
    "\n",
    "## 숫자 벡터로 encode된 문장을 원래대로 decode하는 함수이다. \n",
    "def get_decoded_sentence(encoded_sentence, index_to_word):\n",
    "    return ' '.join(index_to_word[index] if index in index_to_word else '<UNK>' for index in encoded_sentence[1:]) ##[1:]를 통해 <BOS>를 제외\n",
    "\n",
    "## 여러 개의 숫자 벡터로 encode된 문장을 한꺼번에 원래대로 decode하는 함수이다. \n",
    "def get_decoded_sentences(encoded_sentences, index_to_word):\n",
    "    return [get_decoded_sentence(encoded_sentence, index_to_word) for encoded_sentence in encoded_sentences]\n",
    "\n",
    "for i in range(10):\n",
    "    print(X_train[i])\n",
    "    print(get_decoded_sentence(X_train[i], index_to_word))\n",
    "    print('라벨: ', y_train[i])"
   ]
  },
  {
   "cell_type": "markdown",
   "id": "169dd45f",
   "metadata": {},
   "source": [
    "## 3. 모델 구성을 위한 데이터 분석 및 가공"
   ]
  },
  {
   "cell_type": "code",
   "execution_count": 7,
   "id": "13a34480",
   "metadata": {},
   "outputs": [
    {
     "name": "stdout",
     "output_type": "stream",
     "text": [
      "문장길이 평균 :  234.75892\n",
      "문장길이 최대 :  2494\n",
      "문장길이 표준편차 :  172.91149458735703\n",
      "pad_sequences maxlen :  580\n",
      "전체 문장의 0.94536%가 maxlen 설정값 이내에 포함됩니다. \n"
     ]
    }
   ],
   "source": [
    "total_data_text = list(x_train) + list(x_test)\n",
    "## 텍스트데이터 문장길이의 리스트를 생성한 후\n",
    "num_tokens = [len(tokens) for tokens in total_data_text]\n",
    "num_tokens = np.array(num_tokens)\n",
    "## 문장길이의 평균값, 최대값, 표준편차를 계산해 본다. \n",
    "print('문장길이 평균 : ', np.mean(num_tokens))\n",
    "print('문장길이 최대 : ', np.max(num_tokens))\n",
    "print('문장길이 표준편차 : ', np.std(num_tokens))\n",
    "\n",
    "## 예를들어, 최대 길이를 (평균 + 2*표준편차)로 한다면,  \n",
    "max_tokens = np.mean(num_tokens) + 2 * np.std(num_tokens)\n",
    "maxlen = int(max_tokens)\n",
    "print('pad_sequences maxlen : ', maxlen)\n",
    "print('전체 문장의 {}%가 maxlen 설정값 이내에 포함됩니다. '.format(np.sum(num_tokens < max_tokens) / len(num_tokens)))"
   ]
  },
  {
   "cell_type": "code",
   "execution_count": 8,
   "id": "c22c6e2d",
   "metadata": {
    "scrolled": true
   },
   "outputs": [
    {
     "name": "stdout",
     "output_type": "stream",
     "text": [
      "(25000, 580)\n"
     ]
    }
   ],
   "source": [
    "x_train = tf.keras.preprocessing.sequence.pad_sequences(x_train,\n",
    "                                                        value=word_to_index[\"<PAD>\"],\n",
    "                                                        padding='post', # 혹은 'pre'\n",
    "                                                        maxlen=maxlen)\n",
    "\n",
    "x_test = tf.keras.preprocessing.sequence.pad_sequences(x_test,\n",
    "                                                       value=word_to_index[\"<PAD>\"],\n",
    "                                                       padding='post', # 혹은 'pre'\n",
    "                                                       maxlen=maxlen)\n",
    "\n",
    "print(x_train.shape)"
   ]
  },
  {
   "cell_type": "markdown",
   "id": "956f5356",
   "metadata": {},
   "source": [
    "## 4. 모델 구성 및 validation set 구성"
   ]
  },
  {
   "cell_type": "markdown",
   "id": "e846b8f6",
   "metadata": {},
   "source": [
    "### 첫 번째 모델 : RNN 모델 (model_A)"
   ]
  },
  {
   "cell_type": "code",
   "execution_count": 9,
   "id": "58ea64a4",
   "metadata": {},
   "outputs": [
    {
     "name": "stdout",
     "output_type": "stream",
     "text": [
      "Model: \"sequential\"\n",
      "_________________________________________________________________\n",
      "Layer (type)                 Output Shape              Param #   \n",
      "=================================================================\n",
      "embedding (Embedding)        (None, None, 16)          160000    \n",
      "_________________________________________________________________\n",
      "lstm (LSTM)                  (None, 8)                 800       \n",
      "_________________________________________________________________\n",
      "dense (Dense)                (None, 8)                 72        \n",
      "_________________________________________________________________\n",
      "dense_1 (Dense)              (None, 1)                 9         \n",
      "=================================================================\n",
      "Total params: 160,881\n",
      "Trainable params: 160,881\n",
      "Non-trainable params: 0\n",
      "_________________________________________________________________\n"
     ]
    }
   ],
   "source": [
    "vocab_size = 10000  ## 어휘 사전의 크기입니다(10000개의 단어)\n",
    "word_vector_dim = 16  ## 단어 하나를 표현하는 임베딩 벡터의 차원수\n",
    "\n",
    "model_A = tf.keras.Sequential()\n",
    "model_A.add(tf.keras.layers.Embedding(vocab_size, word_vector_dim, input_shape=(None,)))\n",
    "model_A.add(tf.keras.layers.LSTM(8))   ## 가장 널리 쓰이는 RNN인 LSTM 레이어를 사용 => 이때 LSTM state 벡터의 차원수는 8로 함. (변경 가능)\n",
    "model_A.add(tf.keras.layers.Dense(8, activation='relu'))\n",
    "model_A.add(tf.keras.layers.Dense(1, activation='sigmoid'))  ## 최종 출력은 긍정/부정을 나타내는 1dim 이다.\n",
    "\n",
    "model_A.summary()"
   ]
  },
  {
   "cell_type": "code",
   "execution_count": 10,
   "id": "45524c9c",
   "metadata": {},
   "outputs": [
    {
     "name": "stdout",
     "output_type": "stream",
     "text": [
      "(15000, 580)\n",
      "(15000,)\n"
     ]
    }
   ],
   "source": [
    "## validation set 10000건 분리\n",
    "x_val = x_train[:10000]   \n",
    "y_val = y_train[:10000]\n",
    "\n",
    "## validation set을 제외한 나머지 15000건\n",
    "partial_x_train = x_train[10000:]  \n",
    "partial_y_train = y_train[10000:]\n",
    "\n",
    "print(partial_x_train.shape)\n",
    "print(partial_y_train.shape)"
   ]
  },
  {
   "cell_type": "markdown",
   "id": "d72e45d5",
   "metadata": {},
   "source": [
    "### model 학습"
   ]
  },
  {
   "cell_type": "code",
   "execution_count": 11,
   "id": "709b4e2b",
   "metadata": {},
   "outputs": [
    {
     "name": "stdout",
     "output_type": "stream",
     "text": [
      "Epoch 1/10\n",
      "30/30 [==============================] - 4s 45ms/step - loss: 0.6931 - accuracy: 0.5082 - val_loss: 0.6931 - val_accuracy: 0.5005\n",
      "Epoch 2/10\n",
      "30/30 [==============================] - 1s 29ms/step - loss: 0.6929 - accuracy: 0.5071 - val_loss: 0.6931 - val_accuracy: 0.5006\n",
      "Epoch 3/10\n",
      "30/30 [==============================] - 1s 29ms/step - loss: 0.6925 - accuracy: 0.5155 - val_loss: 0.6930 - val_accuracy: 0.5022\n",
      "Epoch 4/10\n",
      "30/30 [==============================] - 1s 29ms/step - loss: 0.6914 - accuracy: 0.5141 - val_loss: 0.6920 - val_accuracy: 0.5058\n",
      "Epoch 5/10\n",
      "30/30 [==============================] - 1s 29ms/step - loss: 0.6873 - accuracy: 0.5161 - val_loss: 0.6888 - val_accuracy: 0.5064\n",
      "Epoch 6/10\n",
      "30/30 [==============================] - 1s 30ms/step - loss: 0.6793 - accuracy: 0.5246 - val_loss: 0.6718 - val_accuracy: 0.5558\n",
      "Epoch 7/10\n",
      "30/30 [==============================] - 1s 29ms/step - loss: 0.6583 - accuracy: 0.6833 - val_loss: 0.5922 - val_accuracy: 0.7187\n",
      "Epoch 8/10\n",
      "30/30 [==============================] - 1s 29ms/step - loss: 0.5935 - accuracy: 0.7111 - val_loss: 0.7233 - val_accuracy: 0.5222\n",
      "Epoch 9/10\n",
      "30/30 [==============================] - 1s 29ms/step - loss: 0.6206 - accuracy: 0.6757 - val_loss: 0.7294 - val_accuracy: 0.5041\n",
      "Epoch 10/10\n",
      "30/30 [==============================] - 1s 28ms/step - loss: 0.7135 - accuracy: 0.5140 - val_loss: 0.7035 - val_accuracy: 0.4978\n"
     ]
    }
   ],
   "source": [
    "model_A.compile(optimizer='adam',\n",
    "              loss='binary_crossentropy',\n",
    "              metrics=['accuracy'])\n",
    "              \n",
    "epochs=10  ## epoch 값 을 적당한 걸로 학습시키면서 달리함. \n",
    "\n",
    "history = model_A.fit(partial_x_train,\n",
    "                    partial_y_train,\n",
    "                    epochs=epochs,\n",
    "                    batch_size=512,\n",
    "                    validation_data=(x_val, y_val),\n",
    "                    verbose=1)"
   ]
  },
  {
   "cell_type": "code",
   "execution_count": 12,
   "id": "972c64d6",
   "metadata": {},
   "outputs": [
    {
     "name": "stdout",
     "output_type": "stream",
     "text": [
      "782/782 - 5s - loss: 0.7020 - accuracy: 0.5029\n",
      "[0.7020447850227356, 0.5029199719429016]\n"
     ]
    }
   ],
   "source": [
    "## 학습이 끝난 모델을 테스트셋으로 평가해보기! \n",
    "## model_A는 정확도가 50.29 로 생각보다 낮게 나왔다.\n",
    "\n",
    "results = model_A.evaluate(x_test,  y_test, verbose=2)\n",
    "\n",
    "print(results)"
   ]
  },
  {
   "cell_type": "code",
   "execution_count": 13,
   "id": "e5fb4b99",
   "metadata": {},
   "outputs": [
    {
     "name": "stdout",
     "output_type": "stream",
     "text": [
      "dict_keys(['loss', 'accuracy', 'val_loss', 'val_accuracy'])\n"
     ]
    }
   ],
   "source": [
    "history_dict = history.history\n",
    "print(history_dict.keys()) ## epoch에 따른 그래프를 그려볼 수 있는 항목들"
   ]
  },
  {
   "cell_type": "code",
   "execution_count": 14,
   "id": "08ad5466",
   "metadata": {},
   "outputs": [
    {
     "data": {
      "image/png": "[encoded data removed]",
      "text/plain": [
       "<Figure size 432x288 with 1 Axes>"
      ]
     },
     "metadata": {
      "needs_background": "light"
     },
     "output_type": "display_data"
    }
   ],
   "source": [
    "## Training and validation loss그래프\n",
    "\n",
    "import matplotlib.pyplot as plt\n",
    "\n",
    "acc = history_dict['accuracy']\n",
    "val_acc = history_dict['val_accuracy']\n",
    "loss = history_dict['loss']\n",
    "val_loss = history_dict['val_loss']\n",
    "\n",
    "epochs = range(1, len(acc) + 1)\n",
    "\n",
    "## \"bo\"는 \"파란색 점\"이다.\n",
    "plt.plot(epochs, loss, 'bo', label='Training loss')\n",
    "## b는 \"파란 실선\"이다.\n",
    "plt.plot(epochs, val_loss, 'b', label='Validation loss')\n",
    "plt.title('Training and validation loss')\n",
    "plt.xlabel('Epochs')\n",
    "plt.ylabel('Loss')\n",
    "plt.legend()\n",
    "\n",
    "plt.show()"
   ]
  },
  {
   "cell_type": "code",
   "execution_count": 15,
   "id": "90958bed",
   "metadata": {},
   "outputs": [
    {
     "data": {
      "image/png": "[encoded data removed]",
      "text/plain": [
       "<Figure size 432x288 with 1 Axes>"
      ]
     },
     "metadata": {
      "needs_background": "light"
     },
     "output_type": "display_data"
    }
   ],
   "source": [
    "plt.clf()   ## 그림을 초기화!\n",
    "\n",
    "## Training and validation accuracy 그래프\n",
    "\n",
    "plt.plot(epochs, acc, 'bo', label='Training acc')\n",
    "plt.plot(epochs, val_acc, 'b', label='Validation acc')\n",
    "plt.title('Training and validation accuracy')\n",
    "plt.xlabel('Epochs')\n",
    "plt.ylabel('Accuracy')\n",
    "plt.legend()\n",
    "\n",
    "plt.show()"
   ]
  },
  {
   "cell_type": "markdown",
   "id": "cd8122aa",
   "metadata": {},
   "source": [
    "### 두 번째 모델 : 1-D CNN 모델 (model_B)"
   ]
  },
  {
   "cell_type": "code",
   "execution_count": 16,
   "id": "c25d6737",
   "metadata": {},
   "outputs": [
    {
     "name": "stdout",
     "output_type": "stream",
     "text": [
      "Model: \"sequential_1\"\n",
      "_________________________________________________________________\n",
      "Layer (type)                 Output Shape              Param #   \n",
      "=================================================================\n",
      "embedding_1 (Embedding)      (None, None, 16)          160000    \n",
      "_________________________________________________________________\n",
      "conv1d (Conv1D)              (None, None, 16)          1808      \n",
      "_________________________________________________________________\n",
      "max_pooling1d (MaxPooling1D) (None, None, 16)          0         \n",
      "_________________________________________________________________\n",
      "conv1d_1 (Conv1D)            (None, None, 16)          1808      \n",
      "_________________________________________________________________\n",
      "global_max_pooling1d (Global (None, 16)                0         \n",
      "_________________________________________________________________\n",
      "dense_2 (Dense)              (None, 8)                 136       \n",
      "_________________________________________________________________\n",
      "dense_3 (Dense)              (None, 1)                 9         \n",
      "=================================================================\n",
      "Total params: 163,761\n",
      "Trainable params: 163,761\n",
      "Non-trainable params: 0\n",
      "_________________________________________________________________\n"
     ]
    }
   ],
   "source": [
    "vocab_size = 10000  ## 어휘 사전의 크기이다.(10000개의 단어)\n",
    "word_vector_dim = 16   ## 단어 하나를 표현하는 임베딩 벡터의 차원 수이다. \n",
    "\n",
    "model_B = tf.keras.Sequential()\n",
    "model_B.add(tf.keras.layers.Embedding(vocab_size, word_vector_dim, input_shape=(None,)))\n",
    "model_B.add(tf.keras.layers.Conv1D(16, 7, activation='relu'))\n",
    "model_B.add(tf.keras.layers.MaxPooling1D(5))\n",
    "model_B.add(tf.keras.layers.Conv1D(16, 7, activation='relu'))\n",
    "model_B.add(tf.keras.layers.GlobalMaxPooling1D())\n",
    "model_B.add(tf.keras.layers.Dense(8, activation='relu'))\n",
    "model_B.add(tf.keras.layers.Dense(1, activation='sigmoid'))  ## 최종 출력은 긍정/부정을 나타내는 1dim 이다.\n",
    "\n",
    "model_B.summary()"
   ]
  },
  {
   "cell_type": "code",
   "execution_count": 17,
   "id": "15f42957",
   "metadata": {},
   "outputs": [
    {
     "name": "stdout",
     "output_type": "stream",
     "text": [
      "(15000, 580)\n",
      "(15000,)\n"
     ]
    }
   ],
   "source": [
    "## validation set 10000건 분리\n",
    "x_val = x_train[:10000]   \n",
    "y_val = y_train[:10000]\n",
    "\n",
    "## validation set을 제외한 나머지 15000건\n",
    "partial_x_train = x_train[10000:]  \n",
    "partial_y_train = y_train[10000:]\n",
    "\n",
    "print(partial_x_train.shape)\n",
    "print(partial_y_train.shape)"
   ]
  },
  {
   "cell_type": "markdown",
   "id": "86623d54",
   "metadata": {},
   "source": [
    "### model 학습"
   ]
  },
  {
   "cell_type": "code",
   "execution_count": 18,
   "id": "c18cf6f8",
   "metadata": {},
   "outputs": [
    {
     "name": "stdout",
     "output_type": "stream",
     "text": [
      "Epoch 1/10\n",
      "30/30 [==============================] - 3s 29ms/step - loss: 0.6931 - accuracy: 0.5123 - val_loss: 0.6927 - val_accuracy: 0.5149\n",
      "Epoch 2/10\n",
      "30/30 [==============================] - 1s 19ms/step - loss: 0.6904 - accuracy: 0.6894 - val_loss: 0.6892 - val_accuracy: 0.7177\n",
      "Epoch 3/10\n",
      "30/30 [==============================] - 1s 19ms/step - loss: 0.6747 - accuracy: 0.7851 - val_loss: 0.6479 - val_accuracy: 0.7049\n",
      "Epoch 4/10\n",
      "30/30 [==============================] - 1s 19ms/step - loss: 0.5575 - accuracy: 0.8092 - val_loss: 0.4447 - val_accuracy: 0.8423\n",
      "Epoch 5/10\n",
      "30/30 [==============================] - 1s 19ms/step - loss: 0.3280 - accuracy: 0.8785 - val_loss: 0.3237 - val_accuracy: 0.8678\n",
      "Epoch 6/10\n",
      "30/30 [==============================] - 1s 19ms/step - loss: 0.2176 - accuracy: 0.9189 - val_loss: 0.3134 - val_accuracy: 0.8688\n",
      "Epoch 7/10\n",
      "30/30 [==============================] - 1s 19ms/step - loss: 0.1599 - accuracy: 0.9459 - val_loss: 0.3215 - val_accuracy: 0.8684\n",
      "Epoch 8/10\n",
      "30/30 [==============================] - 1s 19ms/step - loss: 0.1200 - accuracy: 0.9641 - val_loss: 0.3350 - val_accuracy: 0.8680\n",
      "Epoch 9/10\n",
      "30/30 [==============================] - 1s 19ms/step - loss: 0.0883 - accuracy: 0.9781 - val_loss: 0.3668 - val_accuracy: 0.8661\n",
      "Epoch 10/10\n",
      "30/30 [==============================] - 1s 19ms/step - loss: 0.0663 - accuracy: 0.9842 - val_loss: 0.3942 - val_accuracy: 0.8653\n"
     ]
    }
   ],
   "source": [
    "model_B.compile(optimizer='adam',\n",
    "              loss='binary_crossentropy',\n",
    "              metrics=['accuracy'])\n",
    "              \n",
    "epochs=10  ## 몇 epoch를 훈련하면 좋을지 결과를 보면서 바꾼다. \n",
    "\n",
    "history = model_B.fit(partial_x_train,\n",
    "                    partial_y_train,\n",
    "                    epochs=epochs,\n",
    "                    batch_size=512,\n",
    "                    validation_data=(x_val, y_val),\n",
    "                    verbose=1)"
   ]
  },
  {
   "cell_type": "code",
   "execution_count": 19,
   "id": "7ef03e98",
   "metadata": {},
   "outputs": [
    {
     "name": "stdout",
     "output_type": "stream",
     "text": [
      "782/782 - 1s - loss: 0.4224 - accuracy: 0.8512\n",
      "[0.4224364757537842, 0.8512399792671204]\n"
     ]
    }
   ],
   "source": [
    "## 테스트 평가하기\n",
    "## 정확도가 85.12로 제일 높에 나왔다.\n",
    "\n",
    "results = model_B.evaluate(x_test,  y_test, verbose=2)\n",
    "\n",
    "print(results)"
   ]
  },
  {
   "cell_type": "code",
   "execution_count": 20,
   "id": "a4986767",
   "metadata": {},
   "outputs": [
    {
     "name": "stdout",
     "output_type": "stream",
     "text": [
      "dict_keys(['loss', 'accuracy', 'val_loss', 'val_accuracy'])\n"
     ]
    }
   ],
   "source": [
    "y_dict = history.history\n",
    "print(history_dict.keys()) ## epoch에 따른 그래프를 그려볼 수 있는 항목들"
   ]
  },
  {
   "cell_type": "code",
   "execution_count": 21,
   "id": "2c7052af",
   "metadata": {},
   "outputs": [
    {
     "data": {
      "image/png": "[encoded data removed]",
      "text/plain": [
       "<Figure size 432x288 with 1 Axes>"
      ]
     },
     "metadata": {
      "needs_background": "light"
     },
     "output_type": "display_data"
    }
   ],
   "source": [
    "## Training and validation loss그래프\n",
    "\n",
    "import matplotlib.pyplot as plt\n",
    "\n",
    "acc = history_dict['accuracy']\n",
    "val_acc = history_dict['val_accuracy']\n",
    "loss = history_dict['loss']\n",
    "val_loss = history_dict['val_loss']\n",
    "\n",
    "epochs = range(1, len(acc) + 1)\n",
    "\n",
    "## \"bo\"는 \"파란색 점\"이다.\n",
    "plt.plot(epochs, loss, 'bo', label='Training loss')\n",
    "## b는 \"파란 실선\"이다.\n",
    "plt.plot(epochs, val_loss, 'b', label='Validation loss')\n",
    "plt.title('Training and validation loss')\n",
    "plt.xlabel('Epochs')\n",
    "plt.ylabel('Loss')\n",
    "plt.legend()\n",
    "\n",
    "plt.show()"
   ]
  },
  {
   "cell_type": "code",
   "execution_count": 22,
   "id": "2052f2ef",
   "metadata": {},
   "outputs": [
    {
     "data": {
      "image/png": "[encoded data removed]",
      "text/plain": [
       "<Figure size 432x288 with 1 Axes>"
      ]
     },
     "metadata": {
      "needs_background": "light"
     },
     "output_type": "display_data"
    }
   ],
   "source": [
    "plt.clf()   ## 그림을 초기화한다.\n",
    "\n",
    "## Training and validation accuracy 그래프\n",
    "\n",
    "plt.plot(epochs, acc, 'bo', label='Training acc')\n",
    "plt.plot(epochs, val_acc, 'b', label='Validation acc')\n",
    "plt.title('Training and validation accuracy')\n",
    "plt.xlabel('Epochs')\n",
    "plt.ylabel('Accuracy')\n",
    "plt.legend()\n",
    "\n",
    "plt.show()"
   ]
  },
  {
   "cell_type": "markdown",
   "id": "e1c150ba",
   "metadata": {},
   "source": [
    "### 세 번째 모델 : GlobalMaxPooling1D() 모델 (model_C)"
   ]
  },
  {
   "cell_type": "code",
   "execution_count": 23,
   "id": "1dd339da",
   "metadata": {},
   "outputs": [
    {
     "name": "stdout",
     "output_type": "stream",
     "text": [
      "Model: \"sequential_2\"\n",
      "_________________________________________________________________\n",
      "Layer (type)                 Output Shape              Param #   \n",
      "=================================================================\n",
      "embedding_2 (Embedding)      (None, None, 16)          160000    \n",
      "_________________________________________________________________\n",
      "global_max_pooling1d_1 (Glob (None, 16)                0         \n",
      "_________________________________________________________________\n",
      "dense_4 (Dense)              (None, 8)                 136       \n",
      "_________________________________________________________________\n",
      "dense_5 (Dense)              (None, 1)                 9         \n",
      "=================================================================\n",
      "Total params: 160,145\n",
      "Trainable params: 160,145\n",
      "Non-trainable params: 0\n",
      "_________________________________________________________________\n"
     ]
    }
   ],
   "source": [
    "vocab_size = 10000  ## 어휘 사전의 크기입니다(10000개의 단어)\n",
    "word_vector_dim = 16   ##단어 하나를 표현하는 임베딩 벡터의 차원 수이다. \n",
    "\n",
    "model_C = tf.keras.Sequential()\n",
    "model_C.add(tf.keras.layers.Embedding(vocab_size, word_vector_dim, input_shape=(None,)))\n",
    "model_C.add(tf.keras.layers.GlobalMaxPooling1D())\n",
    "model_C.add(tf.keras.layers.Dense(8, activation='relu'))\n",
    "model_C.add(tf.keras.layers.Dense(1, activation='sigmoid'))  ## 최종 출력은 긍정/부정을 나타내는 1dim 이다.\n",
    "\n",
    "model_C.summary()"
   ]
  },
  {
   "cell_type": "code",
   "execution_count": 24,
   "id": "3fb94c66",
   "metadata": {},
   "outputs": [
    {
     "name": "stdout",
     "output_type": "stream",
     "text": [
      "(15000, 580)\n",
      "(15000,)\n"
     ]
    }
   ],
   "source": [
    "## validation set 10000건 분리\n",
    "x_val = x_train[:10000]   \n",
    "y_val = y_train[:10000]\n",
    "\n",
    "## validation set을 제외한 나머지 15000건\n",
    "partial_x_train = x_train[10000:]  \n",
    "partial_y_train = y_train[10000:]\n",
    "\n",
    "print(partial_x_train.shape)\n",
    "print(partial_y_train.shape)"
   ]
  },
  {
   "cell_type": "markdown",
   "id": "ee010506",
   "metadata": {},
   "source": [
    "### model 학습"
   ]
  },
  {
   "cell_type": "code",
   "execution_count": 25,
   "id": "148c8f9c",
   "metadata": {},
   "outputs": [
    {
     "name": "stdout",
     "output_type": "stream",
     "text": [
      "Epoch 1/15\n",
      "30/30 [==============================] - 1s 11ms/step - loss: 0.6911 - accuracy: 0.5060 - val_loss: 0.6877 - val_accuracy: 0.5318\n",
      "Epoch 2/15\n",
      "30/30 [==============================] - 0s 7ms/step - loss: 0.6788 - accuracy: 0.6953 - val_loss: 0.6704 - val_accuracy: 0.7368\n",
      "Epoch 3/15\n",
      "30/30 [==============================] - 0s 7ms/step - loss: 0.6536 - accuracy: 0.7780 - val_loss: 0.6412 - val_accuracy: 0.7691\n",
      "Epoch 4/15\n",
      "30/30 [==============================] - 0s 7ms/step - loss: 0.6128 - accuracy: 0.8121 - val_loss: 0.5966 - val_accuracy: 0.7986\n",
      "Epoch 5/15\n",
      "30/30 [==============================] - 0s 6ms/step - loss: 0.5555 - accuracy: 0.8389 - val_loss: 0.5386 - val_accuracy: 0.8179\n",
      "Epoch 6/15\n",
      "30/30 [==============================] - 0s 6ms/step - loss: 0.4863 - accuracy: 0.8544 - val_loss: 0.4777 - val_accuracy: 0.8276\n",
      "Epoch 7/15\n",
      "30/30 [==============================] - 0s 6ms/step - loss: 0.4220 - accuracy: 0.8612 - val_loss: 0.4305 - val_accuracy: 0.8346\n",
      "Epoch 8/15\n",
      "30/30 [==============================] - 0s 6ms/step - loss: 0.3711 - accuracy: 0.8709 - val_loss: 0.3983 - val_accuracy: 0.8399\n",
      "Epoch 9/15\n",
      "30/30 [==============================] - 0s 6ms/step - loss: 0.3321 - accuracy: 0.8797 - val_loss: 0.3763 - val_accuracy: 0.8448\n",
      "Epoch 10/15\n",
      "30/30 [==============================] - 0s 6ms/step - loss: 0.3010 - accuracy: 0.8895 - val_loss: 0.3610 - val_accuracy: 0.8490\n",
      "Epoch 11/15\n",
      "30/30 [==============================] - 0s 6ms/step - loss: 0.2754 - accuracy: 0.8990 - val_loss: 0.3510 - val_accuracy: 0.8521\n",
      "Epoch 12/15\n",
      "30/30 [==============================] - 0s 6ms/step - loss: 0.2535 - accuracy: 0.9077 - val_loss: 0.3440 - val_accuracy: 0.8558\n",
      "Epoch 13/15\n",
      "30/30 [==============================] - 0s 6ms/step - loss: 0.2341 - accuracy: 0.9160 - val_loss: 0.3394 - val_accuracy: 0.8556\n",
      "Epoch 14/15\n",
      "30/30 [==============================] - 0s 6ms/step - loss: 0.2169 - accuracy: 0.9223 - val_loss: 0.3363 - val_accuracy: 0.8577\n",
      "Epoch 15/15\n",
      "30/30 [==============================] - 0s 6ms/step - loss: 0.2010 - accuracy: 0.9288 - val_loss: 0.3350 - val_accuracy: 0.8581\n"
     ]
    }
   ],
   "source": [
    "model_C.compile(optimizer='adam',\n",
    "              loss='binary_crossentropy',\n",
    "              metrics=['accuracy'])\n",
    "              \n",
    "epochs=15  ## 몇 epoch를 훈련하면 좋을지 결과를 보면서 바꾼다. \n",
    "\n",
    "history = model_C.fit(partial_x_train,\n",
    "                    partial_y_train,\n",
    "                    epochs=epochs,\n",
    "                    batch_size=512,\n",
    "                    validation_data=(x_val, y_val),\n",
    "                    verbose=1)"
   ]
  },
  {
   "cell_type": "code",
   "execution_count": 26,
   "id": "099cc006",
   "metadata": {},
   "outputs": [
    {
     "name": "stdout",
     "output_type": "stream",
     "text": [
      "782/782 - 1s - loss: 0.3521 - accuracy: 0.8460\n",
      "[0.3520919978618622, 0.8459600210189819]\n"
     ]
    }
   ],
   "source": [
    "## 테스트 평가\n",
    "## 정확도가 84.60 으로 적당하게 나왔다.\n",
    "\n",
    "results = model_C.evaluate(x_test,  y_test, verbose=2)\n",
    "\n",
    "print(results)"
   ]
  },
  {
   "cell_type": "code",
   "execution_count": 27,
   "id": "d0ab91c4",
   "metadata": {},
   "outputs": [
    {
     "name": "stdout",
     "output_type": "stream",
     "text": [
      "dict_keys(['loss', 'accuracy', 'val_loss', 'val_accuracy'])\n"
     ]
    }
   ],
   "source": [
    "history_dict = history.history\n",
    "print(history_dict.keys()) ## epoch에 따른 그래프를 그려볼 수 있는 항목들"
   ]
  },
  {
   "cell_type": "code",
   "execution_count": 28,
   "id": "b430a638",
   "metadata": {},
   "outputs": [
    {
     "data": {
      "image/png": "[encoded data removed]",
      "text/plain": [
       "<Figure size 432x288 with 1 Axes>"
      ]
     },
     "metadata": {
      "needs_background": "light"
     },
     "output_type": "display_data"
    }
   ],
   "source": [
    "## Training and validation loss그래프\n",
    "\n",
    "import matplotlib.pyplot as plt\n",
    "\n",
    "acc = history_dict['accuracy']\n",
    "val_acc = history_dict['val_accuracy']\n",
    "loss = history_dict['loss']\n",
    "val_loss = history_dict['val_loss']\n",
    "\n",
    "epochs = range(1, len(acc) + 1)\n",
    "\n",
    "## \"bo\"는 \"파란색 점\"이다.\n",
    "plt.plot(epochs, loss, 'bo', label='Training loss')\n",
    "## b는 \"파란 실선\"이다.\n",
    "plt.plot(epochs, val_loss, 'b', label='Validation loss')\n",
    "plt.title('Training and validation loss')\n",
    "plt.xlabel('Epochs')\n",
    "plt.ylabel('Loss')\n",
    "plt.legend()\n",
    "\n",
    "plt.show()"
   ]
  },
  {
   "cell_type": "code",
   "execution_count": 29,
   "id": "3ae53429",
   "metadata": {},
   "outputs": [
    {
     "data": {
      "image/png": "[encoded data removed]",
      "text/plain": [
       "<Figure size 432x288 with 1 Axes>"
      ]
     },
     "metadata": {
      "needs_background": "light"
     },
     "output_type": "display_data"
    }
   ],
   "source": [
    "plt.clf()   ## 그림을 초기화한다.\n",
    "\n",
    "## Training and validation accuracy 그래프\n",
    "\n",
    "plt.plot(epochs, acc, 'bo', label='Training acc')\n",
    "plt.plot(epochs, val_acc, 'b', label='Validation acc')\n",
    "plt.title('Training and validation accuracy')\n",
    "plt.xlabel('Epochs')\n",
    "plt.ylabel('Accuracy')\n",
    "plt.legend()\n",
    "\n",
    "plt.show()"
   ]
  },
  {
   "cell_type": "markdown",
   "id": "a3065ee8",
   "metadata": {},
   "source": [
    "### 차원 변경!"
   ]
  },
  {
   "cell_type": "code",
   "execution_count": 30,
   "id": "ff71699d",
   "metadata": {},
   "outputs": [
    {
     "data": {
      "text/plain": [
       "'3.8.3'"
      ]
     },
     "execution_count": 30,
     "metadata": {},
     "output_type": "execute_result"
    }
   ],
   "source": [
    "import gensim\n",
    "\n",
    "gensim.__version__"
   ]
  },
  {
   "cell_type": "code",
   "execution_count": 31,
   "id": "9a913dba",
   "metadata": {},
   "outputs": [
    {
     "name": "stdout",
     "output_type": "stream",
     "text": [
      "Requirement already satisfied: gensim in /opt/conda/lib/python3.9/site-packages (3.8.3)\n",
      "Requirement already satisfied: smart-open>=1.8.1 in /opt/conda/lib/python3.9/site-packages (from gensim) (5.2.1)\n",
      "Requirement already satisfied: six>=1.5.0 in /opt/conda/lib/python3.9/site-packages (from gensim) (1.16.0)\n",
      "Requirement already satisfied: numpy>=1.11.3 in /opt/conda/lib/python3.9/site-packages (from gensim) (1.21.4)\n",
      "Requirement already satisfied: scipy>=0.18.1 in /opt/conda/lib/python3.9/site-packages (from gensim) (1.7.1)\n",
      "\u001b[33mWARNING: Running pip as the 'root' user can result in broken permissions and conflicting behaviour with the system package manager. It is recommended to use a virtual environment instead: https://pip.pypa.io/warnings/venv\u001b[0m\n",
      "Requirement already satisfied: gensim==3.8.3 in /opt/conda/lib/python3.9/site-packages (3.8.3)\n",
      "Requirement already satisfied: smart-open>=1.8.1 in /opt/conda/lib/python3.9/site-packages (from gensim==3.8.3) (5.2.1)\n",
      "Requirement already satisfied: numpy>=1.11.3 in /opt/conda/lib/python3.9/site-packages (from gensim==3.8.3) (1.21.4)\n",
      "Requirement already satisfied: scipy>=0.18.1 in /opt/conda/lib/python3.9/site-packages (from gensim==3.8.3) (1.7.1)\n",
      "Requirement already satisfied: six>=1.5.0 in /opt/conda/lib/python3.9/site-packages (from gensim==3.8.3) (1.16.0)\n",
      "\u001b[33mWARNING: Running pip as the 'root' user can result in broken permissions and conflicting behaviour with the system package manager. It is recommended to use a virtual environment instead: https://pip.pypa.io/warnings/venv\u001b[0m\n"
     ]
    }
   ],
   "source": [
    "!pip install gensim\n",
    "\n",
    "!pip install --upgrade gensim==3.8.3"
   ]
  },
  {
   "cell_type": "code",
   "execution_count": 32,
   "id": "ea4418d8",
   "metadata": {},
   "outputs": [
    {
     "data": {
      "text/plain": [
       "'3.8.3'"
      ]
     },
     "execution_count": 32,
     "metadata": {},
     "output_type": "execute_result"
    }
   ],
   "source": [
    "import gensim\n",
    "\n",
    "gensim.__version__\n",
    "\n",
    "## 잘 변경 된 것을 볼 수 있다.\n",
    "## 차원변경을 한 뒤에는 꼭 Restart 를 눌러줘야함~"
   ]
  },
  {
   "cell_type": "markdown",
   "id": "0657ee82",
   "metadata": {},
   "source": [
    "## 학습된 Embedding 레이어 분석"
   ]
  },
  {
   "cell_type": "code",
   "execution_count": 33,
   "id": "da19ae23",
   "metadata": {},
   "outputs": [
    {
     "name": "stdout",
     "output_type": "stream",
     "text": [
      "(10000, 16)\n"
     ]
    }
   ],
   "source": [
    "## 애매하게 정확도가 나온 모델C 를 데리고 왔다.\n",
    "embedding_layer = model_C.layers[0]\n",
    "weights = embedding_layer.get_weights()[0]\n",
    "print(weights.shape)    ## shape: (vocab_size, embedding_dim)"
   ]
  },
  {
   "cell_type": "code",
   "execution_count": 34,
   "id": "73bf0db2",
   "metadata": {},
   "outputs": [],
   "source": [
    "import os\n",
    "from gensim import models     ## gensim : 워드벡터를 다루는데 유용한 패키지\n",
    "\n",
    "\n",
    "## 학습한 Embedding 파라미터를 파일에 써서 저장한다. \n",
    "word2vec_file_path = os.getenv('HOME')+'/aiffel/sentiment_classification/data/word2vec.txt'\n",
    "f = open(word2vec_file_path, 'w')\n",
    "f.write('{} {}\\n'.format(vocab_size-4, word_vector_dim))  ## 몇개의 벡터를 얼마 사이즈로 기재할지 타이틀을 쓴다,.\n",
    "\n",
    "## 단어 개수(에서 특수문자 4개는 제외하고)만큼의 워드 벡터를 파일에 기록한다. \n",
    "vectors = model_C.get_weights()[0]\n",
    "for i in range(4,vocab_size):\n",
    "    f.write('{} {}\\n'.format(index_to_word[i], ' '.join(map(str, list(vectors[i, :])))))\n",
    "f.close()"
   ]
  },
  {
   "cell_type": "code",
   "execution_count": 35,
   "id": "407cc669",
   "metadata": {},
   "outputs": [
    {
     "data": {
      "text/plain": [
       "array([-0.01439515, -0.04398841, -0.01055439, -0.02430906, -0.02442553,\n",
       "       -0.04300826, -0.01445729, -0.01236375, -0.0173094 , -0.0149243 ,\n",
       "        0.0148047 , -0.01373007, -0.02252706, -0.0144562 , -0.01866916,\n",
       "       -0.01691782], dtype=float32)"
      ]
     },
     "execution_count": 35,
     "metadata": {},
     "output_type": "execute_result"
    }
   ],
   "source": [
    "## embedding 한 파라미터를 읽어서 word_vector로 활용!\n",
    "\n",
    "from gensim.models.keyedvectors import Word2VecKeyedVectors\n",
    "\n",
    "word_vectors = Word2VecKeyedVectors.load_word2vec_format(word2vec_file_path, binary=False)\n",
    "vector = word_vectors['행복']\n",
    "vector"
   ]
  },
  {
   "cell_type": "code",
   "execution_count": 36,
   "id": "ec3c99ff",
   "metadata": {},
   "outputs": [
    {
     "data": {
      "text/plain": [
       "[('마이', 0.9738633632659912),\n",
       " ('경찰', 0.9712220430374146),\n",
       " ('미침', 0.9627574682235718),\n",
       " ('시', 0.9544246196746826),\n",
       " ('로웠', 0.9529285430908203),\n",
       " ('에게', 0.9518726468086243),\n",
       " ('(', 0.9516945481300354),\n",
       " ('낚였', 0.9510214328765869),\n",
       " ('귀엽', 0.9497208595275879),\n",
       " ('비둘기', 0.9429367780685425)]"
      ]
     },
     "execution_count": 36,
     "metadata": {},
     "output_type": "execute_result"
    }
   ],
   "source": [
    "word_vectors.similar_by_word(\"행복\")\n",
    "\n",
    "## 결과를 보면 \"행복\"이라는 단어와 유사하지 않음"
   ]
  },
  {
   "cell_type": "code",
   "execution_count": 37,
   "id": "b13d2816",
   "metadata": {},
   "outputs": [],
   "source": [
    "##from gensim.models import KeyedVectors\n",
    "\n",
    "##word2vec_path = os.getenv('HOME')+'/aiffel/sentiment_classification/data/ko.bin'\n",
    "##word2vec = KeyedVectors.load_word2vec_format(word2vec_path, binary=False)\n",
    "##vector = word2vec[\"행복\"]\n",
    "##vector     # 무려 300dim의 워드 벡터입니다.\n",
    "\n",
    "\n",
    "\n",
    "## 자꾸 에러가 뜸\n",
    "## 'utf-8' codec can't decode byte 0x80 in position 0: invalid start byte"
   ]
  },
  {
   "cell_type": "markdown",
   "id": "6bd53545",
   "metadata": {},
   "source": [
    "## 한국어 Word2Vec 임베딩 활용하여 성능 개선"
   ]
  },
  {
   "cell_type": "markdown",
   "id": "566c0bc5",
   "metadata": {},
   "source": [
    "### 임베딩 모델 (ko.bin)을 다운받아서 전이학습 시킴"
   ]
  },
  {
   "cell_type": "code",
   "execution_count": 38,
   "id": "cfccd6ff",
   "metadata": {},
   "outputs": [
    {
     "name": "stderr",
     "output_type": "stream",
     "text": [
      "/tmp/ipykernel_3630/2666872737.py:4: DeprecationWarning: Call to deprecated `__getitem__` (Method will be removed in 4.0.0, use self.wv.__getitem__() instead).\n",
      "  vector = word2vec[\"행복\"]\n"
     ]
    },
    {
     "data": {
      "text/plain": [
       "(200,)"
      ]
     },
     "execution_count": 38,
     "metadata": {},
     "output_type": "execute_result"
    }
   ],
   "source": [
    "## 위에 코드가 에러가 떠서 바꿈\n",
    "\n",
    "from gensim.models import KeyedVectors\n",
    "word2vec_path = os.getenv('HOME')+'/aiffel/sentiment_classification/data/ko.bin'\n",
    "word2vec = gensim.models.Word2Vec.load(word2vec_path)\n",
    "vector = word2vec[\"행복\"]\n",
    "vector.shape"
   ]
  },
  {
   "cell_type": "code",
   "execution_count": 39,
   "id": "7660c4c2",
   "metadata": {},
   "outputs": [
    {
     "name": "stderr",
     "output_type": "stream",
     "text": [
      "/tmp/ipykernel_3630/250036510.py:2: DeprecationWarning: Call to deprecated `similar_by_word` (Method will be removed in 4.0.0, use self.wv.similar_by_word() instead).\n",
      "  word2vec.similar_by_word(\"행복\")\n"
     ]
    },
    {
     "data": {
      "text/plain": [
       "[('사랑', 0.6759077310562134),\n",
       " ('기쁨', 0.6493781805038452),\n",
       " ('즐거움', 0.6396492719650269),\n",
       " ('삶', 0.6299898028373718),\n",
       " ('젊음', 0.6187379360198975),\n",
       " ('즐겁', 0.6027448177337646),\n",
       " ('인생', 0.6002243161201477),\n",
       " ('존엄', 0.5952589511871338),\n",
       " ('고독', 0.5938762426376343),\n",
       " ('불행', 0.5894461870193481)]"
      ]
     },
     "execution_count": 39,
     "metadata": {},
     "output_type": "execute_result"
    }
   ],
   "source": [
    "## 메모리를 다소 많이 소비하는 작업이니 유의\n",
    "word2vec.similar_by_word(\"행복\")\n",
    "\n",
    "\n",
    "## 아까 위에 코드보다는 \"행복\"이라는 단어와 유사한 단어들이 있음을 알 수 있다."
   ]
  },
  {
   "cell_type": "markdown",
   "id": "cc0d9fe5",
   "metadata": {},
   "source": [
    "### embedding matrix"
   ]
  },
  {
   "cell_type": "code",
   "execution_count": 40,
   "id": "fed129af",
   "metadata": {},
   "outputs": [
    {
     "name": "stderr",
     "output_type": "stream",
     "text": [
      "/tmp/ipykernel_3630/1730871920.py:7: DeprecationWarning: Call to deprecated `__contains__` (Method will be removed in 4.0.0, use self.wv.__contains__() instead).\n",
      "  if index_to_word[i] in word2vec:\n",
      "/tmp/ipykernel_3630/1730871920.py:8: DeprecationWarning: Call to deprecated `__getitem__` (Method will be removed in 4.0.0, use self.wv.__getitem__() instead).\n",
      "  embedding_matrix[i] = word2vec[index_to_word[i]]\n"
     ]
    }
   ],
   "source": [
    "vocab_size = 10000    ## 어휘 사전의 크기입니다(10,000개의 단어)\n",
    "word_vector_dim = 200  ## 워드 벡터의 차원수\n",
    "embedding_matrix = np.random.rand(vocab_size, word_vector_dim)\n",
    "\n",
    "## embedding_matrix에 Word2Vec 워드 벡터를 단어 하나씩마다 차례차례 카피한다.\n",
    "for i in range(4,vocab_size):\n",
    "    if index_to_word[i] in word2vec:\n",
    "        embedding_matrix[i] = word2vec[index_to_word[i]]"
   ]
  },
  {
   "cell_type": "code",
   "execution_count": 41,
   "id": "a3da1d7e",
   "metadata": {},
   "outputs": [
    {
     "name": "stdout",
     "output_type": "stream",
     "text": [
      "Model: \"sequential_3\"\n",
      "_________________________________________________________________\n",
      "Layer (type)                 Output Shape              Param #   \n",
      "=================================================================\n",
      "embedding_3 (Embedding)      (None, 580, 200)          2000000   \n",
      "_________________________________________________________________\n",
      "lstm_1 (LSTM)                (None, 128)               168448    \n",
      "_________________________________________________________________\n",
      "dense_6 (Dense)              (None, 1)                 129       \n",
      "=================================================================\n",
      "Total params: 2,168,577\n",
      "Trainable params: 2,168,577\n",
      "Non-trainable params: 0\n",
      "_________________________________________________________________\n",
      "Model: \"sequential_3\"\n",
      "_________________________________________________________________\n",
      "Layer (type)                 Output Shape              Param #   \n",
      "=================================================================\n",
      "embedding_3 (Embedding)      (None, 580, 200)          2000000   \n",
      "_________________________________________________________________\n",
      "lstm_1 (LSTM)                (None, 128)               168448    \n",
      "_________________________________________________________________\n",
      "dense_6 (Dense)              (None, 1)                 129       \n",
      "=================================================================\n",
      "Total params: 2,168,577\n",
      "Trainable params: 2,168,577\n",
      "Non-trainable params: 0\n",
      "_________________________________________________________________\n"
     ]
    }
   ],
   "source": [
    "## 학습이 되어있는 Word2Vec 모델을 사용해서 불러오기\n",
    "\n",
    "\n",
    "from tensorflow.keras.initializers import Constant\n",
    "\n",
    "\n",
    "model = keras.Sequential()\n",
    "model.add(keras.layers.Embedding(vocab_size, \n",
    "                                 word_vector_dim, \n",
    "                                 embeddings_initializer=Constant(embedding_matrix),  # 카피한 임베딩을 여기서 활용\n",
    "                                 input_length=maxlen, \n",
    "                                 trainable=True))   # trainable을 True로 주면 Fine-tuning\n",
    "model.add(keras.layers.LSTM(128))\n",
    "model.add(keras.layers.Dense(1, activation='sigmoid'))\n",
    "\n",
    "model.summary()\n",
    "model.summary()"
   ]
  },
  {
   "cell_type": "markdown",
   "id": "58c06efb",
   "metadata": {},
   "source": [
    "### model 훈련"
   ]
  },
  {
   "cell_type": "code",
   "execution_count": 42,
   "id": "cbc415e1",
   "metadata": {},
   "outputs": [
    {
     "name": "stdout",
     "output_type": "stream",
     "text": [
      "Epoch 1/25\n",
      "235/235 [==============================] - 10s 39ms/step - loss: 0.6974 - accuracy: 0.5031 - val_loss: 0.6935 - val_accuracy: 0.5017\n",
      "Epoch 2/25\n",
      "235/235 [==============================] - 9s 38ms/step - loss: 0.6879 - accuracy: 0.5157 - val_loss: 0.6983 - val_accuracy: 0.5085\n",
      "Epoch 3/25\n",
      "235/235 [==============================] - 9s 38ms/step - loss: 0.6791 - accuracy: 0.5222 - val_loss: 0.6918 - val_accuracy: 0.5096\n",
      "Epoch 4/25\n",
      "235/235 [==============================] - 9s 38ms/step - loss: 0.6682 - accuracy: 0.5313 - val_loss: 0.7098 - val_accuracy: 0.5057\n",
      "Epoch 5/25\n",
      "235/235 [==============================] - 9s 38ms/step - loss: 0.6610 - accuracy: 0.5318 - val_loss: 0.7044 - val_accuracy: 0.5058\n",
      "Epoch 6/25\n",
      "235/235 [==============================] - 9s 38ms/step - loss: 0.6538 - accuracy: 0.5447 - val_loss: 0.6867 - val_accuracy: 0.5122\n",
      "Epoch 7/25\n",
      "235/235 [==============================] - 9s 38ms/step - loss: 0.6127 - accuracy: 0.6700 - val_loss: 0.5755 - val_accuracy: 0.7378\n",
      "Epoch 8/25\n",
      "235/235 [==============================] - 9s 37ms/step - loss: 0.4603 - accuracy: 0.8037 - val_loss: 0.4624 - val_accuracy: 0.8110\n",
      "Epoch 9/25\n",
      "235/235 [==============================] - 9s 37ms/step - loss: 0.3094 - accuracy: 0.8837 - val_loss: 0.3881 - val_accuracy: 0.8465\n",
      "Epoch 10/25\n",
      "235/235 [==============================] - 9s 38ms/step - loss: 0.2250 - accuracy: 0.9246 - val_loss: 0.3692 - val_accuracy: 0.8581\n",
      "Epoch 11/25\n",
      "235/235 [==============================] - 9s 38ms/step - loss: 0.1590 - accuracy: 0.9517 - val_loss: 0.4581 - val_accuracy: 0.8499\n",
      "Epoch 12/25\n",
      "235/235 [==============================] - 9s 38ms/step - loss: 0.1241 - accuracy: 0.9653 - val_loss: 0.3847 - val_accuracy: 0.8550\n",
      "Epoch 13/25\n",
      "235/235 [==============================] - 9s 38ms/step - loss: 0.1022 - accuracy: 0.9717 - val_loss: 0.4705 - val_accuracy: 0.8567\n",
      "Epoch 14/25\n",
      "235/235 [==============================] - 9s 38ms/step - loss: 0.0750 - accuracy: 0.9818 - val_loss: 0.4652 - val_accuracy: 0.8606\n",
      "Epoch 15/25\n",
      "235/235 [==============================] - 9s 38ms/step - loss: 0.0637 - accuracy: 0.9852 - val_loss: 0.5410 - val_accuracy: 0.8610\n",
      "Epoch 16/25\n",
      "235/235 [==============================] - 9s 37ms/step - loss: 0.0583 - accuracy: 0.9865 - val_loss: 0.5553 - val_accuracy: 0.8608\n",
      "Epoch 17/25\n",
      "235/235 [==============================] - 9s 38ms/step - loss: 0.0604 - accuracy: 0.9851 - val_loss: 0.5448 - val_accuracy: 0.8603\n",
      "Epoch 18/25\n",
      "235/235 [==============================] - 9s 37ms/step - loss: 0.0515 - accuracy: 0.9878 - val_loss: 0.5141 - val_accuracy: 0.8573\n",
      "Epoch 19/25\n",
      "235/235 [==============================] - 9s 38ms/step - loss: 0.0430 - accuracy: 0.9903 - val_loss: 0.6185 - val_accuracy: 0.8502\n",
      "Epoch 20/25\n",
      "235/235 [==============================] - 9s 38ms/step - loss: 0.0407 - accuracy: 0.9909 - val_loss: 0.5910 - val_accuracy: 0.8633\n",
      "Epoch 21/25\n",
      "235/235 [==============================] - 9s 38ms/step - loss: 0.0361 - accuracy: 0.9919 - val_loss: 0.6042 - val_accuracy: 0.8574\n",
      "Epoch 22/25\n",
      "235/235 [==============================] - 9s 38ms/step - loss: 0.0428 - accuracy: 0.9898 - val_loss: 0.6383 - val_accuracy: 0.8531\n",
      "Epoch 23/25\n",
      "235/235 [==============================] - 9s 38ms/step - loss: 0.0287 - accuracy: 0.9935 - val_loss: 0.6366 - val_accuracy: 0.8582\n",
      "Epoch 24/25\n",
      "235/235 [==============================] - 9s 38ms/step - loss: 0.0260 - accuracy: 0.9944 - val_loss: 0.6298 - val_accuracy: 0.8593\n",
      "Epoch 25/25\n",
      "235/235 [==============================] - 9s 38ms/step - loss: 0.0320 - accuracy: 0.9920 - val_loss: 0.5898 - val_accuracy: 0.8579\n"
     ]
    }
   ],
   "source": [
    "## 학습의 진행\n",
    "model.compile(optimizer='adam',\n",
    "              loss='binary_crossentropy',\n",
    "              metrics=['accuracy'])\n",
    "              \n",
    "epochs=25  ## 몇 epoch를 훈련하면 좋을지 결과를 보면서 바꿔본다. \n",
    "\n",
    "history = model.fit(partial_x_train,\n",
    "                    partial_y_train,\n",
    "                    epochs=epochs,\n",
    "                    batch_size=64,\n",
    "                    validation_data=(x_val, y_val),\n",
    "                    verbose=1)"
   ]
  },
  {
   "cell_type": "code",
   "execution_count": 43,
   "id": "6d49e9fd",
   "metadata": {},
   "outputs": [
    {
     "data": {
      "image/png": "[encoded data removed]",
      "text/plain": [
       "<Figure size 432x288 with 1 Axes>"
      ]
     },
     "metadata": {
      "needs_background": "light"
     },
     "output_type": "display_data"
    }
   ],
   "source": [
    "## Training and validation loss그래프\n",
    "\n",
    "import matplotlib.pyplot as plt\n",
    "\n",
    "acc = history_dict['accuracy']\n",
    "val_acc = history_dict['val_accuracy']\n",
    "loss = history_dict['loss']\n",
    "val_loss = history_dict['val_loss']\n",
    "\n",
    "epochs = range(1, len(acc) + 1)\n",
    "\n",
    "## \"bo\"는 \"파란색 점\"이다.\n",
    "plt.plot(epochs, loss, 'bo', label='Training loss')\n",
    "## b는 \"파란 실선\"이다.\n",
    "plt.plot(epochs, val_loss, 'b', label='Validation loss')\n",
    "plt.title('Training and validation loss')\n",
    "plt.xlabel('Epochs')\n",
    "plt.ylabel('Loss')\n",
    "plt.legend()\n",
    "\n",
    "plt.show()"
   ]
  },
  {
   "cell_type": "code",
   "execution_count": 44,
   "id": "10ab7293",
   "metadata": {},
   "outputs": [
    {
     "data": {
      "image/png": "[encoded data removed]",
      "text/plain": [
       "<Figure size 432x288 with 1 Axes>"
      ]
     },
     "metadata": {
      "needs_background": "light"
     },
     "output_type": "display_data"
    }
   ],
   "source": [
    "plt.clf()   ## 그림을 초기화\n",
    "\n",
    "## Training and validation accuracy 그래프\n",
    "\n",
    "plt.plot(epochs, acc, 'bo', label='Training acc')\n",
    "plt.plot(epochs, val_acc, 'b', label='Validation acc')\n",
    "plt.title('Training and validation accuracy')\n",
    "plt.xlabel('Epochs')\n",
    "plt.ylabel('Accuracy')\n",
    "plt.legend()\n",
    "\n",
    "plt.show()"
   ]
  },
  {
   "cell_type": "code",
   "execution_count": 45,
   "id": "370af5c8",
   "metadata": {},
   "outputs": [
    {
     "name": "stdout",
     "output_type": "stream",
     "text": [
      "782/782 - 7s - loss: 0.6132 - accuracy: 0.8533\n",
      "[0.6132077574729919, 0.8533200025558472]\n"
     ]
    }
   ],
   "source": [
    "## 테스트셋을 통한 모델 평가\n",
    "results = model.evaluate(x_test,  y_test, verbose=2)\n",
    "\n",
    "print(results)\n",
    "\n",
    "## accuracy 가 85.33으로 잘 나옴"
   ]
  },
  {
   "cell_type": "markdown",
   "id": "0c69b8b2",
   "metadata": {},
   "source": [
    "# 회고!"
   ]
  },
  {
   "cell_type": "markdown",
   "id": "f4cb4eba",
   "metadata": {},
   "source": [
    "## <어려웠던 점>  \n",
    "그냥 코드가 너무 길고 할 게 생각보다 많아서 모델을 학습하고 준비하는데 시간이 많이 걸렸던 것 같다. 그리고 모델을 학습할 때마다 마지막 accuracy 가 달라져서 맞추는데 시간이 걸렸던 것 같다. 아마 지금까지 한 프로젝트 6개 중에 제일 오래걸렸고 제일 짜증났던 것 같다. "
   ]
  },
  {
   "cell_type": "markdown",
   "id": "14196b78",
   "metadata": {},
   "source": [
    "## <알아낸 점> & <아직까지 모호한 점>  \n",
    "모델에 따라서 정확도나 loss값이 달라지는 것을 보면서 되게 신기했던 것 같다. 그리고 코드가 기니까 여러 다양한 에러들이 떴는데 에러코드를 좀 더 빠르게 잡는 법을 알게 된 것 같다. 아직까지 모호한 점은 일단 중간에 ko.bin을 불러오는 과정에서 주석처리를 해뒀는데 에러가 자꾸 떴다. 에러를 잡고 그 원래 코드에서 수정을 해보려고 했지만 잘 되지 않아서 새로운 코드를 다시 찾아서 작성했다. 아직까지 그 에러를 못 잡아서 애매하게 끝난 것 같다. "
   ]
  },
  {
   "cell_type": "markdown",
   "id": "cfff6acf",
   "metadata": {},
   "source": [
    "## <시도한 것들>  \n",
    "사실 accuracy 가 85%를 넘어야 루브릭 기준을 만족하는데 84.56%, 84.97% 이렇게 나왔다. 반올림을 하면 될 것 같았지만 애매해서 다시 시도를 했다. 일단 각 모델의 epoch을 달리 해가면서 봤고 최종 epoch 은 하다하다 25까지 늘려서 학습을 했더니 값이 조금 올라갔다. 그리고 batch_size도 조금씩 달리해서 결과값에 영향을 주려고 했다. 하지만 그것도 잘 되지 않았던 것 같고, 모델을 원래는 B 모델을 했는데 값이 떨어져서 C모델로 바꿨더니 기존에 accuracy 가 84.얼마가 나왔는데 학습을 하고나서 개선이 되어 85%가 넘게 되었다."
   ]
  },
  {
   "cell_type": "markdown",
   "id": "2b6d66c7",
   "metadata": {},
   "source": [
    "## <자기 다짐>  \n",
    "그냥 이번에는 너무 힘들었고 제일 별로였던 것 같다. 코드가 기니까 에러를 잡기도 힘들었고, 쉽지 않았다. 하지만 뭐 에러를 많이 보고 하니까 조금은 성장한 것 같다. 그리고 lms 익스를 할 때는 루브릭기준 부터 보고 해야겠다. 그냥 단순히 하니까 기준에 안맞아서 나중에 너무 고생을 하는 것 같다."
   ]
  }
 ],
 "metadata": {
  "kernelspec": {
   "display_name": "Python 3 (ipykernel)",
   "language": "python",
   "name": "python3"
  },
  "language_info": {
   "codemirror_mode": {
    "name": "ipython",
    "version": 3
   },
   "file_extension": ".py",
   "mimetype": "text/x-python",
   "name": "python",
   "nbconvert_exporter": "python",
   "pygments_lexer": "ipython3",
   "version": "3.9.7"
  }
 },
 "nbformat": 4,
 "nbformat_minor": 5
}
