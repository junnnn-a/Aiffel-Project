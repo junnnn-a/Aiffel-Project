{
 "cells": [
  {
   "cell_type": "markdown",
   "id": "3ca8dd42",
   "metadata": {},
   "source": [
    "## Exploration 01. 인공지능과 가위바위보 하기"
   ]
  },
  {
   "cell_type": "markdown",
   "id": "81e9c5c4",
   "metadata": {},
   "source": [
    "다운받은 이미지의 크기는 224x224 이기 때문에 \n",
    "### 1) 데이터 불러오기 + Resize 하기"
   ]
  },
  {
   "cell_type": "code",
   "execution_count": 1,
   "id": "8d231c76",
   "metadata": {},
   "outputs": [
    {
     "name": "stdout",
     "output_type": "stream",
     "text": [
      "PIL 라이브러리 import 완료!\n"
     ]
    }
   ],
   "source": [
    "from PIL import Image\n",
    "import glob\n",
    "\n",
    "print(\"PIL 라이브러리 import 완료!\")"
   ]
  },
  {
   "cell_type": "markdown",
   "id": "5b30c789",
   "metadata": {},
   "source": [
    "이미지 사이즈 변경 전에 클라우드에 디렉토리를 만들고 이미지를 업로드 해야한다."
   ]
  },
  {
   "cell_type": "markdown",
   "id": "c72c58b0",
   "metadata": {},
   "source": [
    "또한, cd 와 unzip 같은 명령어를 사용해서 사진들을 압축해제 한다."
   ]
  },
  {
   "cell_type": "markdown",
   "id": "11355a94",
   "metadata": {},
   "source": [
    "##### 가위 이미지를 불러와서 28 x 28 사이즈로 변경하기"
   ]
  },
  {
   "cell_type": "code",
   "execution_count": 2,
   "id": "46b86dc9",
   "metadata": {},
   "outputs": [
    {
     "name": "stdout",
     "output_type": "stream",
     "text": [
      "1300  images to be resized.\n",
      "1300  images resized.\n",
      "가위 이미지 resize 완료!\n"
     ]
    }
   ],
   "source": [
    "import os\n",
    "def resize_images(img_path):\n",
    "    images=glob.glob(img_path + \"/*.jpg\")  \n",
    "    \n",
    "    print(len(images), \" images to be resized.\")\n",
    "\n",
    "    # 파일마다 모두 28x28 사이즈로 바꾸어 저장합니다.\n",
    "    target_size=(28,28)\n",
    "    for img in images:\n",
    "        old_img=Image.open(img)\n",
    "        new_img=old_img.resize(target_size,Image.ANTIALIAS)\n",
    "        new_img.save(img, \"JPEG\")\n",
    "    \n",
    "    print(len(images), \" images resized.\")\n",
    "    \n",
    "# 가위 이미지가 저장된 디렉토리 아래의 모든 jpg 파일을 읽어들여서\n",
    "image_dir_path = os.getenv(\"HOME\") + \"/aiffel/rock_scissor_paper/scissor\"\n",
    "resize_images(image_dir_path)\n",
    "\n",
    "print(\"가위 이미지 resize 완료!\")"
   ]
  },
  {
   "cell_type": "markdown",
   "id": "ba88378b",
   "metadata": {},
   "source": [
    "##### 바위 이미지를 불러와서 28 x 28 사이즈로 변경하기"
   ]
  },
  {
   "cell_type": "code",
   "execution_count": 3,
   "id": "699982ed",
   "metadata": {},
   "outputs": [
    {
     "name": "stdout",
     "output_type": "stream",
     "text": [
      "200  images to be resized.\n",
      "200  images resized.\n",
      "바위 이미지 resize 완료!\n"
     ]
    }
   ],
   "source": [
    "import os\n",
    "def resize_images(img_path):\n",
    "    images=glob.glob(img_path + \"/*.jpg\")  \n",
    "    \n",
    "    print(len(images), \" images to be resized.\")\n",
    "\n",
    "    # 파일마다 모두 28x28 사이즈로 바꾸어 저장한다.\n",
    "    target_size=(28,28)\n",
    "    for img in images:\n",
    "        old_img=Image.open(img)\n",
    "        new_img=old_img.resize(target_size,Image.ANTIALIAS)\n",
    "        new_img.save(img, \"JPEG\")\n",
    "    \n",
    "    print(len(images), \" images resized.\")\n",
    "    \n",
    "# 바위 이미지가 저장된 디렉토리 아래의 모든 jpg 파일을 읽어들여서\n",
    "image_dir_path = os.getenv(\"HOME\") + \"/aiffel/rock_scissor_paper/rock\"\n",
    "resize_images(image_dir_path)\n",
    "\n",
    "print(\"바위 이미지 resize 완료!\")"
   ]
  },
  {
   "cell_type": "markdown",
   "id": "2b7983d3",
   "metadata": {},
   "source": [
    "##### 보 이미지를 불러와서 28 x 28 사이즈로 변경하기"
   ]
  },
  {
   "cell_type": "code",
   "execution_count": 4,
   "id": "3e214504",
   "metadata": {},
   "outputs": [
    {
     "name": "stdout",
     "output_type": "stream",
     "text": [
      "2200  images to be resized.\n",
      "2200  images resized.\n",
      "보 이미지 resize 완료!\n"
     ]
    }
   ],
   "source": [
    "import os\n",
    "def resize_images(img_path):\n",
    "    images=glob.glob(img_path + \"/*.jpg\")  \n",
    "    \n",
    "    print(len(images), \" images to be resized.\")\n",
    "\n",
    "    # 파일마다 모두 28x28 사이즈로 바꾸어 저장한다.\n",
    "    target_size=(28,28)\n",
    "    for img in images:\n",
    "        old_img=Image.open(img)\n",
    "        new_img=old_img.resize(target_size,Image.ANTIALIAS)\n",
    "        new_img.save(img, \"JPEG\")\n",
    "    \n",
    "    print(len(images), \" images resized.\")\n",
    "    \n",
    "# 보 이미지가 저장된 디렉토리 아래의 모든 jpg 파일을 읽어들여서\n",
    "image_dir_path = os.getenv(\"HOME\") + \"/aiffel/rock_scissor_paper/paper\"\n",
    "resize_images(image_dir_path)\n",
    "\n",
    "print(\"보 이미지 resize 완료!\")"
   ]
  },
  {
   "cell_type": "markdown",
   "id": "f075d78f",
   "metadata": {},
   "source": [
    "가위,바위, 보를 읽을 수 있는 load_data() 함수를 통해서 임의의 사진데이터에 적용가능하다."
   ]
  },
  {
   "cell_type": "markdown",
   "id": "dd8b7da9",
   "metadata": {},
   "source": [
    "3개의 클래스만 있으면 되고, 가위:0 , 바위:1, 보:2 로 라벨링이 된다,"
   ]
  },
  {
   "cell_type": "code",
   "execution_count": 5,
   "id": "0cb5de64",
   "metadata": {},
   "outputs": [
    {
     "name": "stdout",
     "output_type": "stream",
     "text": [
      "학습데이터(x_train)의 이미지 개수는 3700 입니다.\n",
      "x_train shape: (3700, 28, 28, 3)\n",
      "y_train shape: (3700,)\n"
     ]
    }
   ],
   "source": [
    "import numpy as np\n",
    "\n",
    "def load_data(img_path, number_of_data=3700):  # 가위바위보 이미지 개수 총합에 주의\n",
    "    # 가위 : 0, 바위 : 1, 보 : 2\n",
    "    img_size=28\n",
    "    color=3\n",
    "    #이미지 데이터와 라벨(가위 : 0, 바위 : 1, 보 : 2) 데이터를 담을 행렬(matrix) 영역을 생성\n",
    "    imgs=np.zeros(number_of_data*img_size*img_size*color,dtype=np.int32).reshape(number_of_data,img_size,img_size,color)\n",
    "    labels=np.zeros(number_of_data,dtype=np.int32)\n",
    "\n",
    "    idx=0\n",
    "    for file in glob.iglob(img_path+'/scissor/*.jpg'):\n",
    "        img = np.array(Image.open(file),dtype=np.int32)\n",
    "        imgs[idx,:,:,:]=img    # 데이터 영역에 이미지 행렬을 복사\n",
    "        labels[idx]=0   # 가위 : 0\n",
    "        idx=idx+1\n",
    "\n",
    "    for file in glob.iglob(img_path+'/rock/*.jpg'):\n",
    "        img = np.array(Image.open(file),dtype=np.int32)\n",
    "        imgs[idx,:,:,:]=img    # 데이터 영역에 이미지 행렬을 복사\n",
    "        labels[idx]=1   # 바위 : 1\n",
    "        idx=idx+1  \n",
    "    \n",
    "    for file in glob.iglob(img_path+'/paper/*.jpg'):\n",
    "        img = np.array(Image.open(file),dtype=np.int32)\n",
    "        imgs[idx,:,:,:]=img    # 데이터 영역에 이미지 행렬을 복사\n",
    "        labels[idx]=2   # 보 : 2\n",
    "        idx=idx+1\n",
    "        \n",
    "    print(\"학습데이터(x_train)의 이미지 개수는\", idx,\"입니다.\")\n",
    "    return imgs, labels\n",
    "\n",
    "image_dir_path = os.getenv(\"HOME\") + \"/aiffel/rock_scissor_paper\"\n",
    "(x_train, y_train)=load_data(image_dir_path)\n",
    "x_train_norm = x_train/255.0   # 입력은 0~1 사이의 값으로 정규화\n",
    "\n",
    "print(\"x_train shape: {}\".format(x_train.shape))\n",
    "print(\"y_train shape: {}\".format(y_train.shape))"
   ]
  },
  {
   "cell_type": "markdown",
   "id": "57d26bbe",
   "metadata": {},
   "source": [
    "##### 이미지 불러오기"
   ]
  },
  {
   "cell_type": "markdown",
   "id": "eb1e7368",
   "metadata": {},
   "source": [
    "train data 들이 잘 설정이 되었는지 불러와보기~"
   ]
  },
  {
   "cell_type": "code",
   "execution_count": 6,
   "id": "6bb7eb5b",
   "metadata": {},
   "outputs": [
    {
     "name": "stdout",
     "output_type": "stream",
     "text": [
      "라벨:  0\n"
     ]
    },
    {
     "data": {
      "image/png": "[encoded data removed]",
      "text/plain": [
       "<Figure size 432x288 with 1 Axes>"
      ]
     },
     "metadata": {
      "needs_background": "light"
     },
     "output_type": "display_data"
    }
   ],
   "source": [
    "import matplotlib.pyplot as plt\n",
    "plt.imshow(x_train[0])\n",
    "print('라벨: ', y_train[1])"
   ]
  },
  {
   "cell_type": "markdown",
   "id": "532200b4",
   "metadata": {},
   "source": [
    "##### ----------------------데이터 준비는 모두 끝남-----------------------------------------"
   ]
  },
  {
   "cell_type": "markdown",
   "id": "171db5df",
   "metadata": {},
   "source": [
    "### 2) 딥러닝 네트워크 설계하기"
   ]
  },
  {
   "cell_type": "markdown",
   "id": "b32c1b26",
   "metadata": {},
   "source": [
    "딥러닝 네트워크를 만들고 모델을 만든다.\n",
    "직접 만든 딥러닝 네트워크 모델을 확인하려면, model.summary() 메소드를 이용하면 된다."
   ]
  },
  {
   "cell_type": "code",
   "execution_count": 24,
   "id": "1053cd54",
   "metadata": {},
   "outputs": [
    {
     "name": "stdout",
     "output_type": "stream",
     "text": [
      "Model에 추가된 Layer 개수:  16\n",
      "Model: \"sequential_2\"\n",
      "_________________________________________________________________\n",
      "Layer (type)                 Output Shape              Param #   \n",
      "=================================================================\n",
      "conv2d_4 (Conv2D)            (None, 28, 28, 27)        756       \n",
      "_________________________________________________________________\n",
      "batch_normalization (BatchNo (None, 28, 28, 27)        108       \n",
      "_________________________________________________________________\n",
      "activation (Activation)      (None, 28, 28, 27)        0         \n",
      "_________________________________________________________________\n",
      "max_pooling2d_4 (MaxPooling2 (None, 14, 14, 27)        0         \n",
      "_________________________________________________________________\n",
      "conv2d_5 (Conv2D)            (None, 12, 12, 40)        9760      \n",
      "_________________________________________________________________\n",
      "batch_normalization_1 (Batch (None, 12, 12, 40)        160       \n",
      "_________________________________________________________________\n",
      "activation_1 (Activation)    (None, 12, 12, 40)        0         \n",
      "_________________________________________________________________\n",
      "max_pooling2d_5 (MaxPooling2 (None, 6, 6, 40)          0         \n",
      "_________________________________________________________________\n",
      "conv2d_6 (Conv2D)            (None, 4, 4, 30)          10830     \n",
      "_________________________________________________________________\n",
      "batch_normalization_2 (Batch (None, 4, 4, 30)          120       \n",
      "_________________________________________________________________\n",
      "activation_2 (Activation)    (None, 4, 4, 30)          0         \n",
      "_________________________________________________________________\n",
      "max_pooling2d_6 (MaxPooling2 (None, 2, 2, 30)          0         \n",
      "_________________________________________________________________\n",
      "flatten_2 (Flatten)          (None, 120)               0         \n",
      "_________________________________________________________________\n",
      "dense_4 (Dense)              (None, 16)                1936      \n",
      "_________________________________________________________________\n",
      "dropout (Dropout)            (None, 16)                0         \n",
      "_________________________________________________________________\n",
      "dense_5 (Dense)              (None, 3)                 51        \n",
      "=================================================================\n",
      "Total params: 23,721\n",
      "Trainable params: 23,527\n",
      "Non-trainable params: 194\n",
      "_________________________________________________________________\n"
     ]
    }
   ],
   "source": [
    "import tensorflow as tf\n",
    "from tensorflow import keras\n",
    "import numpy as np\n",
    "\n",
    "\n",
    "\n",
    "n_channel_1=27\n",
    "n_channel_2=40\n",
    "n_channel_3=30\n",
    "n_dense=16\n",
    "n_train_epoch=10\n",
    "\n",
    "\n",
    "model=keras.models.Sequential()\n",
    "model.add(keras.layers.Conv2D(n_channel_1, (3,3), input_shape=(28,28,3), kernel_initializer='he_normal',padding = 'same'))\n",
    "model.add(keras.layers.BatchNormalization())\n",
    "model.add(keras.layers.Activation('relu'))\n",
    "model.add(keras.layers.MaxPool2D(2,2))\n",
    "model.add(keras.layers.Conv2D(n_channel_2, (3,3), kernel_initializer='he_normal'))\n",
    "model.add(keras.layers.BatchNormalization())\n",
    "model.add(keras.layers.Activation('relu'))\n",
    "model.add(keras.layers.MaxPooling2D((2,2)))\n",
    "model.add(keras.layers.Conv2D(n_channel_3, (3,3), kernel_initializer='he_normal'))\n",
    "model.add(keras.layers.BatchNormalization())\n",
    "model.add(keras.layers.Activation('relu'))\n",
    "model.add(keras.layers.MaxPooling2D((2,2)))\n",
    "model.add(keras.layers.Flatten())\n",
    "model.add(keras.layers.Dense(n_dense, activation='relu',kernel_initializer='he_normal'))\n",
    "model.add(keras.layers.Dropout(0.5))\n",
    "model.add(keras.layers.Dense(3, activation='softmax',kernel_initializer='he_normal'))\n",
    "\n",
    "print('Model에 추가된 Layer 개수: ', len(model.layers))\n",
    "model.summary()  "
   ]
  },
  {
   "cell_type": "markdown",
   "id": "85b8453f",
   "metadata": {},
   "source": [
    "### 3) 딥러닝 네트워크 학습시키기"
   ]
  },
  {
   "cell_type": "code",
   "execution_count": 25,
   "id": "c615d99c",
   "metadata": {},
   "outputs": [
    {
     "name": "stdout",
     "output_type": "stream",
     "text": [
      "Before Reshape - x_train_norm shape: (3700, 28, 28, 3)\n",
      "After Reshape - x_train_reshaped shape: (3700, 28, 28, 3)\n"
     ]
    }
   ],
   "source": [
    "print(\"Before Reshape - x_train_norm shape: {}\".format(x_train_norm.shape))\n",
    "\n",
    "\n",
    "x_train_reshaped=x_train_norm.reshape( -1, 28, 28, 3)  ## 컬러이기 때문에 마지막에 3을 씀(R,G,B)\n",
    "                                                       ## 데이터갯수에 -1을 쓰면 reshape시 자동계산 된다.\n",
    "\n",
    "print(\"After Reshape - x_train_reshaped shape: {}\".format(x_train_reshaped.shape))\n"
   ]
  },
  {
   "cell_type": "markdown",
   "id": "2d67fb51",
   "metadata": {},
   "source": [
    "이제 내가 만든 x_train 학습 데이터로 딥러닝 네트워크를 학습시킨다. \n",
    "epochs= 10 은 전체 데이터를 10번 학습시킨다는 뜻이다. "
   ]
  },
  {
   "cell_type": "code",
   "execution_count": 39,
   "id": "c3cc5e56",
   "metadata": {},
   "outputs": [
    {
     "name": "stdout",
     "output_type": "stream",
     "text": [
      "Epoch 1/10\n",
      "116/116 [==============================] - 1s 4ms/step - loss: 0.0433 - accuracy: 0.9803\n",
      "Epoch 2/10\n",
      "116/116 [==============================] - 0s 4ms/step - loss: 0.0277 - accuracy: 0.9878\n",
      "Epoch 3/10\n",
      "116/116 [==============================] - 0s 4ms/step - loss: 0.0294 - accuracy: 0.9865\n",
      "Epoch 4/10\n",
      "116/116 [==============================] - 0s 4ms/step - loss: 0.0259 - accuracy: 0.9895\n",
      "Epoch 5/10\n",
      "116/116 [==============================] - 0s 4ms/step - loss: 0.0415 - accuracy: 0.9843\n",
      "Epoch 6/10\n",
      "116/116 [==============================] - 0s 4ms/step - loss: 0.0282 - accuracy: 0.9870\n",
      "Epoch 7/10\n",
      "116/116 [==============================] - 0s 4ms/step - loss: 0.0391 - accuracy: 0.9862\n",
      "Epoch 8/10\n",
      "116/116 [==============================] - 0s 4ms/step - loss: 0.0247 - accuracy: 0.9886\n",
      "Epoch 9/10\n",
      "116/116 [==============================] - 0s 4ms/step - loss: 0.0234 - accuracy: 0.9889\n",
      "Epoch 10/10\n",
      "116/116 [==============================] - 0s 4ms/step - loss: 0.0245 - accuracy: 0.9876\n"
     ]
    },
    {
     "data": {
      "text/plain": [
       "<keras.callbacks.History at 0x7f82613655e0>"
      ]
     },
     "execution_count": 39,
     "metadata": {},
     "output_type": "execute_result"
    }
   ],
   "source": [
    "model.compile(optimizer='adam',\n",
    "             loss='sparse_categorical_crossentropy',\n",
    "             metrics=['accuracy'])\n",
    "\n",
    "model.fit(x_train_reshaped, y_train, epochs=10)"
   ]
  },
  {
   "cell_type": "markdown",
   "id": "4d5deee6",
   "metadata": {},
   "source": [
    "### 4) 얼마나 잘 만들었는지 확인하기"
   ]
  },
  {
   "cell_type": "markdown",
   "id": "3a028484",
   "metadata": {},
   "source": [
    "##### 가위 이미지를 불러와서 28 x 28 사이즈로 변경하기"
   ]
  },
  {
   "cell_type": "code",
   "execution_count": 27,
   "id": "f4016ea2",
   "metadata": {},
   "outputs": [
    {
     "name": "stdout",
     "output_type": "stream",
     "text": [
      "200  images to be resized.\n",
      "200  images resized.\n",
      "가위 이미지 resize 완료!\n"
     ]
    }
   ],
   "source": [
    "def resize_images(img_path):\n",
    "    images=glob.glob(img_path + \"/*.jpg\")  \n",
    "    \n",
    "    print(len(images), \" images to be resized.\")\n",
    "\n",
    "    # 파일마다 모두 28x28 사이즈로 바꾸어 저장한다.\n",
    "    target_size=(28,28)\n",
    "    for img in images:\n",
    "        old_img=Image.open(img)\n",
    "        new_img=old_img.resize(target_size,Image.ANTIALIAS)\n",
    "        new_img.save(img, \"JPEG\")\n",
    "    \n",
    "    print(len(images), \" images resized.\")\n",
    "\n",
    "# 가위 이미지가 저장된 디렉토리 아래의 모든 jpg 파일을 읽어들여서\n",
    "image_dir_path = os.getenv(\"HOME\") + \"/aiffel/rock_scissor_paper/test/scissor\"\n",
    "resize_images(image_dir_path)\n",
    "\n",
    "print(\"가위 이미지 resize 완료!\")"
   ]
  },
  {
   "cell_type": "markdown",
   "id": "e135abd2",
   "metadata": {},
   "source": [
    "##### 바위 이미지를 불러와서 28 x 28 사이즈로 변경하기"
   ]
  },
  {
   "cell_type": "code",
   "execution_count": 28,
   "id": "34ecdd90",
   "metadata": {},
   "outputs": [
    {
     "name": "stdout",
     "output_type": "stream",
     "text": [
      "200  images to be resized.\n",
      "200  images resized.\n",
      "바위 이미지 resize 완료!\n"
     ]
    }
   ],
   "source": [
    "import os\n",
    "def resize_images(img_path):\n",
    "    images=glob.glob(img_path + \"/*.jpg\")  \n",
    "    \n",
    "    print(len(images), \" images to be resized.\")\n",
    "\n",
    "    # 파일마다 모두 28x28 사이즈로 바꾸어 저장한다.\n",
    "    target_size=(28,28)\n",
    "    for img in images:\n",
    "        old_img=Image.open(img)\n",
    "        new_img=old_img.resize(target_size,Image.ANTIALIAS)\n",
    "        new_img.save(img, \"JPEG\")\n",
    "    \n",
    "    print(len(images), \" images resized.\")\n",
    "    \n",
    "# 바위 이미지가 저장된 디렉토리 아래의 모든 jpg 파일을 읽어들여서\n",
    "image_dir_path = os.getenv(\"HOME\") + \"/aiffel/rock_scissor_paper/test/rock\"\n",
    "resize_images(image_dir_path)\n",
    "\n",
    "print(\"바위 이미지 resize 완료!\")"
   ]
  },
  {
   "cell_type": "markdown",
   "id": "21efbb77",
   "metadata": {},
   "source": [
    "##### 보 이미지를 불러와서 28 x 28 사이즈로 변경하기"
   ]
  },
  {
   "cell_type": "code",
   "execution_count": 29,
   "id": "6e313377",
   "metadata": {},
   "outputs": [
    {
     "name": "stdout",
     "output_type": "stream",
     "text": [
      "200  images to be resized.\n",
      "200  images resized.\n",
      "보 이미지 resize 완료!\n"
     ]
    }
   ],
   "source": [
    "import os\n",
    "def resize_images(img_path):\n",
    "    images=glob.glob(img_path + \"/*.jpg\")  \n",
    "    \n",
    "    print(len(images), \" images to be resized.\")\n",
    "\n",
    "    # 파일마다 모두 28x28 사이즈로 바꾸어 저장한다.\n",
    "    target_size=(28,28)\n",
    "    for img in images:\n",
    "        old_img=Image.open(img)\n",
    "        new_img=old_img.resize(target_size,Image.ANTIALIAS)\n",
    "        new_img.save(img, \"JPEG\")\n",
    "    \n",
    "    print(len(images), \" images resized.\")\n",
    "    \n",
    "# 보 이미지가 저장된 디렉토리 아래의 모든 jpg 파일을 읽어들여서\n",
    "image_dir_path = os.getenv(\"HOME\") + \"/aiffel/rock_scissor_paper/test/paper\"\n",
    "resize_images(image_dir_path)\n",
    "\n",
    "print(\"보 이미지 resize 완료!\")"
   ]
  },
  {
   "cell_type": "markdown",
   "id": "60ab63dc",
   "metadata": {},
   "source": [
    "#### 아까 train 데이터처럼 test 데이터도 설정"
   ]
  },
  {
   "cell_type": "code",
   "execution_count": 30,
   "id": "efbce0d6",
   "metadata": {},
   "outputs": [
    {
     "name": "stdout",
     "output_type": "stream",
     "text": [
      "학습데이터(x_train)의 이미지 개수는 600 입니다.\n",
      "x_test shape: (600, 28, 28, 3)\n",
      "y_test shape: (600,)\n"
     ]
    }
   ],
   "source": [
    "import numpy as np\n",
    "\n",
    "def load_data(img_path, number_of_data=600):  # 가위바위보 이미지 개수 총합에 주의\n",
    "    # 가위 : 0, 바위 : 1, 보 : 2\n",
    "    img_size=28\n",
    "    color=3\n",
    "    #이미지 데이터와 라벨(가위 : 0, 바위 : 1, 보 : 2) 데이터를 담을 행렬(matrix) 영역을 생성\n",
    "    imgs=np.zeros(number_of_data*img_size*img_size*color,dtype=np.int32).reshape(number_of_data,img_size,img_size,color)\n",
    "    labels=np.zeros(number_of_data,dtype=np.int32)\n",
    "\n",
    "    idx=0\n",
    "    for file in glob.iglob(img_path+'/scissor/*.jpg'):\n",
    "        img = np.array(Image.open(file),dtype=np.int32)\n",
    "        imgs[idx,:,:,:]=img    # 데이터 영역에 이미지 행렬을 복사\n",
    "        labels[idx]=0   # 가위 : 0\n",
    "        idx=idx+1\n",
    "\n",
    "    for file in glob.iglob(img_path+'/rock/*.jpg'):\n",
    "        img = np.array(Image.open(file),dtype=np.int32)\n",
    "        imgs[idx,:,:,:]=img    # 데이터 영역에 이미지 행렬을 복사\n",
    "        labels[idx]=1   # 바위 : 1\n",
    "        idx=idx+1  \n",
    "    \n",
    "    for file in glob.iglob(img_path+'/paper/*.jpg'):\n",
    "        img = np.array(Image.open(file),dtype=np.int32)\n",
    "        imgs[idx,:,:,:]=img    # 데이터 영역에 이미지 행렬을 복사\n",
    "        labels[idx]=2   # 보 : 2\n",
    "        idx=idx+1\n",
    "        \n",
    "    print(\"학습데이터(x_train)의 이미지 개수는\", idx,\"입니다.\")\n",
    "    return imgs, labels\n",
    "\n",
    "image_dir_path = os.getenv(\"HOME\") + \"/aiffel/rock_scissor_paper/test\"\n",
    "(x_test, y_test)=load_data(image_dir_path)\n",
    "x_test_norm = x_test/255.0   # 입력은 0~1 사이의 값으로 정규화\n",
    "\n",
    "print(\"x_test shape: {}\".format(x_test.shape))\n",
    "print(\"y_test shape: {}\".format(y_test.shape))"
   ]
  },
  {
   "cell_type": "markdown",
   "id": "34a7adb9",
   "metadata": {},
   "source": [
    "데이터가 잘 설정되었는지 한 번 보기"
   ]
  },
  {
   "cell_type": "code",
   "execution_count": 31,
   "id": "13c6127e",
   "metadata": {},
   "outputs": [
    {
     "name": "stdout",
     "output_type": "stream",
     "text": [
      "라벨:  0\n"
     ]
    },
    {
     "data": {
      "image/png": "[encoded data removed]",
      "text/plain": [
       "<Figure size 432x288 with 1 Axes>"
      ]
     },
     "metadata": {
      "needs_background": "light"
     },
     "output_type": "display_data"
    }
   ],
   "source": [
    "import matplotlib.pyplot as plt\n",
    "plt.imshow(x_test[0])\n",
    "print('라벨: ', y_test[5])"
   ]
  },
  {
   "cell_type": "code",
   "execution_count": 32,
   "id": "6bdbbff5",
   "metadata": {},
   "outputs": [
    {
     "name": "stdout",
     "output_type": "stream",
     "text": [
      "Before Reshape - x_test_norm shape: (600, 28, 28, 3)\n",
      "After Reshape - x_test_reshaped shape: (600, 28, 28, 3)\n"
     ]
    }
   ],
   "source": [
    "\n",
    "print(\"Before Reshape - x_test_norm shape: {}\".format(x_test_norm.shape))\n",
    "\n",
    "x_test_reshaped=x_test_norm.reshape( -1, 28, 28, 3)\n",
    "\n",
    "\n",
    "print(\"After Reshape - x_test_reshaped shape: {}\".format(x_test_reshaped.shape))"
   ]
  },
  {
   "cell_type": "markdown",
   "id": "0a349f62",
   "metadata": {},
   "source": [
    "### 테스트 데이터로 성능을 확인해보는 과정임"
   ]
  },
  {
   "cell_type": "code",
   "execution_count": 40,
   "id": "05047cca",
   "metadata": {},
   "outputs": [
    {
     "name": "stdout",
     "output_type": "stream",
     "text": [
      "19/19 - 0s - loss: 8.6398 - accuracy: 0.3333\n",
      "test_loss: 8.639827728271484 \n",
      "test_accuracy: 0.3333333432674408\n"
     ]
    }
   ],
   "source": [
    "test_loss, test_accuracy = model.evaluate(x_test_reshaped,y_test, verbose=2)\n",
    "print(\"test_loss: {} \".format(test_loss))\n",
    "print(\"test_accuracy: {}\".format(test_accuracy))"
   ]
  },
  {
   "cell_type": "markdown",
   "id": "466defa3",
   "metadata": {},
   "source": [
    "어떤 데이터를 잘못 추론했는지 결과를 가지고 보기!"
   ]
  },
  {
   "cell_type": "code",
   "execution_count": 34,
   "id": "8ddac9eb",
   "metadata": {},
   "outputs": [
    {
     "name": "stdout",
     "output_type": "stream",
     "text": [
      "model.predict() 결과 :  [0.00155024 0.9962244  0.00222535]\n",
      "model이 추론한 가장 가능성이 높은 결과 :  1\n",
      "실제 데이터의 라벨 :  0\n"
     ]
    }
   ],
   "source": [
    "predicted_result = model.predict(x_test_reshaped)  # model이 추론한 확률값. \n",
    "predicted_labels = np.argmax(predicted_result, axis=1)\n",
    "\n",
    "idx=0  #1번째 x_test를 살펴보자. \n",
    "print('model.predict() 결과 : ', predicted_result[idx])\n",
    "print('model이 추론한 가장 가능성이 높은 결과 : ', predicted_labels[idx])\n",
    "print('실제 데이터의 라벨 : ', y_test[idx])"
   ]
  },
  {
   "cell_type": "markdown",
   "id": "1e708804",
   "metadata": {},
   "source": [
    "결과를 보니까 묵은 잘 되었는데 가위랑 보는 잘 안된걸 확인할 수 있다."
   ]
  },
  {
   "cell_type": "markdown",
   "id": "c560dcaa",
   "metadata": {},
   "source": [
    "### model 이 추론해 낸 숫자와 실제 라벨의 값이 다른 경우는 어떤 경우인지 확인해보기"
   ]
  },
  {
   "cell_type": "code",
   "execution_count": 36,
   "id": "9dea7eb0",
   "metadata": {},
   "outputs": [
    {
     "name": "stdout",
     "output_type": "stream",
     "text": [
      "예측확률분포: [9.7975440e-05 9.9937952e-01 5.2254536e-04]\n",
      "라벨: 0, 예측결과: 1\n"
     ]
    },
    {
     "data": {
      "image/png": "[encoded data removed]",
      "text/plain": [
       "<Figure size 432x288 with 1 Axes>"
      ]
     },
     "metadata": {
      "needs_background": "light"
     },
     "output_type": "display_data"
    },
    {
     "name": "stdout",
     "output_type": "stream",
     "text": [
      "예측확률분포: [0.00109589 0.99355704 0.00534708]\n",
      "라벨: 2, 예측결과: 1\n"
     ]
    },
    {
     "data": {
      "image/png": "[encoded data removed]",
      "text/plain": [
       "<Figure size 432x288 with 1 Axes>"
      ]
     },
     "metadata": {
      "needs_background": "light"
     },
     "output_type": "display_data"
    },
    {
     "name": "stdout",
     "output_type": "stream",
     "text": [
      "예측확률분포: [0.00187535 0.99372596 0.00439874]\n",
      "라벨: 2, 예측결과: 1\n"
     ]
    },
    {
     "data": {
      "image/png": "[encoded data removed]",
      "text/plain": [
       "<Figure size 432x288 with 1 Axes>"
      ]
     },
     "metadata": {
      "needs_background": "light"
     },
     "output_type": "display_data"
    },
    {
     "name": "stdout",
     "output_type": "stream",
     "text": [
      "예측확률분포: [2.5025016e-04 9.9877745e-01 9.7229367e-04]\n",
      "라벨: 2, 예측결과: 1\n"
     ]
    },
    {
     "data": {
      "image/png": "[encoded data removed]",
      "text/plain": [
       "<Figure size 432x288 with 1 Axes>"
      ]
     },
     "metadata": {
      "needs_background": "light"
     },
     "output_type": "display_data"
    },
    {
     "name": "stdout",
     "output_type": "stream",
     "text": [
      "예측확률분포: [8.5100351e-04 9.9739730e-01 1.7517016e-03]\n",
      "라벨: 2, 예측결과: 1\n"
     ]
    },
    {
     "data": {
      "image/png": "[encoded data removed]",
      "text/plain": [
       "<Figure size 432x288 with 1 Axes>"
      ]
     },
     "metadata": {
      "needs_background": "light"
     },
     "output_type": "display_data"
    }
   ],
   "source": [
    "import random\n",
    "wrong_predict_list=[]\n",
    "for i, _ in enumerate(predicted_labels):\n",
    "    # i번째 test_labels과 y_test이 다른 경우만 모아 봅시다. \n",
    "    if predicted_labels[i] != y_test[i]:\n",
    "        wrong_predict_list.append(i)\n",
    "\n",
    "# wrong_predict_list 에서 랜덤하게 5개만 뽑아봅시다.\n",
    "samples = random.choices(population=wrong_predict_list, k=5)\n",
    "\n",
    "for n in samples:\n",
    "    print(\"예측확률분포: \" + str(predicted_result[n]))\n",
    "    print(\"라벨: \" + str(y_test[n]) + \", 예측결과: \" + str(predicted_labels[n]))\n",
    "    plt.imshow(x_test[n], cmap=plt.cm.binary)\n",
    "    plt.show()"
   ]
  },
  {
   "cell_type": "markdown",
   "id": "97669d96",
   "metadata": {},
   "source": [
    "# 회고!"
   ]
  },
  {
   "cell_type": "markdown",
   "id": "fda0ef1f",
   "metadata": {},
   "source": [
    "## < 어려웠던 점>\n",
    "=> 일단 데이터를 가지고 이런 프로젝트를 해보는 것이 처음이라서 막막했다. lms 노드를 붙잡고 일주일동안 끙끙 머리를 싸맸지만 이게 코드를 바꾸면 바꿔 갈수 록 점점 더 accuracy 만 떨어졌다. 감을 잡기까지 시간이 많이 걸렸고 아직도 완전히 받아들이지 못해.. 하루 한 번씩 노드에 들어가서 코드를 생각해보고 구글링을 한다..."
   ]
  },
  {
   "cell_type": "markdown",
   "id": "4ca1f3b7",
   "metadata": {},
   "source": [
    "## < 알아낸 점> & < 아직까지 모호한 점>\n",
    "=> 이번에 전체적으로 다 새로워서 그런지 안 점들이 많다. 특히 네트워크를 설계하는 과정에서 찾아도 보고 여러사람들에게 물어보면서 drop out 이라는 것을 알게 되었고, 흑백과 컬러도 표현하는게 다른 것을 알게되었다. 또한, 딥러닝에 대해서 찾아보며 문제점은 크게 Underfitting이거나, 느리거나, 과하거나(overfitting) 로 나눠진다는 것을 알게되었다. 그리고 각 상황에서 어떤 함수랑 가중치들을 최적화 하는 법등을 알게 되었다. 아직까지 model 을 설정하는 과정에서 헷갈리는 점이 많이 있다. 사실 model 설정은 lms노드를 보고 작성한게 커서 아직까지 연구중이다..ㅎㅎㅎ"
   ]
  },
  {
   "cell_type": "markdown",
   "id": "039b8d27",
   "metadata": {},
   "source": [
    "## <시도한 것들>\n",
    "=> 일단 처음에는 데이터를 각 100개씩으로만 하다가 점차 100개씩 늘려보고 accuracy가 어떻게 변해가는지 봤다. 그리고 test데이터도 내 손과 비슷한 사람 손을 넣었더니 훨씬 올라갔다. 그리고 파일 100개 1000개의 이름도 한 번에 바꾸는 법에 대해서 알게되어서 계속 데이터들을 늘려서 해보았다. 또한, 사진크기를 달리하면 달라진다고 해서 또 달리 해보았지만 28과 56정도는 비슷한 결과가 나오는 것 같다. 그리고 dropout 수치도 0.1에서 0.5 점점 늘리면서 accuracy가 어떻게 변화하는지 봤다."
   ]
  },
  {
   "cell_type": "markdown",
   "id": "7feb4dc4",
   "metadata": {},
   "source": [
    "## <달성 하지 못한 이유>\n",
    "=> 음,, 일단 55까지도 올려봤지만 이게 데이터가 많고 정확히 학습이 되지 않아 결과값이 오락가락 한 것 같다. 그리고 가장 큰 이유는 뒷 배경이 흰 배경이지 않은 사진이 많아서 loss값이 높게 나온 것 같다. 또한, Validation 이라는 것을 공부하던 중 알게되어서 시도를 해보려고 했지만 개념은 아는데 코드를 어떻게 짜는지 확실하지 않아서 일단 내는데 낸 후에 다시 시도를 해보려고 한다. "
   ]
  },
  {
   "cell_type": "markdown",
   "id": "abd9a055",
   "metadata": {},
   "source": [
    "## < 자기 다짐>\n",
    "=> 사실 첫 프로젝트인만큼 성공적으로 별 3개를 받고싶었지만 스스로가 부족한 부분이 많았던 것 같다. 그리고 코드를 짜고 이것저것 시도를 해보지 않고 오류가 생길까봐 찔끔씩 봐꿔서 별 성공을 못한 것 같다. 일찍 구글링과 다양한 시도를 했으면 더 나았을텐데라는 생각을 했다. 하지만, 이거를 해보려고 구글링도 해보고 여러 사람들의 코드를 봤다. 나는 데이터를 바꿔보는게 좋을 것 같지만, 시간이 부족했던 관계로 일단 생략을 했다. 앞으로도 노드에 더 시간을 들이며 공부를 하고, 평가에 만점을 받을 수 있도록 최선을 다해야겠다!!! 화이팅!!"
   ]
  }
 ],
 "metadata": {
  "kernelspec": {
   "display_name": "Python 3 (ipykernel)",
   "language": "python",
   "name": "python3"
  },
  "language_info": {
   "codemirror_mode": {
    "name": "ipython",
    "version": 3
   },
   "file_extension": ".py",
   "mimetype": "text/x-python",
   "name": "python",
   "nbconvert_exporter": "python",
   "pygments_lexer": "ipython3",
   "version": "3.9.7"
  }
 },
 "nbformat": 4,
 "nbformat_minor": 5
}
