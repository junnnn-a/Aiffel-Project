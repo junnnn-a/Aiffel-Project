{
 "cells": [
  {
   "cell_type": "markdown",
   "id": "11c3d3df",
   "metadata": {},
   "source": [
    "# EXPLORATION_16. 다음에 볼 영화 예측하기"
   ]
  },
  {
   "cell_type": "markdown",
   "id": "cf152f42",
   "metadata": {},
   "source": [
    "## 프로젝트 - Movielens 영화 SBR   \n",
    "이번 프로젝트는 Movielens 1M Dataset 을 기반으로, Session based Recommendation 시스템을 제작해보자!!!!"
   ]
  },
  {
   "cell_type": "code",
   "execution_count": 1,
   "id": "3ad16ebd",
   "metadata": {
    "scrolled": false
   },
   "outputs": [
    {
     "name": "stdout",
     "output_type": "stream",
     "text": [
      "1.3.3\n",
      "2.6.0\n"
     ]
    }
   ],
   "source": [
    "## 필요한 라이브러리 import\n",
    "## 그리고 그 라이브러리 버전 확인하기!\n",
    "\n",
    "import pandas\n",
    "import tensorflow\n",
    "\n",
    "print(pandas.__version__)\n",
    "print(tensorflow.__version__)"
   ]
  },
  {
   "cell_type": "code",
   "execution_count": 2,
   "id": "1ba09afb",
   "metadata": {},
   "outputs": [],
   "source": [
    "## 필요한 라이브러리 import\n",
    "\n",
    "import datetime as dt\n",
    "from pathlib import Path\n",
    "import os\n",
    "\n",
    "import numpy as np\n",
    "import pandas as pd\n",
    "import warnings\n",
    "warnings.filterwarnings('ignore')"
   ]
  },
  {
   "cell_type": "markdown",
   "id": "a0cb15d4",
   "metadata": {},
   "source": [
    "<준비물>    \n",
    "\n",
    "1. 데이터 확인    \n",
    "- $ ls -l ~/data   \n",
    "\n",
    "2. 프로젝트 폴더 생성   \n",
    "- $ mkdir -p ~/aiffel/yoochoose   \n",
    "\n",
    "3. 프로젝트 폴더로 데이터 폴더 링크 연결   \n",
    "- $ ln -s ~/data/* ~/aiffel/yoochoose/data"
   ]
  },
  {
   "cell_type": "code",
   "execution_count": 3,
   "id": "2c3c9f2a",
   "metadata": {},
   "outputs": [
    {
     "data": {
      "text/html": [
       "<div>\n",
       "<style scoped>\n",
       "    .dataframe tbody tr th:only-of-type {\n",
       "        vertical-align: middle;\n",
       "    }\n",
       "\n",
       "    .dataframe tbody tr th {\n",
       "        vertical-align: top;\n",
       "    }\n",
       "\n",
       "    .dataframe thead th {\n",
       "        text-align: right;\n",
       "    }\n",
       "</style>\n",
       "<table border=\"1\" class=\"dataframe\">\n",
       "  <thead>\n",
       "    <tr style=\"text-align: right;\">\n",
       "      <th></th>\n",
       "      <th>UserId</th>\n",
       "      <th>ItemId</th>\n",
       "      <th>Rating</th>\n",
       "      <th>Time</th>\n",
       "    </tr>\n",
       "  </thead>\n",
       "  <tbody>\n",
       "    <tr>\n",
       "      <th>31</th>\n",
       "      <td>1</td>\n",
       "      <td>3186</td>\n",
       "      <td>4</td>\n",
       "      <td>978300019</td>\n",
       "    </tr>\n",
       "    <tr>\n",
       "      <th>22</th>\n",
       "      <td>1</td>\n",
       "      <td>1270</td>\n",
       "      <td>5</td>\n",
       "      <td>978300055</td>\n",
       "    </tr>\n",
       "    <tr>\n",
       "      <th>27</th>\n",
       "      <td>1</td>\n",
       "      <td>1721</td>\n",
       "      <td>4</td>\n",
       "      <td>978300055</td>\n",
       "    </tr>\n",
       "    <tr>\n",
       "      <th>37</th>\n",
       "      <td>1</td>\n",
       "      <td>1022</td>\n",
       "      <td>5</td>\n",
       "      <td>978300055</td>\n",
       "    </tr>\n",
       "    <tr>\n",
       "      <th>24</th>\n",
       "      <td>1</td>\n",
       "      <td>2340</td>\n",
       "      <td>3</td>\n",
       "      <td>978300103</td>\n",
       "    </tr>\n",
       "    <tr>\n",
       "      <th>...</th>\n",
       "      <td>...</td>\n",
       "      <td>...</td>\n",
       "      <td>...</td>\n",
       "      <td>...</td>\n",
       "    </tr>\n",
       "    <tr>\n",
       "      <th>1000019</th>\n",
       "      <td>6040</td>\n",
       "      <td>2917</td>\n",
       "      <td>4</td>\n",
       "      <td>997454429</td>\n",
       "    </tr>\n",
       "    <tr>\n",
       "      <th>999988</th>\n",
       "      <td>6040</td>\n",
       "      <td>1921</td>\n",
       "      <td>4</td>\n",
       "      <td>997454464</td>\n",
       "    </tr>\n",
       "    <tr>\n",
       "      <th>1000172</th>\n",
       "      <td>6040</td>\n",
       "      <td>1784</td>\n",
       "      <td>3</td>\n",
       "      <td>997454464</td>\n",
       "    </tr>\n",
       "    <tr>\n",
       "      <th>1000167</th>\n",
       "      <td>6040</td>\n",
       "      <td>161</td>\n",
       "      <td>3</td>\n",
       "      <td>997454486</td>\n",
       "    </tr>\n",
       "    <tr>\n",
       "      <th>1000042</th>\n",
       "      <td>6040</td>\n",
       "      <td>1221</td>\n",
       "      <td>4</td>\n",
       "      <td>998315055</td>\n",
       "    </tr>\n",
       "  </tbody>\n",
       "</table>\n",
       "<p>1000209 rows × 4 columns</p>\n",
       "</div>"
      ],
      "text/plain": [
       "         UserId  ItemId  Rating       Time\n",
       "31            1    3186       4  978300019\n",
       "22            1    1270       5  978300055\n",
       "27            1    1721       4  978300055\n",
       "37            1    1022       5  978300055\n",
       "24            1    2340       3  978300103\n",
       "...         ...     ...     ...        ...\n",
       "1000019    6040    2917       4  997454429\n",
       "999988     6040    1921       4  997454464\n",
       "1000172    6040    1784       3  997454464\n",
       "1000167    6040     161       3  997454486\n",
       "1000042    6040    1221       4  998315055\n",
       "\n",
       "[1000209 rows x 4 columns]"
      ]
     },
     "execution_count": 3,
     "metadata": {},
     "output_type": "execute_result"
    }
   ],
   "source": [
    "## 데이터를 불러오자~~~~~\n",
    "\n",
    "data_path = Path(os.getenv('HOME')+'/aiffel/yoochoose/data/') \n",
    "train_path = data_path / 'ratings.dat'\n",
    "\n",
    "def load_data(data_path: Path, nrows=None):\n",
    "    data = pd.read_csv(data_path, sep='::', header=None, usecols=[0, 1, 2, 3], dtype={0: np.int32, 1: np.int32, 2: np.int32}, nrows=nrows)\n",
    "    data.columns = ['UserId', 'ItemId', 'Rating', 'Time']\n",
    "    return data\n",
    "\n",
    "data = load_data(train_path, None)\n",
    "data.sort_values(['UserId', 'Time'], inplace=True)  ## data를 id와 시간 순서로 정렬해준다.\n",
    "data"
   ]
  },
  {
   "cell_type": "markdown",
   "id": "729b744d",
   "metadata": {},
   "source": [
    "## Step 1. 데이터의 전처리   \n",
    "위와 같이 간단히 구성해 본 데이터셋을 꼼꼼히 살펴보면서 항목별 기본 분석, session length, session time, cleaning 등의 작업을 진행합니다.\n",
    "특히, 이 데이터셋에서는 Session이 아닌 UserID 단위로 데이터가 생성되어 있으므로, 이를 Session 단위로 어떻게 해석할지에 주의합니다."
   ]
  },
  {
   "cell_type": "code",
   "execution_count": 4,
   "id": "60d103ed",
   "metadata": {},
   "outputs": [
    {
     "name": "stdout",
     "output_type": "stream",
     "text": [
      "Unique 한 유저의 수 : 6040\n",
      "Unique 한 영화의 수 : 3706\n",
      "Unique 한 시간의 수 : 458455\n"
     ]
    }
   ],
   "source": [
    "## Uniqe 한 유저, 영화, 시간의 수를 확인해보기!\n",
    "\n",
    "print('Unique 한 유저의 수 :',data['UserId'].nunique())\n",
    "print('Unique 한 영화의 수 :',data['ItemId'].nunique()) \n",
    "print('Unique 한 시간의 수 :',data['Time'].nunique())"
   ]
  },
  {
   "cell_type": "code",
   "execution_count": 5,
   "id": "be727c29",
   "metadata": {},
   "outputs": [
    {
     "name": "stdout",
     "output_type": "stream",
     "text": [
      "<class 'pandas.core.frame.DataFrame'>\n",
      "Int64Index: 1000209 entries, 31 to 1000042\n",
      "Data columns (total 4 columns):\n",
      " #   Column  Non-Null Count    Dtype\n",
      "---  ------  --------------    -----\n",
      " 0   UserId  1000209 non-null  int32\n",
      " 1   ItemId  1000209 non-null  int32\n",
      " 2   Rating  1000209 non-null  int32\n",
      " 3   Time    1000209 non-null  int64\n",
      "dtypes: int32(3), int64(1)\n",
      "memory usage: 26.7 MB\n"
     ]
    }
   ],
   "source": [
    "## 그냥 데이터가 어떤 정보를 가지고 있는지 확인해보기\n",
    "\n",
    "data.info()"
   ]
  },
  {
   "cell_type": "markdown",
   "id": "47adee6e",
   "metadata": {},
   "source": [
    "### 1) Session ID 정의"
   ]
  },
  {
   "cell_type": "code",
   "execution_count": 6,
   "id": "c4b17586",
   "metadata": {},
   "outputs": [
    {
     "data": {
      "text/html": [
       "<div>\n",
       "<style scoped>\n",
       "    .dataframe tbody tr th:only-of-type {\n",
       "        vertical-align: middle;\n",
       "    }\n",
       "\n",
       "    .dataframe tbody tr th {\n",
       "        vertical-align: top;\n",
       "    }\n",
       "\n",
       "    .dataframe thead th {\n",
       "        text-align: right;\n",
       "    }\n",
       "</style>\n",
       "<table border=\"1\" class=\"dataframe\">\n",
       "  <thead>\n",
       "    <tr style=\"text-align: right;\">\n",
       "      <th></th>\n",
       "      <th>index</th>\n",
       "      <th>UserId</th>\n",
       "      <th>Time</th>\n",
       "      <th>ItemId</th>\n",
       "    </tr>\n",
       "  </thead>\n",
       "  <tbody>\n",
       "    <tr>\n",
       "      <th>0</th>\n",
       "      <td>0</td>\n",
       "      <td>1</td>\n",
       "      <td>978300019</td>\n",
       "      <td>1</td>\n",
       "    </tr>\n",
       "    <tr>\n",
       "      <th>1</th>\n",
       "      <td>1</td>\n",
       "      <td>1</td>\n",
       "      <td>978300055</td>\n",
       "      <td>3</td>\n",
       "    </tr>\n",
       "    <tr>\n",
       "      <th>2</th>\n",
       "      <td>2</td>\n",
       "      <td>1</td>\n",
       "      <td>978300103</td>\n",
       "      <td>1</td>\n",
       "    </tr>\n",
       "    <tr>\n",
       "      <th>3</th>\n",
       "      <td>3</td>\n",
       "      <td>1</td>\n",
       "      <td>978300172</td>\n",
       "      <td>1</td>\n",
       "    </tr>\n",
       "    <tr>\n",
       "      <th>4</th>\n",
       "      <td>4</td>\n",
       "      <td>1</td>\n",
       "      <td>978300275</td>\n",
       "      <td>1</td>\n",
       "    </tr>\n",
       "    <tr>\n",
       "      <th>...</th>\n",
       "      <td>...</td>\n",
       "      <td>...</td>\n",
       "      <td>...</td>\n",
       "      <td>...</td>\n",
       "    </tr>\n",
       "    <tr>\n",
       "      <th>471158</th>\n",
       "      <td>471158</td>\n",
       "      <td>6040</td>\n",
       "      <td>997454398</td>\n",
       "      <td>1</td>\n",
       "    </tr>\n",
       "    <tr>\n",
       "      <th>471159</th>\n",
       "      <td>471159</td>\n",
       "      <td>6040</td>\n",
       "      <td>997454429</td>\n",
       "      <td>1</td>\n",
       "    </tr>\n",
       "    <tr>\n",
       "      <th>471160</th>\n",
       "      <td>471160</td>\n",
       "      <td>6040</td>\n",
       "      <td>997454464</td>\n",
       "      <td>2</td>\n",
       "    </tr>\n",
       "    <tr>\n",
       "      <th>471161</th>\n",
       "      <td>471161</td>\n",
       "      <td>6040</td>\n",
       "      <td>997454486</td>\n",
       "      <td>1</td>\n",
       "    </tr>\n",
       "    <tr>\n",
       "      <th>471162</th>\n",
       "      <td>471162</td>\n",
       "      <td>6040</td>\n",
       "      <td>998315055</td>\n",
       "      <td>1</td>\n",
       "    </tr>\n",
       "  </tbody>\n",
       "</table>\n",
       "<p>471163 rows × 4 columns</p>\n",
       "</div>"
      ],
      "text/plain": [
       "         index  UserId       Time  ItemId\n",
       "0            0       1  978300019       1\n",
       "1            1       1  978300055       3\n",
       "2            2       1  978300103       1\n",
       "3            3       1  978300172       1\n",
       "4            4       1  978300275       1\n",
       "...        ...     ...        ...     ...\n",
       "471158  471158    6040  997454398       1\n",
       "471159  471159    6040  997454429       1\n",
       "471160  471160    6040  997454464       2\n",
       "471161  471161    6040  997454486       1\n",
       "471162  471162    6040  998315055       1\n",
       "\n",
       "[471163 rows x 4 columns]"
      ]
     },
     "execution_count": 6,
     "metadata": {},
     "output_type": "execute_result"
    }
   ],
   "source": [
    "## UserId와 Time을 기준으로 새로운 데이터프레임 생성\n",
    "\n",
    "df = data.groupby(['UserId', 'Time'])['ItemId'].count().reset_index()\n",
    "df.reset_index(inplace=True)\n",
    "df"
   ]
  },
  {
   "cell_type": "code",
   "execution_count": 7,
   "id": "98c8889e",
   "metadata": {
    "scrolled": false
   },
   "outputs": [
    {
     "data": {
      "text/html": [
       "<div>\n",
       "<style scoped>\n",
       "    .dataframe tbody tr th:only-of-type {\n",
       "        vertical-align: middle;\n",
       "    }\n",
       "\n",
       "    .dataframe tbody tr th {\n",
       "        vertical-align: top;\n",
       "    }\n",
       "\n",
       "    .dataframe thead th {\n",
       "        text-align: right;\n",
       "    }\n",
       "</style>\n",
       "<table border=\"1\" class=\"dataframe\">\n",
       "  <thead>\n",
       "    <tr style=\"text-align: right;\">\n",
       "      <th></th>\n",
       "      <th>UserId</th>\n",
       "      <th>ItemId</th>\n",
       "      <th>Rating</th>\n",
       "      <th>Time</th>\n",
       "      <th>SessionId</th>\n",
       "    </tr>\n",
       "  </thead>\n",
       "  <tbody>\n",
       "    <tr>\n",
       "      <th>0</th>\n",
       "      <td>1</td>\n",
       "      <td>3186</td>\n",
       "      <td>4</td>\n",
       "      <td>978300019</td>\n",
       "      <td>0</td>\n",
       "    </tr>\n",
       "    <tr>\n",
       "      <th>1</th>\n",
       "      <td>1</td>\n",
       "      <td>1270</td>\n",
       "      <td>5</td>\n",
       "      <td>978300055</td>\n",
       "      <td>1</td>\n",
       "    </tr>\n",
       "    <tr>\n",
       "      <th>2</th>\n",
       "      <td>1</td>\n",
       "      <td>1721</td>\n",
       "      <td>4</td>\n",
       "      <td>978300055</td>\n",
       "      <td>1</td>\n",
       "    </tr>\n",
       "    <tr>\n",
       "      <th>3</th>\n",
       "      <td>1</td>\n",
       "      <td>1022</td>\n",
       "      <td>5</td>\n",
       "      <td>978300055</td>\n",
       "      <td>1</td>\n",
       "    </tr>\n",
       "    <tr>\n",
       "      <th>4</th>\n",
       "      <td>1</td>\n",
       "      <td>2340</td>\n",
       "      <td>3</td>\n",
       "      <td>978300103</td>\n",
       "      <td>2</td>\n",
       "    </tr>\n",
       "    <tr>\n",
       "      <th>...</th>\n",
       "      <td>...</td>\n",
       "      <td>...</td>\n",
       "      <td>...</td>\n",
       "      <td>...</td>\n",
       "      <td>...</td>\n",
       "    </tr>\n",
       "    <tr>\n",
       "      <th>1000204</th>\n",
       "      <td>6040</td>\n",
       "      <td>2917</td>\n",
       "      <td>4</td>\n",
       "      <td>997454429</td>\n",
       "      <td>471159</td>\n",
       "    </tr>\n",
       "    <tr>\n",
       "      <th>1000205</th>\n",
       "      <td>6040</td>\n",
       "      <td>1921</td>\n",
       "      <td>4</td>\n",
       "      <td>997454464</td>\n",
       "      <td>471160</td>\n",
       "    </tr>\n",
       "    <tr>\n",
       "      <th>1000206</th>\n",
       "      <td>6040</td>\n",
       "      <td>1784</td>\n",
       "      <td>3</td>\n",
       "      <td>997454464</td>\n",
       "      <td>471160</td>\n",
       "    </tr>\n",
       "    <tr>\n",
       "      <th>1000207</th>\n",
       "      <td>6040</td>\n",
       "      <td>161</td>\n",
       "      <td>3</td>\n",
       "      <td>997454486</td>\n",
       "      <td>471161</td>\n",
       "    </tr>\n",
       "    <tr>\n",
       "      <th>1000208</th>\n",
       "      <td>6040</td>\n",
       "      <td>1221</td>\n",
       "      <td>4</td>\n",
       "      <td>998315055</td>\n",
       "      <td>471162</td>\n",
       "    </tr>\n",
       "  </tbody>\n",
       "</table>\n",
       "<p>1000209 rows × 5 columns</p>\n",
       "</div>"
      ],
      "text/plain": [
       "         UserId  ItemId  Rating       Time  SessionId\n",
       "0             1    3186       4  978300019          0\n",
       "1             1    1270       5  978300055          1\n",
       "2             1    1721       4  978300055          1\n",
       "3             1    1022       5  978300055          1\n",
       "4             1    2340       3  978300103          2\n",
       "...         ...     ...     ...        ...        ...\n",
       "1000204    6040    2917       4  997454429     471159\n",
       "1000205    6040    1921       4  997454464     471160\n",
       "1000206    6040    1784       3  997454464     471160\n",
       "1000207    6040     161       3  997454486     471161\n",
       "1000208    6040    1221       4  998315055     471162\n",
       "\n",
       "[1000209 rows x 5 columns]"
      ]
     },
     "execution_count": 7,
     "metadata": {},
     "output_type": "execute_result"
    }
   ],
   "source": [
    "## SessionId 컬럼 추가\n",
    "\n",
    "data = pd.merge(data, df, on=['UserId', 'Time'])\n",
    "data.drop(columns='ItemId_y', inplace=True)\n",
    "data.columns = ['UserId', 'ItemId', 'Rating', 'Time', 'SessionId']\n",
    "data"
   ]
  },
  {
   "cell_type": "markdown",
   "id": "8fbb53fd",
   "metadata": {},
   "source": [
    "### 2) Session Length    \n",
    "각 세션이 대략 몇 개의 클릭 데이터를 갖는지도 살펴보자!!!"
   ]
  },
  {
   "cell_type": "code",
   "execution_count": 8,
   "id": "36324fff",
   "metadata": {
    "scrolled": true
   },
   "outputs": [
    {
     "data": {
      "text/plain": [
       "SessionId\n",
       "0         1\n",
       "1         3\n",
       "2         1\n",
       "3         1\n",
       "4         1\n",
       "         ..\n",
       "471158    1\n",
       "471159    1\n",
       "471160    2\n",
       "471161    1\n",
       "471162    1\n",
       "Length: 471163, dtype: int64"
      ]
     },
     "execution_count": 8,
     "metadata": {},
     "output_type": "execute_result"
    }
   ],
   "source": [
    "## session_length 란 SessionId를 공유하는 데이터 row의 개수를 의미한다.\n",
    "\n",
    "session_length = data.groupby('SessionId').size()\n",
    "session_length"
   ]
  },
  {
   "cell_type": "markdown",
   "id": "44856e32",
   "metadata": {},
   "source": [
    "session_lenght 란 해당 세션의 사용자가 그 세션 동안 몇 번의 액션을 취해쓴지 ( 몇 개의 상품정보를 클릭했는지) 의 의미가 된다."
   ]
  },
  {
   "cell_type": "code",
   "execution_count": 9,
   "id": "5932ba30",
   "metadata": {},
   "outputs": [
    {
     "data": {
      "text/plain": [
       "(2.0, 2.1228513274599234)"
      ]
     },
     "execution_count": 9,
     "metadata": {},
     "output_type": "execute_result"
    }
   ],
   "source": [
    "## 중간값\n",
    "\n",
    "session_length.median(), session_length.mean()"
   ]
  },
  {
   "cell_type": "code",
   "execution_count": 10,
   "id": "1a47e436",
   "metadata": {},
   "outputs": [
    {
     "data": {
      "text/plain": [
       "(1, 30)"
      ]
     },
     "execution_count": 10,
     "metadata": {},
     "output_type": "execute_result"
    }
   ],
   "source": [
    "## 최솟값, 최댓값\n",
    "\n",
    "session_length.min(), session_length.max()"
   ]
  },
  {
   "cell_type": "code",
   "execution_count": 11,
   "id": "4db6a2ee",
   "metadata": {
    "scrolled": true
   },
   "outputs": [
    {
     "data": {
      "text/plain": [
       "10.0"
      ]
     },
     "execution_count": 11,
     "metadata": {},
     "output_type": "execute_result"
    }
   ],
   "source": [
    "## 99.9 백분위수 (99.9%)\n",
    "\n",
    "session_length.quantile(0.999)"
   ]
  },
  {
   "cell_type": "code",
   "execution_count": 12,
   "id": "e0931a9b",
   "metadata": {},
   "outputs": [
    {
     "data": {
      "text/plain": [
       "1     226181\n",
       "2     110199\n",
       "3      62860\n",
       "4      34081\n",
       "5      18354\n",
       "6       9656\n",
       "7       5013\n",
       "8       2458\n",
       "9       1232\n",
       "10       661\n",
       "11       106\n",
       "12        83\n",
       "13        85\n",
       "14        48\n",
       "15        38\n",
       "16        29\n",
       "17        16\n",
       "18        13\n",
       "19         9\n",
       "20        14\n",
       "21         6\n",
       "22         7\n",
       "23         5\n",
       "25         2\n",
       "26         2\n",
       "27         2\n",
       "28         2\n",
       "30         1\n",
       "dtype: int64"
      ]
     },
     "execution_count": 12,
     "metadata": {},
     "output_type": "execute_result"
    }
   ],
   "source": [
    "length_count = session_length.groupby(session_length).size()\n",
    "length_count"
   ]
  },
  {
   "cell_type": "code",
   "execution_count": 13,
   "id": "e448e3a1",
   "metadata": {
    "scrolled": false
   },
   "outputs": [
    {
     "data": {
      "text/html": [
       "<div>\n",
       "<style scoped>\n",
       "    .dataframe tbody tr th:only-of-type {\n",
       "        vertical-align: middle;\n",
       "    }\n",
       "\n",
       "    .dataframe tbody tr th {\n",
       "        vertical-align: top;\n",
       "    }\n",
       "\n",
       "    .dataframe thead th {\n",
       "        text-align: right;\n",
       "    }\n",
       "</style>\n",
       "<table border=\"1\" class=\"dataframe\">\n",
       "  <thead>\n",
       "    <tr style=\"text-align: right;\">\n",
       "      <th></th>\n",
       "      <th>UserId</th>\n",
       "      <th>ItemId</th>\n",
       "      <th>Rating</th>\n",
       "      <th>Time</th>\n",
       "      <th>SessionId</th>\n",
       "    </tr>\n",
       "  </thead>\n",
       "  <tbody>\n",
       "    <tr>\n",
       "      <th>112347</th>\n",
       "      <td>731</td>\n",
       "      <td>3044</td>\n",
       "      <td>4</td>\n",
       "      <td>975528402</td>\n",
       "      <td>55117</td>\n",
       "    </tr>\n",
       "    <tr>\n",
       "      <th>112348</th>\n",
       "      <td>731</td>\n",
       "      <td>1455</td>\n",
       "      <td>3</td>\n",
       "      <td>975528402</td>\n",
       "      <td>55117</td>\n",
       "    </tr>\n",
       "    <tr>\n",
       "      <th>112349</th>\n",
       "      <td>731</td>\n",
       "      <td>1639</td>\n",
       "      <td>5</td>\n",
       "      <td>975528402</td>\n",
       "      <td>55117</td>\n",
       "    </tr>\n",
       "    <tr>\n",
       "      <th>112350</th>\n",
       "      <td>731</td>\n",
       "      <td>3244</td>\n",
       "      <td>4</td>\n",
       "      <td>975528402</td>\n",
       "      <td>55117</td>\n",
       "    </tr>\n",
       "    <tr>\n",
       "      <th>112351</th>\n",
       "      <td>731</td>\n",
       "      <td>1656</td>\n",
       "      <td>2</td>\n",
       "      <td>975528402</td>\n",
       "      <td>55117</td>\n",
       "    </tr>\n",
       "    <tr>\n",
       "      <th>112352</th>\n",
       "      <td>731</td>\n",
       "      <td>3426</td>\n",
       "      <td>4</td>\n",
       "      <td>975528402</td>\n",
       "      <td>55117</td>\n",
       "    </tr>\n",
       "    <tr>\n",
       "      <th>112353</th>\n",
       "      <td>731</td>\n",
       "      <td>1829</td>\n",
       "      <td>2</td>\n",
       "      <td>975528402</td>\n",
       "      <td>55117</td>\n",
       "    </tr>\n",
       "    <tr>\n",
       "      <th>112354</th>\n",
       "      <td>731</td>\n",
       "      <td>2675</td>\n",
       "      <td>4</td>\n",
       "      <td>975528402</td>\n",
       "      <td>55117</td>\n",
       "    </tr>\n",
       "    <tr>\n",
       "      <th>112355</th>\n",
       "      <td>731</td>\n",
       "      <td>802</td>\n",
       "      <td>3</td>\n",
       "      <td>975528402</td>\n",
       "      <td>55117</td>\n",
       "    </tr>\n",
       "    <tr>\n",
       "      <th>112356</th>\n",
       "      <td>731</td>\n",
       "      <td>803</td>\n",
       "      <td>5</td>\n",
       "      <td>975528402</td>\n",
       "      <td>55117</td>\n",
       "    </tr>\n",
       "    <tr>\n",
       "      <th>112357</th>\n",
       "      <td>731</td>\n",
       "      <td>1357</td>\n",
       "      <td>4</td>\n",
       "      <td>975528402</td>\n",
       "      <td>55117</td>\n",
       "    </tr>\n",
       "    <tr>\n",
       "      <th>112358</th>\n",
       "      <td>731</td>\n",
       "      <td>838</td>\n",
       "      <td>5</td>\n",
       "      <td>975528402</td>\n",
       "      <td>55117</td>\n",
       "    </tr>\n",
       "    <tr>\n",
       "      <th>112359</th>\n",
       "      <td>731</td>\n",
       "      <td>2171</td>\n",
       "      <td>4</td>\n",
       "      <td>975528402</td>\n",
       "      <td>55117</td>\n",
       "    </tr>\n",
       "    <tr>\n",
       "      <th>112360</th>\n",
       "      <td>731</td>\n",
       "      <td>852</td>\n",
       "      <td>2</td>\n",
       "      <td>975528402</td>\n",
       "      <td>55117</td>\n",
       "    </tr>\n",
       "    <tr>\n",
       "      <th>112361</th>\n",
       "      <td>731</td>\n",
       "      <td>2331</td>\n",
       "      <td>4</td>\n",
       "      <td>975528402</td>\n",
       "      <td>55117</td>\n",
       "    </tr>\n",
       "    <tr>\n",
       "      <th>112362</th>\n",
       "      <td>731</td>\n",
       "      <td>1535</td>\n",
       "      <td>3</td>\n",
       "      <td>975528402</td>\n",
       "      <td>55117</td>\n",
       "    </tr>\n",
       "    <tr>\n",
       "      <th>112363</th>\n",
       "      <td>731</td>\n",
       "      <td>1393</td>\n",
       "      <td>2</td>\n",
       "      <td>975528402</td>\n",
       "      <td>55117</td>\n",
       "    </tr>\n",
       "    <tr>\n",
       "      <th>112364</th>\n",
       "      <td>731</td>\n",
       "      <td>1564</td>\n",
       "      <td>4</td>\n",
       "      <td>975528402</td>\n",
       "      <td>55117</td>\n",
       "    </tr>\n",
       "    <tr>\n",
       "      <th>112365</th>\n",
       "      <td>731</td>\n",
       "      <td>892</td>\n",
       "      <td>5</td>\n",
       "      <td>975528402</td>\n",
       "      <td>55117</td>\n",
       "    </tr>\n",
       "    <tr>\n",
       "      <th>112366</th>\n",
       "      <td>731</td>\n",
       "      <td>151</td>\n",
       "      <td>3</td>\n",
       "      <td>975528402</td>\n",
       "      <td>55117</td>\n",
       "    </tr>\n",
       "    <tr>\n",
       "      <th>112367</th>\n",
       "      <td>731</td>\n",
       "      <td>2715</td>\n",
       "      <td>2</td>\n",
       "      <td>975528402</td>\n",
       "      <td>55117</td>\n",
       "    </tr>\n",
       "    <tr>\n",
       "      <th>112368</th>\n",
       "      <td>731</td>\n",
       "      <td>2570</td>\n",
       "      <td>2</td>\n",
       "      <td>975528402</td>\n",
       "      <td>55117</td>\n",
       "    </tr>\n",
       "    <tr>\n",
       "      <th>112369</th>\n",
       "      <td>731</td>\n",
       "      <td>39</td>\n",
       "      <td>5</td>\n",
       "      <td>975528402</td>\n",
       "      <td>55117</td>\n",
       "    </tr>\n",
       "    <tr>\n",
       "      <th>112370</th>\n",
       "      <td>731</td>\n",
       "      <td>2919</td>\n",
       "      <td>4</td>\n",
       "      <td>975528402</td>\n",
       "      <td>55117</td>\n",
       "    </tr>\n",
       "    <tr>\n",
       "      <th>112371</th>\n",
       "      <td>731</td>\n",
       "      <td>49</td>\n",
       "      <td>4</td>\n",
       "      <td>975528402</td>\n",
       "      <td>55117</td>\n",
       "    </tr>\n",
       "    <tr>\n",
       "      <th>112372</th>\n",
       "      <td>731</td>\n",
       "      <td>58</td>\n",
       "      <td>4</td>\n",
       "      <td>975528402</td>\n",
       "      <td>55117</td>\n",
       "    </tr>\n",
       "    <tr>\n",
       "      <th>112373</th>\n",
       "      <td>731</td>\n",
       "      <td>1210</td>\n",
       "      <td>3</td>\n",
       "      <td>975528402</td>\n",
       "      <td>55117</td>\n",
       "    </tr>\n",
       "    <tr>\n",
       "      <th>112374</th>\n",
       "      <td>731</td>\n",
       "      <td>85</td>\n",
       "      <td>4</td>\n",
       "      <td>975528402</td>\n",
       "      <td>55117</td>\n",
       "    </tr>\n",
       "    <tr>\n",
       "      <th>112375</th>\n",
       "      <td>731</td>\n",
       "      <td>2969</td>\n",
       "      <td>4</td>\n",
       "      <td>975528402</td>\n",
       "      <td>55117</td>\n",
       "    </tr>\n",
       "    <tr>\n",
       "      <th>112376</th>\n",
       "      <td>731</td>\n",
       "      <td>1244</td>\n",
       "      <td>5</td>\n",
       "      <td>975528402</td>\n",
       "      <td>55117</td>\n",
       "    </tr>\n",
       "  </tbody>\n",
       "</table>\n",
       "</div>"
      ],
      "text/plain": [
       "        UserId  ItemId  Rating       Time  SessionId\n",
       "112347     731    3044       4  975528402      55117\n",
       "112348     731    1455       3  975528402      55117\n",
       "112349     731    1639       5  975528402      55117\n",
       "112350     731    3244       4  975528402      55117\n",
       "112351     731    1656       2  975528402      55117\n",
       "112352     731    3426       4  975528402      55117\n",
       "112353     731    1829       2  975528402      55117\n",
       "112354     731    2675       4  975528402      55117\n",
       "112355     731     802       3  975528402      55117\n",
       "112356     731     803       5  975528402      55117\n",
       "112357     731    1357       4  975528402      55117\n",
       "112358     731     838       5  975528402      55117\n",
       "112359     731    2171       4  975528402      55117\n",
       "112360     731     852       2  975528402      55117\n",
       "112361     731    2331       4  975528402      55117\n",
       "112362     731    1535       3  975528402      55117\n",
       "112363     731    1393       2  975528402      55117\n",
       "112364     731    1564       4  975528402      55117\n",
       "112365     731     892       5  975528402      55117\n",
       "112366     731     151       3  975528402      55117\n",
       "112367     731    2715       2  975528402      55117\n",
       "112368     731    2570       2  975528402      55117\n",
       "112369     731      39       5  975528402      55117\n",
       "112370     731    2919       4  975528402      55117\n",
       "112371     731      49       4  975528402      55117\n",
       "112372     731      58       4  975528402      55117\n",
       "112373     731    1210       3  975528402      55117\n",
       "112374     731      85       4  975528402      55117\n",
       "112375     731    2969       4  975528402      55117\n",
       "112376     731    1244       5  975528402      55117"
      ]
     },
     "execution_count": 13,
     "metadata": {},
     "output_type": "execute_result"
    }
   ],
   "source": [
    "long_session = session_length[session_length==30].index[0]\n",
    "data[data['SessionId']==long_session]"
   ]
  },
  {
   "cell_type": "code",
   "execution_count": 14,
   "id": "0c3d282f",
   "metadata": {},
   "outputs": [
    {
     "data": {
      "text/plain": [
       "1    0.480048\n",
       "2    0.713936\n",
       "3    0.847350\n",
       "4    0.919684\n",
       "5    0.958639\n",
       "6    0.979132\n",
       "7    0.989772\n",
       "8    0.994989\n",
       "9    0.997604\n",
       "dtype: float64"
      ]
     },
     "execution_count": 14,
     "metadata": {},
     "output_type": "execute_result"
    }
   ],
   "source": [
    "## 분포 누적합\n",
    "\n",
    "length_count = session_length.groupby(session_length).size()\n",
    "length_percent_cumsum = length_count.cumsum() / length_count.sum()\n",
    "length_percent_cumsum_999 = length_percent_cumsum[length_percent_cumsum < 0.999]\n",
    "\n",
    "length_percent_cumsum_999"
   ]
  },
  {
   "cell_type": "code",
   "execution_count": 15,
   "id": "ce7ab241",
   "metadata": {
    "scrolled": false
   },
   "outputs": [
    {
     "data": {
      "image/png": "[encoded data removed]",
      "text/plain": [
       "<Figure size 720x360 with 1 Axes>"
      ]
     },
     "metadata": {
      "needs_background": "light"
     },
     "output_type": "display_data"
    }
   ],
   "source": [
    "## 전체 분포 누적합 시각화\n",
    "\n",
    "import matplotlib.pyplot as plt\n",
    "\n",
    "plt.figure(figsize=(10, 5))\n",
    "plt.bar(x=length_percent_cumsum.index,\n",
    "        height=length_percent_cumsum, color='purple')    ## 보라색으로~~~~~~\n",
    "plt.xticks(length_percent_cumsum.index)\n",
    "plt.yticks(np.arange(0, 1.01, 0.05))\n",
    "plt.title('Cumsum Percentage (Entire)', size=20)\n",
    "plt.show()"
   ]
  },
  {
   "cell_type": "markdown",
   "id": "64028830",
   "metadata": {},
   "source": [
    "### 3) Session Time (세션단위 정의 과정 : 시간 분석)"
   ]
  },
  {
   "cell_type": "code",
   "execution_count": 16,
   "id": "3ecdd7f3",
   "metadata": {},
   "outputs": [
    {
     "name": "stdout",
     "output_type": "stream",
     "text": [
      "956703932\n",
      "1046454590\n"
     ]
    }
   ],
   "source": [
    "## 우리가 다루려는 데이터의 시간 관련 정보를 확인해보자!\n",
    "## Time 데이터의 초단위의 최솟값, 최댓값\n",
    "\n",
    "oldest, latest = data['Time'].min(), data['Time'].max()\n",
    "print(oldest) \n",
    "print(latest)"
   ]
  },
  {
   "cell_type": "code",
   "execution_count": 17,
   "id": "be4c9edd",
   "metadata": {
    "scrolled": true
   },
   "outputs": [
    {
     "data": {
      "text/plain": [
       "numpy.int64"
      ]
     },
     "execution_count": 17,
     "metadata": {},
     "output_type": "execute_result"
    }
   ],
   "source": [
    "type(latest)"
   ]
  },
  {
   "cell_type": "markdown",
   "id": "47153bcb",
   "metadata": {},
   "source": [
    "latest의 type 을 확인해보니까 latest 는 Timestamp 객체이기 때문에 int 객체와의 사칙연산을 지원하지 않는다."
   ]
  },
  {
   "cell_type": "code",
   "execution_count": 18,
   "id": "49c29991",
   "metadata": {},
   "outputs": [
    {
     "data": {
      "text/html": [
       "<div>\n",
       "<style scoped>\n",
       "    .dataframe tbody tr th:only-of-type {\n",
       "        vertical-align: middle;\n",
       "    }\n",
       "\n",
       "    .dataframe tbody tr th {\n",
       "        vertical-align: top;\n",
       "    }\n",
       "\n",
       "    .dataframe thead th {\n",
       "        text-align: right;\n",
       "    }\n",
       "</style>\n",
       "<table border=\"1\" class=\"dataframe\">\n",
       "  <thead>\n",
       "    <tr style=\"text-align: right;\">\n",
       "      <th></th>\n",
       "      <th>UserId</th>\n",
       "      <th>ItemId</th>\n",
       "      <th>Rating</th>\n",
       "      <th>Time</th>\n",
       "      <th>SessionId</th>\n",
       "    </tr>\n",
       "  </thead>\n",
       "  <tbody>\n",
       "    <tr>\n",
       "      <th>0</th>\n",
       "      <td>1</td>\n",
       "      <td>3186</td>\n",
       "      <td>4</td>\n",
       "      <td>978300019</td>\n",
       "      <td>0</td>\n",
       "    </tr>\n",
       "    <tr>\n",
       "      <th>1</th>\n",
       "      <td>1</td>\n",
       "      <td>1270</td>\n",
       "      <td>5</td>\n",
       "      <td>978300055</td>\n",
       "      <td>1</td>\n",
       "    </tr>\n",
       "    <tr>\n",
       "      <th>2</th>\n",
       "      <td>1</td>\n",
       "      <td>1721</td>\n",
       "      <td>4</td>\n",
       "      <td>978300055</td>\n",
       "      <td>1</td>\n",
       "    </tr>\n",
       "    <tr>\n",
       "      <th>3</th>\n",
       "      <td>1</td>\n",
       "      <td>1022</td>\n",
       "      <td>5</td>\n",
       "      <td>978300055</td>\n",
       "      <td>1</td>\n",
       "    </tr>\n",
       "    <tr>\n",
       "      <th>4</th>\n",
       "      <td>1</td>\n",
       "      <td>2340</td>\n",
       "      <td>3</td>\n",
       "      <td>978300103</td>\n",
       "      <td>2</td>\n",
       "    </tr>\n",
       "    <tr>\n",
       "      <th>...</th>\n",
       "      <td>...</td>\n",
       "      <td>...</td>\n",
       "      <td>...</td>\n",
       "      <td>...</td>\n",
       "      <td>...</td>\n",
       "    </tr>\n",
       "    <tr>\n",
       "      <th>1000204</th>\n",
       "      <td>6040</td>\n",
       "      <td>2917</td>\n",
       "      <td>4</td>\n",
       "      <td>997454429</td>\n",
       "      <td>471159</td>\n",
       "    </tr>\n",
       "    <tr>\n",
       "      <th>1000205</th>\n",
       "      <td>6040</td>\n",
       "      <td>1921</td>\n",
       "      <td>4</td>\n",
       "      <td>997454464</td>\n",
       "      <td>471160</td>\n",
       "    </tr>\n",
       "    <tr>\n",
       "      <th>1000206</th>\n",
       "      <td>6040</td>\n",
       "      <td>1784</td>\n",
       "      <td>3</td>\n",
       "      <td>997454464</td>\n",
       "      <td>471160</td>\n",
       "    </tr>\n",
       "    <tr>\n",
       "      <th>1000207</th>\n",
       "      <td>6040</td>\n",
       "      <td>161</td>\n",
       "      <td>3</td>\n",
       "      <td>997454486</td>\n",
       "      <td>471161</td>\n",
       "    </tr>\n",
       "    <tr>\n",
       "      <th>1000208</th>\n",
       "      <td>6040</td>\n",
       "      <td>1221</td>\n",
       "      <td>4</td>\n",
       "      <td>998315055</td>\n",
       "      <td>471162</td>\n",
       "    </tr>\n",
       "  </tbody>\n",
       "</table>\n",
       "<p>1000209 rows × 5 columns</p>\n",
       "</div>"
      ],
      "text/plain": [
       "         UserId  ItemId  Rating       Time  SessionId\n",
       "0             1    3186       4  978300019          0\n",
       "1             1    1270       5  978300055          1\n",
       "2             1    1721       4  978300055          1\n",
       "3             1    1022       5  978300055          1\n",
       "4             1    2340       3  978300103          2\n",
       "...         ...     ...     ...        ...        ...\n",
       "1000204    6040    2917       4  997454429     471159\n",
       "1000205    6040    1921       4  997454464     471160\n",
       "1000206    6040    1784       3  997454464     471160\n",
       "1000207    6040     161       3  997454486     471161\n",
       "1000208    6040    1221       4  998315055     471162\n",
       "\n",
       "[1000209 rows x 5 columns]"
      ]
     },
     "execution_count": 18,
     "metadata": {},
     "output_type": "execute_result"
    }
   ],
   "source": [
    "years_ago = latest - (86400*365*3)   ## 최종 날짜로부터 3년 이전 날짜를 구한다.  \n",
    "data = data[data['Time'] > years_ago]   ## 방금 구한 날짜 이후의 데이터만 모은다. \n",
    "data"
   ]
  },
  {
   "cell_type": "markdown",
   "id": "63b85523",
   "metadata": {},
   "source": [
    "### 4) Data Cleansing"
   ]
  },
  {
   "cell_type": "code",
   "execution_count": 19,
   "id": "4931dd8e",
   "metadata": {},
   "outputs": [],
   "source": [
    "## short_session을 제거한 다음 unpopular item을 제거하면 다시 길이가 1인 session이 생길 수 있다.\n",
    "## 이를 위해 반복문을 통해 지속적으로 제거 한다.\n",
    "def cleanse_recursive(data: pd.DataFrame, shortest, least_click) -> pd.DataFrame:\n",
    "    while True:\n",
    "        before_len = len(data)\n",
    "        data = cleanse_short_session(data, shortest)\n",
    "        data = cleanse_unpopular_item(data, least_click)\n",
    "        after_len = len(data)\n",
    "        if before_len == after_len:\n",
    "            break\n",
    "    return data\n",
    "\n",
    "\n",
    "def cleanse_short_session(data: pd.DataFrame, shortest):\n",
    "    session_len = data.groupby('SessionId').size()\n",
    "    session_use = session_len[session_len >= shortest].index\n",
    "    data = data[data['SessionId'].isin(session_use)]\n",
    "    return data\n",
    "\n",
    "\n",
    "def cleanse_unpopular_item(data: pd.DataFrame, least_click):\n",
    "    item_popular = data.groupby('ItemId').size()\n",
    "    item_use = item_popular[item_popular >= least_click].index\n",
    "    data = data[data['ItemId'].isin(item_use)]\n",
    "    return data"
   ]
  },
  {
   "cell_type": "code",
   "execution_count": 20,
   "id": "0b6e1d13",
   "metadata": {},
   "outputs": [
    {
     "data": {
      "text/html": [
       "<div>\n",
       "<style scoped>\n",
       "    .dataframe tbody tr th:only-of-type {\n",
       "        vertical-align: middle;\n",
       "    }\n",
       "\n",
       "    .dataframe tbody tr th {\n",
       "        vertical-align: top;\n",
       "    }\n",
       "\n",
       "    .dataframe thead th {\n",
       "        text-align: right;\n",
       "    }\n",
       "</style>\n",
       "<table border=\"1\" class=\"dataframe\">\n",
       "  <thead>\n",
       "    <tr style=\"text-align: right;\">\n",
       "      <th></th>\n",
       "      <th>SessionId</th>\n",
       "      <th>UserId</th>\n",
       "      <th>Time</th>\n",
       "      <th>ItemId</th>\n",
       "      <th>Rating</th>\n",
       "    </tr>\n",
       "  </thead>\n",
       "  <tbody>\n",
       "    <tr>\n",
       "      <th>0</th>\n",
       "      <td>0</td>\n",
       "      <td>1</td>\n",
       "      <td>978300019</td>\n",
       "      <td>3186</td>\n",
       "      <td>4</td>\n",
       "    </tr>\n",
       "    <tr>\n",
       "      <th>1</th>\n",
       "      <td>1</td>\n",
       "      <td>1</td>\n",
       "      <td>978300055</td>\n",
       "      <td>1270</td>\n",
       "      <td>5</td>\n",
       "    </tr>\n",
       "    <tr>\n",
       "      <th>2</th>\n",
       "      <td>1</td>\n",
       "      <td>1</td>\n",
       "      <td>978300055</td>\n",
       "      <td>1721</td>\n",
       "      <td>4</td>\n",
       "    </tr>\n",
       "    <tr>\n",
       "      <th>3</th>\n",
       "      <td>1</td>\n",
       "      <td>1</td>\n",
       "      <td>978300055</td>\n",
       "      <td>1022</td>\n",
       "      <td>5</td>\n",
       "    </tr>\n",
       "    <tr>\n",
       "      <th>4</th>\n",
       "      <td>2</td>\n",
       "      <td>1</td>\n",
       "      <td>978300103</td>\n",
       "      <td>2340</td>\n",
       "      <td>3</td>\n",
       "    </tr>\n",
       "    <tr>\n",
       "      <th>...</th>\n",
       "      <td>...</td>\n",
       "      <td>...</td>\n",
       "      <td>...</td>\n",
       "      <td>...</td>\n",
       "      <td>...</td>\n",
       "    </tr>\n",
       "    <tr>\n",
       "      <th>1000204</th>\n",
       "      <td>471159</td>\n",
       "      <td>6040</td>\n",
       "      <td>997454429</td>\n",
       "      <td>2917</td>\n",
       "      <td>4</td>\n",
       "    </tr>\n",
       "    <tr>\n",
       "      <th>1000205</th>\n",
       "      <td>471160</td>\n",
       "      <td>6040</td>\n",
       "      <td>997454464</td>\n",
       "      <td>1921</td>\n",
       "      <td>4</td>\n",
       "    </tr>\n",
       "    <tr>\n",
       "      <th>1000206</th>\n",
       "      <td>471160</td>\n",
       "      <td>6040</td>\n",
       "      <td>997454464</td>\n",
       "      <td>1784</td>\n",
       "      <td>3</td>\n",
       "    </tr>\n",
       "    <tr>\n",
       "      <th>1000207</th>\n",
       "      <td>471161</td>\n",
       "      <td>6040</td>\n",
       "      <td>997454486</td>\n",
       "      <td>161</td>\n",
       "      <td>3</td>\n",
       "    </tr>\n",
       "    <tr>\n",
       "      <th>1000208</th>\n",
       "      <td>471162</td>\n",
       "      <td>6040</td>\n",
       "      <td>998315055</td>\n",
       "      <td>1221</td>\n",
       "      <td>4</td>\n",
       "    </tr>\n",
       "  </tbody>\n",
       "</table>\n",
       "<p>836478 rows × 5 columns</p>\n",
       "</div>"
      ],
      "text/plain": [
       "         SessionId  UserId       Time  ItemId  Rating\n",
       "0                0       1  978300019    3186       4\n",
       "1                1       1  978300055    1270       5\n",
       "2                1       1  978300055    1721       4\n",
       "3                1       1  978300055    1022       5\n",
       "4                2       1  978300103    2340       3\n",
       "...            ...     ...        ...     ...     ...\n",
       "1000204     471159    6040  997454429    2917       4\n",
       "1000205     471160    6040  997454464    1921       4\n",
       "1000206     471160    6040  997454464    1784       3\n",
       "1000207     471161    6040  997454486     161       3\n",
       "1000208     471162    6040  998315055    1221       4\n",
       "\n",
       "[836478 rows x 5 columns]"
      ]
     },
     "execution_count": 20,
     "metadata": {},
     "output_type": "execute_result"
    }
   ],
   "source": [
    "## 평점 3점 이상만 살린다.\n",
    "\n",
    "data = data[data['Rating'] >= 3]\n",
    "data = data[['SessionId', 'UserId', 'Time', 'ItemId', 'Rating']]\n",
    "data"
   ]
  },
  {
   "cell_type": "markdown",
   "id": "377e09be",
   "metadata": {},
   "source": [
    "### 5) Train / Valid / Test split   \n",
    "훈련 데이터, 테스트 데이터, 검증 데이터 나누기"
   ]
  },
  {
   "cell_type": "markdown",
   "id": "aa7ffa37",
   "metadata": {},
   "source": [
    "모델 평가를 위해서 Valid Set 과 Test Set을 만들어보자      \n",
    "근데 Test Set 을 제공해주고 있음"
   ]
  },
  {
   "cell_type": "code",
   "execution_count": 46,
   "id": "4ed4a702",
   "metadata": {},
   "outputs": [],
   "source": [
    "def split_by_date(data: pd.DataFrame, n_days: int):\n",
    "    final_time = data['Time'].max()\n",
    "    session_last_time = data.groupby('SessionId')['Time'].max()\n",
    "    session_in_train = session_last_time[session_last_time < final_time - (86400*n_days)].index\n",
    "    session_in_test = session_last_time[session_last_time >= final_time - (86400*n_days)].index\n",
    "\n",
    "    before_date = data[data['SessionId'].isin(session_in_train)]\n",
    "    after_date = data[data['SessionId'].isin(session_in_test)]\n",
    "    after_date = after_date[after_date['ItemId'].isin(before_date['ItemId'])]\n",
    "    return before_date, after_date"
   ]
  },
  {
   "cell_type": "code",
   "execution_count": 47,
   "id": "af499f66",
   "metadata": {},
   "outputs": [],
   "source": [
    "tr, test = split_by_date(data, n_days=180)\n",
    "tr, val = split_by_date(tr, n_days=180)"
   ]
  },
  {
   "cell_type": "code",
   "execution_count": 48,
   "id": "9140420b",
   "metadata": {},
   "outputs": [],
   "source": [
    "## data에 대한 정보를 살펴보자!\n",
    "\n",
    "def stats_info(data: pd.DataFrame, status: str):\n",
    "    print(f'* {status} Set Stats Info\\n'\n",
    "          f'\\t Events: {len(data)}\\n'\n",
    "          f'\\t Sessions: {data[\"UserId\"].nunique()}\\n'\n",
    "          f'\\t Items: {data[\"ItemId\"].nunique()}\\n'\n",
    "          f'\\t First Time : {data[\"Time\"].min()}\\n'\n",
    "          f'\\t Last Time : {data[\"Time\"].max()}\\n')"
   ]
  },
  {
   "cell_type": "code",
   "execution_count": 49,
   "id": "091e212a",
   "metadata": {},
   "outputs": [
    {
     "name": "stdout",
     "output_type": "stream",
     "text": [
      "* train Set Stats Info\n",
      "\t Events: 819375\n",
      "\t Sessions: 6037\n",
      "\t Items: 3618\n",
      "\t First Time : 956703932\n",
      "\t Last Time : 1015301653\n",
      "\n",
      "* valid Set Stats Info\n",
      "\t Events: 9795\n",
      "\t Sessions: 390\n",
      "\t Items: 2372\n",
      "\t First Time : 1015302260\n",
      "\t Last Time : 1030854059\n",
      "\n",
      "* test Set Stats Info\n",
      "\t Events: 7298\n",
      "\t Sessions: 333\n",
      "\t Items: 2064\n",
      "\t First Time : 1030909299\n",
      "\t Last Time : 1046454590\n",
      "\n"
     ]
    }
   ],
   "source": [
    "stats_info(tr, 'train')\n",
    "stats_info(val, 'valid')\n",
    "stats_info(test, 'test')"
   ]
  },
  {
   "cell_type": "code",
   "execution_count": 50,
   "id": "7989e90c",
   "metadata": {},
   "outputs": [],
   "source": [
    "## train set에 없는 아이템이 val, test기간에 생길 수 있으므로 train data를 기준으로 인덱싱한다.\n",
    "id2idx = {item_id : index for index, item_id in enumerate(tr['ItemId'].unique())}\n",
    "\n",
    "def indexing(df, id2idx):\n",
    "    df['item_idx'] = df['ItemId'].map(lambda x: id2idx.get(x, -1))  ## id2idx에 없는 아이템은 모르는 값(-1) 처리 해준다.\n",
    "    return df\n",
    "\n",
    "tr = indexing(tr, id2idx)\n",
    "val = indexing(val, id2idx)\n",
    "test = indexing(test, id2idx)"
   ]
  },
  {
   "cell_type": "markdown",
   "id": "7a92a24d",
   "metadata": {},
   "source": [
    "데이터 준비는 끝!!!!!!!!!!!!!!!!!!!!!!!!!!!!!!!!!!"
   ]
  },
  {
   "cell_type": "code",
   "execution_count": 51,
   "id": "108c4452",
   "metadata": {},
   "outputs": [],
   "source": [
    "## 데이터를 저장하자!\n",
    "\n",
    "save_path = data_path / 'processed'\n",
    "save_path.mkdir(parents=True, exist_ok=True)\n",
    "\n",
    "tr.to_pickle(save_path / 'train.pkl')\n",
    "val.to_pickle(save_path / 'valid.pkl')\n",
    "test.to_pickle(save_path / 'test.pkl')"
   ]
  },
  {
   "cell_type": "markdown",
   "id": "5f0d3f8a",
   "metadata": {},
   "source": [
    "## Step 2. 미니 배치의 구성   \n",
    "실습 코드 내역을 참고하여 데이터셋과 미니 배치를 구성해 봅시다. Session-Parallel Mini-Batch의 개념에 따라, 학습 속도의 저하가 최소화될 수 있도록 구성합니다.\n",
    "단, 위 Step 1에서 Session 단위를 어떻게 정의했느냐에 따라서 Session-Parallel Mini-Batch이 굳이 필요하지 않을 수도 있습니다."
   ]
  },
  {
   "cell_type": "markdown",
   "id": "a1bb3bbe",
   "metadata": {},
   "source": [
    "## Data Pipeline    \n",
    "이전 데이터 전처리에서 개념을 정리해 본 Session-Parallel Mini-Batch 를 구현해보자"
   ]
  },
  {
   "cell_type": "markdown",
   "id": "9fec14ee",
   "metadata": {},
   "source": [
    "### 1) SessionDataset    \n",
    "데이터가 주어지면 세션이 시작되는 인덱스를 담는 값과 세션을 새로 인덱싱한 값을 갖는 클래스를 만든다."
   ]
  },
  {
   "cell_type": "code",
   "execution_count": 52,
   "id": "6052b503",
   "metadata": {},
   "outputs": [],
   "source": [
    "class SessionDataset:\n",
    "    \"\"\"Credit to yhs-968/pyGRU4REC.\"\"\"\n",
    "\n",
    "    def __init__(self, data):\n",
    "        self.df = data\n",
    "        self.click_offsets = self.get_click_offsets()\n",
    "        self.session_idx = np.arange(self.df['SessionId'].nunique())  ## indexing to SessionId\n",
    "\n",
    "    def get_click_offsets(self):\n",
    "        \"\"\"\n",
    "        Return the indexes of the first click of each session IDs,\n",
    "        \"\"\"\n",
    "        offsets = np.zeros(self.df['SessionId'].nunique() + 1, dtype=np.int32)\n",
    "        offsets[1:] = self.df.groupby('SessionId').size().cumsum()\n",
    "        return offsets"
   ]
  },
  {
   "cell_type": "code",
   "execution_count": 53,
   "id": "f2b22079",
   "metadata": {},
   "outputs": [
    {
     "data": {
      "text/html": [
       "<div>\n",
       "<style scoped>\n",
       "    .dataframe tbody tr th:only-of-type {\n",
       "        vertical-align: middle;\n",
       "    }\n",
       "\n",
       "    .dataframe tbody tr th {\n",
       "        vertical-align: top;\n",
       "    }\n",
       "\n",
       "    .dataframe thead th {\n",
       "        text-align: right;\n",
       "    }\n",
       "</style>\n",
       "<table border=\"1\" class=\"dataframe\">\n",
       "  <thead>\n",
       "    <tr style=\"text-align: right;\">\n",
       "      <th></th>\n",
       "      <th>SessionId</th>\n",
       "      <th>UserId</th>\n",
       "      <th>Time</th>\n",
       "      <th>ItemId</th>\n",
       "      <th>Rating</th>\n",
       "      <th>item_idx</th>\n",
       "    </tr>\n",
       "  </thead>\n",
       "  <tbody>\n",
       "    <tr>\n",
       "      <th>0</th>\n",
       "      <td>0</td>\n",
       "      <td>1</td>\n",
       "      <td>978300019</td>\n",
       "      <td>3186</td>\n",
       "      <td>4</td>\n",
       "      <td>0</td>\n",
       "    </tr>\n",
       "    <tr>\n",
       "      <th>1</th>\n",
       "      <td>1</td>\n",
       "      <td>1</td>\n",
       "      <td>978300055</td>\n",
       "      <td>1270</td>\n",
       "      <td>5</td>\n",
       "      <td>1</td>\n",
       "    </tr>\n",
       "    <tr>\n",
       "      <th>2</th>\n",
       "      <td>1</td>\n",
       "      <td>1</td>\n",
       "      <td>978300055</td>\n",
       "      <td>1721</td>\n",
       "      <td>4</td>\n",
       "      <td>2</td>\n",
       "    </tr>\n",
       "    <tr>\n",
       "      <th>3</th>\n",
       "      <td>1</td>\n",
       "      <td>1</td>\n",
       "      <td>978300055</td>\n",
       "      <td>1022</td>\n",
       "      <td>5</td>\n",
       "      <td>3</td>\n",
       "    </tr>\n",
       "    <tr>\n",
       "      <th>4</th>\n",
       "      <td>2</td>\n",
       "      <td>1</td>\n",
       "      <td>978300103</td>\n",
       "      <td>2340</td>\n",
       "      <td>3</td>\n",
       "      <td>4</td>\n",
       "    </tr>\n",
       "    <tr>\n",
       "      <th>5</th>\n",
       "      <td>3</td>\n",
       "      <td>1</td>\n",
       "      <td>978300172</td>\n",
       "      <td>1836</td>\n",
       "      <td>5</td>\n",
       "      <td>5</td>\n",
       "    </tr>\n",
       "    <tr>\n",
       "      <th>6</th>\n",
       "      <td>4</td>\n",
       "      <td>1</td>\n",
       "      <td>978300275</td>\n",
       "      <td>3408</td>\n",
       "      <td>4</td>\n",
       "      <td>6</td>\n",
       "    </tr>\n",
       "    <tr>\n",
       "      <th>7</th>\n",
       "      <td>5</td>\n",
       "      <td>1</td>\n",
       "      <td>978300719</td>\n",
       "      <td>2804</td>\n",
       "      <td>5</td>\n",
       "      <td>7</td>\n",
       "    </tr>\n",
       "    <tr>\n",
       "      <th>8</th>\n",
       "      <td>5</td>\n",
       "      <td>1</td>\n",
       "      <td>978300719</td>\n",
       "      <td>1207</td>\n",
       "      <td>4</td>\n",
       "      <td>8</td>\n",
       "    </tr>\n",
       "    <tr>\n",
       "      <th>9</th>\n",
       "      <td>6</td>\n",
       "      <td>1</td>\n",
       "      <td>978300760</td>\n",
       "      <td>1193</td>\n",
       "      <td>5</td>\n",
       "      <td>9</td>\n",
       "    </tr>\n",
       "  </tbody>\n",
       "</table>\n",
       "</div>"
      ],
      "text/plain": [
       "   SessionId  UserId       Time  ItemId  Rating  item_idx\n",
       "0          0       1  978300019    3186       4         0\n",
       "1          1       1  978300055    1270       5         1\n",
       "2          1       1  978300055    1721       4         2\n",
       "3          1       1  978300055    1022       5         3\n",
       "4          2       1  978300103    2340       3         4\n",
       "5          3       1  978300172    1836       5         5\n",
       "6          4       1  978300275    3408       4         6\n",
       "7          5       1  978300719    2804       5         7\n",
       "8          5       1  978300719    1207       4         8\n",
       "9          6       1  978300760    1193       5         9"
      ]
     },
     "execution_count": 53,
     "metadata": {},
     "output_type": "execute_result"
    }
   ],
   "source": [
    "tr_dataset = SessionDataset(tr)\n",
    "tr_dataset.df.head(10)"
   ]
  },
  {
   "cell_type": "code",
   "execution_count": 54,
   "id": "b230276f",
   "metadata": {},
   "outputs": [
    {
     "data": {
      "text/plain": [
       "array([     0,      1,      4, ..., 819373, 819374, 819375], dtype=int32)"
      ]
     },
     "execution_count": 54,
     "metadata": {},
     "output_type": "execute_result"
    }
   ],
   "source": [
    "tr_dataset.click_offsets"
   ]
  },
  {
   "cell_type": "code",
   "execution_count": 55,
   "id": "731eba4e",
   "metadata": {},
   "outputs": [
    {
     "data": {
      "text/plain": [
       "array([     0,      1,      2, ..., 411074, 411075, 411076])"
      ]
     },
     "execution_count": 55,
     "metadata": {},
     "output_type": "execute_result"
    }
   ],
   "source": [
    "tr_dataset.session_idx"
   ]
  },
  {
   "cell_type": "markdown",
   "id": "ff8d68e6",
   "metadata": {},
   "source": [
    "### 2) SessionDataLoader"
   ]
  },
  {
   "cell_type": "markdown",
   "id": "0d35bc4f",
   "metadata": {},
   "source": [
    "SessionDataset 객체를 받아서 Session-Parallel mini-batch 를 만드는 클래스를 만든다.   \n",
    "__iter__ 메서드는 모델 인풋, 라벨, 세션이 끝나는 곳의 위치를 yield 한다.   \n",
    "mask 는 후에 RNN Cell State 를 초기화하는데 사용할 것이다. "
   ]
  },
  {
   "cell_type": "code",
   "execution_count": 56,
   "id": "b31c2b1e",
   "metadata": {},
   "outputs": [],
   "source": [
    "class SessionDataLoader:\n",
    "    \"\"\"Credit to yhs-968/pyGRU4REC.\"\"\"\n",
    "\n",
    "    def __init__(self, dataset: SessionDataset, batch_size=50):\n",
    "        self.dataset = dataset\n",
    "        self.batch_size = batch_size\n",
    "\n",
    "    def __iter__(self):   ## 모델 input, label, session이 끝나는 곳의 위치를 생성하는 함수\n",
    "        \"\"\" Returns the iterator for producing session-parallel training mini-batches.\n",
    "        Yields:\n",
    "            input (B,):  Item indices that will be encoded as one-hot vectors later.\n",
    "            target (B,): a Variable that stores the target item indices\n",
    "            masks: Numpy array indicating the positions of the sessions to be terminated\n",
    "        \"\"\"\n",
    "\n",
    "        start, end, mask, last_session, finished = self.initialize()  ## initialize 메소드에서 확인\n",
    "        \"\"\"\n",
    "        start : Index Where Session Start\n",
    "        end : Index Where Session End\n",
    "        mask : indicator for the sessions to be terminated\n",
    "        \"\"\"\n",
    "\n",
    "        while not finished:\n",
    "            min_len = (end - start).min() - 1  ## Shortest Length Among Sessions\n",
    "            for i in range(min_len):\n",
    "                # Build inputs & targets\n",
    "                inp = self.dataset.df['item_idx'].values[start + i]\n",
    "                target = self.dataset.df['item_idx'].values[start + i + 1]\n",
    "                yield inp, target, mask\n",
    "\n",
    "            start, end, mask, last_session, finished = self.update_status(start, end, min_len, last_session, finished)\n",
    "\n",
    "    def initialize(self):\n",
    "        first_iters = np.arange(self.batch_size)    ## 첫 배치에 사용할 세션 Index를 가져온다.\n",
    "        last_session = self.batch_size - 1    ## 마지막으로 다루고 있는 세션 Index를 저장해둔다.\n",
    "        start = self.dataset.click_offsets[self.dataset.session_idx[first_iters]]       ## data 상에서 session이 시작된 위치를 가져온다.\n",
    "        end = self.dataset.click_offsets[self.dataset.session_idx[first_iters] + 1]  ## session이 끝난 위치 바로 다음 위치를 가져온다.\n",
    "        mask = np.array([])   ## session의 모든 아이템을 다 돌은 경우 mask에 추가해줄 것이다.\n",
    "        finished = False         ## data를 전부 돌았는지 기록하기 위한 변수이다.\n",
    "        return start, end, mask, last_session, finished\n",
    "\n",
    "    def update_status(self, start: np.ndarray, end: np.ndarray, min_len: int, last_session: int, finished: bool):  \n",
    "        ## 다음 배치 데이터를 생성하기 위해 상태를 update한다.\n",
    "        \n",
    "        start += min_len   ## __iter__에서 min_len 만큼 for문을 돌았으므로 start를 min_len 만큼 더해준다.\n",
    "        mask = np.arange(self.batch_size)[(end - start) == 1]  \n",
    "        ## end는 다음 세션이 시작되는 위치인데 start와 한 칸 차이난다는 것은 session이 끝났다는 뜻. mask에 기록해준다.\n",
    "\n",
    "        for i, idx in enumerate(mask, start=1):  ## mask에 추가된 세션 개수만큼 새로운 세션을 돌것이다.\n",
    "            new_session = last_session + i  \n",
    "            if new_session > self.dataset.session_idx[-1]:  ## 만약 새로운 세션이 마지막 세션 index보다 크다면 모든 학습데이터를 돈 것이다.\n",
    "                finished = True\n",
    "                break\n",
    "            # update the next starting/ending point\n",
    "            start[idx] = self.dataset.click_offsets[self.dataset.session_idx[new_session]]     ## 종료된 세션 대신 새로운 세션의 시작점을 기록한다.\n",
    "            end[idx] = self.dataset.click_offsets[self.dataset.session_idx[new_session] + 1]\n",
    "\n",
    "        last_session += len(mask)  ## 마지막 세션의 위치를 기록해둔다.\n",
    "        return start, end, mask, last_session, finished"
   ]
  },
  {
   "cell_type": "code",
   "execution_count": 57,
   "id": "ad197c35",
   "metadata": {},
   "outputs": [
    {
     "data": {
      "text/html": [
       "<div>\n",
       "<style scoped>\n",
       "    .dataframe tbody tr th:only-of-type {\n",
       "        vertical-align: middle;\n",
       "    }\n",
       "\n",
       "    .dataframe tbody tr th {\n",
       "        vertical-align: top;\n",
       "    }\n",
       "\n",
       "    .dataframe thead th {\n",
       "        text-align: right;\n",
       "    }\n",
       "</style>\n",
       "<table border=\"1\" class=\"dataframe\">\n",
       "  <thead>\n",
       "    <tr style=\"text-align: right;\">\n",
       "      <th></th>\n",
       "      <th>SessionId</th>\n",
       "      <th>UserId</th>\n",
       "      <th>Time</th>\n",
       "      <th>ItemId</th>\n",
       "      <th>Rating</th>\n",
       "      <th>item_idx</th>\n",
       "    </tr>\n",
       "  </thead>\n",
       "  <tbody>\n",
       "    <tr>\n",
       "      <th>0</th>\n",
       "      <td>0</td>\n",
       "      <td>1</td>\n",
       "      <td>978300019</td>\n",
       "      <td>3186</td>\n",
       "      <td>4</td>\n",
       "      <td>0</td>\n",
       "    </tr>\n",
       "    <tr>\n",
       "      <th>1</th>\n",
       "      <td>1</td>\n",
       "      <td>1</td>\n",
       "      <td>978300055</td>\n",
       "      <td>1270</td>\n",
       "      <td>5</td>\n",
       "      <td>1</td>\n",
       "    </tr>\n",
       "    <tr>\n",
       "      <th>2</th>\n",
       "      <td>1</td>\n",
       "      <td>1</td>\n",
       "      <td>978300055</td>\n",
       "      <td>1721</td>\n",
       "      <td>4</td>\n",
       "      <td>2</td>\n",
       "    </tr>\n",
       "    <tr>\n",
       "      <th>3</th>\n",
       "      <td>1</td>\n",
       "      <td>1</td>\n",
       "      <td>978300055</td>\n",
       "      <td>1022</td>\n",
       "      <td>5</td>\n",
       "      <td>3</td>\n",
       "    </tr>\n",
       "    <tr>\n",
       "      <th>4</th>\n",
       "      <td>2</td>\n",
       "      <td>1</td>\n",
       "      <td>978300103</td>\n",
       "      <td>2340</td>\n",
       "      <td>3</td>\n",
       "      <td>4</td>\n",
       "    </tr>\n",
       "    <tr>\n",
       "      <th>5</th>\n",
       "      <td>3</td>\n",
       "      <td>1</td>\n",
       "      <td>978300172</td>\n",
       "      <td>1836</td>\n",
       "      <td>5</td>\n",
       "      <td>5</td>\n",
       "    </tr>\n",
       "    <tr>\n",
       "      <th>6</th>\n",
       "      <td>4</td>\n",
       "      <td>1</td>\n",
       "      <td>978300275</td>\n",
       "      <td>3408</td>\n",
       "      <td>4</td>\n",
       "      <td>6</td>\n",
       "    </tr>\n",
       "    <tr>\n",
       "      <th>7</th>\n",
       "      <td>5</td>\n",
       "      <td>1</td>\n",
       "      <td>978300719</td>\n",
       "      <td>2804</td>\n",
       "      <td>5</td>\n",
       "      <td>7</td>\n",
       "    </tr>\n",
       "    <tr>\n",
       "      <th>8</th>\n",
       "      <td>5</td>\n",
       "      <td>1</td>\n",
       "      <td>978300719</td>\n",
       "      <td>1207</td>\n",
       "      <td>4</td>\n",
       "      <td>8</td>\n",
       "    </tr>\n",
       "    <tr>\n",
       "      <th>9</th>\n",
       "      <td>6</td>\n",
       "      <td>1</td>\n",
       "      <td>978300760</td>\n",
       "      <td>1193</td>\n",
       "      <td>5</td>\n",
       "      <td>9</td>\n",
       "    </tr>\n",
       "    <tr>\n",
       "      <th>10</th>\n",
       "      <td>6</td>\n",
       "      <td>1</td>\n",
       "      <td>978300760</td>\n",
       "      <td>720</td>\n",
       "      <td>3</td>\n",
       "      <td>10</td>\n",
       "    </tr>\n",
       "    <tr>\n",
       "      <th>11</th>\n",
       "      <td>6</td>\n",
       "      <td>1</td>\n",
       "      <td>978300760</td>\n",
       "      <td>260</td>\n",
       "      <td>4</td>\n",
       "      <td>11</td>\n",
       "    </tr>\n",
       "    <tr>\n",
       "      <th>12</th>\n",
       "      <td>7</td>\n",
       "      <td>1</td>\n",
       "      <td>978301368</td>\n",
       "      <td>919</td>\n",
       "      <td>4</td>\n",
       "      <td>12</td>\n",
       "    </tr>\n",
       "    <tr>\n",
       "      <th>13</th>\n",
       "      <td>8</td>\n",
       "      <td>1</td>\n",
       "      <td>978301398</td>\n",
       "      <td>608</td>\n",
       "      <td>4</td>\n",
       "      <td>13</td>\n",
       "    </tr>\n",
       "    <tr>\n",
       "      <th>14</th>\n",
       "      <td>9</td>\n",
       "      <td>1</td>\n",
       "      <td>978301570</td>\n",
       "      <td>2692</td>\n",
       "      <td>4</td>\n",
       "      <td>14</td>\n",
       "    </tr>\n",
       "  </tbody>\n",
       "</table>\n",
       "</div>"
      ],
      "text/plain": [
       "    SessionId  UserId       Time  ItemId  Rating  item_idx\n",
       "0           0       1  978300019    3186       4         0\n",
       "1           1       1  978300055    1270       5         1\n",
       "2           1       1  978300055    1721       4         2\n",
       "3           1       1  978300055    1022       5         3\n",
       "4           2       1  978300103    2340       3         4\n",
       "5           3       1  978300172    1836       5         5\n",
       "6           4       1  978300275    3408       4         6\n",
       "7           5       1  978300719    2804       5         7\n",
       "8           5       1  978300719    1207       4         8\n",
       "9           6       1  978300760    1193       5         9\n",
       "10          6       1  978300760     720       3        10\n",
       "11          6       1  978300760     260       4        11\n",
       "12          7       1  978301368     919       4        12\n",
       "13          8       1  978301398     608       4        13\n",
       "14          9       1  978301570    2692       4        14"
      ]
     },
     "execution_count": 57,
     "metadata": {},
     "output_type": "execute_result"
    }
   ],
   "source": [
    "tr_data_loader = SessionDataLoader(tr_dataset, batch_size=4)\n",
    "tr_dataset.df.head(15)"
   ]
  },
  {
   "cell_type": "code",
   "execution_count": 58,
   "id": "1321b37f",
   "metadata": {},
   "outputs": [],
   "source": [
    "iter_ex = iter(tr_data_loader)"
   ]
  },
  {
   "cell_type": "code",
   "execution_count": 59,
   "id": "749ed6a9",
   "metadata": {},
   "outputs": [
    {
     "name": "stdout",
     "output_type": "stream",
     "text": [
      "Model Input Item Idx are : [19  1  7  9]\n",
      "Label Item Idx are :       [20  2  8 10]\n",
      "Previous Masked Input Idx are [0]\n"
     ]
    }
   ],
   "source": [
    "inputs, labels, mask =  next(iter_ex)\n",
    "print(f'Model Input Item Idx are : {inputs}')\n",
    "print(f'Label Item Idx are : {\"\":5} {labels}')\n",
    "print(f'Previous Masked Input Idx are {mask}')"
   ]
  },
  {
   "cell_type": "markdown",
   "id": "2e00c443",
   "metadata": {},
   "source": [
    "## Step 3. 모델 구성  \n",
    "이 부분도 실습 코드 내역을 참고하여 다양하게 모델 구조를 시도해 볼 수 있습니다."
   ]
  },
  {
   "cell_type": "markdown",
   "id": "887e81d7",
   "metadata": {},
   "source": [
    "### 1) Evaluation Metric    \n",
    "모델 성능 평가를 위한 지표를 보자!         \n",
    "모델 성능에 대한 지표로 precision 이나 recall 이 있다."
   ]
  },
  {
   "cell_type": "code",
   "execution_count": 60,
   "id": "ba5ca847",
   "metadata": {},
   "outputs": [],
   "source": [
    "def mrr_k(pred, truth: int, k: int):\n",
    "    indexing = np.where(pred[:k] == truth)[0]\n",
    "    if len(indexing) > 0:\n",
    "        return 1 / (indexing[0] + 1)\n",
    "    else:\n",
    "        return 0\n",
    "\n",
    "\n",
    "def recall_k(pred, truth: int, k: int) -> int:\n",
    "    answer = truth in pred[:k]\n",
    "    return int(answer)"
   ]
  },
  {
   "cell_type": "markdown",
   "id": "daa97310",
   "metadata": {},
   "source": [
    "### 2) Model Architecture    \n",
    "모델 구조를 구현할 것이다. 모델 구조가 간단한 편이기 때문에 Functional 하게 모델을 만들겠다.    \n",
    "\n",
    "- 여기서 Functional 은 범함수라는 건디 이게 맞는지는 잘 모르겠다.   \n",
    "- 범함수는 함수들의 집합을 정의역으로 갖는 함수이다."
   ]
  },
  {
   "cell_type": "code",
   "execution_count": 64,
   "id": "5514e90f",
   "metadata": {},
   "outputs": [],
   "source": [
    "import numpy as np\n",
    "import tensorflow as tf\n",
    "from tensorflow.keras.layers import Input, Dense, Dropout, GRU\n",
    "from tensorflow.keras.losses import categorical_crossentropy\n",
    "from tensorflow.keras.models import Model\n",
    "from tensorflow.keras.optimizers import Adam\n",
    "from tensorflow.keras.utils import to_categorical\n",
    "from tqdm import tqdm"
   ]
  },
  {
   "cell_type": "code",
   "execution_count": 65,
   "id": "39683e0b",
   "metadata": {},
   "outputs": [],
   "source": [
    "def create_model(args):\n",
    "    inputs = Input(batch_shape=(args.batch_size, 1, args.num_items))\n",
    "    gru, _ = GRU(args.hsz, stateful=True, return_state=True, name='GRU')(inputs)\n",
    "    dropout = Dropout(args.drop_rate)(gru)\n",
    "    predictions = Dense(args.num_items, activation='softmax')(dropout)\n",
    "    model = Model(inputs=inputs, outputs=[predictions])\n",
    "    model.compile(loss=categorical_crossentropy, optimizer=Adam(args.lr), metrics=['accuracy'])\n",
    "    model.summary()\n",
    "    return model"
   ]
  },
  {
   "cell_type": "code",
   "execution_count": 66,
   "id": "1bc65966",
   "metadata": {},
   "outputs": [],
   "source": [
    "class Args:\n",
    "    def __init__(self, tr, val, test, batch_size, hsz, drop_rate, lr, epochs, k):\n",
    "        self.tr = tr\n",
    "        self.val = val\n",
    "        self.test = test\n",
    "        self.num_items = tr['ItemId'].nunique()\n",
    "        self.num_sessions = tr['SessionId'].nunique()\n",
    "        self.batch_size = batch_size\n",
    "        self.hsz = hsz\n",
    "        self.drop_rate = drop_rate\n",
    "        self.lr = lr\n",
    "        self.epochs = epochs\n",
    "        self.k = k\n",
    "\n",
    "args = Args(tr, val, test, batch_size=256, hsz=50, drop_rate=0.01, lr=0.00001, epochs=3, k=50)"
   ]
  },
  {
   "cell_type": "code",
   "execution_count": 67,
   "id": "28940c54",
   "metadata": {
    "scrolled": false
   },
   "outputs": [
    {
     "name": "stdout",
     "output_type": "stream",
     "text": [
      "Model: \"model_1\"\n",
      "_________________________________________________________________\n",
      "Layer (type)                 Output Shape              Param #   \n",
      "=================================================================\n",
      "input_2 (InputLayer)         [(256, 1, 3618)]          0         \n",
      "_________________________________________________________________\n",
      "GRU (GRU)                    [(256, 50), (256, 50)]    550500    \n",
      "_________________________________________________________________\n",
      "dropout_1 (Dropout)          (256, 50)                 0         \n",
      "_________________________________________________________________\n",
      "dense_1 (Dense)              (256, 3618)               184518    \n",
      "=================================================================\n",
      "Total params: 735,018\n",
      "Trainable params: 735,018\n",
      "Non-trainable params: 0\n",
      "_________________________________________________________________\n"
     ]
    }
   ],
   "source": [
    "model = create_model(args)"
   ]
  },
  {
   "cell_type": "markdown",
   "id": "f942bf9b",
   "metadata": {},
   "source": [
    "## Step 4. 모델 학습  \n",
    "다양한 하이퍼파라미터를 변경해 보며 검증해 보도록 합니다. 실습 코드에 언급되었던 Recall, MRR 등의 개념들도 함께 관리될 수 있도록 합니다."
   ]
  },
  {
   "cell_type": "markdown",
   "id": "ea8304cd",
   "metadata": {},
   "source": [
    "#### 시도 1.   \n",
    "args = Args(tr, val, test, batch_size=256, hsz=50, drop_rate=0.01, lr=0.00001, epochs=3, k=50) 기본으로 설정하고 한 번 결과를 봤다! "
   ]
  },
  {
   "cell_type": "markdown",
   "id": "441744c1",
   "metadata": {},
   "source": [
    "### 3) Model Training    \n",
    "이제는 준비한 데이터셋으로 모델을 통해서 학습을 진행할 것이다."
   ]
  },
  {
   "cell_type": "code",
   "execution_count": 68,
   "id": "fdbc07ff",
   "metadata": {},
   "outputs": [],
   "source": [
    "## train 셋으로 학습하면서 valid 셋으로 검증한다.\n",
    "def train_model(model, args):\n",
    "    train_dataset = SessionDataset(args.tr)\n",
    "    train_loader = SessionDataLoader(train_dataset, batch_size=args.batch_size)\n",
    "\n",
    "    for epoch in range(1, args.epochs + 1):\n",
    "        total_step = len(args.tr) - args.tr['SessionId'].nunique()\n",
    "        tr_loader = tqdm(train_loader, total=total_step // args.batch_size, desc='Train', mininterval=1)\n",
    "        for feat, target, mask in tr_loader:\n",
    "            reset_hidden_states(model, mask)  ## 종료된 session은 hidden_state를 초기화한다. 아래 메서드에서 확인!.\n",
    "\n",
    "            input_ohe = to_categorical(feat, num_classes=args.num_items)\n",
    "            input_ohe = np.expand_dims(input_ohe, axis=1)\n",
    "            target_ohe = to_categorical(target, num_classes=args.num_items)\n",
    "\n",
    "            result = model.train_on_batch(input_ohe, target_ohe)\n",
    "            tr_loader.set_postfix(train_loss=result[0], accuracy = result[1])\n",
    "\n",
    "        val_recall, val_mrr = get_metrics(args.val, model, args, args.k)  ## valid set에 대해 검증한다.\n",
    "\n",
    "        print(f\"\\t - Recall@{args.k} epoch {epoch}: {val_recall:3f}\")\n",
    "        print(f\"\\t - MRR@{args.k}    epoch {epoch}: {val_mrr:3f}\\n\")\n",
    "\n",
    "\n",
    "def reset_hidden_states(model, mask):\n",
    "    gru_layer = model.get_layer(name='GRU')  ## model에서 gru layer를 가져온다!\n",
    "    hidden_states = gru_layer.states[0].numpy()  ## gru_layer의 parameter를 가져온다!\n",
    "    for elt in mask:  ## mask된 인덱스 즉, 종료된 세션의 인덱스를 돌면서\n",
    "        hidden_states[elt, :] = 0  ## parameter를 초기화 한다.\n",
    "    gru_layer.reset_states(states=hidden_states)\n",
    "    \n",
    "    \n",
    "def get_metrics(data, model, args, k: int):  ## valid셋과 test셋을 평가하는 코드이다.\n",
    "                                             ## train과 거의 같지만 mrr, recall을 구하는 라인이 있다.\n",
    "    dataset = SessionDataset(data)\n",
    "    loader = SessionDataLoader(dataset, batch_size=args.batch_size)\n",
    "    recall_list, mrr_list = [], []\n",
    "\n",
    "    total_step = len(data) - data['SessionId'].nunique()\n",
    "    for inputs, label, mask in tqdm(loader, total=total_step // args.batch_size, desc='Evaluation', mininterval=1):\n",
    "        reset_hidden_states(model, mask)\n",
    "        input_ohe = to_categorical(inputs, num_classes=args.num_items)\n",
    "        input_ohe = np.expand_dims(input_ohe, axis=1)\n",
    "\n",
    "        pred = model.predict(input_ohe, batch_size=args.batch_size)\n",
    "        pred_arg = tf.argsort(pred, direction='DESCENDING')  ## softmax 값이 큰 순서대로 sorting 한다.\n",
    "\n",
    "        length = len(inputs)\n",
    "        recall_list.extend([recall_k(pred_arg[i], label[i], k) for i in range(length)])\n",
    "        mrr_list.extend([mrr_k(pred_arg[i], label[i], k) for i in range(length)])\n",
    "\n",
    "    recall, mrr = np.mean(recall_list), np.mean(mrr_list)\n",
    "    return recall, mrr"
   ]
  },
  {
   "cell_type": "code",
   "execution_count": 69,
   "id": "bf62099d",
   "metadata": {
    "scrolled": false
   },
   "outputs": [
    {
     "name": "stderr",
     "output_type": "stream",
     "text": [
      "Train: 100%|█████████▉| 1593/1594 [01:49<00:00, 14.58it/s, accuracy=0.00781, train_loss=8.17]\n",
      "Evaluation:  90%|█████████ | 9/10 [00:26<00:02,  2.96s/it]\n"
     ]
    },
    {
     "name": "stdout",
     "output_type": "stream",
     "text": [
      "\t - Recall@50 epoch 1: 0.085503\n",
      "\t - MRR@50    epoch 1: 0.008082\n",
      "\n"
     ]
    },
    {
     "name": "stderr",
     "output_type": "stream",
     "text": [
      "Train: 100%|█████████▉| 1593/1594 [01:47<00:00, 14.85it/s, accuracy=0.00391, train_loss=7.57]\n",
      "Evaluation:  90%|█████████ | 9/10 [00:25<00:02,  2.82s/it]\n"
     ]
    },
    {
     "name": "stdout",
     "output_type": "stream",
     "text": [
      "\t - Recall@50 epoch 2: 0.095920\n",
      "\t - MRR@50    epoch 2: 0.009927\n",
      "\n"
     ]
    },
    {
     "name": "stderr",
     "output_type": "stream",
     "text": [
      "Train: 100%|█████████▉| 1593/1594 [01:47<00:00, 14.81it/s, accuracy=0, train_loss=7.48]      \n",
      "Evaluation:  90%|█████████ | 9/10 [00:25<00:02,  2.88s/it]"
     ]
    },
    {
     "name": "stdout",
     "output_type": "stream",
     "text": [
      "\t - Recall@50 epoch 3: 0.102865\n",
      "\t - MRR@50    epoch 3: 0.011832\n",
      "\n"
     ]
    },
    {
     "name": "stderr",
     "output_type": "stream",
     "text": [
      "\n"
     ]
    }
   ],
   "source": [
    "## 학습 시간이 다소 오래 소요 \n",
    "train_model(model, args)"
   ]
  },
  {
   "cell_type": "markdown",
   "id": "85563f09",
   "metadata": {},
   "source": [
    "## Step 5. 모델 테스트  \n",
    "미리 구성한 테스트셋을 바탕으로 Recall, MRR 을 확인해 봅니다."
   ]
  },
  {
   "cell_type": "markdown",
   "id": "9417414e",
   "metadata": {},
   "source": [
    "### 4) Inference    \n",
    "지금까지 작성한 모델이 테스트셋에 대해서 어느 정도 성능을 내는지 검증해보자!"
   ]
  },
  {
   "cell_type": "code",
   "execution_count": 70,
   "id": "a26583b5",
   "metadata": {
    "scrolled": true
   },
   "outputs": [
    {
     "name": "stderr",
     "output_type": "stream",
     "text": [
      "Evaluation:  86%|████████▌ | 6/7 [00:07<00:01,  1.30s/it]"
     ]
    },
    {
     "name": "stdout",
     "output_type": "stream",
     "text": [
      "\t - Recall@50: 0.060547\n",
      "\t - MRR@50: 0.012745\n",
      "\n"
     ]
    },
    {
     "name": "stderr",
     "output_type": "stream",
     "text": [
      "\n"
     ]
    }
   ],
   "source": [
    "def test_model(model, args, test):\n",
    "    test_recall, test_mrr = get_metrics(test, model, args, 20)\n",
    "    print(f\"\\t - Recall@{args.k}: {test_recall:3f}\")\n",
    "    print(f\"\\t - MRR@{args.k}: {test_mrr:3f}\\n\")\n",
    "\n",
    "test_model(model, args, test)"
   ]
  },
  {
   "cell_type": "markdown",
   "id": "2325ac87",
   "metadata": {},
   "source": [
    "#### 시도 2.   \n",
    "args = Args(tr, val, test, batch_size=256, hsz=50, drop_rate=0.01, lr=0.00001, epochs=10, k=50)  에폭을 3에서 10으로 증가시켰다."
   ]
  },
  {
   "cell_type": "code",
   "execution_count": 71,
   "id": "407d3863",
   "metadata": {
    "scrolled": true
   },
   "outputs": [
    {
     "name": "stderr",
     "output_type": "stream",
     "text": [
      "Train: 100%|█████████▉| 1593/1594 [01:45<00:00, 15.08it/s, accuracy=0.00391, train_loss=7.44]\n",
      "Evaluation:  90%|█████████ | 9/10 [00:25<00:02,  2.86s/it]\n"
     ]
    },
    {
     "name": "stdout",
     "output_type": "stream",
     "text": [
      "\t - Recall@50 epoch 1: 0.103299\n",
      "\t - MRR@50    epoch 1: 0.012155\n",
      "\n"
     ]
    },
    {
     "name": "stderr",
     "output_type": "stream",
     "text": [
      "Train: 100%|█████████▉| 1593/1594 [01:45<00:00, 15.12it/s, accuracy=0.00391, train_loss=7.42]\n",
      "Evaluation:  90%|█████████ | 9/10 [00:25<00:02,  2.83s/it]\n"
     ]
    },
    {
     "name": "stdout",
     "output_type": "stream",
     "text": [
      "\t - Recall@50 epoch 2: 0.102865\n",
      "\t - MRR@50    epoch 2: 0.012591\n",
      "\n"
     ]
    },
    {
     "name": "stderr",
     "output_type": "stream",
     "text": [
      "Train: 100%|█████████▉| 1593/1594 [01:44<00:00, 15.28it/s, accuracy=0.00391, train_loss=7.41]\n",
      "Evaluation:  90%|█████████ | 9/10 [00:25<00:02,  2.80s/it]\n"
     ]
    },
    {
     "name": "stdout",
     "output_type": "stream",
     "text": [
      "\t - Recall@50 epoch 3: 0.105469\n",
      "\t - MRR@50    epoch 3: 0.012673\n",
      "\n"
     ]
    },
    {
     "name": "stderr",
     "output_type": "stream",
     "text": [
      "Train: 100%|█████████▉| 1593/1594 [01:48<00:00, 14.71it/s, accuracy=0.00391, train_loss=7.4] \n",
      "Evaluation:  90%|█████████ | 9/10 [00:25<00:02,  2.80s/it]\n"
     ]
    },
    {
     "name": "stdout",
     "output_type": "stream",
     "text": [
      "\t - Recall@50 epoch 4: 0.105469\n",
      "\t - MRR@50    epoch 4: 0.012701\n",
      "\n"
     ]
    },
    {
     "name": "stderr",
     "output_type": "stream",
     "text": [
      "Train: 100%|█████████▉| 1593/1594 [01:48<00:00, 14.63it/s, accuracy=0.00391, train_loss=7.4] \n",
      "Evaluation:  90%|█████████ | 9/10 [00:25<00:02,  2.87s/it]\n"
     ]
    },
    {
     "name": "stdout",
     "output_type": "stream",
     "text": [
      "\t - Recall@50 epoch 5: 0.105469\n",
      "\t - MRR@50    epoch 5: 0.012703\n",
      "\n"
     ]
    },
    {
     "name": "stderr",
     "output_type": "stream",
     "text": [
      "Train: 100%|█████████▉| 1593/1594 [01:50<00:00, 14.44it/s, accuracy=0.00391, train_loss=7.4] \n",
      "Evaluation:  90%|█████████ | 9/10 [00:25<00:02,  2.87s/it]\n"
     ]
    },
    {
     "name": "stdout",
     "output_type": "stream",
     "text": [
      "\t - Recall@50 epoch 6: 0.105469\n",
      "\t - MRR@50    epoch 6: 0.012715\n",
      "\n"
     ]
    },
    {
     "name": "stderr",
     "output_type": "stream",
     "text": [
      "Train: 100%|█████████▉| 1593/1594 [01:48<00:00, 14.62it/s, accuracy=0.00391, train_loss=7.4] \n",
      "Evaluation:  90%|█████████ | 9/10 [00:25<00:02,  2.83s/it]\n"
     ]
    },
    {
     "name": "stdout",
     "output_type": "stream",
     "text": [
      "\t - Recall@50 epoch 7: 0.105469\n",
      "\t - MRR@50    epoch 7: 0.012728\n",
      "\n"
     ]
    },
    {
     "name": "stderr",
     "output_type": "stream",
     "text": [
      "Train: 100%|█████████▉| 1593/1594 [01:49<00:00, 14.61it/s, accuracy=0.00391, train_loss=7.4] \n",
      "Evaluation:  90%|█████████ | 9/10 [00:25<00:02,  2.83s/it]\n"
     ]
    },
    {
     "name": "stdout",
     "output_type": "stream",
     "text": [
      "\t - Recall@50 epoch 8: 0.105469\n",
      "\t - MRR@50    epoch 8: 0.012743\n",
      "\n"
     ]
    },
    {
     "name": "stderr",
     "output_type": "stream",
     "text": [
      "Train: 100%|█████████▉| 1593/1594 [01:49<00:00, 14.56it/s, accuracy=0.00391, train_loss=7.4] \n",
      "Evaluation:  90%|█████████ | 9/10 [00:25<00:02,  2.81s/it]\n"
     ]
    },
    {
     "name": "stdout",
     "output_type": "stream",
     "text": [
      "\t - Recall@50 epoch 9: 0.105469\n",
      "\t - MRR@50    epoch 9: 0.012743\n",
      "\n"
     ]
    },
    {
     "name": "stderr",
     "output_type": "stream",
     "text": [
      "Train: 100%|█████████▉| 1593/1594 [01:48<00:00, 14.62it/s, accuracy=0.00391, train_loss=7.39]\n",
      "Evaluation:  90%|█████████ | 9/10 [00:25<00:02,  2.83s/it]"
     ]
    },
    {
     "name": "stdout",
     "output_type": "stream",
     "text": [
      "\t - Recall@50 epoch 10: 0.106337\n",
      "\t - MRR@50    epoch 10: 0.012757\n",
      "\n"
     ]
    },
    {
     "name": "stderr",
     "output_type": "stream",
     "text": [
      "\n"
     ]
    }
   ],
   "source": [
    "args = Args(tr, val, test, batch_size=256, hsz=50, drop_rate=0.01, lr=0.00001, epochs=10, k=50)\n",
    "train_model(model, args)"
   ]
  },
  {
   "cell_type": "code",
   "execution_count": 72,
   "id": "f298eff5",
   "metadata": {
    "scrolled": true
   },
   "outputs": [
    {
     "name": "stderr",
     "output_type": "stream",
     "text": [
      "Evaluation:  86%|████████▌ | 6/7 [00:08<00:01,  1.34s/it]"
     ]
    },
    {
     "name": "stdout",
     "output_type": "stream",
     "text": [
      "\t - Recall@50: 0.053385\n",
      "\t - MRR@50: 0.012186\n",
      "\n"
     ]
    },
    {
     "name": "stderr",
     "output_type": "stream",
     "text": [
      "\n"
     ]
    }
   ],
   "source": [
    "def test_model(model, args, test):\n",
    "    test_recall, test_mrr = get_metrics(test, model, args, 20)\n",
    "    print(f\"\\t - Recall@{args.k}: {test_recall:3f}\")\n",
    "    print(f\"\\t - MRR@{args.k}: {test_mrr:3f}\\n\")\n",
    "\n",
    "test_model(model, args, test)"
   ]
  },
  {
   "cell_type": "markdown",
   "id": "db18b86f",
   "metadata": {},
   "source": [
    "#### 시도 3.   \n",
    "args = Args(tr, val, test, batch_size=128, hsz=50, drop_rate=0.01, lr=0.00001, epochs=10, k=50) 기본으로 설정하고 한 번 결과를 봤다! batch_size 를 줄이고 에폭을 3에서 10으로 증가시켰다."
   ]
  },
  {
   "cell_type": "code",
   "execution_count": 75,
   "id": "066be83e",
   "metadata": {},
   "outputs": [],
   "source": [
    "class Args:\n",
    "    def __init__(self, tr, val, test, batch_size, hsz, drop_rate, lr, epochs, k):\n",
    "        self.tr = tr\n",
    "        self.val = val\n",
    "        self.test = test\n",
    "        self.num_items = tr['ItemId'].nunique()\n",
    "        self.num_sessions = tr['SessionId'].nunique()\n",
    "        self.batch_size = batch_size\n",
    "        self.hsz = hsz\n",
    "        self.drop_rate = drop_rate\n",
    "        self.lr = lr\n",
    "        self.epochs = epochs\n",
    "        self.k = k\n",
    "\n",
    "args = Args(tr, val, test, batch_size=128, hsz=50, drop_rate=0.01, lr=0.00001, epochs=10, k=50)"
   ]
  },
  {
   "cell_type": "code",
   "execution_count": 76,
   "id": "0e8075de",
   "metadata": {},
   "outputs": [
    {
     "name": "stdout",
     "output_type": "stream",
     "text": [
      "Model: \"model_2\"\n",
      "_________________________________________________________________\n",
      "Layer (type)                 Output Shape              Param #   \n",
      "=================================================================\n",
      "input_3 (InputLayer)         [(128, 1, 3618)]          0         \n",
      "_________________________________________________________________\n",
      "GRU (GRU)                    [(128, 50), (128, 50)]    550500    \n",
      "_________________________________________________________________\n",
      "dropout_2 (Dropout)          (128, 50)                 0         \n",
      "_________________________________________________________________\n",
      "dense_2 (Dense)              (128, 3618)               184518    \n",
      "=================================================================\n",
      "Total params: 735,018\n",
      "Trainable params: 735,018\n",
      "Non-trainable params: 0\n",
      "_________________________________________________________________\n"
     ]
    }
   ],
   "source": [
    "model_1 = create_model(args)"
   ]
  },
  {
   "cell_type": "code",
   "execution_count": 78,
   "id": "2d9b4970",
   "metadata": {
    "scrolled": false
   },
   "outputs": [
    {
     "name": "stderr",
     "output_type": "stream",
     "text": [
      "Train: 100%|██████████| 3189/3189 [02:10<00:00, 24.40it/s, accuracy=0.00781, train_loss=7.64]\n",
      "Evaluation:  95%|█████████▌| 20/21 [00:29<00:01,  1.46s/it]\n"
     ]
    },
    {
     "name": "stdout",
     "output_type": "stream",
     "text": [
      "\t - Recall@50 epoch 1: 0.096094\n",
      "\t - MRR@50    epoch 1: 0.009701\n",
      "\n"
     ]
    },
    {
     "name": "stderr",
     "output_type": "stream",
     "text": [
      "Train: 100%|██████████| 3189/3189 [02:07<00:00, 25.02it/s, accuracy=0.00781, train_loss=7.45]\n",
      "Evaluation:  95%|█████████▌| 20/21 [00:28<00:01,  1.44s/it]\n"
     ]
    },
    {
     "name": "stdout",
     "output_type": "stream",
     "text": [
      "\t - Recall@50 epoch 2: 0.099219\n",
      "\t - MRR@50    epoch 2: 0.011390\n",
      "\n"
     ]
    },
    {
     "name": "stderr",
     "output_type": "stream",
     "text": [
      "Train: 100%|██████████| 3189/3189 [02:09<00:00, 24.68it/s, accuracy=0.00781, train_loss=7.38]\n",
      "Evaluation:  95%|█████████▌| 20/21 [00:29<00:01,  1.46s/it]\n"
     ]
    },
    {
     "name": "stdout",
     "output_type": "stream",
     "text": [
      "\t - Recall@50 epoch 3: 0.100781\n",
      "\t - MRR@50    epoch 3: 0.011819\n",
      "\n"
     ]
    },
    {
     "name": "stderr",
     "output_type": "stream",
     "text": [
      "Train: 100%|██████████| 3189/3189 [02:06<00:00, 25.13it/s, accuracy=0.00781, train_loss=7.35]\n",
      "Evaluation:  95%|█████████▌| 20/21 [00:29<00:01,  1.47s/it]\n"
     ]
    },
    {
     "name": "stdout",
     "output_type": "stream",
     "text": [
      "\t - Recall@50 epoch 4: 0.101172\n",
      "\t - MRR@50    epoch 4: 0.011884\n",
      "\n"
     ]
    },
    {
     "name": "stderr",
     "output_type": "stream",
     "text": [
      "Train: 100%|██████████| 3189/3189 [02:08<00:00, 24.78it/s, accuracy=0.00781, train_loss=7.34]\n",
      "Evaluation:  95%|█████████▌| 20/21 [00:28<00:01,  1.45s/it]\n"
     ]
    },
    {
     "name": "stdout",
     "output_type": "stream",
     "text": [
      "\t - Recall@50 epoch 5: 0.102344\n",
      "\t - MRR@50    epoch 5: 0.012012\n",
      "\n"
     ]
    },
    {
     "name": "stderr",
     "output_type": "stream",
     "text": [
      "Train: 100%|██████████| 3189/3189 [02:10<00:00, 24.43it/s, accuracy=0.00781, train_loss=7.32]\n",
      "Evaluation:  95%|█████████▌| 20/21 [00:31<00:01,  1.57s/it]\n"
     ]
    },
    {
     "name": "stdout",
     "output_type": "stream",
     "text": [
      "\t - Recall@50 epoch 6: 0.103906\n",
      "\t - MRR@50    epoch 6: 0.012084\n",
      "\n"
     ]
    },
    {
     "name": "stderr",
     "output_type": "stream",
     "text": [
      "Train: 100%|██████████| 3189/3189 [02:11<00:00, 24.23it/s, accuracy=0.00781, train_loss=7.32]\n",
      "Evaluation:  95%|█████████▌| 20/21 [00:29<00:01,  1.49s/it]\n"
     ]
    },
    {
     "name": "stdout",
     "output_type": "stream",
     "text": [
      "\t - Recall@50 epoch 7: 0.102344\n",
      "\t - MRR@50    epoch 7: 0.012051\n",
      "\n"
     ]
    },
    {
     "name": "stderr",
     "output_type": "stream",
     "text": [
      "Train: 100%|██████████| 3189/3189 [02:09<00:00, 24.65it/s, accuracy=0.00781, train_loss=7.32]\n",
      "Evaluation:  95%|█████████▌| 20/21 [00:29<00:01,  1.48s/it]\n"
     ]
    },
    {
     "name": "stdout",
     "output_type": "stream",
     "text": [
      "\t - Recall@50 epoch 8: 0.102344\n",
      "\t - MRR@50    epoch 8: 0.012049\n",
      "\n"
     ]
    },
    {
     "name": "stderr",
     "output_type": "stream",
     "text": [
      "Train: 100%|██████████| 3189/3189 [02:09<00:00, 24.56it/s, accuracy=0.00781, train_loss=7.31]\n",
      "Evaluation:  95%|█████████▌| 20/21 [00:29<00:01,  1.45s/it]\n"
     ]
    },
    {
     "name": "stdout",
     "output_type": "stream",
     "text": [
      "\t - Recall@50 epoch 9: 0.102344\n",
      "\t - MRR@50    epoch 9: 0.012050\n",
      "\n"
     ]
    },
    {
     "name": "stderr",
     "output_type": "stream",
     "text": [
      "Train: 100%|██████████| 3189/3189 [02:11<00:00, 24.34it/s, accuracy=0.00781, train_loss=7.31]\n",
      "Evaluation:  95%|█████████▌| 20/21 [00:29<00:01,  1.45s/it]"
     ]
    },
    {
     "name": "stdout",
     "output_type": "stream",
     "text": [
      "\t - Recall@50 epoch 10: 0.102344\n",
      "\t - MRR@50    epoch 10: 0.012048\n",
      "\n"
     ]
    },
    {
     "name": "stderr",
     "output_type": "stream",
     "text": [
      "\n"
     ]
    }
   ],
   "source": [
    "args = Args(tr, val, test, batch_size=128, hsz=50, drop_rate=0.01, lr=0.00001, epochs=10, k=50)\n",
    "train_model(model_1, args)"
   ]
  },
  {
   "cell_type": "code",
   "execution_count": 80,
   "id": "a682773b",
   "metadata": {
    "scrolled": true
   },
   "outputs": [
    {
     "name": "stderr",
     "output_type": "stream",
     "text": [
      "Evaluation:  93%|█████████▎| 14/15 [00:09<00:00,  1.44it/s]"
     ]
    },
    {
     "name": "stdout",
     "output_type": "stream",
     "text": [
      "\t - Recall@50: 0.053571\n",
      "\t - MRR@50: 0.012630\n",
      "\n"
     ]
    },
    {
     "name": "stderr",
     "output_type": "stream",
     "text": [
      "\n"
     ]
    }
   ],
   "source": [
    "def test_model(model_1, args, test):\n",
    "    test_recall, test_mrr = get_metrics(test, model_1, args, 20)\n",
    "    print(f\"\\t - Recall@{args.k}: {test_recall:3f}\")\n",
    "    print(f\"\\t - MRR@{args.k}: {test_mrr:3f}\\n\")\n",
    "\n",
    "test_model(model_1, args, test)"
   ]
  },
  {
   "cell_type": "markdown",
   "id": "2ac00432",
   "metadata": {},
   "source": [
    "#### 시도 4.   \n",
    "args = Args(tr, val, test, batch_size=128, hsz=50, drop_rate=0.1, lr=0.001, epochs=10, k=50) 이번에는 drop_rate 랑 lr 값을 변경 시켜봤다."
   ]
  },
  {
   "cell_type": "code",
   "execution_count": 81,
   "id": "606ca30e",
   "metadata": {},
   "outputs": [],
   "source": [
    "class Args:\n",
    "    def __init__(self, tr, val, test, batch_size, hsz, drop_rate, lr, epochs, k):\n",
    "        self.tr = tr\n",
    "        self.val = val\n",
    "        self.test = test\n",
    "        self.num_items = tr['ItemId'].nunique()\n",
    "        self.num_sessions = tr['SessionId'].nunique()\n",
    "        self.batch_size = batch_size\n",
    "        self.hsz = hsz\n",
    "        self.drop_rate = drop_rate\n",
    "        self.lr = lr\n",
    "        self.epochs = epochs\n",
    "        self.k = k\n",
    "\n",
    "args = Args(tr, val, test, batch_size=128, hsz=50, drop_rate=0.1, lr=0.001, epochs=10, k=50)"
   ]
  },
  {
   "cell_type": "code",
   "execution_count": 82,
   "id": "b971e793",
   "metadata": {},
   "outputs": [
    {
     "name": "stdout",
     "output_type": "stream",
     "text": [
      "Model: \"model_3\"\n",
      "_________________________________________________________________\n",
      "Layer (type)                 Output Shape              Param #   \n",
      "=================================================================\n",
      "input_4 (InputLayer)         [(128, 1, 3618)]          0         \n",
      "_________________________________________________________________\n",
      "GRU (GRU)                    [(128, 50), (128, 50)]    550500    \n",
      "_________________________________________________________________\n",
      "dropout_3 (Dropout)          (128, 50)                 0         \n",
      "_________________________________________________________________\n",
      "dense_3 (Dense)              (128, 3618)               184518    \n",
      "=================================================================\n",
      "Total params: 735,018\n",
      "Trainable params: 735,018\n",
      "Non-trainable params: 0\n",
      "_________________________________________________________________\n"
     ]
    }
   ],
   "source": [
    "model_2 = create_model(args)"
   ]
  },
  {
   "cell_type": "code",
   "execution_count": 83,
   "id": "deb7cb87",
   "metadata": {},
   "outputs": [
    {
     "name": "stderr",
     "output_type": "stream",
     "text": [
      "Train: 100%|██████████| 3189/3189 [02:13<00:00, 23.86it/s, accuracy=0.00781, train_loss=6.52]\n",
      "Evaluation:  95%|█████████▌| 20/21 [00:27<00:01,  1.39s/it]\n"
     ]
    },
    {
     "name": "stdout",
     "output_type": "stream",
     "text": [
      "\t - Recall@50 epoch 1: 0.197266\n",
      "\t - MRR@50    epoch 1: 0.037662\n",
      "\n"
     ]
    },
    {
     "name": "stderr",
     "output_type": "stream",
     "text": [
      "Train: 100%|██████████| 3189/3189 [02:10<00:00, 24.52it/s, accuracy=0.00781, train_loss=6.19]\n",
      "Evaluation:  95%|█████████▌| 20/21 [00:25<00:01,  1.27s/it]\n"
     ]
    },
    {
     "name": "stdout",
     "output_type": "stream",
     "text": [
      "\t - Recall@50 epoch 2: 0.296875\n",
      "\t - MRR@50    epoch 2: 0.068648\n",
      "\n"
     ]
    },
    {
     "name": "stderr",
     "output_type": "stream",
     "text": [
      "Train: 100%|██████████| 3189/3189 [02:10<00:00, 24.53it/s, accuracy=0.0312, train_loss=6.06] \n",
      "Evaluation:  95%|█████████▌| 20/21 [00:24<00:01,  1.23s/it]\n"
     ]
    },
    {
     "name": "stdout",
     "output_type": "stream",
     "text": [
      "\t - Recall@50 epoch 3: 0.336328\n",
      "\t - MRR@50    epoch 3: 0.079545\n",
      "\n"
     ]
    },
    {
     "name": "stderr",
     "output_type": "stream",
     "text": [
      "Train: 100%|██████████| 3189/3189 [02:11<00:00, 24.18it/s, accuracy=0.0234, train_loss=5.99] \n",
      "Evaluation:  95%|█████████▌| 20/21 [00:24<00:01,  1.20s/it]\n"
     ]
    },
    {
     "name": "stdout",
     "output_type": "stream",
     "text": [
      "\t - Recall@50 epoch 4: 0.353906\n",
      "\t - MRR@50    epoch 4: 0.083676\n",
      "\n"
     ]
    },
    {
     "name": "stderr",
     "output_type": "stream",
     "text": [
      "Train: 100%|██████████| 3189/3189 [02:10<00:00, 24.51it/s, accuracy=0.0234, train_loss=6]    \n",
      "Evaluation:  95%|█████████▌| 20/21 [00:23<00:01,  1.20s/it]\n"
     ]
    },
    {
     "name": "stdout",
     "output_type": "stream",
     "text": [
      "\t - Recall@50 epoch 5: 0.358984\n",
      "\t - MRR@50    epoch 5: 0.086098\n",
      "\n"
     ]
    },
    {
     "name": "stderr",
     "output_type": "stream",
     "text": [
      "Train: 100%|██████████| 3189/3189 [02:10<00:00, 24.36it/s, accuracy=0.0156, train_loss=5.96] \n",
      "Evaluation:  95%|█████████▌| 20/21 [00:24<00:01,  1.21s/it]\n"
     ]
    },
    {
     "name": "stdout",
     "output_type": "stream",
     "text": [
      "\t - Recall@50 epoch 6: 0.362109\n",
      "\t - MRR@50    epoch 6: 0.088399\n",
      "\n"
     ]
    },
    {
     "name": "stderr",
     "output_type": "stream",
     "text": [
      "Train: 100%|██████████| 3189/3189 [02:09<00:00, 24.53it/s, accuracy=0.0156, train_loss=5.9]  \n",
      "Evaluation:  95%|█████████▌| 20/21 [00:24<00:01,  1.22s/it]\n"
     ]
    },
    {
     "name": "stdout",
     "output_type": "stream",
     "text": [
      "\t - Recall@50 epoch 7: 0.363281\n",
      "\t - MRR@50    epoch 7: 0.088157\n",
      "\n"
     ]
    },
    {
     "name": "stderr",
     "output_type": "stream",
     "text": [
      "Train: 100%|██████████| 3189/3189 [02:10<00:00, 24.48it/s, accuracy=0.0156, train_loss=5.85] \n",
      "Evaluation:  95%|█████████▌| 20/21 [00:23<00:01,  1.19s/it]\n"
     ]
    },
    {
     "name": "stdout",
     "output_type": "stream",
     "text": [
      "\t - Recall@50 epoch 8: 0.362500\n",
      "\t - MRR@50    epoch 8: 0.089199\n",
      "\n"
     ]
    },
    {
     "name": "stderr",
     "output_type": "stream",
     "text": [
      "Train: 100%|██████████| 3189/3189 [02:09<00:00, 24.64it/s, accuracy=0.0156, train_loss=5.84] \n",
      "Evaluation:  95%|█████████▌| 20/21 [00:23<00:01,  1.20s/it]\n"
     ]
    },
    {
     "name": "stdout",
     "output_type": "stream",
     "text": [
      "\t - Recall@50 epoch 9: 0.362109\n",
      "\t - MRR@50    epoch 9: 0.089911\n",
      "\n"
     ]
    },
    {
     "name": "stderr",
     "output_type": "stream",
     "text": [
      "Train: 100%|██████████| 3189/3189 [02:10<00:00, 24.53it/s, accuracy=0.0469, train_loss=5.87] \n",
      "Evaluation:  95%|█████████▌| 20/21 [00:24<00:01,  1.22s/it]"
     ]
    },
    {
     "name": "stdout",
     "output_type": "stream",
     "text": [
      "\t - Recall@50 epoch 10: 0.362500\n",
      "\t - MRR@50    epoch 10: 0.089220\n",
      "\n"
     ]
    },
    {
     "name": "stderr",
     "output_type": "stream",
     "text": [
      "\n"
     ]
    }
   ],
   "source": [
    "args = Args(tr, val, test, batch_size=128, hsz=50, drop_rate=0.1, lr=0.001, epochs=10, k=50)\n",
    "train_model(model_2, args)"
   ]
  },
  {
   "cell_type": "code",
   "execution_count": 84,
   "id": "f79841ab",
   "metadata": {},
   "outputs": [
    {
     "name": "stderr",
     "output_type": "stream",
     "text": [
      "Evaluation:  93%|█████████▎| 14/15 [00:09<00:00,  1.53it/s]"
     ]
    },
    {
     "name": "stdout",
     "output_type": "stream",
     "text": [
      "\t - Recall@50: 0.235491\n",
      "\t - MRR@50: 0.079946\n",
      "\n"
     ]
    },
    {
     "name": "stderr",
     "output_type": "stream",
     "text": [
      "\n"
     ]
    }
   ],
   "source": [
    "def test_model(model_2, args, test):\n",
    "    test_recall, test_mrr = get_metrics(test, model_2, args, 20)\n",
    "    print(f\"\\t - Recall@{args.k}: {test_recall:3f}\")\n",
    "    print(f\"\\t - MRR@{args.k}: {test_mrr:3f}\\n\")\n",
    "\n",
    "test_model(model_2, args, test)"
   ]
  },
  {
   "cell_type": "markdown",
   "id": "f9c41d01",
   "metadata": {},
   "source": [
    "#### 시도 5.   \n",
    "args = Args(tr, val, test, batch_size=128, hsz=50, drop_rate=0.01, lr=0.00001, epochs=30, k=50)  이번에는 epochs를 30으로 확 늘려보았다."
   ]
  },
  {
   "cell_type": "code",
   "execution_count": 85,
   "id": "cd114071",
   "metadata": {},
   "outputs": [],
   "source": [
    "class Args:\n",
    "    def __init__(self, tr, val, test, batch_size, hsz, drop_rate, lr, epochs, k):\n",
    "        self.tr = tr\n",
    "        self.val = val\n",
    "        self.test = test\n",
    "        self.num_items = tr['ItemId'].nunique()\n",
    "        self.num_sessions = tr['SessionId'].nunique()\n",
    "        self.batch_size = batch_size\n",
    "        self.hsz = hsz\n",
    "        self.drop_rate = drop_rate\n",
    "        self.lr = lr\n",
    "        self.epochs = epochs\n",
    "        self.k = k\n",
    "\n",
    "args = Args(tr, val, test, batch_size=128, hsz=50, drop_rate=0.01, lr=0.00001, epochs=30, k=50)"
   ]
  },
  {
   "cell_type": "code",
   "execution_count": 86,
   "id": "0813781e",
   "metadata": {},
   "outputs": [
    {
     "name": "stdout",
     "output_type": "stream",
     "text": [
      "Model: \"model_4\"\n",
      "_________________________________________________________________\n",
      "Layer (type)                 Output Shape              Param #   \n",
      "=================================================================\n",
      "input_5 (InputLayer)         [(128, 1, 3618)]          0         \n",
      "_________________________________________________________________\n",
      "GRU (GRU)                    [(128, 50), (128, 50)]    550500    \n",
      "_________________________________________________________________\n",
      "dropout_4 (Dropout)          (128, 50)                 0         \n",
      "_________________________________________________________________\n",
      "dense_4 (Dense)              (128, 3618)               184518    \n",
      "=================================================================\n",
      "Total params: 735,018\n",
      "Trainable params: 735,018\n",
      "Non-trainable params: 0\n",
      "_________________________________________________________________\n"
     ]
    }
   ],
   "source": [
    "model_3 = create_model(args)"
   ]
  },
  {
   "cell_type": "code",
   "execution_count": 87,
   "id": "87c0fd42",
   "metadata": {
    "scrolled": false
   },
   "outputs": [
    {
     "name": "stderr",
     "output_type": "stream",
     "text": [
      "Train: 100%|██████████| 3189/3189 [02:11<00:00, 24.19it/s, accuracy=0.00781, train_loss=7.63]\n",
      "Evaluation:  95%|█████████▌| 20/21 [00:29<00:01,  1.47s/it]\n"
     ]
    },
    {
     "name": "stdout",
     "output_type": "stream",
     "text": [
      "\t - Recall@50 epoch 1: 0.094531\n",
      "\t - MRR@50    epoch 1: 0.010327\n",
      "\n"
     ]
    },
    {
     "name": "stderr",
     "output_type": "stream",
     "text": [
      "Train: 100%|██████████| 3189/3189 [02:10<00:00, 24.52it/s, accuracy=0.00781, train_loss=7.44]\n",
      "Evaluation:  95%|█████████▌| 20/21 [00:29<00:01,  1.47s/it]\n"
     ]
    },
    {
     "name": "stdout",
     "output_type": "stream",
     "text": [
      "\t - Recall@50 epoch 2: 0.099609\n",
      "\t - MRR@50    epoch 2: 0.011304\n",
      "\n"
     ]
    },
    {
     "name": "stderr",
     "output_type": "stream",
     "text": [
      "Train: 100%|██████████| 3189/3189 [02:11<00:00, 24.19it/s, accuracy=0.00781, train_loss=7.37]\n",
      "Evaluation:  95%|█████████▌| 20/21 [00:29<00:01,  1.45s/it]\n"
     ]
    },
    {
     "name": "stdout",
     "output_type": "stream",
     "text": [
      "\t - Recall@50 epoch 3: 0.098437\n",
      "\t - MRR@50    epoch 3: 0.011903\n",
      "\n"
     ]
    },
    {
     "name": "stderr",
     "output_type": "stream",
     "text": [
      "Train: 100%|██████████| 3189/3189 [02:11<00:00, 24.23it/s, accuracy=0.00781, train_loss=7.34]\n",
      "Evaluation:  95%|█████████▌| 20/21 [00:29<00:01,  1.46s/it]\n"
     ]
    },
    {
     "name": "stdout",
     "output_type": "stream",
     "text": [
      "\t - Recall@50 epoch 4: 0.100391\n",
      "\t - MRR@50    epoch 4: 0.011961\n",
      "\n"
     ]
    },
    {
     "name": "stderr",
     "output_type": "stream",
     "text": [
      "Train: 100%|██████████| 3189/3189 [02:13<00:00, 23.91it/s, accuracy=0.00781, train_loss=7.33]\n",
      "Evaluation:  95%|█████████▌| 20/21 [00:29<00:01,  1.47s/it]\n"
     ]
    },
    {
     "name": "stdout",
     "output_type": "stream",
     "text": [
      "\t - Recall@50 epoch 5: 0.101953\n",
      "\t - MRR@50    epoch 5: 0.011998\n",
      "\n"
     ]
    },
    {
     "name": "stderr",
     "output_type": "stream",
     "text": [
      "Train: 100%|██████████| 3189/3189 [02:07<00:00, 24.94it/s, accuracy=0.00781, train_loss=7.32]\n",
      "Evaluation:  95%|█████████▌| 20/21 [00:29<00:01,  1.49s/it]\n"
     ]
    },
    {
     "name": "stdout",
     "output_type": "stream",
     "text": [
      "\t - Recall@50 epoch 6: 0.102344\n",
      "\t - MRR@50    epoch 6: 0.012043\n",
      "\n"
     ]
    },
    {
     "name": "stderr",
     "output_type": "stream",
     "text": [
      "Train: 100%|██████████| 3189/3189 [02:11<00:00, 24.23it/s, accuracy=0.00781, train_loss=7.32]\n",
      "Evaluation:  95%|█████████▌| 20/21 [00:29<00:01,  1.47s/it]\n"
     ]
    },
    {
     "name": "stdout",
     "output_type": "stream",
     "text": [
      "\t - Recall@50 epoch 7: 0.102344\n",
      "\t - MRR@50    epoch 7: 0.012057\n",
      "\n"
     ]
    },
    {
     "name": "stderr",
     "output_type": "stream",
     "text": [
      "Train: 100%|██████████| 3189/3189 [02:12<00:00, 24.14it/s, accuracy=0.00781, train_loss=7.31]\n",
      "Evaluation:  95%|█████████▌| 20/21 [00:29<00:01,  1.50s/it]\n"
     ]
    },
    {
     "name": "stdout",
     "output_type": "stream",
     "text": [
      "\t - Recall@50 epoch 8: 0.101953\n",
      "\t - MRR@50    epoch 8: 0.012044\n",
      "\n"
     ]
    },
    {
     "name": "stderr",
     "output_type": "stream",
     "text": [
      "Train: 100%|██████████| 3189/3189 [02:12<00:00, 24.02it/s, accuracy=0.00781, train_loss=7.31]\n",
      "Evaluation:  95%|█████████▌| 20/21 [00:29<00:01,  1.50s/it]\n"
     ]
    },
    {
     "name": "stdout",
     "output_type": "stream",
     "text": [
      "\t - Recall@50 epoch 9: 0.101953\n",
      "\t - MRR@50    epoch 9: 0.012044\n",
      "\n"
     ]
    },
    {
     "name": "stderr",
     "output_type": "stream",
     "text": [
      "Train: 100%|██████████| 3189/3189 [02:11<00:00, 24.23it/s, accuracy=0.00781, train_loss=7.31]\n",
      "Evaluation:  95%|█████████▌| 20/21 [00:29<00:01,  1.46s/it]\n"
     ]
    },
    {
     "name": "stdout",
     "output_type": "stream",
     "text": [
      "\t - Recall@50 epoch 10: 0.101953\n",
      "\t - MRR@50    epoch 10: 0.012047\n",
      "\n"
     ]
    },
    {
     "name": "stderr",
     "output_type": "stream",
     "text": [
      "Train: 100%|██████████| 3189/3189 [02:10<00:00, 24.45it/s, accuracy=0.00781, train_loss=7.31]\n",
      "Evaluation:  95%|█████████▌| 20/21 [00:29<00:01,  1.48s/it]\n"
     ]
    },
    {
     "name": "stdout",
     "output_type": "stream",
     "text": [
      "\t - Recall@50 epoch 11: 0.101953\n",
      "\t - MRR@50    epoch 11: 0.012047\n",
      "\n"
     ]
    },
    {
     "name": "stderr",
     "output_type": "stream",
     "text": [
      "Train: 100%|██████████| 3189/3189 [02:10<00:00, 24.52it/s, accuracy=0.00781, train_loss=7.31]\n",
      "Evaluation:  95%|█████████▌| 20/21 [00:29<00:01,  1.46s/it]\n"
     ]
    },
    {
     "name": "stdout",
     "output_type": "stream",
     "text": [
      "\t - Recall@50 epoch 12: 0.101953\n",
      "\t - MRR@50    epoch 12: 0.012047\n",
      "\n"
     ]
    },
    {
     "name": "stderr",
     "output_type": "stream",
     "text": [
      "Train: 100%|██████████| 3189/3189 [02:10<00:00, 24.42it/s, accuracy=0.00781, train_loss=7.31]\n",
      "Evaluation:  95%|█████████▌| 20/21 [00:29<00:01,  1.46s/it]\n"
     ]
    },
    {
     "name": "stdout",
     "output_type": "stream",
     "text": [
      "\t - Recall@50 epoch 13: 0.101953\n",
      "\t - MRR@50    epoch 13: 0.012045\n",
      "\n"
     ]
    },
    {
     "name": "stderr",
     "output_type": "stream",
     "text": [
      "Train: 100%|██████████| 3189/3189 [02:09<00:00, 24.63it/s, accuracy=0.00781, train_loss=7.3] \n",
      "Evaluation:  95%|█████████▌| 20/21 [00:28<00:01,  1.44s/it]\n"
     ]
    },
    {
     "name": "stdout",
     "output_type": "stream",
     "text": [
      "\t - Recall@50 epoch 14: 0.103516\n",
      "\t - MRR@50    epoch 14: 0.012078\n",
      "\n"
     ]
    },
    {
     "name": "stderr",
     "output_type": "stream",
     "text": [
      "Train: 100%|██████████| 3189/3189 [02:10<00:00, 24.37it/s, accuracy=0.00781, train_loss=7.3] \n",
      "Evaluation:  95%|█████████▌| 20/21 [00:29<00:01,  1.48s/it]\n"
     ]
    },
    {
     "name": "stdout",
     "output_type": "stream",
     "text": [
      "\t - Recall@50 epoch 15: 0.101953\n",
      "\t - MRR@50    epoch 15: 0.012047\n",
      "\n"
     ]
    },
    {
     "name": "stderr",
     "output_type": "stream",
     "text": [
      "Train: 100%|██████████| 3189/3189 [02:09<00:00, 24.58it/s, accuracy=0.00781, train_loss=7.3] \n",
      "Evaluation:  95%|█████████▌| 20/21 [00:29<00:01,  1.48s/it]\n"
     ]
    },
    {
     "name": "stdout",
     "output_type": "stream",
     "text": [
      "\t - Recall@50 epoch 16: 0.103516\n",
      "\t - MRR@50    epoch 16: 0.012078\n",
      "\n"
     ]
    },
    {
     "name": "stderr",
     "output_type": "stream",
     "text": [
      "Train: 100%|██████████| 3189/3189 [02:09<00:00, 24.58it/s, accuracy=0.00781, train_loss=7.3] \n",
      "Evaluation:  95%|█████████▌| 20/21 [00:29<00:01,  1.45s/it]\n"
     ]
    },
    {
     "name": "stdout",
     "output_type": "stream",
     "text": [
      "\t - Recall@50 epoch 17: 0.101953\n",
      "\t - MRR@50    epoch 17: 0.012047\n",
      "\n"
     ]
    },
    {
     "name": "stderr",
     "output_type": "stream",
     "text": [
      "Train: 100%|██████████| 3189/3189 [02:09<00:00, 24.60it/s, accuracy=0.00781, train_loss=7.3] \n",
      "Evaluation:  95%|█████████▌| 20/21 [00:29<00:01,  1.49s/it]\n"
     ]
    },
    {
     "name": "stdout",
     "output_type": "stream",
     "text": [
      "\t - Recall@50 epoch 18: 0.103516\n",
      "\t - MRR@50    epoch 18: 0.012076\n",
      "\n"
     ]
    },
    {
     "name": "stderr",
     "output_type": "stream",
     "text": [
      "Train: 100%|██████████| 3189/3189 [02:11<00:00, 24.17it/s, accuracy=0.00781, train_loss=7.3] \n",
      "Evaluation:  95%|█████████▌| 20/21 [00:29<00:01,  1.48s/it]\n"
     ]
    },
    {
     "name": "stdout",
     "output_type": "stream",
     "text": [
      "\t - Recall@50 epoch 19: 0.103516\n",
      "\t - MRR@50    epoch 19: 0.012086\n",
      "\n"
     ]
    },
    {
     "name": "stderr",
     "output_type": "stream",
     "text": [
      "Train: 100%|██████████| 3189/3189 [02:12<00:00, 24.00it/s, accuracy=0.00781, train_loss=7.3] \n",
      "Evaluation:  95%|█████████▌| 20/21 [00:29<00:01,  1.46s/it]\n"
     ]
    },
    {
     "name": "stdout",
     "output_type": "stream",
     "text": [
      "\t - Recall@50 epoch 20: 0.103516\n",
      "\t - MRR@50    epoch 20: 0.012076\n",
      "\n"
     ]
    },
    {
     "name": "stderr",
     "output_type": "stream",
     "text": [
      "Train: 100%|██████████| 3189/3189 [02:11<00:00, 24.23it/s, accuracy=0.00781, train_loss=7.3] \n",
      "Evaluation:  95%|█████████▌| 20/21 [00:30<00:01,  1.52s/it]\n"
     ]
    },
    {
     "name": "stdout",
     "output_type": "stream",
     "text": [
      "\t - Recall@50 epoch 21: 0.103516\n",
      "\t - MRR@50    epoch 21: 0.012086\n",
      "\n"
     ]
    },
    {
     "name": "stderr",
     "output_type": "stream",
     "text": [
      "Train: 100%|██████████| 3189/3189 [02:11<00:00, 24.21it/s, accuracy=0.00781, train_loss=7.3] \n",
      "Evaluation:  95%|█████████▌| 20/21 [00:29<00:01,  1.48s/it]\n"
     ]
    },
    {
     "name": "stdout",
     "output_type": "stream",
     "text": [
      "\t - Recall@50 epoch 22: 0.103516\n",
      "\t - MRR@50    epoch 22: 0.012086\n",
      "\n"
     ]
    },
    {
     "name": "stderr",
     "output_type": "stream",
     "text": [
      "Train: 100%|██████████| 3189/3189 [02:12<00:00, 24.08it/s, accuracy=0.00781, train_loss=7.3] \n",
      "Evaluation:  95%|█████████▌| 20/21 [00:29<00:01,  1.48s/it]\n"
     ]
    },
    {
     "name": "stdout",
     "output_type": "stream",
     "text": [
      "\t - Recall@50 epoch 23: 0.103516\n",
      "\t - MRR@50    epoch 23: 0.012107\n",
      "\n"
     ]
    },
    {
     "name": "stderr",
     "output_type": "stream",
     "text": [
      "Train: 100%|██████████| 3189/3189 [02:12<00:00, 24.13it/s, accuracy=0.00781, train_loss=7.3] \n",
      "Evaluation:  95%|█████████▌| 20/21 [00:29<00:01,  1.49s/it]\n"
     ]
    },
    {
     "name": "stdout",
     "output_type": "stream",
     "text": [
      "\t - Recall@50 epoch 24: 0.103516\n",
      "\t - MRR@50    epoch 24: 0.012086\n",
      "\n"
     ]
    },
    {
     "name": "stderr",
     "output_type": "stream",
     "text": [
      "Train: 100%|██████████| 3189/3189 [02:10<00:00, 24.40it/s, accuracy=0.00781, train_loss=7.3] \n",
      "Evaluation:  95%|█████████▌| 20/21 [00:29<00:01,  1.49s/it]\n"
     ]
    },
    {
     "name": "stdout",
     "output_type": "stream",
     "text": [
      "\t - Recall@50 epoch 25: 0.103516\n",
      "\t - MRR@50    epoch 25: 0.012086\n",
      "\n"
     ]
    },
    {
     "name": "stderr",
     "output_type": "stream",
     "text": [
      "Train: 100%|██████████| 3189/3189 [02:09<00:00, 24.62it/s, accuracy=0.00781, train_loss=7.3] \n",
      "Evaluation:  95%|█████████▌| 20/21 [00:29<00:01,  1.46s/it]\n"
     ]
    },
    {
     "name": "stdout",
     "output_type": "stream",
     "text": [
      "\t - Recall@50 epoch 26: 0.101953\n",
      "\t - MRR@50    epoch 26: 0.012055\n",
      "\n"
     ]
    },
    {
     "name": "stderr",
     "output_type": "stream",
     "text": [
      "Train: 100%|██████████| 3189/3189 [02:12<00:00, 24.03it/s, accuracy=0.00781, train_loss=7.3] \n",
      "Evaluation:  95%|█████████▌| 20/21 [00:29<00:01,  1.48s/it]\n"
     ]
    },
    {
     "name": "stdout",
     "output_type": "stream",
     "text": [
      "\t - Recall@50 epoch 27: 0.101953\n",
      "\t - MRR@50    epoch 27: 0.012076\n",
      "\n"
     ]
    },
    {
     "name": "stderr",
     "output_type": "stream",
     "text": [
      "Train: 100%|██████████| 3189/3189 [02:11<00:00, 24.33it/s, accuracy=0.00781, train_loss=7.3] \n",
      "Evaluation:  95%|█████████▌| 20/21 [00:30<00:01,  1.52s/it]\n"
     ]
    },
    {
     "name": "stdout",
     "output_type": "stream",
     "text": [
      "\t - Recall@50 epoch 28: 0.103516\n",
      "\t - MRR@50    epoch 28: 0.012107\n",
      "\n"
     ]
    },
    {
     "name": "stderr",
     "output_type": "stream",
     "text": [
      "Train: 100%|██████████| 3189/3189 [02:12<00:00, 24.10it/s, accuracy=0.00781, train_loss=7.3] \n",
      "Evaluation:  95%|█████████▌| 20/21 [00:29<00:01,  1.48s/it]\n"
     ]
    },
    {
     "name": "stdout",
     "output_type": "stream",
     "text": [
      "\t - Recall@50 epoch 29: 0.103516\n",
      "\t - MRR@50    epoch 29: 0.012107\n",
      "\n"
     ]
    },
    {
     "name": "stderr",
     "output_type": "stream",
     "text": [
      "Train: 100%|██████████| 3189/3189 [02:12<00:00, 23.99it/s, accuracy=0, train_loss=7.3]       \n",
      "Evaluation:  95%|█████████▌| 20/21 [00:29<00:01,  1.48s/it]"
     ]
    },
    {
     "name": "stdout",
     "output_type": "stream",
     "text": [
      "\t - Recall@50 epoch 30: 0.101953\n",
      "\t - MRR@50    epoch 30: 0.012076\n",
      "\n"
     ]
    },
    {
     "name": "stderr",
     "output_type": "stream",
     "text": [
      "\n"
     ]
    }
   ],
   "source": [
    "args = Args(tr, val, test, batch_size=128, hsz=50, drop_rate=0.1, lr=0.001, epochs=30, k=50)\n",
    "train_model(model_3, args)"
   ]
  },
  {
   "cell_type": "code",
   "execution_count": 88,
   "id": "6ca4b938",
   "metadata": {
    "scrolled": true
   },
   "outputs": [
    {
     "name": "stderr",
     "output_type": "stream",
     "text": [
      "Evaluation:  93%|█████████▎| 14/15 [00:09<00:00,  1.42it/s]"
     ]
    },
    {
     "name": "stdout",
     "output_type": "stream",
     "text": [
      "\t - Recall@50: 0.053571\n",
      "\t - MRR@50: 0.012672\n",
      "\n"
     ]
    },
    {
     "name": "stderr",
     "output_type": "stream",
     "text": [
      "\n"
     ]
    }
   ],
   "source": [
    "def test_model(model_3, args, test):\n",
    "    test_recall, test_mrr = get_metrics(test, model_3, args, 20)\n",
    "    print(f\"\\t - Recall@{args.k}: {test_recall:3f}\")\n",
    "    print(f\"\\t - MRR@{args.k}: {test_mrr:3f}\\n\")\n",
    "\n",
    "test_model(model_3, args, test)"
   ]
  },
  {
   "cell_type": "markdown",
   "id": "53732498",
   "metadata": {},
   "source": [
    "# 회고~"
   ]
  },
  {
   "cell_type": "markdown",
   "id": "de719f61",
   "metadata": {},
   "source": [
    "## < 어려웠던 점>   \n",
    "더 여러가지 시도를 해보고 싶었는데 잘 변경을 하지 못해서 아쉽다... 다양한 결과를 보고 분석을 해보고 싶었지만 그게 잘 안되는거 같아서 속상하다. 아직까지 코드나 결과값을 분석을 하는거에 익숙하지 않아서 쉽지가 않은 것 같다...휴우 열심히 해야하는데 할 게 많아서 시간을 더 많이 쏟지 않았던 것 같다...(핑계)"
   ]
  },
  {
   "cell_type": "markdown",
   "id": "b4dbc2ac",
   "metadata": {},
   "source": [
    "## < 알아낸 점> & < 아직까지 모호한 점>      \n",
    "추천시스템에서 여러가지를 배워봤지만 또 SBR 은 처음해보는 것 같다. SBR 은 Session based Recommendation의 줄인말이라는 것도 알게되었다. "
   ]
  },
  {
   "cell_type": "markdown",
   "id": "0d804567",
   "metadata": {},
   "source": [
    "## <시도한 것들>    \n",
    "\n",
    "- 시도 1.   \n",
    "    args = Args(tr, val, test, batch_size=256, hsz=50, drop_rate=0.01, lr=0.00001, epochs=3, k=50) 기본으로 설정하고 한 번 결과를 봤다!        \n",
    "        \n",
    "- 시도 2.   \n",
    "    args = Args(tr, val, test, batch_size=256, hsz=50, drop_rate=0.01, lr=0.00001, epochs=10, k=50)  에폭을 3에서 10으로 증가시켰다.       \n",
    "    \n",
    "-  시도 3.   \n",
    "    args = Args(tr, val, test, batch_size=128, hsz=50, drop_rate=0.01, lr=0.00001, epochs=10, k=50) 기본으로 설정하고 한 번 결과를 봤다! batch_size 를 줄이고 에폭을 3에서 10으로 증가시켰다.      \n",
    "    \n",
    "- 시도 4.   \n",
    "    args = Args(tr, val, test, batch_size=128, hsz=50, drop_rate=0.1, lr=0.001, epochs=10, k=50) 이번에는 drop_rate 랑 lr 값을 변경 시켜봤다.      \n",
    "    \n",
    "- 시도 5.   \n",
    "    args = Args(tr, val, test, batch_size=128, hsz=50, drop_rate=0.01, lr=0.00001, epochs=30, k=50)  이번에는 epochs를 30으로 확 늘려보았다.        \n",
    "    \n",
    "    \n",
    "    \n",
    "    \n",
    "내가 할 수 있는 하이퍼파라미터를 변경은 열심히 해봤다!"
   ]
  },
  {
   "cell_type": "markdown",
   "id": "f380df4f",
   "metadata": {},
   "source": [
    "## < 자기 다짐>    \n",
    "이번 노드는 결과값을 분석하는데 조금 공부가 부족했던 것 같다. 그래서 항상 익스를 할 때마다 결과값을 분석해서 결론을 내려고 노력하는데 이번에는 그러지 못해서 아쉬운 것 같다. 결론은 공부를 빡시게 해서 좀 더 상식? 아는 것을 늘려서 결과분석이나 시도를 다양하게 해보고 싶다. 할 게 많고 고잉디퍼에 들어가니까 머리가 아프지만! 익스를 하니까 숨이 쉬어져서 익스를 제출하기가 싫을 지경이다... 고잉디퍼도 익숙해지는 시기가 있겠지..? 힘들지만 화이팅합시당~ 화이팅!!!!!!!!!!!!!!!!!!!!!!!!!!!!!!!!!!!!!!!!!!!!!!!!!!!!!!!!!!!!!!!!!!!!!!!!!!!!!!!!!!!!!!!!!!!!"
   ]
  }
 ],
 "metadata": {
  "kernelspec": {
   "display_name": "Python 3 (ipykernel)",
   "language": "python",
   "name": "python3"
  },
  "language_info": {
   "codemirror_mode": {
    "name": "ipython",
    "version": 3
   },
   "file_extension": ".py",
   "mimetype": "text/x-python",
   "name": "python",
   "nbconvert_exporter": "python",
   "pygments_lexer": "ipython3",
   "version": "3.9.7"
  }
 },
 "nbformat": 4,
 "nbformat_minor": 5
}
