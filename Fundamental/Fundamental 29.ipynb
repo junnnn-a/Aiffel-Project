{
 "cells": [
  {
   "cell_type": "markdown",
   "id": "a9f880a1",
   "metadata": {},
   "source": [
    "# FUNDAMENTAL_29.   \n",
    "# 사이킷런을 활용한 추천 시스템 입문"
   ]
  },
  {
   "cell_type": "markdown",
   "id": "4db118c3",
   "metadata": {},
   "source": [
    "### 코사인 유사도 구하기  \n",
    "### (1). NumPy 를 활용"
   ]
  },
  {
   "cell_type": "code",
   "execution_count": 5,
   "id": "e7d9c889",
   "metadata": {},
   "outputs": [],
   "source": [
    "import numpy as np\n",
    "\n",
    "t1 = np.array([1, 1, 1])\n",
    "t2 = np.array([2, 0, 1])"
   ]
  },
  {
   "cell_type": "code",
   "execution_count": 6,
   "id": "e67d66fe",
   "metadata": {},
   "outputs": [],
   "source": [
    "from numpy import dot\n",
    "from numpy.linalg import norm\n",
    "def cos_sim(A, B):\n",
    "    return dot(A, B)/(norm(A)*norm(B))"
   ]
  },
  {
   "cell_type": "code",
   "execution_count": 7,
   "id": "136e4e04",
   "metadata": {},
   "outputs": [
    {
     "data": {
      "text/plain": [
       "0.7745966692414834"
      ]
     },
     "execution_count": 7,
     "metadata": {},
     "output_type": "execute_result"
    }
   ],
   "source": [
    "cos_sim(t1,t2)"
   ]
  },
  {
   "cell_type": "markdown",
   "id": "b9faf510",
   "metadata": {},
   "source": [
    "코사인 유사도가 0.775가 나온 것 을 알 수 있다."
   ]
  },
  {
   "cell_type": "markdown",
   "id": "b6a0901c",
   "metadata": {},
   "source": [
    "### (2). 사이킷런 활용"
   ]
  },
  {
   "cell_type": "markdown",
   "id": "c24ebb7c",
   "metadata": {},
   "source": [
    "위에 방법을 좀 더 간편하게 구할 수 있다.   \n",
    "=> 사이킷런에서 코사인 다음 모듈을 임포트 해주면 쉽게 사용 가능~"
   ]
  },
  {
   "cell_type": "code",
   "execution_count": 9,
   "id": "2637bc5e",
   "metadata": {},
   "outputs": [],
   "source": [
    "from sklearn.metrics.pairwise import cosine_similarity"
   ]
  },
  {
   "cell_type": "code",
   "execution_count": 10,
   "id": "fb3eaf91",
   "metadata": {},
   "outputs": [
    {
     "data": {
      "text/plain": [
       "array([[0.77459667]])"
      ]
     },
     "execution_count": 10,
     "metadata": {},
     "output_type": "execute_result"
    }
   ],
   "source": [
    "## 해당 모듈은 입력값을 2차원 배열을 받기 때문에, 2차원 배열로 정의해준다.\n",
    "\n",
    "t1 = np.array([[1, 1, 1]])\n",
    "t2 = np.array([[2, 0, 1]])\n",
    "\n",
    "cosine_similarity(t1, t2)"
   ]
  },
  {
   "cell_type": "markdown",
   "id": "c21def26",
   "metadata": {},
   "source": [
    "결과 값은 1번과 2번이 동일하게 나오는 것을 알 수 있다.!!"
   ]
  },
  {
   "cell_type": "markdown",
   "id": "8f420e10",
   "metadata": {},
   "source": [
    "### 콘텐츠 기반 필터링"
   ]
  },
  {
   "cell_type": "markdown",
   "id": "57624bca",
   "metadata": {},
   "source": [
    "이건 어떤 사람이 한 영화를 좋아하면 비슷한 콘텐츠의 아이템을 추천해주는 방식이다.   \n",
    "그니까 콘텐츠 기반은 순수하게 콘텐츠의 내용만을 비교해서 추천해주는 방식이다!"
   ]
  },
  {
   "cell_type": "markdown",
   "id": "d751ef9a",
   "metadata": {},
   "source": [
    "#### 1) 필요한 모듈을 import"
   ]
  },
  {
   "cell_type": "code",
   "execution_count": 11,
   "id": "9c203f36",
   "metadata": {},
   "outputs": [
    {
     "name": "stdout",
     "output_type": "stream",
     "text": [
      "⏩⏩\n"
     ]
    }
   ],
   "source": [
    "import pandas as pd\n",
    "import numpy as np\n",
    "from sklearn.feature_extraction.text import CountVectorizer\n",
    "from sklearn.metrics.pairwise import cosine_similarity\n",
    "\n",
    "print(\"⏩⏩\")"
   ]
  },
  {
   "cell_type": "markdown",
   "id": "f7c05327",
   "metadata": {},
   "source": [
    "#### 2) Load 데이터"
   ]
  },
  {
   "cell_type": "markdown",
   "id": "39024acc",
   "metadata": {},
   "source": [
    "데이터는 movie_dataset을 사용하도록 한다.  \n",
    "데이터 불러오기 cloud shell 에서  \n",
    "wget https://aiffelstaticprd.blob.core.windows.net/media/documents/movie_dataset.csv\n",
    "mv movie_dataset.csv  ~/aiffel/movie_recommendation"
   ]
  },
  {
   "cell_type": "code",
   "execution_count": 12,
   "id": "c3447572",
   "metadata": {
    "scrolled": false
   },
   "outputs": [
    {
     "data": {
      "text/html": [
       "<div>\n",
       "<style scoped>\n",
       "    .dataframe tbody tr th:only-of-type {\n",
       "        vertical-align: middle;\n",
       "    }\n",
       "\n",
       "    .dataframe tbody tr th {\n",
       "        vertical-align: top;\n",
       "    }\n",
       "\n",
       "    .dataframe thead th {\n",
       "        text-align: right;\n",
       "    }\n",
       "</style>\n",
       "<table border=\"1\" class=\"dataframe\">\n",
       "  <thead>\n",
       "    <tr style=\"text-align: right;\">\n",
       "      <th></th>\n",
       "      <th>index</th>\n",
       "      <th>budget</th>\n",
       "      <th>genres</th>\n",
       "      <th>homepage</th>\n",
       "      <th>id</th>\n",
       "      <th>keywords</th>\n",
       "      <th>original_language</th>\n",
       "      <th>original_title</th>\n",
       "      <th>overview</th>\n",
       "      <th>popularity</th>\n",
       "      <th>...</th>\n",
       "      <th>runtime</th>\n",
       "      <th>spoken_languages</th>\n",
       "      <th>status</th>\n",
       "      <th>tagline</th>\n",
       "      <th>title</th>\n",
       "      <th>vote_average</th>\n",
       "      <th>vote_count</th>\n",
       "      <th>cast</th>\n",
       "      <th>crew</th>\n",
       "      <th>director</th>\n",
       "    </tr>\n",
       "  </thead>\n",
       "  <tbody>\n",
       "    <tr>\n",
       "      <th>0</th>\n",
       "      <td>0</td>\n",
       "      <td>237000000</td>\n",
       "      <td>Action Adventure Fantasy Science Fiction</td>\n",
       "      <td>http://www.avatarmovie.com/</td>\n",
       "      <td>19995</td>\n",
       "      <td>culture clash future space war space colony so...</td>\n",
       "      <td>en</td>\n",
       "      <td>Avatar</td>\n",
       "      <td>In the 22nd century, a paraplegic Marine is di...</td>\n",
       "      <td>150.437577</td>\n",
       "      <td>...</td>\n",
       "      <td>162.0</td>\n",
       "      <td>[{\"iso_639_1\": \"en\", \"name\": \"English\"}, {\"iso...</td>\n",
       "      <td>Released</td>\n",
       "      <td>Enter the World of Pandora.</td>\n",
       "      <td>Avatar</td>\n",
       "      <td>7.2</td>\n",
       "      <td>11800</td>\n",
       "      <td>Sam Worthington Zoe Saldana Sigourney Weaver S...</td>\n",
       "      <td>[{'name': 'Stephen E. Rivkin', 'gender': 0, 'd...</td>\n",
       "      <td>James Cameron</td>\n",
       "    </tr>\n",
       "    <tr>\n",
       "      <th>1</th>\n",
       "      <td>1</td>\n",
       "      <td>300000000</td>\n",
       "      <td>Adventure Fantasy Action</td>\n",
       "      <td>http://disney.go.com/disneypictures/pirates/</td>\n",
       "      <td>285</td>\n",
       "      <td>ocean drug abuse exotic island east india trad...</td>\n",
       "      <td>en</td>\n",
       "      <td>Pirates of the Caribbean: At World's End</td>\n",
       "      <td>Captain Barbossa, long believed to be dead, ha...</td>\n",
       "      <td>139.082615</td>\n",
       "      <td>...</td>\n",
       "      <td>169.0</td>\n",
       "      <td>[{\"iso_639_1\": \"en\", \"name\": \"English\"}]</td>\n",
       "      <td>Released</td>\n",
       "      <td>At the end of the world, the adventure begins.</td>\n",
       "      <td>Pirates of the Caribbean: At World's End</td>\n",
       "      <td>6.9</td>\n",
       "      <td>4500</td>\n",
       "      <td>Johnny Depp Orlando Bloom Keira Knightley Stel...</td>\n",
       "      <td>[{'name': 'Dariusz Wolski', 'gender': 2, 'depa...</td>\n",
       "      <td>Gore Verbinski</td>\n",
       "    </tr>\n",
       "    <tr>\n",
       "      <th>2</th>\n",
       "      <td>2</td>\n",
       "      <td>245000000</td>\n",
       "      <td>Action Adventure Crime</td>\n",
       "      <td>http://www.sonypictures.com/movies/spectre/</td>\n",
       "      <td>206647</td>\n",
       "      <td>spy based on novel secret agent sequel mi6</td>\n",
       "      <td>en</td>\n",
       "      <td>Spectre</td>\n",
       "      <td>A cryptic message from Bond’s past sends him o...</td>\n",
       "      <td>107.376788</td>\n",
       "      <td>...</td>\n",
       "      <td>148.0</td>\n",
       "      <td>[{\"iso_639_1\": \"fr\", \"name\": \"Fran\\u00e7ais\"},...</td>\n",
       "      <td>Released</td>\n",
       "      <td>A Plan No One Escapes</td>\n",
       "      <td>Spectre</td>\n",
       "      <td>6.3</td>\n",
       "      <td>4466</td>\n",
       "      <td>Daniel Craig Christoph Waltz L\\u00e9a Seydoux ...</td>\n",
       "      <td>[{'name': 'Thomas Newman', 'gender': 2, 'depar...</td>\n",
       "      <td>Sam Mendes</td>\n",
       "    </tr>\n",
       "    <tr>\n",
       "      <th>3</th>\n",
       "      <td>3</td>\n",
       "      <td>250000000</td>\n",
       "      <td>Action Crime Drama Thriller</td>\n",
       "      <td>http://www.thedarkknightrises.com/</td>\n",
       "      <td>49026</td>\n",
       "      <td>dc comics crime fighter terrorist secret ident...</td>\n",
       "      <td>en</td>\n",
       "      <td>The Dark Knight Rises</td>\n",
       "      <td>Following the death of District Attorney Harve...</td>\n",
       "      <td>112.312950</td>\n",
       "      <td>...</td>\n",
       "      <td>165.0</td>\n",
       "      <td>[{\"iso_639_1\": \"en\", \"name\": \"English\"}]</td>\n",
       "      <td>Released</td>\n",
       "      <td>The Legend Ends</td>\n",
       "      <td>The Dark Knight Rises</td>\n",
       "      <td>7.6</td>\n",
       "      <td>9106</td>\n",
       "      <td>Christian Bale Michael Caine Gary Oldman Anne ...</td>\n",
       "      <td>[{'name': 'Hans Zimmer', 'gender': 2, 'departm...</td>\n",
       "      <td>Christopher Nolan</td>\n",
       "    </tr>\n",
       "    <tr>\n",
       "      <th>4</th>\n",
       "      <td>4</td>\n",
       "      <td>260000000</td>\n",
       "      <td>Action Adventure Science Fiction</td>\n",
       "      <td>http://movies.disney.com/john-carter</td>\n",
       "      <td>49529</td>\n",
       "      <td>based on novel mars medallion space travel pri...</td>\n",
       "      <td>en</td>\n",
       "      <td>John Carter</td>\n",
       "      <td>John Carter is a war-weary, former military ca...</td>\n",
       "      <td>43.926995</td>\n",
       "      <td>...</td>\n",
       "      <td>132.0</td>\n",
       "      <td>[{\"iso_639_1\": \"en\", \"name\": \"English\"}]</td>\n",
       "      <td>Released</td>\n",
       "      <td>Lost in our world, found in another.</td>\n",
       "      <td>John Carter</td>\n",
       "      <td>6.1</td>\n",
       "      <td>2124</td>\n",
       "      <td>Taylor Kitsch Lynn Collins Samantha Morton Wil...</td>\n",
       "      <td>[{'name': 'Andrew Stanton', 'gender': 2, 'depa...</td>\n",
       "      <td>Andrew Stanton</td>\n",
       "    </tr>\n",
       "  </tbody>\n",
       "</table>\n",
       "<p>5 rows × 24 columns</p>\n",
       "</div>"
      ],
      "text/plain": [
       "   index     budget                                    genres  \\\n",
       "0      0  237000000  Action Adventure Fantasy Science Fiction   \n",
       "1      1  300000000                  Adventure Fantasy Action   \n",
       "2      2  245000000                    Action Adventure Crime   \n",
       "3      3  250000000               Action Crime Drama Thriller   \n",
       "4      4  260000000          Action Adventure Science Fiction   \n",
       "\n",
       "                                       homepage      id  \\\n",
       "0                   http://www.avatarmovie.com/   19995   \n",
       "1  http://disney.go.com/disneypictures/pirates/     285   \n",
       "2   http://www.sonypictures.com/movies/spectre/  206647   \n",
       "3            http://www.thedarkknightrises.com/   49026   \n",
       "4          http://movies.disney.com/john-carter   49529   \n",
       "\n",
       "                                            keywords original_language  \\\n",
       "0  culture clash future space war space colony so...                en   \n",
       "1  ocean drug abuse exotic island east india trad...                en   \n",
       "2         spy based on novel secret agent sequel mi6                en   \n",
       "3  dc comics crime fighter terrorist secret ident...                en   \n",
       "4  based on novel mars medallion space travel pri...                en   \n",
       "\n",
       "                             original_title  \\\n",
       "0                                    Avatar   \n",
       "1  Pirates of the Caribbean: At World's End   \n",
       "2                                   Spectre   \n",
       "3                     The Dark Knight Rises   \n",
       "4                               John Carter   \n",
       "\n",
       "                                            overview  popularity  ... runtime  \\\n",
       "0  In the 22nd century, a paraplegic Marine is di...  150.437577  ...   162.0   \n",
       "1  Captain Barbossa, long believed to be dead, ha...  139.082615  ...   169.0   \n",
       "2  A cryptic message from Bond’s past sends him o...  107.376788  ...   148.0   \n",
       "3  Following the death of District Attorney Harve...  112.312950  ...   165.0   \n",
       "4  John Carter is a war-weary, former military ca...   43.926995  ...   132.0   \n",
       "\n",
       "                                    spoken_languages    status  \\\n",
       "0  [{\"iso_639_1\": \"en\", \"name\": \"English\"}, {\"iso...  Released   \n",
       "1           [{\"iso_639_1\": \"en\", \"name\": \"English\"}]  Released   \n",
       "2  [{\"iso_639_1\": \"fr\", \"name\": \"Fran\\u00e7ais\"},...  Released   \n",
       "3           [{\"iso_639_1\": \"en\", \"name\": \"English\"}]  Released   \n",
       "4           [{\"iso_639_1\": \"en\", \"name\": \"English\"}]  Released   \n",
       "\n",
       "                                          tagline  \\\n",
       "0                     Enter the World of Pandora.   \n",
       "1  At the end of the world, the adventure begins.   \n",
       "2                           A Plan No One Escapes   \n",
       "3                                 The Legend Ends   \n",
       "4            Lost in our world, found in another.   \n",
       "\n",
       "                                      title vote_average vote_count  \\\n",
       "0                                    Avatar          7.2      11800   \n",
       "1  Pirates of the Caribbean: At World's End          6.9       4500   \n",
       "2                                   Spectre          6.3       4466   \n",
       "3                     The Dark Knight Rises          7.6       9106   \n",
       "4                               John Carter          6.1       2124   \n",
       "\n",
       "                                                cast  \\\n",
       "0  Sam Worthington Zoe Saldana Sigourney Weaver S...   \n",
       "1  Johnny Depp Orlando Bloom Keira Knightley Stel...   \n",
       "2  Daniel Craig Christoph Waltz L\\u00e9a Seydoux ...   \n",
       "3  Christian Bale Michael Caine Gary Oldman Anne ...   \n",
       "4  Taylor Kitsch Lynn Collins Samantha Morton Wil...   \n",
       "\n",
       "                                                crew           director  \n",
       "0  [{'name': 'Stephen E. Rivkin', 'gender': 0, 'd...      James Cameron  \n",
       "1  [{'name': 'Dariusz Wolski', 'gender': 2, 'depa...     Gore Verbinski  \n",
       "2  [{'name': 'Thomas Newman', 'gender': 2, 'depar...         Sam Mendes  \n",
       "3  [{'name': 'Hans Zimmer', 'gender': 2, 'departm...  Christopher Nolan  \n",
       "4  [{'name': 'Andrew Stanton', 'gender': 2, 'depa...     Andrew Stanton  \n",
       "\n",
       "[5 rows x 24 columns]"
      ]
     },
     "execution_count": 12,
     "metadata": {},
     "output_type": "execute_result"
    }
   ],
   "source": [
    "import os\n",
    "csv_path = os.getenv('HOME')+'/aiffel/movie_recommendation/movie_dataset.csv'\n",
    "df = pd.read_csv(csv_path)\n",
    "df.head()"
   ]
  },
  {
   "cell_type": "markdown",
   "id": "a8a9fca3",
   "metadata": {},
   "source": [
    "#### 3) 특성 선택"
   ]
  },
  {
   "cell_type": "code",
   "execution_count": 13,
   "id": "b6a0cdf4",
   "metadata": {},
   "outputs": [
    {
     "data": {
      "text/plain": [
       "Index(['index', 'budget', 'genres', 'homepage', 'id', 'keywords',\n",
       "       'original_language', 'original_title', 'overview', 'popularity',\n",
       "       'production_companies', 'production_countries', 'release_date',\n",
       "       'revenue', 'runtime', 'spoken_languages', 'status', 'tagline', 'title',\n",
       "       'vote_average', 'vote_count', 'cast', 'crew', 'director'],\n",
       "      dtype='object')"
      ]
     },
     "execution_count": 13,
     "metadata": {},
     "output_type": "execute_result"
    }
   ],
   "source": [
    "df.columns"
   ]
  },
  {
   "cell_type": "code",
   "execution_count": 14,
   "id": "36ca01a1",
   "metadata": {},
   "outputs": [
    {
     "data": {
      "text/plain": [
       "['keywords', 'cast', 'genres', 'director']"
      ]
     },
     "execution_count": 14,
     "metadata": {},
     "output_type": "execute_result"
    }
   ],
   "source": [
    "## 데이터의 칼럼이 많지만! 우리는 밑에와 같은 특성들만 고려해서 보겠다~\n",
    "\n",
    "features = [\"keywords\",\"cast\",\"genres\",\"director\"]\n",
    "features"
   ]
  },
  {
   "cell_type": "code",
   "execution_count": 15,
   "id": "57fd6e41",
   "metadata": {},
   "outputs": [
    {
     "data": {
      "text/plain": [
       "0    culture clash future space war space colony so...\n",
       "1    ocean drug abuse exotic island east india trad...\n",
       "2    spy based on novel secret agent sequel mi6 Dan...\n",
       "3    dc comics crime fighter terrorist secret ident...\n",
       "4    based on novel mars medallion space travel pri...\n",
       "dtype: object"
      ]
     },
     "execution_count": 15,
     "metadata": {},
     "output_type": "execute_result"
    }
   ],
   "source": [
    "def combine_features(row):\n",
    "    return row['keywords']+\" \"+row['cast']+\" \"+row['genres']+\" \"+row['director']\n",
    "\n",
    "combine_features(df[:5])"
   ]
  },
  {
   "cell_type": "code",
   "execution_count": 16,
   "id": "0cdbb4bf",
   "metadata": {},
   "outputs": [
    {
     "data": {
      "text/plain": [
       "0       culture clash future space war space colony so...\n",
       "1       ocean drug abuse exotic island east india trad...\n",
       "2       spy based on novel secret agent sequel mi6 Dan...\n",
       "3       dc comics crime fighter terrorist secret ident...\n",
       "4       based on novel mars medallion space travel pri...\n",
       "                              ...                        \n",
       "4798    united states\\u2013mexico barrier legs arms pa...\n",
       "4799     Edward Burns Kerry Bish\\u00e9 Marsha Dietlein...\n",
       "4800    date love at first sight narration investigati...\n",
       "4801     Daniel Henney Eliza Coupe Bill Paxton Alan Ru...\n",
       "4802    obsession camcorder crush dream girl Drew Barr...\n",
       "Name: combined_features, Length: 4803, dtype: object"
      ]
     },
     "execution_count": 16,
     "metadata": {},
     "output_type": "execute_result"
    }
   ],
   "source": [
    "for feature in features:\n",
    "    df[feature] = df[feature].fillna(\"\")\n",
    "    \n",
    "df[\"combined_features\"]=df.apply(combine_features, axis=1)\n",
    "df[\"combined_features\"]"
   ]
  },
  {
   "cell_type": "markdown",
   "id": "2ed80bc5",
   "metadata": {},
   "source": [
    "간단하게 보기 위해서 해당 특성을 텍스트 데이터로 보고, 보고자 하는 특성으로 이루어진 텍스트 데이터를 새로운 칼럼으로 생성함"
   ]
  },
  {
   "cell_type": "markdown",
   "id": "1a1f92c6",
   "metadata": {},
   "source": [
    "#### 4) 벡터화하고, 코사인 유사도를 계산"
   ]
  },
  {
   "cell_type": "code",
   "execution_count": 17,
   "id": "50552569",
   "metadata": {
    "scrolled": false
   },
   "outputs": [
    {
     "name": "stdout",
     "output_type": "stream",
     "text": [
      "<class 'scipy.sparse.csr.csr_matrix'>\n",
      "(4803, 14845)\n",
      "  (0, 3115)\t1\n",
      "  (0, 2616)\t1\n",
      "  (0, 4886)\t1\n",
      "  (0, 12386)\t2\n",
      "  (0, 14235)\t1\n",
      "  (0, 2755)\t1\n",
      "  (0, 12299)\t1\n",
      "  (0, 11517)\t1\n",
      "  (0, 14561)\t1\n",
      "  (0, 14820)\t1\n",
      "  (0, 11490)\t1\n",
      "  (0, 12134)\t1\n",
      "  (0, 14291)\t1\n",
      "  (0, 12567)\t1\n",
      "  (0, 7496)\t1\n",
      "  (0, 8831)\t1\n",
      "  (0, 11217)\t1\n",
      "  (0, 86)\t1\n",
      "  (0, 144)\t1\n",
      "  (0, 4435)\t1\n",
      "  (0, 11745)\t1\n",
      "  (0, 4566)\t1\n",
      "  (0, 6542)\t1\n",
      "  (0, 2061)\t1\n",
      "  (1, 86)\t1\n",
      "  :\t:\n",
      "  (4801, 10069)\t1\n",
      "  (4801, 5844)\t1\n",
      "  (4801, 252)\t1\n",
      "  (4801, 4098)\t1\n",
      "  (4801, 14796)\t1\n",
      "  (4801, 11361)\t1\n",
      "  (4801, 2978)\t1\n",
      "  (4801, 12036)\t1\n",
      "  (4801, 6138)\t1\n",
      "  (4802, 9659)\t1\n",
      "  (4802, 3812)\t1\n",
      "  (4802, 1788)\t2\n",
      "  (4802, 4210)\t1\n",
      "  (4802, 5181)\t1\n",
      "  (4802, 2912)\t1\n",
      "  (4802, 3821)\t1\n",
      "  (4802, 1069)\t1\n",
      "  (4802, 11185)\t1\n",
      "  (4802, 3681)\t1\n",
      "  (4802, 5399)\t1\n",
      "  (4802, 3894)\t1\n",
      "  (4802, 2056)\t1\n",
      "  (4802, 3093)\t1\n",
      "  (4802, 4502)\t1\n",
      "  (4802, 5900)\t2\n"
     ]
    }
   ],
   "source": [
    "## 이제 칼럼을 벡터화하고, 코사인 유사도를 계산해보자~~\n",
    "\n",
    "cv = CountVectorizer()\n",
    "count_matrix = cv.fit_transform(df[\"combined_features\"])\n",
    "print(type(count_matrix))\n",
    "print(count_matrix.shape)\n",
    "print(count_matrix)"
   ]
  },
  {
   "cell_type": "markdown",
   "id": "a925e375",
   "metadata": {},
   "source": [
    "(0, 3115) 1라고 되어 있는 것은 1번째 row는 3116번째 단어가 1번 출현한다는 뜻  \n",
    "이제 4803개의 영화들이 모두 Vectorized 되었다.   \n",
    "영화들끼리의 코사인 유사도를 표현하는 4803X4803의 cosine_similarity matrix를 구해보자~"
   ]
  },
  {
   "cell_type": "code",
   "execution_count": 18,
   "id": "ca1baa13",
   "metadata": {},
   "outputs": [
    {
     "name": "stdout",
     "output_type": "stream",
     "text": [
      "[[1.         0.10540926 0.12038585 ... 0.         0.         0.        ]\n",
      " [0.10540926 1.         0.0761387  ... 0.03651484 0.         0.        ]\n",
      " [0.12038585 0.0761387  1.         ... 0.         0.11145564 0.        ]\n",
      " ...\n",
      " [0.         0.03651484 0.         ... 1.         0.         0.04264014]\n",
      " [0.         0.         0.11145564 ... 0.         1.         0.        ]\n",
      " [0.         0.         0.         ... 0.04264014 0.         1.        ]]\n",
      "(4803, 4803)\n"
     ]
    }
   ],
   "source": [
    "cosine_sim = cosine_similarity(count_matrix)\n",
    "print(cosine_sim)\n",
    "print(cosine_sim.shape)"
   ]
  },
  {
   "cell_type": "markdown",
   "id": "2e929691",
   "metadata": {},
   "source": [
    "#### 5) 추천"
   ]
  },
  {
   "cell_type": "markdown",
   "id": "55e41da0",
   "metadata": {},
   "source": [
    "코사인 유사도로 계산된 가장 비슷한 영화를 3편을 선별해서 추천해보자~"
   ]
  },
  {
   "cell_type": "code",
   "execution_count": 22,
   "id": "1403ebfa",
   "metadata": {},
   "outputs": [
    {
     "name": "stdout",
     "output_type": "stream",
     "text": [
      "Avatar와 비슷한 영화 3편은 \n",
      "\n",
      "Guardians of the Galaxy\n",
      "Aliens\n",
      "Star Wars: Clone Wars: Volume 1\n"
     ]
    }
   ],
   "source": [
    "def get_title_from_index(index):\n",
    "    return df[df.index == index][\"title\"].values[0]\n",
    "def get_index_from_title(title):\n",
    "    return df[df.title == title][\"index\"].values[0]\n",
    "\n",
    "movie_user_likes = \"Avatar\"\n",
    "movie_index = get_index_from_title(movie_user_likes)\n",
    "similar_movies = list(enumerate(cosine_sim[movie_index]))\n",
    "\n",
    "sorted_similar_movies = sorted(similar_movies,key=lambda x:x[1],reverse=True)[1:]\n",
    "\n",
    "i=0\n",
    "print(movie_user_likes+\"와 비슷한 영화 3편은 \"+\"\\n\")\n",
    "for item in sorted_similar_movies:\n",
    "    print(get_title_from_index(item[0]))\n",
    "    i=i+1\n",
    "    if i==3:\n",
    "        break"
   ]
  },
  {
   "cell_type": "markdown",
   "id": "0f7820bd",
   "metadata": {},
   "source": [
    "아바타 영화와 비슷한 영화 3편은   \n",
    "=> 가디언즈 오브 갤럭시, 에어리언, 스타워즈 로 나온 것을 확인할 수 있다."
   ]
  },
  {
   "cell_type": "markdown",
   "id": "69764c93",
   "metadata": {},
   "source": [
    "협업 필터링은 과거의 사용자 행동 양식 데이터를 기반으로 추천하는 방식이다.   \n",
    "협업 필터링의 기본 원리를 보자면! user_id => 사용자의 정보, item_id => 영화정보, rating => 사용자들이 영화를 보고 평점을 매긴거!, timestamp => 평점을 보고 매긴 시각!"
   ]
  }
 ],
 "metadata": {
  "kernelspec": {
   "display_name": "Python 3 (ipykernel)",
   "language": "python",
   "name": "python3"
  },
  "language_info": {
   "codemirror_mode": {
    "name": "ipython",
    "version": 3
   },
   "file_extension": ".py",
   "mimetype": "text/x-python",
   "name": "python",
   "nbconvert_exporter": "python",
   "pygments_lexer": "ipython3",
   "version": "3.9.7"
  }
 },
 "nbformat": 4,
 "nbformat_minor": 5
}
