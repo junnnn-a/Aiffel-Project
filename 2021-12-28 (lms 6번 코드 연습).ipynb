{
 "cells": [
  {
   "cell_type": "code",
   "execution_count": 3,
   "id": "15ec179f",
   "metadata": {},
   "outputs": [
    {
     "name": "stdout",
     "output_type": "stream",
     "text": [
      "\n"
     ]
    }
   ],
   "source": [
    "print()"
   ]
  },
  {
   "cell_type": "code",
   "execution_count": 4,
   "id": "05b80c2b",
   "metadata": {},
   "outputs": [
    {
     "name": "stdout",
     "output_type": "stream",
     "text": [
      "1\n"
     ]
    }
   ],
   "source": [
    "print(1)"
   ]
  },
  {
   "cell_type": "code",
   "execution_count": 5,
   "id": "282ea556",
   "metadata": {},
   "outputs": [
    {
     "name": "stdout",
     "output_type": "stream",
     "text": [
      "3\n"
     ]
    }
   ],
   "source": [
    "print(1+2)"
   ]
  },
  {
   "cell_type": "code",
   "execution_count": 6,
   "id": "b475dd33",
   "metadata": {},
   "outputs": [
    {
     "name": "stdout",
     "output_type": "stream",
     "text": [
      "Hello\n"
     ]
    }
   ],
   "source": [
    "print(\"Hello\")"
   ]
  },
  {
   "cell_type": "code",
   "execution_count": 7,
   "id": "25a275cf",
   "metadata": {},
   "outputs": [
    {
     "data": {
      "text/plain": [
       "str"
      ]
     },
     "execution_count": 7,
     "metadata": {},
     "output_type": "execute_result"
    }
   ],
   "source": [
    "type(\"Hello\")"
   ]
  },
  {
   "cell_type": "code",
   "execution_count": 8,
   "id": "d25ee703",
   "metadata": {},
   "outputs": [
    {
     "name": "stdout",
     "output_type": "stream",
     "text": [
      "HelloWord!\n"
     ]
    }
   ],
   "source": [
    "print(\"Hello\" + \"Word!\")"
   ]
  },
  {
   "cell_type": "code",
   "execution_count": 9,
   "id": "03e9175e",
   "metadata": {},
   "outputs": [
    {
     "name": "stdout",
     "output_type": "stream",
     "text": [
      "안녕하세요!\n"
     ]
    }
   ],
   "source": [
    "greeting = \"안녕하세요!\" \n",
    "print(greeting)"
   ]
  },
  {
   "cell_type": "code",
   "execution_count": 10,
   "id": "4b7c302c",
   "metadata": {},
   "outputs": [
    {
     "name": "stdout",
     "output_type": "stream",
     "text": [
      "안뇽\n"
     ]
    }
   ],
   "source": [
    "greeting = \"안녕하세요!\"\n",
    "greeting = \"안뇽\"\n",
    "print(greeting)"
   ]
  },
  {
   "cell_type": "code",
   "execution_count": 12,
   "id": "1a5e860d",
   "metadata": {},
   "outputs": [
    {
     "name": "stdout",
     "output_type": "stream",
     "text": [
      "안녕!\n"
     ]
    }
   ],
   "source": [
    "def say_hi():\n",
    "    print(\"안녕!\")\n",
    "    \n",
    "say_hi()"
   ]
  },
  {
   "cell_type": "code",
   "execution_count": 14,
   "id": "203826f5",
   "metadata": {
    "scrolled": true
   },
   "outputs": [
    {
     "name": "stdout",
     "output_type": "stream",
     "text": [
      "안녕하세요 반갑습니다 :D\n",
      "민윤기입동굴에 치임님\n"
     ]
    }
   ],
   "source": [
    "def say_hi_hello():\n",
    "    print(\"안녕하세요 반갑습니다 :D\")\n",
    "    print(\"민윤기입동굴에 치임님\")\n",
    "    \n",
    "say_hi_hello()"
   ]
  },
  {
   "cell_type": "code",
   "execution_count": 15,
   "id": "7ec5c03f",
   "metadata": {},
   "outputs": [
    {
     "name": "stdout",
     "output_type": "stream",
     "text": [
      "준아\n",
      "정준아\n"
     ]
    }
   ],
   "source": [
    "name = \"준아\"\n",
    "\n",
    "def say_name():\n",
    "    print(name)\n",
    "    \n",
    "say_name()\n",
    "\n",
    "name = \"정준아\"\n",
    "\n",
    "say_name()"
   ]
  },
  {
   "cell_type": "code",
   "execution_count": 17,
   "id": "5f2a7092",
   "metadata": {},
   "outputs": [
    {
     "name": "stdout",
     "output_type": "stream",
     "text": [
      "준아\n"
     ]
    }
   ],
   "source": [
    "name = \"준아\"\n",
    "## name 은 문자열 \"준아\"로 되어있음\n",
    "\n",
    "def change_name():\n",
    "    name = \"정준아\"  \n",
    "    ## 이러면 name 은 함수에서만 문자열 \"정준아\"라고 가리킴\n",
    "    \n",
    "change_name\n",
    "## 그렇기 때문에 output이 나오지 않는 걸 알 수 있음\n",
    "print(name)"
   ]
  },
  {
   "cell_type": "code",
   "execution_count": 20,
   "id": "e03af076",
   "metadata": {},
   "outputs": [
    {
     "name": "stdout",
     "output_type": "stream",
     "text": [
      "준아님, 안녕!\n"
     ]
    }
   ],
   "source": [
    "def say_hi_somebody(name):\n",
    "    print(name + \", 안녕!\")\n",
    "    \n",
    "say_hi_somebody(\"준아님\")"
   ]
  },
  {
   "cell_type": "code",
   "execution_count": 23,
   "id": "49d6337e",
   "metadata": {
    "scrolled": true
   },
   "outputs": [
    {
     "name": "stdout",
     "output_type": "stream",
     "text": [
      "안녕, 준아님~\n",
      "\n",
      "안녕, somebody~\n"
     ]
    }
   ],
   "source": [
    "def say_hi_default(name=\"somebody\"):\n",
    "    print(\"안녕, \" + name + \"~\")\n",
    "    \n",
    "say_hi_default(\"준아님\")\n",
    "print()\n",
    "say_hi_default()"
   ]
  },
  {
   "cell_type": "code",
   "execution_count": 32,
   "id": "49521d2c",
   "metadata": {},
   "outputs": [
    {
     "name": "stdout",
     "output_type": "stream",
     "text": [
      "민윤기,정준아 안녕하세요~~\n",
      "\n",
      "윤기,준아 안녕하세요~~\n",
      "\n",
      "준아,윤기 안녕하세요~~\n"
     ]
    }
   ],
   "source": [
    "def say_hi_couple(name1, name2):\n",
    "    print(name1 + ',' + name2 + \" 안녕하세요~~\")\n",
    "    \n",
    "say_hi_couple(\"민윤기\", \"정준아\")\n",
    "print()\n",
    "say_hi_couple(name1=\"윤기\", name2=\"준아\")\n",
    "print()\n",
    "say_hi_couple(name2=\"윤기\", name1=\"준아\")"
   ]
  },
  {
   "cell_type": "code",
   "execution_count": 33,
   "id": "d0d18573",
   "metadata": {},
   "outputs": [],
   "source": [
    "def say_hi_couple_default(name1, name2=\"nobody\"):\n",
    "    print(name1 + \",\" + name2 + \"안녕?\")"
   ]
  },
  {
   "cell_type": "code",
   "execution_count": 34,
   "id": "b1632620",
   "metadata": {},
   "outputs": [
    {
     "name": "stdout",
     "output_type": "stream",
     "text": [
      "3\n"
     ]
    }
   ],
   "source": [
    "def add(number1, number2):\n",
    "    print(number1 + number2)\n",
    "    \n",
    "add(1,2)"
   ]
  },
  {
   "cell_type": "code",
   "execution_count": 36,
   "id": "576cbc98",
   "metadata": {},
   "outputs": [
    {
     "name": "stdout",
     "output_type": "stream",
     "text": [
      "3\n",
      "6\n"
     ]
    }
   ],
   "source": [
    "def add_and_return(number1, number2):\n",
    "    print(number1 + number2)\n",
    "    return number1 + number2\n",
    "\n",
    "print(add_and_return(1,2)+3)"
   ]
  },
  {
   "cell_type": "code",
   "execution_count": 38,
   "id": "486b452a",
   "metadata": {},
   "outputs": [
    {
     "name": "stdout",
     "output_type": "stream",
     "text": [
      "C\n",
      "D\n",
      "B\n",
      "A\n"
     ]
    }
   ],
   "source": [
    "def print_two(word1, word2):\n",
    "    print(word2)\n",
    "    print(word1)\n",
    "    \n",
    "def print_and_return(word1, word2, word3):\n",
    "    print_two(word3, word2)\n",
    "    return word1\n",
    "\n",
    "print_two(\"A\", print_and_return(\"B\", \"C\", \"D\"))"
   ]
  },
  {
   "cell_type": "code",
   "execution_count": 39,
   "id": "9f5ad8ba",
   "metadata": {},
   "outputs": [
    {
     "name": "stdout",
     "output_type": "stream",
     "text": [
      "D\n",
      "C\n",
      "A\n",
      "B\n"
     ]
    }
   ],
   "source": [
    "def print_two(word1, word2):\n",
    "    print(word1)\n",
    "    print(word2)\n",
    "    \n",
    "def print_and_return(word1, word2, word3):\n",
    "    print_two(word3, word2)\n",
    "    return word1\n",
    "\n",
    "print_two(\"A\", print_and_return(\"B\", \"C\", \"D\"))"
   ]
  },
  {
   "cell_type": "code",
   "execution_count": null,
   "id": "fac50215",
   "metadata": {},
   "outputs": [],
   "source": []
  }
 ],
 "metadata": {
  "kernelspec": {
   "display_name": "Python 3 (ipykernel)",
   "language": "python",
   "name": "python3"
  },
  "language_info": {
   "codemirror_mode": {
    "name": "ipython",
    "version": 3
   },
   "file_extension": ".py",
   "mimetype": "text/x-python",
   "name": "python",
   "nbconvert_exporter": "python",
   "pygments_lexer": "ipython3",
   "version": "3.9.7"
  }
 },
 "nbformat": 4,
 "nbformat_minor": 5
}
