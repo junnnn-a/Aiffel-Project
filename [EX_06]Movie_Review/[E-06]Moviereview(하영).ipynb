{
 "cells": [
  {
   "cell_type": "markdown",
   "id": "2d0d2d0f",
   "metadata": {},
   "source": [
    "# 네이버 영화리뷰 감성분석 도전"
   ]
  },
  {
   "cell_type": "markdown",
   "id": "c3b29457",
   "metadata": {},
   "source": [
    "## 데이터 준비와 확인"
   ]
  },
  {
   "cell_type": "code",
   "execution_count": 1,
   "id": "495be314",
   "metadata": {},
   "outputs": [
    {
     "name": "stdout",
     "output_type": "stream",
     "text": [
      "Requirement already satisfied: gensim in /opt/conda/lib/python3.9/site-packages (3.8.3)\n",
      "Requirement already satisfied: six>=1.5.0 in /opt/conda/lib/python3.9/site-packages (from gensim) (1.16.0)\n",
      "Requirement already satisfied: scipy>=0.18.1 in /opt/conda/lib/python3.9/site-packages (from gensim) (1.7.1)\n",
      "Requirement already satisfied: smart-open>=1.8.1 in /opt/conda/lib/python3.9/site-packages (from gensim) (5.2.1)\n",
      "Requirement already satisfied: numpy>=1.11.3 in /opt/conda/lib/python3.9/site-packages (from gensim) (1.21.4)\n",
      "\u001b[33mWARNING: Running pip as the 'root' user can result in broken permissions and conflicting behaviour with the system package manager. It is recommended to use a virtual environment instead: https://pip.pypa.io/warnings/venv\u001b[0m\n",
      "Requirement already satisfied: gensim==3.8.3 in /opt/conda/lib/python3.9/site-packages (3.8.3)\n",
      "Requirement already satisfied: smart-open>=1.8.1 in /opt/conda/lib/python3.9/site-packages (from gensim==3.8.3) (5.2.1)\n",
      "Requirement already satisfied: six>=1.5.0 in /opt/conda/lib/python3.9/site-packages (from gensim==3.8.3) (1.16.0)\n",
      "Requirement already satisfied: numpy>=1.11.3 in /opt/conda/lib/python3.9/site-packages (from gensim==3.8.3) (1.21.4)\n",
      "Requirement already satisfied: scipy>=0.18.1 in /opt/conda/lib/python3.9/site-packages (from gensim==3.8.3) (1.7.1)\n",
      "\u001b[33mWARNING: Running pip as the 'root' user can result in broken permissions and conflicting behaviour with the system package manager. It is recommended to use a virtual environment instead: https://pip.pypa.io/warnings/venv\u001b[0m\n"
     ]
    }
   ],
   "source": [
    "!pip install gensim\n",
    "\n",
    "!pip install --upgrade gensim==3.8.3"
   ]
  },
  {
   "cell_type": "code",
   "execution_count": 2,
   "id": "73f642b7",
   "metadata": {},
   "outputs": [
    {
     "data": {
      "text/html": [
       "<div>\n",
       "<style scoped>\n",
       "    .dataframe tbody tr th:only-of-type {\n",
       "        vertical-align: middle;\n",
       "    }\n",
       "\n",
       "    .dataframe tbody tr th {\n",
       "        vertical-align: top;\n",
       "    }\n",
       "\n",
       "    .dataframe thead th {\n",
       "        text-align: right;\n",
       "    }\n",
       "</style>\n",
       "<table border=\"1\" class=\"dataframe\">\n",
       "  <thead>\n",
       "    <tr style=\"text-align: right;\">\n",
       "      <th></th>\n",
       "      <th>id</th>\n",
       "      <th>document</th>\n",
       "      <th>label</th>\n",
       "    </tr>\n",
       "  </thead>\n",
       "  <tbody>\n",
       "    <tr>\n",
       "      <th>0</th>\n",
       "      <td>9976970</td>\n",
       "      <td>아 더빙.. 진짜 짜증나네요 목소리</td>\n",
       "      <td>0</td>\n",
       "    </tr>\n",
       "    <tr>\n",
       "      <th>1</th>\n",
       "      <td>3819312</td>\n",
       "      <td>흠...포스터보고 초딩영화줄....오버연기조차 가볍지 않구나</td>\n",
       "      <td>1</td>\n",
       "    </tr>\n",
       "    <tr>\n",
       "      <th>2</th>\n",
       "      <td>10265843</td>\n",
       "      <td>너무재밓었다그래서보는것을추천한다</td>\n",
       "      <td>0</td>\n",
       "    </tr>\n",
       "    <tr>\n",
       "      <th>3</th>\n",
       "      <td>9045019</td>\n",
       "      <td>교도소 이야기구먼 ..솔직히 재미는 없다..평점 조정</td>\n",
       "      <td>0</td>\n",
       "    </tr>\n",
       "    <tr>\n",
       "      <th>4</th>\n",
       "      <td>6483659</td>\n",
       "      <td>사이몬페그의 익살스런 연기가 돋보였던 영화!스파이더맨에서 늙어보이기만 했던 커스틴 ...</td>\n",
       "      <td>1</td>\n",
       "    </tr>\n",
       "  </tbody>\n",
       "</table>\n",
       "</div>"
      ],
      "text/plain": [
       "         id                                           document  label\n",
       "0   9976970                                아 더빙.. 진짜 짜증나네요 목소리      0\n",
       "1   3819312                  흠...포스터보고 초딩영화줄....오버연기조차 가볍지 않구나      1\n",
       "2  10265843                                  너무재밓었다그래서보는것을추천한다      0\n",
       "3   9045019                      교도소 이야기구먼 ..솔직히 재미는 없다..평점 조정      0\n",
       "4   6483659  사이몬페그의 익살스런 연기가 돋보였던 영화!스파이더맨에서 늙어보이기만 했던 커스틴 ...      1"
      ]
     },
     "execution_count": 2,
     "metadata": {},
     "output_type": "execute_result"
    }
   ],
   "source": [
    "import pandas as pd\n",
    "import urllib.request\n",
    "%matplotlib inline\n",
    "import matplotlib.pyplot as plt\n",
    "import re\n",
    "from konlpy.tag import Okt\n",
    "from tensorflow import keras\n",
    "from tensorflow.keras.preprocessing.text import Tokenizer\n",
    "import numpy as np\n",
    "from tensorflow.keras.preprocessing.sequence import pad_sequences\n",
    "from collections import Counter\n",
    "\n",
    "# 데이터를 읽어보자\n",
    "train_data = pd.read_table('~/aiffel/sentiment_classification/data/ratings_train.txt')\n",
    "test_data = pd.read_table('~/aiffel/sentiment_classification/data/ratings_test.txt')\n",
    "\n",
    "train_data.head()"
   ]
  },
  {
   "cell_type": "markdown",
   "id": "c07c0451",
   "metadata": {},
   "source": [
    "## 데이터로더 구성"
   ]
  },
  {
   "cell_type": "markdown",
   "id": "fea28773",
   "metadata": {},
   "source": [
    "#### data_loader\n",
    "데이터 중복 제거\n",
    "\n",
    "NaN 결측치 제거\n",
    "\n",
    "한국어 토크나이저로 토큰화\n",
    "\n",
    "불용어 제거\n",
    "\n",
    "사전 word_to_index 구성\n",
    "\n",
    "텍스트 스트링을 사전 인덱스 스트링으로 변환\n",
    "\n",
    "X_train, y_train, X_test, y_test, word_to_index 리턴"
   ]
  },
  {
   "cell_type": "code",
   "execution_count": 3,
   "id": "7157342f",
   "metadata": {},
   "outputs": [
    {
     "name": "stdout",
     "output_type": "stream",
     "text": [
      "train data 개수 : 146182\n",
      "test data 개수 : 49157\n"
     ]
    }
   ],
   "source": [
    "from konlpy.tag import Mecab\n",
    "tokenizer = Mecab()\n",
    "stopwords = ['의','가','이','은','들','는','좀','잘','걍','과','도','를','으로','자','에','와','한','하다']\n",
    "\n",
    "def load_data(train_data, test_data, num_words=10000):\n",
    "    #train 전처리\n",
    "    train_data.drop_duplicates(subset=['document'], inplace=True) # 데이터 중복 제거\n",
    "    train_data = train_data.dropna(how='any')                     # 결측치 제거       \n",
    "    #Test 전처리\n",
    "    test_data.drop_duplicates(subset=['document'], inplace=True) # 데이터 중복 제거\n",
    "    test_data = test_data.dropna(how = 'any')                    # 결측치 제거\n",
    "    \n",
    "    X_train = []\n",
    "    for sentence in train_data['document']:\n",
    "        temp_X = tokenizer.morphs(sentence) # 토큰화\n",
    "        temp_X = [word for word in temp_X if not word in stopwords] # stopwords 제거\n",
    "        X_train.append(temp_X)\n",
    "\n",
    "    X_test = []\n",
    "    for sentence in test_data['document']:\n",
    "        temp_X = tokenizer.morphs(sentence) # 토큰화\n",
    "        temp_X = [word for word in temp_X if not word in stopwords] # stopwords 제거\n",
    "        X_test.append(temp_X)\n",
    "\n",
    "    words = np.concatenate(X_train).tolist()\n",
    "    counter = Counter(words)\n",
    "    counter = counter.most_common(70000-4)\n",
    "    vocab = ['<PAD>', '<BOS>', '<UNK>', '<UNUSED>'] + [key for key, _ in counter]\n",
    "    word_to_index = {word:index for index, word in enumerate(vocab)}\n",
    "\n",
    "    def wordlist_to_indexlist(wordlist):\n",
    "        return [word_to_index[word] if word in word_to_index else word_to_index['<UNK>'] for word in wordlist]\n",
    "\n",
    "    X_train = list(map(wordlist_to_indexlist, X_train))\n",
    "    X_test = list(map(wordlist_to_indexlist, X_test))\n",
    "\n",
    "    return X_train, np.array(list(train_data['label'])), X_test, np.array(list(test_data['label'])), word_to_index\n",
    "    \n",
    "X_train, y_train, X_test, y_test, word_to_index = load_data(train_data, test_data) \n",
    "print(\"train data 개수 :\", len(X_train))\n",
    "print(\"test data 개수 :\", len(X_test))"
   ]
  },
  {
   "cell_type": "code",
   "execution_count": 4,
   "id": "467b9879",
   "metadata": {},
   "outputs": [],
   "source": [
    "#딕셔너리 생성\n",
    "index_to_word = {index:word for word, index in word_to_index.items()}"
   ]
  },
  {
   "cell_type": "code",
   "execution_count": 5,
   "id": "1aeebda6",
   "metadata": {},
   "outputs": [
    {
     "name": "stdout",
     "output_type": "stream",
     "text": [
      "[32, 74, 919, 4, 4, 39, 228, 20, 33, 748]\n",
      "더 빙 . . 진짜 짜증 나 네요 목소리\n",
      "라벨:  0\n",
      "[1028, 4, 11, 519, 549, 687, 5, 120, 4, 70, 1639, 52, 925, 1006, 15, 44, 391]\n",
      ". .. 포스터 보고 초딩 영화 줄 . ... 오버 연기 조차 가볍 지 않 구나\n",
      "라벨:  1\n",
      "[24, 205, 30113]\n",
      "재 밓었다그래서보는것을추천한다\n",
      "라벨:  0\n",
      "[8409, 158, 3925, 4, 4, 298, 94, 17, 6, 4, 4, 58, 3479]\n",
      "이야기 구먼 . . 솔직히 재미 없 다 . . 평점 조정\n",
      "라벨:  0\n",
      "[22672, 8894, 1108, 52, 2832, 60, 5, 14, 2758, 41, 1188, 35, 351, 42, 22, 40, 60, 16052, 22673, 427, 3102, 1766, 6]\n",
      "익살 스런 연기 돋보였 던 영화 ! 스파이더맨 에서 늙 어 보이 기 만 했 던 커스틴 던스트 너무나 이뻐 보였 다\n",
      "라벨:  1\n",
      "[675, 22674, 18655, 131, 420, 185, 1547, 712, 65, 1694, 715, 53, 375, 192, 271, 5, 4, 69, 4, 11, 2179, 122, 750, 4]\n",
      "걸음마 뗀 3 세 부터 초등 학교 1 학년 생 인 8 살 용 영화 . ㅋㅋㅋ . .. 별반 개 아까움 .\n",
      "라벨:  0\n",
      "[253, 381, 9, 384, 2012, 55, 15, 817, 6, 4]\n",
      "긴장감 을 제대로 살려 내 지 못했 다 .\n",
      "라벨:  0\n",
      "[232, 1450, 144, 6, 425, 756, 10855, 16053, 52, 1532, 290, 99, 250, 4, 4, 28, 855, 29, 353, 652, 540, 509, 583, 6, 3318, 4, 8895, 22, 1460, 1460, 4, 4, 71, 304, 17, 6, 52, 104, 8, 77, 22, 30114, 43]\n",
      "반개 아깝 다 욕 나온다 이응경 길용우 연기 생활 몇 년 인지 . . 정말 발 로 해도 그것 보단 낫 겟 다 납치 . 감금 만 반복 반복 . . 드라마 가족 없 다 연기 못 하 사람 만 모엿 네\n",
      "라벨:  0\n",
      "[128, 17, 23, 94, 16, 290, 27, 48, 5]\n",
      "없 는데 재미 있 몇 안 되 영화\n",
      "라벨:  1\n",
      "[63, 656, 58, 240, 760, 18, 574, 89, 10063, 4, 4, 1482, 637, 736, 81, 22, 24, 16054, 16, 20, 18]\n",
      "케 평점 낮 건데 ? 꽤 볼 만한데 . . 헐리우드 식 화려 함 만 너무 길들여져 있 나 ?\n",
      "라벨:  1\n"
     ]
    }
   ],
   "source": [
    "# 문장 1개를 활용할 딕셔너리와 함께 주면, 단어 인덱스 리스트 벡터로 변환해 주는 함수 \n",
    "# 단, 모든 문장은 <BOS>로 시작하는 것으로 \n",
    "def get_encoded_sentence(sentence, word_to_index):\n",
    "    return [word_to_index['<BOS>']]+[word_to_index[word] if word in word_to_index else word_to_index['<UNK>'] for word in sentence.split()]\n",
    "\n",
    "# 여러 개의 문장 리스트를 한꺼번에 단어 인덱스 리스트 벡터로 encode해 주는 함수 \n",
    "def get_encoded_sentences(sentences, word_to_index):\n",
    "    return [get_encoded_sentence(sentence, word_to_index) for sentence in sentences]\n",
    "\n",
    "# 숫자 벡터로 encode된 문장을 원래대로 decode하는 함수\n",
    "def get_decoded_sentence(encoded_sentence, index_to_word):\n",
    "    return ' '.join(index_to_word[index] if index in index_to_word else '<UNK>' for index in encoded_sentence[1:])  #[1:]를 통해 <BOS>를 제외\n",
    "\n",
    "# 여러 개의 숫자 벡터로 encode된 문장을 한꺼번에 원래대로 decode하는 함수 \n",
    "def get_decoded_sentences(encoded_sentences, index_to_word):\n",
    "    return [get_decoded_sentence(encoded_sentence, index_to_word) for encoded_sentence in encoded_sentences]\n",
    "\n",
    "for i in range(10):\n",
    "    print(X_train[i])\n",
    "    print(get_decoded_sentence(X_train[i], index_to_word))\n",
    "    print('라벨: ', y_train[i])"
   ]
  },
  {
   "cell_type": "markdown",
   "id": "651b7f9b",
   "metadata": {},
   "source": [
    "## 모델 구성을 위한 데이터 분석 및 가공"
   ]
  },
  {
   "cell_type": "markdown",
   "id": "ac4e80a6",
   "metadata": {},
   "source": [
    "### 데이터셋 내의 문장 길이 분포\n",
    "\n",
    "### 적절한 최대 문장 길이 지정\n",
    "\n",
    "### keras.preprocessing.sequence.pad_sequences 을 활용한 패딩 추가"
   ]
  },
  {
   "cell_type": "code",
   "execution_count": 6,
   "id": "75b98f52",
   "metadata": {},
   "outputs": [
    {
     "name": "stdout",
     "output_type": "stream",
     "text": [
      "문장길이 평균 :  15.96940191154864\n",
      "문장길이 최대 :  116\n",
      "문장길이 표준편차 :  12.843571191092\n",
      "pad_sequences maxlen :  41\n",
      "전체 문장의 0.9342988343341575%가 maxlen 설정값 이내에 포함됩니다. \n"
     ]
    }
   ],
   "source": [
    "total_data_text = list(X_train) + list(X_test)\n",
    "# 텍스트데이터 문장길이의 리스트를 생성\n",
    "num_tokens = [len(tokens) for tokens in total_data_text]\n",
    "\n",
    "num_tokens = np.array(num_tokens)\n",
    "# 문장길이의 평균값, 최대값, 표준편차를 계산\n",
    "print('문장길이 평균 : ', np.mean(num_tokens))\n",
    "print('문장길이 최대 : ', np.max(num_tokens))\n",
    "print('문장길이 표준편차 : ', np.std(num_tokens))\n",
    "\n",
    "# 예를들어, 최대 길이를 (평균 + 2*표준편차)로 한다면,  \n",
    "max_tokens = np.mean(num_tokens) + 2 * np.std(num_tokens)\n",
    "maxlen = int(max_tokens)\n",
    "print('pad_sequences maxlen : ', maxlen)\n",
    "print('전체 문장의 {}%가 maxlen 설정값 이내에 포함됩니다. '.format(np.sum(num_tokens < max_tokens) / len(num_tokens)))"
   ]
  },
  {
   "cell_type": "code",
   "execution_count": 7,
   "id": "10c88787",
   "metadata": {},
   "outputs": [
    {
     "name": "stdout",
     "output_type": "stream",
     "text": [
      "(146182, 41)\n"
     ]
    }
   ],
   "source": [
    "X_train = keras.preprocessing.sequence.pad_sequences(X_train,\n",
    "                                                        value=word_to_index[\"<PAD>\"],\n",
    "                                                        padding='pre', # 혹은 'pre'\n",
    "                                                        maxlen=maxlen)\n",
    "\n",
    "X_test = keras.preprocessing.sequence.pad_sequences(X_test,\n",
    "                                                       value=word_to_index[\"<PAD>\"],\n",
    "                                                       padding='pre', # 혹은 'pre'\n",
    "                                                       maxlen=maxlen)\n",
    "\n",
    "\n",
    "print(X_train.shape)"
   ]
  },
  {
   "cell_type": "code",
   "execution_count": 8,
   "id": "692df117",
   "metadata": {},
   "outputs": [
    {
     "name": "stdout",
     "output_type": "stream",
     "text": [
      "partial_x_train : (116945, 41)\n",
      "partial_y_train : (116945,)\n",
      "x_valid : (29237, 41)\n",
      "y_valid : (29237,)\n"
     ]
    }
   ],
   "source": [
    "# train data set에서 80:20의 비율로 train과 validation으로 분리\n",
    "#RNN에서는 순서가 중요하므로 shuffle은 진행하지 않도록 한다.\n",
    "# train set\n",
    "partial_X_train = X_train[:int(X_train.shape[0]*0.8)]\n",
    "partial_y_train = y_train[:int(y_train.shape[0]*0.8)]\n",
    "\n",
    "# validation set\n",
    "x_valid = X_train[int(X_train.shape[0]*0.8):]\n",
    "y_valid = y_train[int(X_train.shape[0]*0.8):]\n",
    "\n",
    "print('partial_x_train :', partial_X_train.shape)\n",
    "print('partial_y_train :', partial_y_train.shape)\n",
    "print('x_valid :', x_valid.shape)\n",
    "print('y_valid :', y_valid.shape)"
   ]
  },
  {
   "cell_type": "markdown",
   "id": "f2cdd292",
   "metadata": {},
   "source": [
    "## 모델 구성 및 validation set 구성"
   ]
  },
  {
   "cell_type": "markdown",
   "id": "26df3d3a",
   "metadata": {},
   "source": [
    "### RNN 모델"
   ]
  },
  {
   "cell_type": "code",
   "execution_count": 9,
   "id": "920e02e7",
   "metadata": {},
   "outputs": [
    {
     "name": "stdout",
     "output_type": "stream",
     "text": [
      "Model: \"sequential\"\n",
      "_________________________________________________________________\n",
      "Layer (type)                 Output Shape              Param #   \n",
      "=================================================================\n",
      "embedding (Embedding)        (None, None, 128)         1280000   \n",
      "_________________________________________________________________\n",
      "lstm (LSTM)                  (None, 8)                 4384      \n",
      "_________________________________________________________________\n",
      "dense (Dense)                (None, 16)                144       \n",
      "_________________________________________________________________\n",
      "dense_1 (Dense)              (None, 1)                 17        \n",
      "=================================================================\n",
      "Total params: 1,284,545\n",
      "Trainable params: 1,284,545\n",
      "Non-trainable params: 0\n",
      "_________________________________________________________________\n"
     ]
    }
   ],
   "source": [
    "# 어휘 사전의 크기\n",
    "vocab_size = 10000\n",
    "word_vector_dim = 128  \n",
    "# 워드 벡터의 차원수\n",
    "\n",
    "model = keras.Sequential()\n",
    "model.add(keras.layers.Embedding(vocab_size, word_vector_dim, input_shape=(None,)))\n",
    "model.add(keras.layers.LSTM(8))\n",
    "model.add(keras.layers.Dense(16, activation='relu',kernel_regularizer='l1'))\n",
    "model.add(keras.layers.Dense(1, activation='sigmoid'))  \n",
    "# 최종 출력은 긍정/부정을 나타내는 1dim\n",
    "\n",
    "model.summary()"
   ]
  },
  {
   "cell_type": "markdown",
   "id": "eace639c",
   "metadata": {},
   "source": [
    "### 모델 훈련"
   ]
  },
  {
   "cell_type": "code",
   "execution_count": 10,
   "id": "47d369a2",
   "metadata": {},
   "outputs": [
    {
     "name": "stdout",
     "output_type": "stream",
     "text": [
      "Epoch 1/20\n",
      "229/229 [==============================] - 5s 8ms/step - loss: 0.7041 - accuracy: 0.8034 - val_loss: 0.5155 - val_accuracy: 0.8438\n",
      "Epoch 2/20\n",
      "229/229 [==============================] - 1s 6ms/step - loss: 0.4345 - accuracy: 0.8618 - val_loss: 0.4133 - val_accuracy: 0.8515\n",
      "Epoch 3/20\n",
      "229/229 [==============================] - 1s 6ms/step - loss: 0.3626 - accuracy: 0.8772 - val_loss: 0.3927 - val_accuracy: 0.8548\n",
      "Epoch 4/20\n",
      "229/229 [==============================] - 1s 6ms/step - loss: 0.3312 - accuracy: 0.8868 - val_loss: 0.3861 - val_accuracy: 0.8555\n",
      "Epoch 5/20\n",
      "229/229 [==============================] - 1s 6ms/step - loss: 0.3064 - accuracy: 0.8959 - val_loss: 0.3820 - val_accuracy: 0.8566\n",
      "Epoch 6/20\n",
      "229/229 [==============================] - 1s 6ms/step - loss: 0.2842 - accuracy: 0.9063 - val_loss: 0.3853 - val_accuracy: 0.8534\n",
      "Epoch 7/20\n",
      "229/229 [==============================] - 1s 6ms/step - loss: 0.2669 - accuracy: 0.9129 - val_loss: 0.3954 - val_accuracy: 0.8511\n",
      "Epoch 8/20\n",
      "229/229 [==============================] - 1s 6ms/step - loss: 0.2499 - accuracy: 0.9203 - val_loss: 0.4053 - val_accuracy: 0.8515\n",
      "Epoch 9/20\n",
      "229/229 [==============================] - 1s 6ms/step - loss: 0.2363 - accuracy: 0.9262 - val_loss: 0.4063 - val_accuracy: 0.8501\n",
      "Epoch 10/20\n",
      "229/229 [==============================] - 1s 6ms/step - loss: 0.2234 - accuracy: 0.9314 - val_loss: 0.4178 - val_accuracy: 0.8481\n",
      "Epoch 11/20\n",
      "229/229 [==============================] - 1s 6ms/step - loss: 0.2121 - accuracy: 0.9364 - val_loss: 0.4294 - val_accuracy: 0.8488\n",
      "Epoch 12/20\n",
      "229/229 [==============================] - 1s 6ms/step - loss: 0.2025 - accuracy: 0.9401 - val_loss: 0.4370 - val_accuracy: 0.8471\n",
      "Epoch 13/20\n",
      "229/229 [==============================] - 1s 6ms/step - loss: 0.1949 - accuracy: 0.9433 - val_loss: 0.4441 - val_accuracy: 0.8456\n",
      "Epoch 14/20\n",
      "229/229 [==============================] - 1s 6ms/step - loss: 0.1867 - accuracy: 0.9465 - val_loss: 0.4545 - val_accuracy: 0.8443\n",
      "Epoch 15/20\n",
      "229/229 [==============================] - 1s 6ms/step - loss: 0.1778 - accuracy: 0.9503 - val_loss: 0.4615 - val_accuracy: 0.8451\n",
      "Epoch 16/20\n",
      "229/229 [==============================] - 1s 6ms/step - loss: 0.1722 - accuracy: 0.9525 - val_loss: 0.4693 - val_accuracy: 0.8433\n",
      "Epoch 17/20\n",
      "229/229 [==============================] - 1s 6ms/step - loss: 0.1703 - accuracy: 0.9526 - val_loss: 0.4750 - val_accuracy: 0.8428\n",
      "Epoch 18/20\n",
      "229/229 [==============================] - 1s 6ms/step - loss: 0.1626 - accuracy: 0.9554 - val_loss: 0.4866 - val_accuracy: 0.8426\n",
      "Epoch 19/20\n",
      "229/229 [==============================] - 1s 6ms/step - loss: 0.1606 - accuracy: 0.9564 - val_loss: 0.4707 - val_accuracy: 0.8421\n",
      "Epoch 20/20\n",
      "229/229 [==============================] - 1s 6ms/step - loss: 0.1557 - accuracy: 0.9577 - val_loss: 0.4924 - val_accuracy: 0.8414\n"
     ]
    }
   ],
   "source": [
    "model.compile(optimizer='adam',\n",
    "              loss='binary_crossentropy',\n",
    "              metrics=['accuracy'])\n",
    "              \n",
    "epochs=20\n",
    "\n",
    "history = model.fit(partial_X_train,\n",
    "                    partial_y_train,\n",
    "                    epochs=epochs,\n",
    "                    batch_size=512,\n",
    "                    validation_data=(x_valid, y_valid),\n",
    "                    verbose=1)"
   ]
  },
  {
   "cell_type": "markdown",
   "id": "5c9070ad",
   "metadata": {},
   "source": [
    "### 그래프 시각화"
   ]
  },
  {
   "cell_type": "code",
   "execution_count": 11,
   "id": "b6cab9f6",
   "metadata": {},
   "outputs": [],
   "source": [
    "history_dict = history.history"
   ]
  },
  {
   "cell_type": "code",
   "execution_count": 12,
   "id": "8c57a497",
   "metadata": {
    "scrolled": true
   },
   "outputs": [
    {
     "data": {
      "image/png": "[encoded data removed]",
      "text/plain": [
       "<Figure size 432x288 with 1 Axes>"
      ]
     },
     "metadata": {
      "needs_background": "light"
     },
     "output_type": "display_data"
    },
    {
     "data": {
      "image/png": "[encoded data removed]",
      "text/plain": [
       "<Figure size 432x288 with 1 Axes>"
      ]
     },
     "metadata": {
      "needs_background": "light"
     },
     "output_type": "display_data"
    }
   ],
   "source": [
    "import matplotlib.pyplot as plt\n",
    "\n",
    "acc = history_dict['accuracy']\n",
    "val_acc = history_dict['val_accuracy']\n",
    "loss = history_dict['loss']\n",
    "val_loss = history_dict['val_loss']\n",
    "\n",
    "epochs = range(1, len(acc) + 1)\n",
    "\n",
    "\n",
    "plt.plot(epochs, loss, 'ro', label='Training loss')\n",
    "# b는 \"파란 실선\"입니다\n",
    "plt.plot(epochs, val_loss, 'r', label='Validation loss')\n",
    "plt.title('Training and validation loss')\n",
    "plt.xlabel('Epochs')\n",
    "plt.ylabel('Loss')\n",
    "plt.legend()\n",
    "\n",
    "plt.show()\n",
    "\n",
    "plt.plot(epochs, acc, 'bo', label='Training acc')\n",
    "plt.plot(epochs, val_acc, 'b', label='Validation acc')\n",
    "plt.title('Training and validation accuracy')\n",
    "plt.xlabel('Epochs')\n",
    "plt.ylabel('Accuracy')\n",
    "plt.legend()\n",
    "\n",
    "plt.show()"
   ]
  },
  {
   "cell_type": "markdown",
   "id": "de90d31f",
   "metadata": {},
   "source": [
    "### 테스트 평가"
   ]
  },
  {
   "cell_type": "code",
   "execution_count": 13,
   "id": "2eb5e7f8",
   "metadata": {},
   "outputs": [
    {
     "name": "stdout",
     "output_type": "stream",
     "text": [
      "1537/1537 - 3s - loss: 0.5118 - accuracy: 0.8341\n",
      "[0.5117892622947693, 0.8341233134269714]\n"
     ]
    }
   ],
   "source": [
    "results = model.evaluate(X_test,  y_test, verbose=2)\n",
    "\n",
    "print(results)"
   ]
  },
  {
   "cell_type": "markdown",
   "id": "4a26df98",
   "metadata": {},
   "source": [
    "### 1-D CNN 모델"
   ]
  },
  {
   "cell_type": "code",
   "execution_count": 14,
   "id": "a6158bd4",
   "metadata": {},
   "outputs": [
    {
     "name": "stdout",
     "output_type": "stream",
     "text": [
      "Model: \"sequential_1\"\n",
      "_________________________________________________________________\n",
      "Layer (type)                 Output Shape              Param #   \n",
      "=================================================================\n",
      "embedding_1 (Embedding)      (None, None, 200)         2000000   \n",
      "_________________________________________________________________\n",
      "conv1d (Conv1D)              (None, None, 32)          44832     \n",
      "_________________________________________________________________\n",
      "max_pooling1d (MaxPooling1D) (None, None, 32)          0         \n",
      "_________________________________________________________________\n",
      "conv1d_1 (Conv1D)            (None, None, 32)          7200      \n",
      "_________________________________________________________________\n",
      "global_max_pooling1d (Global (None, 32)                0         \n",
      "_________________________________________________________________\n",
      "dense_2 (Dense)              (None, 16)                528       \n",
      "_________________________________________________________________\n",
      "dense_3 (Dense)              (None, 1)                 17        \n",
      "=================================================================\n",
      "Total params: 2,052,577\n",
      "Trainable params: 2,052,577\n",
      "Non-trainable params: 0\n",
      "_________________________________________________________________\n"
     ]
    }
   ],
   "source": [
    "# 어휘 사전의 크기(10,000개의 단어)\n",
    "vocab_size = 10000  \n",
    "word_vector_dim = 200   # 단어 하나를 표현하는 임베딩 벡터의 차원 \n",
    "\n",
    "model2 = keras.Sequential()\n",
    "model2.add(keras.layers.Embedding(vocab_size, word_vector_dim, input_shape=(None,)))\n",
    "model2.add(keras.layers.Conv1D(32, 7, activation='relu'))\n",
    "model2.add(keras.layers.MaxPooling1D(5))\n",
    "model2.add(keras.layers.Conv1D(32, 7, activation='relu'))\n",
    "model2.add(keras.layers.GlobalMaxPooling1D())\n",
    "model2.add(keras.layers.Dense(16, activation='relu'))\n",
    "model2.add(keras.layers.Dense(1, activation='sigmoid'))  # 최종 출력은 긍정/부정을 나타내는 1dim 입니다.\n",
    "\n",
    "model2.summary()"
   ]
  },
  {
   "cell_type": "markdown",
   "id": "0f23816d",
   "metadata": {},
   "source": [
    "### 1-D CNN 모델 훈련"
   ]
  },
  {
   "cell_type": "code",
   "execution_count": 15,
   "id": "7b4242ad",
   "metadata": {},
   "outputs": [
    {
     "name": "stdout",
     "output_type": "stream",
     "text": [
      "Epoch 1/5\n",
      "457/457 [==============================] - 5s 7ms/step - loss: 0.3975 - accuracy: 0.8133 - val_loss: 0.3280 - val_accuracy: 0.8584\n",
      "Epoch 2/5\n",
      "457/457 [==============================] - 3s 6ms/step - loss: 0.2684 - accuracy: 0.8890 - val_loss: 0.3294 - val_accuracy: 0.8601\n",
      "Epoch 3/5\n",
      "457/457 [==============================] - 3s 6ms/step - loss: 0.1721 - accuracy: 0.9347 - val_loss: 0.3759 - val_accuracy: 0.8547\n",
      "Epoch 4/5\n",
      "457/457 [==============================] - 3s 6ms/step - loss: 0.0921 - accuracy: 0.9682 - val_loss: 0.4950 - val_accuracy: 0.8441\n",
      "Epoch 5/5\n",
      "457/457 [==============================] - 3s 6ms/step - loss: 0.0571 - accuracy: 0.9813 - val_loss: 0.5729 - val_accuracy: 0.8449\n"
     ]
    }
   ],
   "source": [
    "# 학습 환경 설정\n",
    "model2.compile(optimizer='adam',\n",
    "              loss='binary_crossentropy',\n",
    "              metrics=['accuracy'])\n",
    "              \n",
    "epochs=5  # 몇 epoch를 훈련하면 좋을지 결과를 보면서 바꾸어 봅시다. \n",
    "\n",
    "# 모델 학습\n",
    "history = model2.fit(partial_X_train,\n",
    "                    partial_y_train,\n",
    "                    epochs=epochs,\n",
    "                    batch_size=256,\n",
    "                    validation_data=(x_valid, y_valid),\n",
    "                    verbose=1)"
   ]
  },
  {
   "cell_type": "markdown",
   "id": "f1dee949",
   "metadata": {},
   "source": [
    "### 그래프 시각화"
   ]
  },
  {
   "cell_type": "code",
   "execution_count": 16,
   "id": "56bdaa30",
   "metadata": {},
   "outputs": [
    {
     "name": "stdout",
     "output_type": "stream",
     "text": [
      "dict_keys(['loss', 'accuracy', 'val_loss', 'val_accuracy'])\n"
     ]
    },
    {
     "data": {
      "image/png": "[encoded data removed]",
      "text/plain": [
       "<Figure size 432x288 with 1 Axes>"
      ]
     },
     "metadata": {
      "needs_background": "light"
     },
     "output_type": "display_data"
    },
    {
     "data": {
      "image/png": "[encoded data removed]",
      "text/plain": [
       "<Figure size 432x288 with 1 Axes>"
      ]
     },
     "metadata": {
      "needs_background": "light"
     },
     "output_type": "display_data"
    }
   ],
   "source": [
    "history_dict = history.history\n",
    "print(history_dict.keys()) # epoch에 따른 그래프를 그려볼 수 있는 항목들\n",
    "\n",
    "acc = history_dict['accuracy']\n",
    "val_acc = history_dict['val_accuracy']\n",
    "loss = history_dict['loss']\n",
    "val_loss = history_dict['val_loss']\n",
    "\n",
    "epochs = range(1, len(acc) + 1)\n",
    "\n",
    "# \"bo\"는 \"파란색 점\"입니다\n",
    "plt.plot(epochs, loss, 'ro', label='Training loss')\n",
    "# b는 \"파란 실선\"입니다\n",
    "plt.plot(epochs, val_loss, 'r', label='Validation loss')\n",
    "plt.title('Training and validation loss')\n",
    "plt.xlabel('Epochs')\n",
    "plt.ylabel('Loss')\n",
    "plt.legend()\n",
    "\n",
    "plt.show()\n",
    "\n",
    "plt.clf()   # 그림을 초기화합니다\n",
    "\n",
    "plt.plot(epochs, acc, 'bo', label='Training acc')\n",
    "plt.plot(epochs, val_acc, 'b', label='Validation acc')\n",
    "plt.title('Training and validation accuracy')\n",
    "plt.xlabel('Epochs')\n",
    "plt.ylabel('Accuracy')\n",
    "plt.legend()\n",
    "\n",
    "plt.show()"
   ]
  },
  {
   "cell_type": "markdown",
   "id": "6e31c22b",
   "metadata": {},
   "source": [
    "### 테스트 평가"
   ]
  },
  {
   "cell_type": "code",
   "execution_count": 17,
   "id": "c3eeb6a3",
   "metadata": {},
   "outputs": [
    {
     "name": "stdout",
     "output_type": "stream",
     "text": [
      "1537/1537 - 3s - loss: 0.5896 - accuracy: 0.8412\n",
      "[0.5895631909370422, 0.8412433862686157]\n"
     ]
    }
   ],
   "source": [
    "results = model2.evaluate(X_test, y_test, verbose=2)\n",
    "\n",
    "print(results)"
   ]
  },
  {
   "cell_type": "markdown",
   "id": "d457c627",
   "metadata": {},
   "source": [
    "### GlobalMaxPooling1D() 모델"
   ]
  },
  {
   "cell_type": "code",
   "execution_count": 18,
   "id": "f8e5a775",
   "metadata": {},
   "outputs": [
    {
     "name": "stdout",
     "output_type": "stream",
     "text": [
      "Model: \"sequential_2\"\n",
      "_________________________________________________________________\n",
      "Layer (type)                 Output Shape              Param #   \n",
      "=================================================================\n",
      "embedding_2 (Embedding)      (None, None, 200)         2000000   \n",
      "_________________________________________________________________\n",
      "global_max_pooling1d_1 (Glob (None, 200)               0         \n",
      "_________________________________________________________________\n",
      "dense_4 (Dense)              (None, 16)                3216      \n",
      "_________________________________________________________________\n",
      "dense_5 (Dense)              (None, 1)                 17        \n",
      "=================================================================\n",
      "Total params: 2,003,233\n",
      "Trainable params: 2,003,233\n",
      "Non-trainable params: 0\n",
      "_________________________________________________________________\n"
     ]
    }
   ],
   "source": [
    "vocab_size = 10000  \n",
    "word_vector_dim = 200   \n",
    "\n",
    "model3 = keras.Sequential()\n",
    "model3.add(keras.layers.Embedding(vocab_size, word_vector_dim, input_shape=(None,)))\n",
    "model3.add(keras.layers.GlobalMaxPooling1D())\n",
    "model3.add(keras.layers.Dense(16, activation='relu'))\n",
    "model3.add(keras.layers.Dense(1, activation='sigmoid'))  # 최종 출력은 긍정/부정을 나타내는 1dim 입니다.\n",
    "\n",
    "model3.summary()"
   ]
  },
  {
   "cell_type": "markdown",
   "id": "84307021",
   "metadata": {},
   "source": [
    "### GlobalMaxPooling1D() 모델 훈련"
   ]
  },
  {
   "cell_type": "code",
   "execution_count": 19,
   "id": "73672ca5",
   "metadata": {},
   "outputs": [
    {
     "name": "stdout",
     "output_type": "stream",
     "text": [
      "Epoch 1/5\n",
      "457/457 [==============================] - 2s 4ms/step - loss: 0.4254 - accuracy: 0.8167 - val_loss: 0.3433 - val_accuracy: 0.8509\n",
      "Epoch 2/5\n",
      "457/457 [==============================] - 2s 4ms/step - loss: 0.2996 - accuracy: 0.8742 - val_loss: 0.3371 - val_accuracy: 0.8543\n",
      "Epoch 3/5\n",
      "457/457 [==============================] - 2s 4ms/step - loss: 0.2498 - accuracy: 0.8992 - val_loss: 0.3454 - val_accuracy: 0.8569\n",
      "Epoch 4/5\n",
      "457/457 [==============================] - 2s 4ms/step - loss: 0.2040 - accuracy: 0.9216 - val_loss: 0.3666 - val_accuracy: 0.8525\n",
      "Epoch 5/5\n",
      "457/457 [==============================] - 2s 4ms/step - loss: 0.1578 - accuracy: 0.9434 - val_loss: 0.4021 - val_accuracy: 0.8507\n"
     ]
    }
   ],
   "source": [
    "# 학습 환경 설정\n",
    "model3.compile(optimizer='adam',\n",
    "              loss='binary_crossentropy',\n",
    "              metrics=['accuracy'])\n",
    "              \n",
    "epochs=5  # 몇 epoch를 훈련하면 좋을지 결과를 보면서 바꾸어 봅시다. \n",
    "\n",
    "# 모델 학습\n",
    "history = model3.fit(partial_X_train,\n",
    "                    partial_y_train,\n",
    "                    epochs=epochs,\n",
    "                    batch_size=256,\n",
    "                    validation_data=(x_valid, y_valid),\n",
    "                    verbose=1)"
   ]
  },
  {
   "cell_type": "markdown",
   "id": "829c6939",
   "metadata": {},
   "source": [
    "### 그래프 시각화"
   ]
  },
  {
   "cell_type": "code",
   "execution_count": 20,
   "id": "03815a65",
   "metadata": {},
   "outputs": [
    {
     "name": "stdout",
     "output_type": "stream",
     "text": [
      "dict_keys(['loss', 'accuracy', 'val_loss', 'val_accuracy'])\n"
     ]
    },
    {
     "data": {
      "image/png": "[encoded data removed]",
      "text/plain": [
       "<Figure size 432x288 with 1 Axes>"
      ]
     },
     "metadata": {
      "needs_background": "light"
     },
     "output_type": "display_data"
    },
    {
     "data": {
      "image/png": "[encoded data removed]",
      "text/plain": [
       "<Figure size 432x288 with 1 Axes>"
      ]
     },
     "metadata": {
      "needs_background": "light"
     },
     "output_type": "display_data"
    }
   ],
   "source": [
    "history_dict = history.history\n",
    "print(history_dict.keys()) # epoch에 따른 그래프를 그려볼 수 있는 항목들\n",
    "\n",
    "acc = history_dict['accuracy']\n",
    "val_acc = history_dict['val_accuracy']\n",
    "loss = history_dict['loss']\n",
    "val_loss = history_dict['val_loss']\n",
    "\n",
    "epochs = range(1, len(acc) + 1)\n",
    "\n",
    "# \"bo\"는 \"파란색 점\"입니다\n",
    "plt.plot(epochs, loss, 'ro', label='Training loss')\n",
    "# b는 \"파란 실선\"입니다\n",
    "plt.plot(epochs, val_loss, 'r', label='Validation loss')\n",
    "plt.title('Training and validation loss')\n",
    "plt.xlabel('Epochs')\n",
    "plt.ylabel('Loss')\n",
    "plt.legend()\n",
    "\n",
    "plt.show()\n",
    "\n",
    "plt.clf()   # 그림을 초기화합니다\n",
    "\n",
    "plt.plot(epochs, acc, 'bo', label='Training acc')\n",
    "plt.plot(epochs, val_acc, 'b', label='Validation acc')\n",
    "plt.title('Training and validation accuracy')\n",
    "plt.xlabel('Epochs')\n",
    "plt.ylabel('Accuracy')\n",
    "plt.legend()\n",
    "\n",
    "plt.show()"
   ]
  },
  {
   "cell_type": "markdown",
   "id": "7464f6fc",
   "metadata": {},
   "source": [
    "### 테스트 평가"
   ]
  },
  {
   "cell_type": "code",
   "execution_count": 21,
   "id": "61285c61",
   "metadata": {},
   "outputs": [
    {
     "name": "stdout",
     "output_type": "stream",
     "text": [
      "1537/1537 - 2s - loss: 0.4135 - accuracy: 0.8457\n",
      "[0.41351208090782166, 0.8456984758377075]\n"
     ]
    }
   ],
   "source": [
    "results = model3.evaluate(X_test, y_test, verbose=2)\n",
    "\n",
    "print(results)"
   ]
  },
  {
   "cell_type": "markdown",
   "id": "1d86f832",
   "metadata": {},
   "source": [
    "## 학습된 Embedding 레이어 분석"
   ]
  },
  {
   "cell_type": "code",
   "execution_count": 22,
   "id": "7a7322b0",
   "metadata": {},
   "outputs": [
    {
     "data": {
      "text/plain": [
       "'3.8.3'"
      ]
     },
     "execution_count": 22,
     "metadata": {},
     "output_type": "execute_result"
    }
   ],
   "source": [
    "import gensim\n",
    "\n",
    "gensim.__version__"
   ]
  },
  {
   "cell_type": "code",
   "execution_count": 23,
   "id": "a745c64f",
   "metadata": {},
   "outputs": [
    {
     "name": "stdout",
     "output_type": "stream",
     "text": [
      "(10000, 128)\n"
     ]
    }
   ],
   "source": [
    "embedding_layer = model.layers[0]\n",
    "weights = embedding_layer.get_weights()[0]\n",
    "print(weights.shape)    \n",
    "# (vocab_size, embedding_dim)"
   ]
  },
  {
   "cell_type": "code",
   "execution_count": 24,
   "id": "84443f95",
   "metadata": {},
   "outputs": [],
   "source": [
    "import os\n",
    "from gensim import models     # gensim : 워드벡터를 다루는데 유용한 패키지\n",
    "\n",
    "# 학습한 Embedding 파라미터를 파일에 써서 저장합니다. \n",
    "word2vec_file_path = os.getenv('HOME') + '/aiffel/sentiment_classification/word2vec.txt'\n",
    "f = open(word2vec_file_path, 'w')\n",
    "f.write('{} {}\\n'.format(vocab_size-4, word_vector_dim))  # 몇개의 벡터를 얼마 사이즈로 기재할지 타이틀을 씁니다.\n",
    "\n",
    "# 단어 개수(에서 특수문자 4개는 제외하고)만큼의 워드 벡터를 파일에 기록합니다. \n",
    "vectors = model2.get_weights()[0]\n",
    "for i in range(4, vocab_size):\n",
    "    f.write('{} {}\\n'.format(index_to_word[i], ' '.join(map(str, list(vectors[i, :])))))\n",
    "f.close()"
   ]
  },
  {
   "cell_type": "code",
   "execution_count": 25,
   "id": "166935b8",
   "metadata": {
    "scrolled": true
   },
   "outputs": [
    {
     "data": {
      "text/plain": [
       "array([ 0.04002763,  0.11042672,  0.0705272 , -0.07922912, -0.00207875,\n",
       "       -0.05959496,  0.02463673,  0.09533185, -0.03221181, -0.06713165,\n",
       "        0.02102545, -0.03422381,  0.03245359,  0.03921298, -0.04923128,\n",
       "       -0.01229176, -0.04937562, -0.03030475,  0.01795933,  0.07719096,\n",
       "        0.02075107,  0.00438063,  0.09065286,  0.0575302 , -0.07142103,\n",
       "        0.078635  , -0.0711986 ,  0.07508343,  0.09974683, -0.05183615,\n",
       "       -0.0772666 , -0.01092433, -0.10506873, -0.09158409,  0.00230189,\n",
       "       -0.00109   ,  0.01876266, -0.01405656,  0.02588102, -0.00579005,\n",
       "        0.00389949,  0.00093371,  0.09411059, -0.06091054, -0.09731386,\n",
       "        0.02158676,  0.0477482 ,  0.04289344,  0.05139301, -0.0423282 ,\n",
       "        0.02508151,  0.07547294,  0.1123451 ,  0.07908954,  0.03055206,\n",
       "       -0.01943605, -0.03923942,  0.10192194,  0.0132806 , -0.01857843,\n",
       "        0.07659   , -0.00487318, -0.10886452, -0.01870912,  0.04203385,\n",
       "        0.08100782, -0.07117388, -0.07825751, -0.11579326, -0.07289317,\n",
       "        0.10361169, -0.08488905, -0.00297671,  0.02203234, -0.03016154,\n",
       "       -0.07324031,  0.01891097, -0.08753517, -0.0363196 ,  0.02192409,\n",
       "       -0.09599466, -0.05583853, -0.04477724,  0.0579604 ,  0.05541206,\n",
       "        0.06652272,  0.07335895,  0.02716753,  0.0407978 ,  0.02091723,\n",
       "        0.06266878,  0.0872959 ,  0.14132026,  0.07238928, -0.08740655,\n",
       "       -0.02160037,  0.00626169,  0.0629679 ,  0.02787719,  0.03530957,\n",
       "        0.03793966,  0.02688818, -0.03218118,  0.00823664, -0.032636  ,\n",
       "        0.03169019, -0.05149376,  0.03614591, -0.11888424,  0.03767016,\n",
       "       -0.06733107,  0.03154735, -0.02488242, -0.03817068,  0.0497794 ,\n",
       "       -0.01025009, -0.03708946, -0.05147136,  0.02161975,  0.05709992,\n",
       "        0.07865334, -0.10128069, -0.06354632, -0.05272572, -0.09353295,\n",
       "       -0.0743978 , -0.09413786,  0.04563578,  0.10694692, -0.04979526,\n",
       "        0.01110963, -0.10263427,  0.0309057 , -0.01545592, -0.10755033,\n",
       "       -0.01570277, -0.07743197,  0.08713825,  0.0380883 , -0.07875159,\n",
       "        0.125526  ,  0.03719371,  0.0636888 ,  0.01309277, -0.08104074,\n",
       "       -0.04149357,  0.09449955,  0.02770805, -0.0344884 ,  0.05228084,\n",
       "        0.0502829 ,  0.05644451,  0.04773336, -0.0510226 ,  0.05114903,\n",
       "       -0.06695767,  0.02699186,  0.06781311, -0.0538932 ,  0.08132558,\n",
       "       -0.04982871,  0.0600424 ,  0.0009462 , -0.05211616,  0.02863366,\n",
       "       -0.08614814,  0.01875979, -0.03293542, -0.03445009,  0.07832605,\n",
       "       -0.10354088, -0.06823339, -0.01672816,  0.00358673,  0.09794127,\n",
       "       -0.02153004,  0.03923179,  0.03154537, -0.06736119, -0.11761469,\n",
       "       -0.0900028 ,  0.05098981, -0.08300484, -0.10463892,  0.0864561 ,\n",
       "        0.00574209, -0.05020585,  0.07230507,  0.02395331,  0.08162462,\n",
       "       -0.07945288,  0.02745964, -0.05835525, -0.04695595,  0.06845336,\n",
       "       -0.02190524,  0.05711367, -0.03579424,  0.02465187,  0.03247919],\n",
       "      dtype=float32)"
      ]
     },
     "execution_count": 25,
     "metadata": {},
     "output_type": "execute_result"
    }
   ],
   "source": [
    "# 임베딩 파라미터를 읽어서 word vector로 활용\n",
    "from gensim.models.keyedvectors import Word2VecKeyedVectors\n",
    "\n",
    "word_vectors = Word2VecKeyedVectors.load_word2vec_format(word2vec_file_path, binary=False)\n",
    "vector = word_vectors['좋']\n",
    "vector"
   ]
  },
  {
   "cell_type": "code",
   "execution_count": 26,
   "id": "d71c15fa",
   "metadata": {},
   "outputs": [
    {
     "data": {
      "text/plain": [
       "[('제법', 0.6234259605407715),\n",
       " ('올려야', 0.602027952671051),\n",
       " ('지리', 0.59603351354599),\n",
       " ('돌아보', 0.5944850444793701),\n",
       " ('충실', 0.5942865610122681),\n",
       " ('친근', 0.5864992141723633),\n",
       " ('알차', 0.585963249206543),\n",
       " ('멋', 0.5844545960426331),\n",
       " ('돌파', 0.5827163457870483),\n",
       " ('탄탄', 0.5823382139205933)]"
      ]
     },
     "execution_count": 26,
     "metadata": {},
     "output_type": "execute_result"
    }
   ],
   "source": [
    "word_vectors.similar_by_word(\"좋\")\n",
    "# 별로 유사하지 않음\n",
    "# 학습이 잘 되지 않음"
   ]
  },
  {
   "cell_type": "markdown",
   "id": "bca26449",
   "metadata": {},
   "source": [
    "## 한국어 Word2Vec 임베딩 활용하여 성능 개선"
   ]
  },
  {
   "cell_type": "markdown",
   "id": "457334b6",
   "metadata": {},
   "source": [
    "### 임베딩 모델(ko.bin)을 활용한 전이학습"
   ]
  },
  {
   "cell_type": "code",
   "execution_count": 27,
   "id": "6e1ae2bf",
   "metadata": {},
   "outputs": [
    {
     "name": "stderr",
     "output_type": "stream",
     "text": [
      "/tmp/ipykernel_1491/1025019223.py:5: DeprecationWarning: Call to deprecated `__getitem__` (Method will be removed in 4.0.0, use self.wv.__getitem__() instead).\n",
      "  vector = word2vec['영화']\n"
     ]
    },
    {
     "data": {
      "text/plain": [
       "(200,)"
      ]
     },
     "execution_count": 27,
     "metadata": {},
     "output_type": "execute_result"
    }
   ],
   "source": [
    "from gensim.models import KeyedVectors\n",
    "\n",
    "word2vec_path = os.getenv('HOME')+'/aiffel/sentiment_classification/data/ko.bin'\n",
    "word2vec = gensim.models.Word2Vec.load(word2vec_path)\n",
    "vector = word2vec['영화']\n",
    "vector.shape"
   ]
  },
  {
   "cell_type": "code",
   "execution_count": 28,
   "id": "53389522",
   "metadata": {
    "scrolled": true
   },
   "outputs": [
    {
     "data": {
      "text/plain": [
       "[('취미', 0.5857348442077637),\n",
       " ('유머', 0.5140613913536072),\n",
       " ('매력', 0.5105490684509277),\n",
       " ('흥미', 0.4988338351249695),\n",
       " ('공짜', 0.4960595667362213),\n",
       " ('일자리', 0.49294644594192505),\n",
       " ('즐거움', 0.48700767755508423),\n",
       " ('비애', 0.4836210310459137),\n",
       " ('관객', 0.48286449909210205),\n",
       " ('향수', 0.4823310971260071)]"
      ]
     },
     "execution_count": 28,
     "metadata": {},
     "output_type": "execute_result"
    }
   ],
   "source": [
    "# 유사한 단어와 그 유사도 확인\n",
    "word2vec.wv.most_similar(\"재미\")  # 학습이 잘 되어 유사함"
   ]
  },
  {
   "cell_type": "markdown",
   "id": "c466845f",
   "metadata": {},
   "source": [
    "### 임베딩 메트릭스"
   ]
  },
  {
   "cell_type": "code",
   "execution_count": 29,
   "id": "15208b4d",
   "metadata": {},
   "outputs": [
    {
     "name": "stderr",
     "output_type": "stream",
     "text": [
      "/tmp/ipykernel_1491/1410859879.py:10: DeprecationWarning: Call to deprecated `__contains__` (Method will be removed in 4.0.0, use self.wv.__contains__() instead).\n",
      "  if index_to_word[i] in word2vec:\n",
      "/tmp/ipykernel_1491/1410859879.py:11: DeprecationWarning: Call to deprecated `__getitem__` (Method will be removed in 4.0.0, use self.wv.__getitem__() instead).\n",
      "  embedding_matrix[i] = word2vec[index_to_word[i]]\n"
     ]
    }
   ],
   "source": [
    "from tensorflow.keras.initializers import Constant\n",
    "\n",
    "vocab_size = 10000     # 어휘 사전의 크기(10,000개의 단어)\n",
    "word_vector_dim = 200  # 워드 벡터의 차원수 (변경가능한 하이퍼파라미터)\n",
    "\n",
    "embedding_matrix = np.random.rand(vocab_size, word_vector_dim)\n",
    "\n",
    "# embedding_matrix에 Word2Vec 워드벡터를 단어 하나씩 차례대로 카피\n",
    "for i in range(4,vocab_size):\n",
    "    if index_to_word[i] in word2vec:\n",
    "        embedding_matrix[i] = word2vec[index_to_word[i]]"
   ]
  },
  {
   "cell_type": "markdown",
   "id": "66eb3670",
   "metadata": {},
   "source": [
    "### 학습된 Word2Vec 모델 사용"
   ]
  },
  {
   "cell_type": "code",
   "execution_count": 30,
   "id": "04b7f790",
   "metadata": {
    "scrolled": false
   },
   "outputs": [
    {
     "name": "stdout",
     "output_type": "stream",
     "text": [
      "Model: \"sequential_3\"\n",
      "_________________________________________________________________\n",
      "Layer (type)                 Output Shape              Param #   \n",
      "=================================================================\n",
      "embedding_3 (Embedding)      (None, 41, 200)           2000000   \n",
      "_________________________________________________________________\n",
      "lstm_1 (LSTM)                (None, 128)               168448    \n",
      "_________________________________________________________________\n",
      "dense_6 (Dense)              (None, 1)                 129       \n",
      "=================================================================\n",
      "Total params: 2,168,577\n",
      "Trainable params: 2,168,577\n",
      "Non-trainable params: 0\n",
      "_________________________________________________________________\n"
     ]
    }
   ],
   "source": [
    "# 모델 구성\n",
    "model = keras.Sequential()\n",
    "model.add(keras.layers.Embedding(vocab_size, \n",
    "                                 word_vector_dim, \n",
    "                                 embeddings_initializer=Constant(embedding_matrix),  # 카피한 임베딩을 여기서 활용\n",
    "                                 input_length=maxlen, \n",
    "                                 trainable=True))   # trainable을 True로 주면 Fine-tuning\n",
    "model.add(keras.layers.LSTM(128))\n",
    "model.add(keras.layers.Dense(1, activation='sigmoid'))\n",
    "\n",
    "model.summary()"
   ]
  },
  {
   "cell_type": "markdown",
   "id": "f42c4fc7",
   "metadata": {},
   "source": [
    "### 모델 훈련"
   ]
  },
  {
   "cell_type": "code",
   "execution_count": 31,
   "id": "af127895",
   "metadata": {},
   "outputs": [
    {
     "name": "stdout",
     "output_type": "stream",
     "text": [
      "Epoch 1/5\n",
      "1828/1828 [==============================] - 13s 6ms/step - loss: 0.3879 - accuracy: 0.8231 - val_loss: 0.3229 - val_accuracy: 0.8597\n",
      "Epoch 2/5\n",
      "1828/1828 [==============================] - 11s 6ms/step - loss: 0.2859 - accuracy: 0.8798 - val_loss: 0.3067 - val_accuracy: 0.8690\n",
      "Epoch 3/5\n",
      "1828/1828 [==============================] - 11s 6ms/step - loss: 0.2407 - accuracy: 0.9003 - val_loss: 0.3125 - val_accuracy: 0.8689\n",
      "Epoch 4/5\n",
      "1828/1828 [==============================] - 11s 6ms/step - loss: 0.1972 - accuracy: 0.9210 - val_loss: 0.3389 - val_accuracy: 0.8667\n",
      "Epoch 5/5\n",
      "1828/1828 [==============================] - 11s 6ms/step - loss: 0.1548 - accuracy: 0.9400 - val_loss: 0.3892 - val_accuracy: 0.8631\n"
     ]
    }
   ],
   "source": [
    "# 학습 진행\n",
    "model.compile(optimizer='adam',\n",
    "              loss='binary_crossentropy',\n",
    "              metrics=['accuracy'])\n",
    "              \n",
    "epochs=5  # 몇 epoch를 훈련하면 좋을지 결과를 보면서 바꾸어 봅시다. \n",
    "\n",
    "history = model.fit(partial_X_train,\n",
    "                    partial_y_train,\n",
    "                    epochs=epochs,\n",
    "                    batch_size=64,\n",
    "                    validation_data=(x_valid, y_valid),\n",
    "                    verbose=1)"
   ]
  },
  {
   "cell_type": "code",
   "execution_count": null,
   "id": "0addbd20",
   "metadata": {},
   "outputs": [],
   "source": [
    "### Loss, Accuracy 그래프 시각화"
   ]
  },
  {
   "cell_type": "code",
   "execution_count": 32,
   "id": "1df92cf7",
   "metadata": {},
   "outputs": [
    {
     "name": "stdout",
     "output_type": "stream",
     "text": [
      "dict_keys(['loss', 'accuracy', 'val_loss', 'val_accuracy'])\n"
     ]
    },
    {
     "data": {
      "image/png": "[encoded data removed]",
      "text/plain": [
       "<Figure size 432x288 with 1 Axes>"
      ]
     },
     "metadata": {
      "needs_background": "light"
     },
     "output_type": "display_data"
    },
    {
     "data": {
      "image/png": "[encoded data removed]",
      "text/plain": [
       "<Figure size 432x288 with 1 Axes>"
      ]
     },
     "metadata": {
      "needs_background": "light"
     },
     "output_type": "display_data"
    }
   ],
   "source": [
    "history_dict = history.history\n",
    "print(history_dict.keys()) # epoch에 따른 그래프를 그려볼 수 있는 항목들\n",
    "\n",
    "acc = history_dict['accuracy']\n",
    "val_acc = history_dict['val_accuracy']\n",
    "loss = history_dict['loss']\n",
    "val_loss = history_dict['val_loss']\n",
    "\n",
    "epochs = range(1, len(acc) + 1)\n",
    "\n",
    "# \"bo\"는 \"파란색 점\"입니다\n",
    "plt.plot(epochs, loss, 'ro', label='Training loss')\n",
    "# b는 \"파란 실선\"입니다\n",
    "plt.plot(epochs, val_loss, 'r', label='Validation loss')\n",
    "plt.title('Training and validation loss')\n",
    "plt.xlabel('Epochs')\n",
    "plt.ylabel('Loss')\n",
    "plt.legend()\n",
    "\n",
    "plt.show()\n",
    "\n",
    "plt.clf()   # 그림을 초기화합니다\n",
    "\n",
    "plt.plot(epochs, acc, 'bo', label='Training acc')\n",
    "plt.plot(epochs, val_acc, 'b', label='Validation acc')\n",
    "plt.title('Training and validation accuracy')\n",
    "plt.xlabel('Epochs')\n",
    "plt.ylabel('Accuracy')\n",
    "plt.legend()\n",
    "\n",
    "plt.show()"
   ]
  },
  {
   "cell_type": "markdown",
   "id": "f5b0eefa",
   "metadata": {},
   "source": [
    "### 모델 평가"
   ]
  },
  {
   "cell_type": "code",
   "execution_count": 33,
   "id": "c925d7b2",
   "metadata": {},
   "outputs": [
    {
     "name": "stdout",
     "output_type": "stream",
     "text": [
      "1537/1537 - 3s - loss: 0.3942 - accuracy: 0.8616\n",
      "[0.3941735029220581, 0.861586332321167]\n"
     ]
    }
   ],
   "source": [
    "results = model.evaluate(X_test,  y_test, verbose=2)\n",
    "print(results)   # 정확도가 0.85으로 개선됨"
   ]
  }
 ],
 "metadata": {
  "kernelspec": {
   "display_name": "Python 3 (ipykernel)",
   "language": "python",
   "name": "python3"
  },
  "language_info": {
   "codemirror_mode": {
    "name": "ipython",
    "version": 3
   },
   "file_extension": ".py",
   "mimetype": "text/x-python",
   "name": "python",
   "nbconvert_exporter": "python",
   "pygments_lexer": "ipython3",
   "version": "3.9.7"
  }
 },
 "nbformat": 4,
 "nbformat_minor": 5
}
