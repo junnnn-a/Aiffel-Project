{
 "cells": [
  {
   "cell_type": "markdown",
   "id": "cd6db63f",
   "metadata": {},
   "source": [
    "# EXPLORATION_08 뉴스 요약봇 만들기"
   ]
  },
  {
   "cell_type": "markdown",
   "id": "8e468dbb",
   "metadata": {},
   "source": [
    "## Step 1. 데이터 수집하기"
   ]
  },
  {
   "cell_type": "code",
   "execution_count": 1,
   "id": "a23405df",
   "metadata": {},
   "outputs": [
    {
     "name": "stderr",
     "output_type": "stream",
     "text": [
      "[nltk_data] Downloading package stopwords to /aiffel/nltk_data...\n",
      "[nltk_data]   Package stopwords is already up-to-date!\n"
     ]
    },
    {
     "name": "stdout",
     "output_type": "stream",
     "text": [
      "=3\n"
     ]
    }
   ],
   "source": [
    "## 데이터 전처리를 위해서 패키지 불러오기~\n",
    "\n",
    "import nltk\n",
    "nltk.download('stopwords')\n",
    "\n",
    "import numpy as np\n",
    "import pandas as pd\n",
    "import os\n",
    "import re\n",
    "import matplotlib.pyplot as plt\n",
    "from nltk.corpus import stopwords\n",
    "from bs4 import BeautifulSoup \n",
    "from tensorflow.keras.preprocessing.text import Tokenizer \n",
    "from tensorflow.keras.preprocessing.sequence import pad_sequences\n",
    "import urllib.request\n",
    "import warnings\n",
    "warnings.filterwarnings(\"ignore\", category=UserWarning, module='bs4')\n",
    "\n",
    "print('=3')"
   ]
  },
  {
   "cell_type": "code",
   "execution_count": 2,
   "id": "0a22d9b3",
   "metadata": {},
   "outputs": [],
   "source": [
    "## 데이터는 뉴스 기사 데이터를 사용함!\n",
    "\n",
    "import urllib.request\n",
    "urllib.request.urlretrieve(\"https://raw.githubusercontent.com/sunnysai12345/News_Summary/master/news_summary_more.csv\", filename=\"news_summary_more.csv\")\n",
    "data = pd.read_csv('news_summary_more.csv', encoding='iso-8859-1')"
   ]
  },
  {
   "cell_type": "code",
   "execution_count": 3,
   "id": "3384cd7b",
   "metadata": {
    "scrolled": true
   },
   "outputs": [
    {
     "data": {
      "text/html": [
       "<div>\n",
       "<style scoped>\n",
       "    .dataframe tbody tr th:only-of-type {\n",
       "        vertical-align: middle;\n",
       "    }\n",
       "\n",
       "    .dataframe tbody tr th {\n",
       "        vertical-align: top;\n",
       "    }\n",
       "\n",
       "    .dataframe thead th {\n",
       "        text-align: right;\n",
       "    }\n",
       "</style>\n",
       "<table border=\"1\" class=\"dataframe\">\n",
       "  <thead>\n",
       "    <tr style=\"text-align: right;\">\n",
       "      <th></th>\n",
       "      <th>headlines</th>\n",
       "      <th>text</th>\n",
       "    </tr>\n",
       "  </thead>\n",
       "  <tbody>\n",
       "    <tr>\n",
       "      <th>89659</th>\n",
       "      <td>Hundreds of flyers miss flights over security ...</td>\n",
       "      <td>Hundreds of passengers at London Stansted Airp...</td>\n",
       "    </tr>\n",
       "    <tr>\n",
       "      <th>28382</th>\n",
       "      <td>Michael Jackson's father Joe passes away aged 89</td>\n",
       "      <td>Late 'King of Pop' Michael Jackson's father Jo...</td>\n",
       "    </tr>\n",
       "    <tr>\n",
       "      <th>88859</th>\n",
       "      <td>Singapore 'vending machine' dispenses Ferraris...</td>\n",
       "      <td>Autobahn Motors has opened a vending machine i...</td>\n",
       "    </tr>\n",
       "    <tr>\n",
       "      <th>81798</th>\n",
       "      <td>Need Katrina in my life, she's a positive infl...</td>\n",
       "      <td>Actor Ranbir Kapoor, while talking about his r...</td>\n",
       "    </tr>\n",
       "    <tr>\n",
       "      <th>77302</th>\n",
       "      <td>La Liga blocks Neymar's Ã¢ÂÂ¬222 million move...</td>\n",
       "      <td>La Liga has refused to accept a Ã¢ÂÂ¬222 mill...</td>\n",
       "    </tr>\n",
       "    <tr>\n",
       "      <th>12813</th>\n",
       "      <td>Nobody should interfere in beliefs: Rajini on ...</td>\n",
       "      <td>Talking about the controversy surrounding wome...</td>\n",
       "    </tr>\n",
       "    <tr>\n",
       "      <th>90355</th>\n",
       "      <td>Bus carrying I-League champions Aizawl FC fall...</td>\n",
       "      <td>A bus carrying newly-crowned I-League champion...</td>\n",
       "    </tr>\n",
       "    <tr>\n",
       "      <th>63574</th>\n",
       "      <td>India gives over 400 Pakistani minorities long...</td>\n",
       "      <td>The External Affairs Ministry has given over 4...</td>\n",
       "    </tr>\n",
       "    <tr>\n",
       "      <th>12038</th>\n",
       "      <td>FIFA Women's WC 2019 will have prize fund doub...</td>\n",
       "      <td>FIFA will raise the prize money for the Women'...</td>\n",
       "    </tr>\n",
       "    <tr>\n",
       "      <th>11219</th>\n",
       "      <td>Don't misappropriate GoT trademark for politic...</td>\n",
       "      <td>Responding to a Game of Thrones-inspired image...</td>\n",
       "    </tr>\n",
       "  </tbody>\n",
       "</table>\n",
       "</div>"
      ],
      "text/plain": [
       "                                               headlines  \\\n",
       "89659  Hundreds of flyers miss flights over security ...   \n",
       "28382   Michael Jackson's father Joe passes away aged 89   \n",
       "88859  Singapore 'vending machine' dispenses Ferraris...   \n",
       "81798  Need Katrina in my life, she's a positive infl...   \n",
       "77302  La Liga blocks Neymar's Ã¢ÂÂ¬222 million move...   \n",
       "12813  Nobody should interfere in beliefs: Rajini on ...   \n",
       "90355  Bus carrying I-League champions Aizawl FC fall...   \n",
       "63574  India gives over 400 Pakistani minorities long...   \n",
       "12038  FIFA Women's WC 2019 will have prize fund doub...   \n",
       "11219  Don't misappropriate GoT trademark for politic...   \n",
       "\n",
       "                                                    text  \n",
       "89659  Hundreds of passengers at London Stansted Airp...  \n",
       "28382  Late 'King of Pop' Michael Jackson's father Jo...  \n",
       "88859  Autobahn Motors has opened a vending machine i...  \n",
       "81798  Actor Ranbir Kapoor, while talking about his r...  \n",
       "77302  La Liga has refused to accept a Ã¢ÂÂ¬222 mill...  \n",
       "12813  Talking about the controversy surrounding wome...  \n",
       "90355  A bus carrying newly-crowned I-League champion...  \n",
       "63574  The External Affairs Ministry has given over 4...  \n",
       "12038  FIFA will raise the prize money for the Women'...  \n",
       "11219  Responding to a Game of Thrones-inspired image...  "
      ]
     },
     "execution_count": 3,
     "metadata": {},
     "output_type": "execute_result"
    }
   ],
   "source": [
    "data.sample(10)"
   ]
  },
  {
   "cell_type": "markdown",
   "id": "4fae49cd",
   "metadata": {},
   "source": [
    "데이터를 확인해보니 2가지 열이 text와 headlines로 구성되어 있는 것을 알 수 있다."
   ]
  },
  {
   "cell_type": "code",
   "execution_count": 4,
   "id": "66da54fb",
   "metadata": {
    "scrolled": true
   },
   "outputs": [
    {
     "data": {
      "text/html": [
       "<div>\n",
       "<style scoped>\n",
       "    .dataframe tbody tr th:only-of-type {\n",
       "        vertical-align: middle;\n",
       "    }\n",
       "\n",
       "    .dataframe tbody tr th {\n",
       "        vertical-align: top;\n",
       "    }\n",
       "\n",
       "    .dataframe thead th {\n",
       "        text-align: right;\n",
       "    }\n",
       "</style>\n",
       "<table border=\"1\" class=\"dataframe\">\n",
       "  <thead>\n",
       "    <tr style=\"text-align: right;\">\n",
       "      <th></th>\n",
       "      <th>text</th>\n",
       "      <th>headlines</th>\n",
       "    </tr>\n",
       "  </thead>\n",
       "  <tbody>\n",
       "    <tr>\n",
       "      <th>25126</th>\n",
       "      <td>Actor Nawazuddin Siddiqui is set to make his d...</td>\n",
       "      <td>Nawazuddin to debut in Tamil industry with Raj...</td>\n",
       "    </tr>\n",
       "    <tr>\n",
       "      <th>94260</th>\n",
       "      <td>As per reports, actress Kim Sharma, who debute...</td>\n",
       "      <td>Kim Sharma bankrupt after separation from husb...</td>\n",
       "    </tr>\n",
       "    <tr>\n",
       "      <th>19580</th>\n",
       "      <td>Mumbai-based gift curation startup PropShop24 ...</td>\n",
       "      <td>Gifting startup PropShop24 gets Ã¢ÂÂ¹3.5 cr i...</td>\n",
       "    </tr>\n",
       "    <tr>\n",
       "      <th>72028</th>\n",
       "      <td>Over 40 lakh user records of Time Warner Cable...</td>\n",
       "      <td>40 lakh user records of Time Warner Cable expo...</td>\n",
       "    </tr>\n",
       "    <tr>\n",
       "      <th>11837</th>\n",
       "      <td>After Rakhi Sawant claimed that Tanushree Dutt...</td>\n",
       "      <td>Rakhi Sawant is a sex and money obsessed moron...</td>\n",
       "    </tr>\n",
       "    <tr>\n",
       "      <th>52526</th>\n",
       "      <td>Congress President Rahul Gandhi on Friday said...</td>\n",
       "      <td>Justice Loya's death must be investigated prop...</td>\n",
       "    </tr>\n",
       "    <tr>\n",
       "      <th>39768</th>\n",
       "      <td>Researchers are developing a blood test called...</td>\n",
       "      <td>Blood test to detect 10 cancers before symptom...</td>\n",
       "    </tr>\n",
       "    <tr>\n",
       "      <th>84752</th>\n",
       "      <td>Mumbai authorities have seized 33,000 kg of a ...</td>\n",
       "      <td>33,000 kg of 'sex drug' smuggled into India fr...</td>\n",
       "    </tr>\n",
       "    <tr>\n",
       "      <th>21811</th>\n",
       "      <td>Ex-Pakistani fast bowler Shoaib Akhtar used to...</td>\n",
       "      <td>Akhtar threw rocks at mountains, bowled with t...</td>\n",
       "    </tr>\n",
       "    <tr>\n",
       "      <th>58351</th>\n",
       "      <td>Former boxing world champion Floyd Mayweather,...</td>\n",
       "      <td>Mayweather adopts baby giant panda, names it a...</td>\n",
       "    </tr>\n",
       "    <tr>\n",
       "      <th>19956</th>\n",
       "      <td>External Affairs Minister Sushma Swaraj has sa...</td>\n",
       "      <td>Relief a tweet away if Pravasi Bharatiya get s...</td>\n",
       "    </tr>\n",
       "    <tr>\n",
       "      <th>5117</th>\n",
       "      <td>Pakistani national Imran Warsi, who has been s...</td>\n",
       "      <td>After Pak released Indian man, India to free P...</td>\n",
       "    </tr>\n",
       "    <tr>\n",
       "      <th>29999</th>\n",
       "      <td>Six people were killed in mudslides triggered ...</td>\n",
       "      <td>Over 23,000 displaced as Tripura flash floods ...</td>\n",
       "    </tr>\n",
       "    <tr>\n",
       "      <th>46852</th>\n",
       "      <td>Former students of Bengaluru's CMR Institute o...</td>\n",
       "      <td>Bengaluru team makes environment-friendly ceme...</td>\n",
       "    </tr>\n",
       "    <tr>\n",
       "      <th>37010</th>\n",
       "      <td>Dr Jens Bangsbo, a Danish soccer physiologist ...</td>\n",
       "      <td>Can't select players based on one test: Yo-Yo ...</td>\n",
       "    </tr>\n",
       "  </tbody>\n",
       "</table>\n",
       "</div>"
      ],
      "text/plain": [
       "                                                    text  \\\n",
       "25126  Actor Nawazuddin Siddiqui is set to make his d...   \n",
       "94260  As per reports, actress Kim Sharma, who debute...   \n",
       "19580  Mumbai-based gift curation startup PropShop24 ...   \n",
       "72028  Over 40 lakh user records of Time Warner Cable...   \n",
       "11837  After Rakhi Sawant claimed that Tanushree Dutt...   \n",
       "52526  Congress President Rahul Gandhi on Friday said...   \n",
       "39768  Researchers are developing a blood test called...   \n",
       "84752  Mumbai authorities have seized 33,000 kg of a ...   \n",
       "21811  Ex-Pakistani fast bowler Shoaib Akhtar used to...   \n",
       "58351  Former boxing world champion Floyd Mayweather,...   \n",
       "19956  External Affairs Minister Sushma Swaraj has sa...   \n",
       "5117   Pakistani national Imran Warsi, who has been s...   \n",
       "29999  Six people were killed in mudslides triggered ...   \n",
       "46852  Former students of Bengaluru's CMR Institute o...   \n",
       "37010  Dr Jens Bangsbo, a Danish soccer physiologist ...   \n",
       "\n",
       "                                               headlines  \n",
       "25126  Nawazuddin to debut in Tamil industry with Raj...  \n",
       "94260  Kim Sharma bankrupt after separation from husb...  \n",
       "19580  Gifting startup PropShop24 gets Ã¢ÂÂ¹3.5 cr i...  \n",
       "72028  40 lakh user records of Time Warner Cable expo...  \n",
       "11837  Rakhi Sawant is a sex and money obsessed moron...  \n",
       "52526  Justice Loya's death must be investigated prop...  \n",
       "39768  Blood test to detect 10 cancers before symptom...  \n",
       "84752  33,000 kg of 'sex drug' smuggled into India fr...  \n",
       "21811  Akhtar threw rocks at mountains, bowled with t...  \n",
       "58351  Mayweather adopts baby giant panda, names it a...  \n",
       "19956  Relief a tweet away if Pravasi Bharatiya get s...  \n",
       "5117   After Pak released Indian man, India to free P...  \n",
       "29999  Over 23,000 displaced as Tripura flash floods ...  \n",
       "46852  Bengaluru team makes environment-friendly ceme...  \n",
       "37010  Can't select players based on one test: Yo-Yo ...  "
      ]
     },
     "execution_count": 4,
     "metadata": {},
     "output_type": "execute_result"
    }
   ],
   "source": [
    "data = data[['text','headlines']]\n",
    "data.head()\n",
    "\n",
    "##랜덤한 15개 샘플 출력\n",
    "data.sample(15)"
   ]
  },
  {
   "cell_type": "markdown",
   "id": "fdced532",
   "metadata": {},
   "source": [
    "## Step 2. 데이터 전처리하기 (추상적 요약)"
   ]
  },
  {
   "cell_type": "markdown",
   "id": "2eee1185",
   "metadata": {},
   "source": [
    "### 데이터 전처리하기 (1) 데이터 정리하기"
   ]
  },
  {
   "cell_type": "markdown",
   "id": "ea9dc544",
   "metadata": {},
   "source": [
    "#### 데이터의 중복 샘플을 제거하기!"
   ]
  },
  {
   "cell_type": "code",
   "execution_count": 5,
   "id": "0bf5757d",
   "metadata": {},
   "outputs": [
    {
     "name": "stdout",
     "output_type": "stream",
     "text": [
      "text 열에서 중복을 배제한 유일한 샘플의 수 : 98360\n",
      "headlines 열에서 중복을 배제한 유일한 샘플의 수 : 98280\n"
     ]
    }
   ],
   "source": [
    "print('text 열에서 중복을 배제한 유일한 샘플의 수 :', data['text'].nunique())\n",
    "print('headlines 열에서 중복을 배제한 유일한 샘플의 수 :', data['headlines'].nunique())"
   ]
  },
  {
   "cell_type": "code",
   "execution_count": 6,
   "id": "1da00fea",
   "metadata": {},
   "outputs": [
    {
     "name": "stdout",
     "output_type": "stream",
     "text": [
      "전체 샘플수 : 98360\n"
     ]
    }
   ],
   "source": [
    "## inplace=True 를 설정하면 DataFrame 타입 값을 return 하지 않고 data 내부를 직접적으로 바꾼다.\n",
    "data.drop_duplicates(subset = ['text'], inplace=True)\n",
    "print('전체 샘플수 :', (len(data)))"
   ]
  },
  {
   "cell_type": "code",
   "execution_count": 7,
   "id": "4a4d330c",
   "metadata": {},
   "outputs": [
    {
     "name": "stdout",
     "output_type": "stream",
     "text": [
      "text         0\n",
      "headlines    0\n",
      "dtype: int64\n"
     ]
    }
   ],
   "source": [
    "## 데이터 프레임에 Null값이 있는지 확인하기!\n",
    "\n",
    "print(data.isnull().sum())"
   ]
  },
  {
   "cell_type": "code",
   "execution_count": 8,
   "id": "4461648d",
   "metadata": {},
   "outputs": [
    {
     "name": "stdout",
     "output_type": "stream",
     "text": [
      "전체 샘플수 : 98360\n"
     ]
    }
   ],
   "source": [
    "## Null을 제거하고 다시 샘플 수 확인!\n",
    "\n",
    "data.dropna(axis=0, inplace=True)\n",
    "print('전체 샘플수 :', (len(data)))"
   ]
  },
  {
   "cell_type": "code",
   "execution_count": 9,
   "id": "99c3d16d",
   "metadata": {},
   "outputs": [
    {
     "name": "stdout",
     "output_type": "stream",
     "text": [
      "정규화 사전의 수:  120\n"
     ]
    }
   ],
   "source": [
    "contractions = {\"ain't\": \"is not\", \"aren't\": \"are not\",\"can't\": \"cannot\", \"'cause\": \"because\", \"could've\": \"could have\", \"couldn't\": \"could not\",\n",
    "                           \"didn't\": \"did not\",  \"doesn't\": \"does not\", \"don't\": \"do not\", \"hadn't\": \"had not\", \"hasn't\": \"has not\", \"haven't\": \"have not\",\n",
    "                           \"he'd\": \"he would\",\"he'll\": \"he will\", \"he's\": \"he is\", \"how'd\": \"how did\", \"how'd'y\": \"how do you\", \"how'll\": \"how will\", \"how's\": \"how is\",\n",
    "                           \"I'd\": \"I would\", \"I'd've\": \"I would have\", \"I'll\": \"I will\", \"I'll've\": \"I will have\",\"I'm\": \"I am\", \"I've\": \"I have\", \"i'd\": \"i would\",\n",
    "                           \"i'd've\": \"i would have\", \"i'll\": \"i will\",  \"i'll've\": \"i will have\",\"i'm\": \"i am\", \"i've\": \"i have\", \"isn't\": \"is not\", \"it'd\": \"it would\",\n",
    "                           \"it'd've\": \"it would have\", \"it'll\": \"it will\", \"it'll've\": \"it will have\",\"it's\": \"it is\", \"let's\": \"let us\", \"ma'am\": \"madam\",\n",
    "                           \"mayn't\": \"may not\", \"might've\": \"might have\",\"mightn't\": \"might not\",\"mightn't've\": \"might not have\", \"must've\": \"must have\",\n",
    "                           \"mustn't\": \"must not\", \"mustn't've\": \"must not have\", \"needn't\": \"need not\", \"needn't've\": \"need not have\",\"o'clock\": \"of the clock\",\n",
    "                           \"oughtn't\": \"ought not\", \"oughtn't've\": \"ought not have\", \"shan't\": \"shall not\", \"sha'n't\": \"shall not\", \"shan't've\": \"shall not have\",\n",
    "                           \"she'd\": \"she would\", \"she'd've\": \"she would have\", \"she'll\": \"she will\", \"she'll've\": \"she will have\", \"she's\": \"she is\",\n",
    "                           \"should've\": \"should have\", \"shouldn't\": \"should not\", \"shouldn't've\": \"should not have\", \"so've\": \"so have\",\"so's\": \"so as\",\n",
    "                           \"this's\": \"this is\",\"that'd\": \"that would\", \"that'd've\": \"that would have\", \"that's\": \"that is\", \"there'd\": \"there would\",\n",
    "                           \"there'd've\": \"there would have\", \"there's\": \"there is\", \"here's\": \"here is\",\"they'd\": \"they would\", \"they'd've\": \"they would have\",\n",
    "                           \"they'll\": \"they will\", \"they'll've\": \"they will have\", \"they're\": \"they are\", \"they've\": \"they have\", \"to've\": \"to have\",\n",
    "                           \"wasn't\": \"was not\", \"we'd\": \"we would\", \"we'd've\": \"we would have\", \"we'll\": \"we will\", \"we'll've\": \"we will have\", \"we're\": \"we are\",\n",
    "                           \"we've\": \"we have\", \"weren't\": \"were not\", \"what'll\": \"what will\", \"what'll've\": \"what will have\", \"what're\": \"what are\",\n",
    "                           \"what's\": \"what is\", \"what've\": \"what have\", \"when's\": \"when is\", \"when've\": \"when have\", \"where'd\": \"where did\", \"where's\": \"where is\",\n",
    "                           \"where've\": \"where have\", \"who'll\": \"who will\", \"who'll've\": \"who will have\", \"who's\": \"who is\", \"who've\": \"who have\",\n",
    "                           \"why's\": \"why is\", \"why've\": \"why have\", \"will've\": \"will have\", \"won't\": \"will not\", \"won't've\": \"will not have\",\n",
    "                           \"would've\": \"would have\", \"wouldn't\": \"would not\", \"wouldn't've\": \"would not have\", \"y'all\": \"you all\",\n",
    "                           \"y'all'd\": \"you all would\",\"y'all'd've\": \"you all would have\",\"y'all're\": \"you all are\",\"y'all've\": \"you all have\",\n",
    "                           \"you'd\": \"you would\", \"you'd've\": \"you would have\", \"you'll\": \"you will\", \"you'll've\": \"you will have\",\n",
    "                           \"you're\": \"you are\", \"you've\": \"you have\"}\n",
    "\n",
    "print(\"정규화 사전의 수: \", len(contractions))"
   ]
  },
  {
   "cell_type": "code",
   "execution_count": 10,
   "id": "4621b3de",
   "metadata": {
    "scrolled": true
   },
   "outputs": [
    {
     "name": "stdout",
     "output_type": "stream",
     "text": [
      "불용어 개수 : 179\n",
      "['i', 'me', 'my', 'myself', 'we', 'our', 'ours', 'ourselves', 'you', \"you're\", \"you've\", \"you'll\", \"you'd\", 'your', 'yours', 'yourself', 'yourselves', 'he', 'him', 'his', 'himself', 'she', \"she's\", 'her', 'hers', 'herself', 'it', \"it's\", 'its', 'itself', 'they', 'them', 'their', 'theirs', 'themselves', 'what', 'which', 'who', 'whom', 'this', 'that', \"that'll\", 'these', 'those', 'am', 'is', 'are', 'was', 'were', 'be', 'been', 'being', 'have', 'has', 'had', 'having', 'do', 'does', 'did', 'doing', 'a', 'an', 'the', 'and', 'but', 'if', 'or', 'because', 'as', 'until', 'while', 'of', 'at', 'by', 'for', 'with', 'about', 'against', 'between', 'into', 'through', 'during', 'before', 'after', 'above', 'below', 'to', 'from', 'up', 'down', 'in', 'out', 'on', 'off', 'over', 'under', 'again', 'further', 'then', 'once', 'here', 'there', 'when', 'where', 'why', 'how', 'all', 'any', 'both', 'each', 'few', 'more', 'most', 'other', 'some', 'such', 'no', 'nor', 'not', 'only', 'own', 'same', 'so', 'than', 'too', 'very', 's', 't', 'can', 'will', 'just', 'don', \"don't\", 'should', \"should've\", 'now', 'd', 'll', 'm', 'o', 're', 've', 'y', 'ain', 'aren', \"aren't\", 'couldn', \"couldn't\", 'didn', \"didn't\", 'doesn', \"doesn't\", 'hadn', \"hadn't\", 'hasn', \"hasn't\", 'haven', \"haven't\", 'isn', \"isn't\", 'ma', 'mightn', \"mightn't\", 'mustn', \"mustn't\", 'needn', \"needn't\", 'shan', \"shan't\", 'shouldn', \"shouldn't\", 'wasn', \"wasn't\", 'weren', \"weren't\", 'won', \"won't\", 'wouldn', \"wouldn't\"]\n"
     ]
    }
   ],
   "source": [
    "## stopwords를 불용어라고 부른다.\n",
    "print('불용어 개수 :', len(stopwords.words('english') ))\n",
    "print(stopwords.words('english'))"
   ]
  },
  {
   "cell_type": "code",
   "execution_count": 11,
   "id": "2589ae5b",
   "metadata": {},
   "outputs": [
    {
     "name": "stdout",
     "output_type": "stream",
     "text": [
      "=3\n"
     ]
    }
   ],
   "source": [
    "## 데이터 전처리 함수\n",
    "def preprocess_sentence(sentence, remove_stopwords=True):\n",
    "    sentence = sentence.lower() ## 텍스트 소문자화\n",
    "    sentence = BeautifulSoup(sentence, \"lxml\").text ## <br />, <a href = ...> 등의 html 태그 제거\n",
    "    sentence = re.sub(r'\\([^)]*\\)', '', sentence) ## 괄호로 닫힌 문자열 (...) 제거 Ex) my husband (and myself!) for => my husband for\n",
    "    sentence = re.sub('\"','', sentence) ## 쌍따옴표 \" 제거\n",
    "    sentence = ' '.join([contractions[t] if t in contractions else t for t in sentence.split(\" \")]) ## 약어 정규화\n",
    "    sentence = re.sub(r\"'s\\b\",\"\", sentence) ## 소유격 제거. Ex) roland's -> roland\n",
    "    sentence = re.sub(\"[^a-zA-Z]\", \" \", sentence) ## 영어 외 문자(숫자, 특수문자 등) 공백으로 변환\n",
    "    sentence = re.sub('[m]{2,}', 'mm', sentence) ## m이 3개 이상이면 2개로 변경. Ex) ummmmmmm yeah -> umm yeah\n",
    "    \n",
    "    ## 불용어 제거 (text)\n",
    "    if remove_stopwords:\n",
    "        tokens = ' '.join(word for word in sentence.split() if not word in stopwords.words('english') if len(word) > 1)\n",
    "    ## 불용어 미제거 (headlines)\n",
    "    else:\n",
    "        tokens = ' '.join(word for word in sentence.split() if len(word) > 1)\n",
    "    return tokens\n",
    "print('=3')"
   ]
  },
  {
   "cell_type": "markdown",
   "id": "5926a9d5",
   "metadata": {},
   "source": [
    "전처리 전, 후 결과를 확인하기 위해서 임의의 text와 headlines을 만들어 함수를 호출한다."
   ]
  },
  {
   "cell_type": "code",
   "execution_count": 12,
   "id": "6d9078df",
   "metadata": {},
   "outputs": [
    {
     "name": "stdout",
     "output_type": "stream",
     "text": [
      "text:  everything bought great infact ordered twice third ordered wasfor mother father\n",
      "headlines: great way to start the day\n"
     ]
    }
   ],
   "source": [
    "temp_text = 'Everything I bought was great, infact I ordered twice and the third ordered was<br />for my mother and father.'\n",
    "temp_headlines = 'Great way to start (or finish) the day!!!'\n",
    "\n",
    "print(\"text: \", preprocess_sentence(temp_text))\n",
    "print(\"headlines:\", preprocess_sentence(temp_headlines, False))  ## 불용어를 제거하지 않는다."
   ]
  },
  {
   "cell_type": "code",
   "execution_count": 13,
   "id": "a0b73528",
   "metadata": {
    "scrolled": true
   },
   "outputs": [
    {
     "name": "stdout",
     "output_type": "stream",
     "text": [
      "Text 전처리 후 결과:  ['saurav kant alumnus upgrad iiit pg program machine learning artificial intelligence sr systems engineer infosys almost years work experience program upgrad degree career support helped transition data scientist tech mahindra salary hike upgrad online power learning powered lakh careers', 'kunal shah credit card bill payment platform cred gave users chance win free food swiggy one year pranav kaushik delhi techie bagged reward spending cred coins users get one cred coin per rupee bill paid used avail rewards brands like ixigo bookmyshow ubereats cult fit', 'new zealand defeated india wickets fourth odi hamilton thursday win first match five match odi series india lost international match rohit sharma captaincy consecutive victories dating back march match witnessed india getting seventh lowest total odi cricket history', 'aegon life iterm insurance plan customers enjoy tax benefits premiums paid save taxes plan provides life cover age years also customers options insure critical illnesses disability accidental death benefit rider life cover age years', 'speaking sexual harassment allegations rajkumar hirani sonam kapoor said known hirani many years true metoo movement get derailed metoo movement always believe woman case need reserve judgment added hirani accused assistant worked sanju']\n"
     ]
    }
   ],
   "source": [
    "clean_text = []\n",
    "## 전체 text 데이터에 대한 전처리 : 10분 이상 시간이 걸릴 수 있다. \n",
    "for s in data['text']:\n",
    "    clean_text.append(preprocess_sentence(s))\n",
    "\n",
    "## 전처리 후 출력\n",
    "## 일단 5개만 확인해보자~\n",
    "print(\"Text 전처리 후 결과: \", clean_text[:5])"
   ]
  },
  {
   "cell_type": "code",
   "execution_count": 14,
   "id": "ff00ec59",
   "metadata": {},
   "outputs": [
    {
     "name": "stdout",
     "output_type": "stream",
     "text": [
      "headlines 전처리 후 결과:  ['upgrad learner switches to career in ml al with salary hike', 'delhi techie wins free food from swiggy for one year on cred', 'new zealand end rohit sharma led india match winning streak', 'aegon life iterm insurance plan helps customers save tax', 'have known hirani for yrs what if metoo claims are not true sonam']\n"
     ]
    }
   ],
   "source": [
    "clean_headlines = []\n",
    "## 전체 headlines 데이터에 대한 전처리 : 5분 이상 시간이 걸릴 수 있다. \n",
    "for s in data['headlines']:\n",
    "    clean_headlines.append(preprocess_sentence(s, False))\n",
    "\n",
    "print(\"headlines 전처리 후 결과: \", clean_headlines[:5])"
   ]
  },
  {
   "cell_type": "code",
   "execution_count": 15,
   "id": "745b97db",
   "metadata": {},
   "outputs": [
    {
     "name": "stdout",
     "output_type": "stream",
     "text": [
      "=3\n"
     ]
    }
   ],
   "source": [
    "data['text'] = clean_text\n",
    "data['headlines'] = clean_headlines\n",
    "\n",
    "## 빈 값을 Null 값으로 변환\n",
    "data.replace('', np.nan, inplace=True)\n",
    "print('=3')"
   ]
  },
  {
   "cell_type": "code",
   "execution_count": 16,
   "id": "990643c8",
   "metadata": {},
   "outputs": [
    {
     "data": {
      "text/plain": [
       "text         0\n",
       "headlines    0\n",
       "dtype: int64"
      ]
     },
     "execution_count": 16,
     "metadata": {},
     "output_type": "execute_result"
    }
   ],
   "source": [
    "data.isnull().sum()"
   ]
  },
  {
   "cell_type": "code",
   "execution_count": 17,
   "id": "3a9b9681",
   "metadata": {},
   "outputs": [
    {
     "name": "stdout",
     "output_type": "stream",
     "text": [
      "전체 샘플수 : 98360\n"
     ]
    }
   ],
   "source": [
    "data.dropna(axis=0, inplace=True)\n",
    "print('전체 샘플수 :', (len(data)))"
   ]
  },
  {
   "cell_type": "markdown",
   "id": "4a708ff2",
   "metadata": {},
   "source": [
    "### 데이터 전처리하기 (2)훈련데이터와 테스트데이터 나누기"
   ]
  },
  {
   "cell_type": "code",
   "execution_count": 18,
   "id": "85c07006",
   "metadata": {
    "scrolled": true
   },
   "outputs": [
    {
     "name": "stdout",
     "output_type": "stream",
     "text": [
      "텍스트의 최소 길이 : 1\n",
      "텍스트의 최대 길이 : 60\n",
      "텍스트의 평균 길이 : 35.09968483123221\n",
      "요약의 최소 길이 : 1\n",
      "요약의 최대 길이 : 16\n",
      "요약의 평균 길이 : 9.299532330215534\n"
     ]
    },
    {
     "data": {
      "image/png": "[encoded data removed]",
      "text/plain": [
       "<Figure size 432x288 with 2 Axes>"
      ]
     },
     "metadata": {
      "needs_background": "light"
     },
     "output_type": "display_data"
    },
    {
     "data": {
      "image/png": "[encoded data removed]",
      "text/plain": [
       "<Figure size 432x288 with 1 Axes>"
      ]
     },
     "metadata": {
      "needs_background": "light"
     },
     "output_type": "display_data"
    },
    {
     "data": {
      "image/png": "[encoded data removed]",
      "text/plain": [
       "<Figure size 432x288 with 1 Axes>"
      ]
     },
     "metadata": {
      "needs_background": "light"
     },
     "output_type": "display_data"
    }
   ],
   "source": [
    "## 길이 분포 출력\n",
    "import matplotlib.pyplot as plt\n",
    "\n",
    "text_len = [len(s.split()) for s in data['text']]\n",
    "headlines_len = [len(s.split()) for s in data['headlines']]\n",
    "\n",
    "print('텍스트의 최소 길이 : {}'.format(np.min(text_len)))\n",
    "print('텍스트의 최대 길이 : {}'.format(np.max(text_len)))\n",
    "print('텍스트의 평균 길이 : {}'.format(np.mean(text_len)))\n",
    "print('요약의 최소 길이 : {}'.format(np.min(headlines_len)))\n",
    "print('요약의 최대 길이 : {}'.format(np.max(headlines_len)))\n",
    "print('요약의 평균 길이 : {}'.format(np.mean(headlines_len)))\n",
    "\n",
    "plt.subplot(1,2,1)\n",
    "plt.boxplot(text_len)\n",
    "plt.title('text')\n",
    "plt.subplot(1,2,2)\n",
    "plt.boxplot(headlines_len)\n",
    "plt.title('headlines')\n",
    "plt.tight_layout()\n",
    "plt.show()\n",
    "\n",
    "plt.title('text')\n",
    "plt.hist(text_len, bins = 40)\n",
    "plt.xlabel('length of samples')\n",
    "plt.ylabel('number of samples')\n",
    "plt.show()\n",
    "\n",
    "plt.title('headlines')\n",
    "plt.hist(headlines_len, bins = 40)\n",
    "plt.xlabel('length of samples')\n",
    "plt.ylabel('number of samples')\n",
    "plt.show()"
   ]
  },
  {
   "cell_type": "code",
   "execution_count": 19,
   "id": "f7af408b",
   "metadata": {},
   "outputs": [
    {
     "name": "stdout",
     "output_type": "stream",
     "text": [
      "=3\n"
     ]
    }
   ],
   "source": [
    "## 적절한 길이를 설정해줌\n",
    "text_max_len = 50\n",
    "headlines_max_len = 8\n",
    "print('=3')"
   ]
  },
  {
   "cell_type": "code",
   "execution_count": 20,
   "id": "62379f1a",
   "metadata": {},
   "outputs": [
    {
     "name": "stdout",
     "output_type": "stream",
     "text": [
      "=3\n"
     ]
    }
   ],
   "source": [
    "def below_threshold_len(max_len, nested_list):\n",
    "  cnt = 0\n",
    "  for s in nested_list:\n",
    "    if(len(s.split()) <= max_len):\n",
    "        cnt = cnt + 1\n",
    "  print('전체 샘플 중 길이가 %s 이하인 샘플의 비율: %s'%(max_len, (cnt / len(nested_list))))\n",
    "print('=3')"
   ]
  },
  {
   "cell_type": "code",
   "execution_count": 21,
   "id": "3dd177c5",
   "metadata": {},
   "outputs": [
    {
     "name": "stdout",
     "output_type": "stream",
     "text": [
      "전체 샘플 중 길이가 50 이하인 샘플의 비율: 0.9998576657177715\n",
      "전체 샘플 중 길이가 8 이하인 샘플의 비율: 0.2755693371289142\n"
     ]
    }
   ],
   "source": [
    "below_threshold_len(text_max_len, data['text'])\n",
    "below_threshold_len(headlines_max_len,  data['headlines'])"
   ]
  },
  {
   "cell_type": "code",
   "execution_count": 22,
   "id": "9512d97f",
   "metadata": {},
   "outputs": [
    {
     "name": "stdout",
     "output_type": "stream",
     "text": [
      "전체 샘플수 : 27105\n"
     ]
    }
   ],
   "source": [
    "data = data[data['text'].apply(lambda x: len(x.split()) <= text_max_len)]\n",
    "data = data[data['headlines'].apply(lambda x: len(x.split()) <= headlines_max_len)]\n",
    "print('전체 샘플수 :', (len(data)))"
   ]
  },
  {
   "cell_type": "markdown",
   "id": "14fc3fb7",
   "metadata": {},
   "source": [
    "### 시작토큰과 종료 토큰 추가하기"
   ]
  },
  {
   "cell_type": "code",
   "execution_count": 23,
   "id": "112f9a04",
   "metadata": {
    "scrolled": false
   },
   "outputs": [
    {
     "data": {
      "text/html": [
       "<div>\n",
       "<style scoped>\n",
       "    .dataframe tbody tr th:only-of-type {\n",
       "        vertical-align: middle;\n",
       "    }\n",
       "\n",
       "    .dataframe tbody tr th {\n",
       "        vertical-align: top;\n",
       "    }\n",
       "\n",
       "    .dataframe thead th {\n",
       "        text-align: right;\n",
       "    }\n",
       "</style>\n",
       "<table border=\"1\" class=\"dataframe\">\n",
       "  <thead>\n",
       "    <tr style=\"text-align: right;\">\n",
       "      <th></th>\n",
       "      <th>text</th>\n",
       "      <th>headlines</th>\n",
       "      <th>decoder_input</th>\n",
       "      <th>decoder_target</th>\n",
       "    </tr>\n",
       "  </thead>\n",
       "  <tbody>\n",
       "    <tr>\n",
       "      <th>19</th>\n",
       "      <td>union minister dharmendra pradhan wednesday cl...</td>\n",
       "      <td>odisha cm patnaik controls mining mafia union ...</td>\n",
       "      <td>sostoken odisha cm patnaik controls mining maf...</td>\n",
       "      <td>odisha cm patnaik controls mining mafia union ...</td>\n",
       "    </tr>\n",
       "    <tr>\n",
       "      <th>21</th>\n",
       "      <td>indian space research organisation wednesday u...</td>\n",
       "      <td>isro unveils bengaluru centre for manned space...</td>\n",
       "      <td>sostoken isro unveils bengaluru centre for man...</td>\n",
       "      <td>isro unveils bengaluru centre for manned space...</td>\n",
       "    </tr>\n",
       "    <tr>\n",
       "      <th>22</th>\n",
       "      <td>least people killed others injured saudi arabi...</td>\n",
       "      <td>killed injured in saudi arabia floods</td>\n",
       "      <td>sostoken killed injured in saudi arabia floods</td>\n",
       "      <td>killed injured in saudi arabia floods eostoken</td>\n",
       "    </tr>\n",
       "    <tr>\n",
       "      <th>29</th>\n",
       "      <td>investigators searching lost plane carrying ar...</td>\n",
       "      <td>seat cushions from missing plane carrying foot...</td>\n",
       "      <td>sostoken seat cushions from missing plane carr...</td>\n",
       "      <td>seat cushions from missing plane carrying foot...</td>\n",
       "    </tr>\n",
       "    <tr>\n",
       "      <th>36</th>\n",
       "      <td>agustawestland chopper scam co accused rajiv s...</td>\n",
       "      <td>agustawestland scam accused rajiv saxena extra...</td>\n",
       "      <td>sostoken agustawestland scam accused rajiv sax...</td>\n",
       "      <td>agustawestland scam accused rajiv saxena extra...</td>\n",
       "    </tr>\n",
       "  </tbody>\n",
       "</table>\n",
       "</div>"
      ],
      "text/plain": [
       "                                                 text  \\\n",
       "19  union minister dharmendra pradhan wednesday cl...   \n",
       "21  indian space research organisation wednesday u...   \n",
       "22  least people killed others injured saudi arabi...   \n",
       "29  investigators searching lost plane carrying ar...   \n",
       "36  agustawestland chopper scam co accused rajiv s...   \n",
       "\n",
       "                                            headlines  \\\n",
       "19  odisha cm patnaik controls mining mafia union ...   \n",
       "21  isro unveils bengaluru centre for manned space...   \n",
       "22              killed injured in saudi arabia floods   \n",
       "29  seat cushions from missing plane carrying foot...   \n",
       "36  agustawestland scam accused rajiv saxena extra...   \n",
       "\n",
       "                                        decoder_input  \\\n",
       "19  sostoken odisha cm patnaik controls mining maf...   \n",
       "21  sostoken isro unveils bengaluru centre for man...   \n",
       "22     sostoken killed injured in saudi arabia floods   \n",
       "29  sostoken seat cushions from missing plane carr...   \n",
       "36  sostoken agustawestland scam accused rajiv sax...   \n",
       "\n",
       "                                       decoder_target  \n",
       "19  odisha cm patnaik controls mining mafia union ...  \n",
       "21  isro unveils bengaluru centre for manned space...  \n",
       "22     killed injured in saudi arabia floods eostoken  \n",
       "29  seat cushions from missing plane carrying foot...  \n",
       "36  agustawestland scam accused rajiv saxena extra...  "
      ]
     },
     "execution_count": 23,
     "metadata": {},
     "output_type": "execute_result"
    }
   ],
   "source": [
    "## 요약 데이터에는 시작 토큰과 종료 토큰을 추가한다.\n",
    "data['decoder_input'] = data['headlines'].apply(lambda x : 'sostoken '+ x)\n",
    "data['decoder_target'] = data['headlines'].apply(lambda x : x + ' eostoken')\n",
    "data.head()"
   ]
  },
  {
   "cell_type": "markdown",
   "id": "850a8c4c",
   "metadata": {},
   "source": [
    "토큰이 앞뒤로 잘 붙은 것을 확인이 가능함  \n",
    "디코더의 입력과 레이블을 각각 다시 Numpy타입으로 저장해준다."
   ]
  },
  {
   "cell_type": "code",
   "execution_count": 24,
   "id": "a3416f0e",
   "metadata": {},
   "outputs": [
    {
     "name": "stdout",
     "output_type": "stream",
     "text": [
      "=3\n"
     ]
    }
   ],
   "source": [
    "encoder_input = np.array(data['text']) ## 인코더의 입력\n",
    "decoder_input = np.array(data['decoder_input']) ## 디코더의 입력\n",
    "decoder_target = np.array(data['decoder_target']) ## 디코더의 레이블\n",
    "print('=3')"
   ]
  },
  {
   "cell_type": "markdown",
   "id": "27e22a12",
   "metadata": {},
   "source": [
    "훈련데이터와 테스트데이터를 분리"
   ]
  },
  {
   "cell_type": "code",
   "execution_count": 26,
   "id": "04efde06",
   "metadata": {},
   "outputs": [
    {
     "name": "stdout",
     "output_type": "stream",
     "text": [
      "[  427  6679  7565 ...  1443 14960  2380]\n"
     ]
    }
   ],
   "source": [
    "indices = np.arange(encoder_input.shape[0])\n",
    "np.random.shuffle(indices)\n",
    "print(indices)"
   ]
  },
  {
   "cell_type": "code",
   "execution_count": 27,
   "id": "48d30ba0",
   "metadata": {},
   "outputs": [
    {
     "name": "stdout",
     "output_type": "stream",
     "text": [
      "=3\n"
     ]
    }
   ],
   "source": [
    "encoder_input = encoder_input[indices]\n",
    "decoder_input = decoder_input[indices]\n",
    "decoder_target = decoder_target[indices]\n",
    "print('=3')"
   ]
  },
  {
   "cell_type": "code",
   "execution_count": 28,
   "id": "6959e3c7",
   "metadata": {},
   "outputs": [
    {
     "name": "stdout",
     "output_type": "stream",
     "text": [
      "테스트 데이터의 수 : 5421\n"
     ]
    }
   ],
   "source": [
    "## 데이터를 8:2 의 비율로 훈련 데이터와 테스트 데이터로 분리해준다.\n",
    "\n",
    "n_of_val = int(len(encoder_input)*0.2)\n",
    "print('테스트 데이터의 수 :', n_of_val)"
   ]
  },
  {
   "cell_type": "code",
   "execution_count": 29,
   "id": "2eab7e1e",
   "metadata": {},
   "outputs": [
    {
     "name": "stdout",
     "output_type": "stream",
     "text": [
      "훈련 데이터의 개수 : 21684\n",
      "훈련 레이블의 개수 : 21684\n",
      "테스트 데이터의 개수 : 5421\n",
      "테스트 레이블의 개수 : 5421\n"
     ]
    }
   ],
   "source": [
    "encoder_input_train = encoder_input[:-n_of_val]\n",
    "decoder_input_train = decoder_input[:-n_of_val]\n",
    "decoder_target_train = decoder_target[:-n_of_val]\n",
    "\n",
    "encoder_input_test = encoder_input[-n_of_val:]\n",
    "decoder_input_test = decoder_input[-n_of_val:]\n",
    "decoder_target_test = decoder_target[-n_of_val:]\n",
    "\n",
    "print('훈련 데이터의 개수 :', len(encoder_input_train))\n",
    "print('훈련 레이블의 개수 :', len(decoder_input_train))\n",
    "print('테스트 데이터의 개수 :', len(encoder_input_test))\n",
    "print('테스트 레이블의 개수 :', len(decoder_input_test))"
   ]
  },
  {
   "cell_type": "markdown",
   "id": "c73fe24e",
   "metadata": {},
   "source": [
    "잘 나눠진 것을 알 수 있다!"
   ]
  },
  {
   "cell_type": "markdown",
   "id": "c3207159",
   "metadata": {},
   "source": [
    "### 데이터 전처리하기 (3) 정수 인코딩"
   ]
  },
  {
   "cell_type": "code",
   "execution_count": 30,
   "id": "18eecf68",
   "metadata": {},
   "outputs": [
    {
     "name": "stdout",
     "output_type": "stream",
     "text": [
      "=3\n"
     ]
    }
   ],
   "source": [
    "src_tokenizer = Tokenizer() ## 토크나이저 정의\n",
    "src_tokenizer.fit_on_texts(encoder_input_train) ## 입력된 데이터로부터 단어 집합 생성\n",
    "print('=3')"
   ]
  },
  {
   "cell_type": "markdown",
   "id": "0ddaa707",
   "metadata": {},
   "source": [
    "이제 단어 집합이 생성되는 동시에 각 단어에 고유한 정수가 부여되었다."
   ]
  },
  {
   "cell_type": "code",
   "execution_count": 31,
   "id": "0e600d6a",
   "metadata": {},
   "outputs": [
    {
     "name": "stdout",
     "output_type": "stream",
     "text": [
      "단어 집합(vocabulary)의 크기 : 42318\n",
      "등장 빈도가 6번 이하인 희귀 단어의 수: 30632\n",
      "단어 집합에서 희귀 단어를 제외시킬 경우의 단어 집합의 크기 11686\n",
      "단어 집합에서 희귀 단어의 비율: 72.3852734061156\n",
      "전체 등장 빈도에서 희귀 단어 등장 빈도 비율: 8.273968136697485\n"
     ]
    }
   ],
   "source": [
    "threshold = 7\n",
    "total_cnt = len(src_tokenizer.word_index) # 단어의 수\n",
    "rare_cnt = 0 # 등장 빈도수가 threshold보다 작은 단어의 개수를 카운트\n",
    "total_freq = 0 # 훈련 데이터의 전체 단어 빈도수 총 합\n",
    "rare_freq = 0 # 등장 빈도수가 threshold보다 작은 단어의 등장 빈도수의 총 합\n",
    "\n",
    "# 단어와 빈도수의 쌍(pair)을 key와 value로 받는다.\n",
    "for key, value in src_tokenizer.word_counts.items():\n",
    "    total_freq = total_freq + value\n",
    "\n",
    "    # 단어의 등장 빈도수가 threshold보다 작으면\n",
    "    if(value < threshold):\n",
    "        rare_cnt = rare_cnt + 1\n",
    "        rare_freq = rare_freq + value\n",
    "\n",
    "print('단어 집합(vocabulary)의 크기 :', total_cnt)\n",
    "print('등장 빈도가 %s번 이하인 희귀 단어의 수: %s'%(threshold - 1, rare_cnt))\n",
    "print('단어 집합에서 희귀 단어를 제외시킬 경우의 단어 집합의 크기 %s'%(total_cnt - rare_cnt))\n",
    "print(\"단어 집합에서 희귀 단어의 비율:\", (rare_cnt / total_cnt)*100)\n",
    "print(\"전체 등장 빈도에서 희귀 단어 등장 빈도 비율:\", (rare_freq / total_freq)*100)"
   ]
  },
  {
   "cell_type": "markdown",
   "id": "62b48f07",
   "metadata": {},
   "source": [
    "토크나이저를 정의할 때 num_words의 값을 정해주면, 단어 집합의 크기를 제한할 수 있다."
   ]
  },
  {
   "cell_type": "code",
   "execution_count": 32,
   "id": "ffdd262d",
   "metadata": {},
   "outputs": [
    {
     "name": "stdout",
     "output_type": "stream",
     "text": [
      "=3\n"
     ]
    }
   ],
   "source": [
    "src_vocab = 8000\n",
    "src_tokenizer = Tokenizer(num_words=src_vocab) ## 단어 집합의 크기를 8,000으로 제한\n",
    "src_tokenizer.fit_on_texts(encoder_input_train) ## 단어 집합 재생성\n",
    "print('=3')"
   ]
  },
  {
   "cell_type": "code",
   "execution_count": 33,
   "id": "2ea9a6b8",
   "metadata": {},
   "outputs": [
    {
     "name": "stdout",
     "output_type": "stream",
     "text": [
      "[[230, 17, 5207, 163, 621, 1430, 21, 1855, 480, 224, 1017, 1092, 813, 1631, 406, 752, 795, 618, 49, 3600, 1683, 180, 1975, 1568, 3600, 916, 3327, 1395, 5, 113, 1823, 325, 1047, 168, 3328, 1], [5762, 169, 57, 945, 474, 157, 4519, 4898, 3698, 33, 5762, 169, 57, 32, 4652, 11, 26, 169, 622, 146, 5051, 226, 5763, 2552, 30, 88, 1799], [1591, 184, 7067, 3457, 69, 5764, 7, 2210, 412, 290, 130, 214, 793, 1250, 1824, 3457, 4069, 1569, 867, 4, 38, 917, 1132, 7068, 33, 95, 371, 1705, 5765, 214, 2017, 4171, 867]]\n"
     ]
    }
   ],
   "source": [
    "## 텍스트 시퀀스를 정수 시퀀스로 변환\n",
    "encoder_input_train = src_tokenizer.texts_to_sequences(encoder_input_train) \n",
    "encoder_input_test = src_tokenizer.texts_to_sequences(encoder_input_test)\n",
    "\n",
    "## 잘 진행되었는지 샘플 출력\n",
    "print(encoder_input_train[:3])"
   ]
  },
  {
   "cell_type": "markdown",
   "id": "6192d59c",
   "metadata": {},
   "source": [
    "이제 더 이상 텍스트 데이터가 아니라 정수가 나오는 것을 확인할 수 있다."
   ]
  },
  {
   "cell_type": "code",
   "execution_count": 34,
   "id": "fc1ba069",
   "metadata": {},
   "outputs": [
    {
     "name": "stdout",
     "output_type": "stream",
     "text": [
      "=3\n"
     ]
    }
   ],
   "source": [
    "## 전체 단어 집합과 각 단어에 대한 빈도수를 계산\n",
    "\n",
    "tar_tokenizer = Tokenizer()\n",
    "tar_tokenizer.fit_on_texts(decoder_input_train)\n",
    "print('=3')"
   ]
  },
  {
   "cell_type": "code",
   "execution_count": 35,
   "id": "6f945c35",
   "metadata": {},
   "outputs": [
    {
     "name": "stdout",
     "output_type": "stream",
     "text": [
      "단어 집합(vocabulary)의 크기 : 18890\n",
      "등장 빈도가 5번 이하인 희귀 단어의 수: 14256\n",
      "단어 집합에서 희귀 단어를 제외시킬 경우의 단어 집합의 크기 4634\n",
      "단어 집합에서 희귀 단어의 비율: 75.46850185283218\n",
      "전체 등장 빈도에서 희귀 단어 등장 빈도 비율: 14.143559868466932\n"
     ]
    }
   ],
   "source": [
    "threshold = 6\n",
    "total_cnt = len(tar_tokenizer.word_index) # 단어의 수\n",
    "rare_cnt = 0 ## 등장 빈도수가 threshold보다 작은 단어의 개수를 카운트\n",
    "total_freq = 0 ## 훈련 데이터의 전체 단어 빈도수 총 합\n",
    "rare_freq = 0 ## 등장 빈도수가 threshold보다 작은 단어의 등장 빈도수의 총 합\n",
    "\n",
    "## 단어와 빈도수의 쌍(pair)을 key와 value로 받는다.\n",
    "for key, value in tar_tokenizer.word_counts.items():\n",
    "    total_freq = total_freq + value\n",
    "\n",
    "    ## 단어의 등장 빈도수가 threshold보다 작으면\n",
    "    if(value < threshold):\n",
    "        rare_cnt = rare_cnt + 1\n",
    "        rare_freq = rare_freq + value\n",
    "\n",
    "print('단어 집합(vocabulary)의 크기 :', total_cnt)\n",
    "print('등장 빈도가 %s번 이하인 희귀 단어의 수: %s'%(threshold - 1, rare_cnt))\n",
    "print('단어 집합에서 희귀 단어를 제외시킬 경우의 단어 집합의 크기 %s'%(total_cnt - rare_cnt))\n",
    "print(\"단어 집합에서 희귀 단어의 비율:\", (rare_cnt / total_cnt)*100)\n",
    "print(\"전체 등장 빈도에서 희귀 단어 등장 빈도 비율:\", (rare_freq / total_freq)*100)"
   ]
  },
  {
   "cell_type": "code",
   "execution_count": 36,
   "id": "22834d65",
   "metadata": {},
   "outputs": [
    {
     "name": "stdout",
     "output_type": "stream",
     "text": [
      "input\n",
      "input  [[1, 18, 888, 537, 59, 1320, 1081, 1801], [1, 160, 1802, 269, 23], [1, 729, 237, 5], [1, 3, 24, 1321], [1, 168, 21, 6, 217, 344, 31]]\n",
      "target\n",
      "decoder  [[18, 888, 537, 59, 1320, 1081, 1801, 2], [160, 1802, 269, 23, 2], [729, 237, 5, 2], [3, 24, 1321, 2], [168, 21, 6, 217, 344, 31, 2]]\n"
     ]
    }
   ],
   "source": [
    "## 단어 집합의 크기를 제한\n",
    "tar_vocab = 2000\n",
    "tar_tokenizer = Tokenizer(num_words=tar_vocab) \n",
    "tar_tokenizer.fit_on_texts(decoder_input_train)\n",
    "tar_tokenizer.fit_on_texts(decoder_target_train)\n",
    "\n",
    "## 텍스트 시퀀스를 정수 시퀀스로 변환\n",
    "decoder_input_train = tar_tokenizer.texts_to_sequences(decoder_input_train) \n",
    "decoder_target_train = tar_tokenizer.texts_to_sequences(decoder_target_train)\n",
    "decoder_input_test = tar_tokenizer.texts_to_sequences(decoder_input_test)\n",
    "decoder_target_test = tar_tokenizer.texts_to_sequences(decoder_target_test)\n",
    "\n",
    "## 잘 변환되었는지 확인\n",
    "print('input')\n",
    "print('input ',decoder_input_train[:5])\n",
    "print('target')\n",
    "print('decoder ',decoder_target_train[:5])"
   ]
  },
  {
   "cell_type": "code",
   "execution_count": 37,
   "id": "09b5416d",
   "metadata": {},
   "outputs": [
    {
     "name": "stdout",
     "output_type": "stream",
     "text": [
      "삭제할 훈련 데이터의 개수 : 9\n",
      "삭제할 테스트 데이터의 개수 : 4\n",
      "훈련 데이터의 개수 : 21675\n",
      "훈련 레이블의 개수 : 21675\n",
      "테스트 데이터의 개수 : 5417\n",
      "테스트 레이블의 개수 : 5417\n"
     ]
    }
   ],
   "source": [
    "drop_train = [index for index, sentence in enumerate(decoder_input_train) if len(sentence) == 1]\n",
    "drop_test = [index for index, sentence in enumerate(decoder_input_test) if len(sentence) == 1]\n",
    "\n",
    "print('삭제할 훈련 데이터의 개수 :', len(drop_train))\n",
    "print('삭제할 테스트 데이터의 개수 :', len(drop_test))\n",
    "\n",
    "encoder_input_train = [sentence for index, sentence in enumerate(encoder_input_train) if index not in drop_train]\n",
    "decoder_input_train = [sentence for index, sentence in enumerate(decoder_input_train) if index not in drop_train]\n",
    "decoder_target_train = [sentence for index, sentence in enumerate(decoder_target_train) if index not in drop_train]\n",
    "\n",
    "encoder_input_test = [sentence for index, sentence in enumerate(encoder_input_test) if index not in drop_test]\n",
    "decoder_input_test = [sentence for index, sentence in enumerate(decoder_input_test) if index not in drop_test]\n",
    "decoder_target_test = [sentence for index, sentence in enumerate(decoder_target_test) if index not in drop_test]\n",
    "\n",
    "print('훈련 데이터의 개수 :', len(encoder_input_train))\n",
    "print('훈련 레이블의 개수 :', len(decoder_input_train))\n",
    "print('테스트 데이터의 개수 :', len(encoder_input_test))\n",
    "print('테스트 레이블의 개수 :', len(decoder_input_test))"
   ]
  },
  {
   "cell_type": "markdown",
   "id": "4d60e545",
   "metadata": {},
   "source": [
    "#### 패딩하기"
   ]
  },
  {
   "cell_type": "markdown",
   "id": "0334c151",
   "metadata": {},
   "source": [
    "텍스트 시퀀스를 정수 시퀀스로 변환했음 -> 이제 서로 다른 길이의 샘플들을 병렬 처리하기 위해서 같은 길이로 맞춰주는 패딩하기"
   ]
  },
  {
   "cell_type": "code",
   "execution_count": 38,
   "id": "bd43cb63",
   "metadata": {},
   "outputs": [
    {
     "name": "stdout",
     "output_type": "stream",
     "text": [
      "=3\n"
     ]
    }
   ],
   "source": [
    "encoder_input_train = pad_sequences(encoder_input_train, maxlen=text_max_len, padding='post')\n",
    "encoder_input_test = pad_sequences(encoder_input_test, maxlen=text_max_len, padding='post')\n",
    "decoder_input_train = pad_sequences(decoder_input_train, maxlen=headlines_max_len, padding='post')\n",
    "decoder_target_train = pad_sequences(decoder_target_train, maxlen=headlines_max_len, padding='post')\n",
    "decoder_input_test = pad_sequences(decoder_input_test, maxlen=headlines_max_len, padding='post')\n",
    "decoder_target_test = pad_sequences(decoder_target_test, maxlen=headlines_max_len, padding='post')\n",
    "print('=3')"
   ]
  },
  {
   "cell_type": "markdown",
   "id": "ceeb0bd6",
   "metadata": {},
   "source": [
    "#### 데이터 전처리 끝!!!!"
   ]
  },
  {
   "cell_type": "markdown",
   "id": "e207abd4",
   "metadata": {},
   "source": [
    "## Step 3. 어텐션 메커니즘 사용하기 (추상적 요약)"
   ]
  },
  {
   "cell_type": "code",
   "execution_count": 39,
   "id": "f414e606",
   "metadata": {
    "scrolled": true
   },
   "outputs": [
    {
     "name": "stdout",
     "output_type": "stream",
     "text": [
      "WARNING:tensorflow:Layer lstm will not use cuDNN kernels since it doesn't meet the criteria. It will use a generic GPU kernel as fallback when running on GPU.\n",
      "WARNING:tensorflow:Layer lstm_1 will not use cuDNN kernels since it doesn't meet the criteria. It will use a generic GPU kernel as fallback when running on GPU.\n",
      "WARNING:tensorflow:Layer lstm_2 will not use cuDNN kernels since it doesn't meet the criteria. It will use a generic GPU kernel as fallback when running on GPU.\n"
     ]
    }
   ],
   "source": [
    "from tensorflow.keras.layers import Input, LSTM, Embedding, Dense, Concatenate, TimeDistributed\n",
    "from tensorflow.keras.models import Model\n",
    "from tensorflow.keras.callbacks import EarlyStopping, ModelCheckpoint\n",
    "\n",
    "\n",
    "## 인코더 설계 시작\n",
    "embedding_dim = 128\n",
    "hidden_size = 256\n",
    "\n",
    "## 인코더\n",
    "encoder_inputs = Input(shape=(text_max_len,))\n",
    "\n",
    "## 인코더의 임베딩 층\n",
    "enc_emb = Embedding(src_vocab, embedding_dim)(encoder_inputs)\n",
    "\n",
    "## 인코더의 LSTM 1\n",
    "encoder_lstm1 = LSTM(hidden_size, return_sequences=True, return_state=True ,dropout = 0.4, recurrent_dropout = 0.4)\n",
    "encoder_output1, state_h1, state_c1 = encoder_lstm1(enc_emb)\n",
    "\n",
    "## 인코더의 LSTM 2\n",
    "encoder_lstm2 = LSTM(hidden_size, return_sequences=True, return_state=True, dropout=0.4, recurrent_dropout=0.4)\n",
    "encoder_output2, state_h2, state_c2 = encoder_lstm2(encoder_output1)\n",
    "\n",
    "## 인코더의 LSTM 3\n",
    "encoder_lstm3 = LSTM(hidden_size, return_state=True, return_sequences=True, dropout=0.4, recurrent_dropout=0.4)\n",
    "encoder_outputs, state_h, state_c= encoder_lstm3(encoder_output2)"
   ]
  },
  {
   "cell_type": "code",
   "execution_count": 40,
   "id": "e9e159fc",
   "metadata": {},
   "outputs": [
    {
     "name": "stdout",
     "output_type": "stream",
     "text": [
      "WARNING:tensorflow:Layer lstm_3 will not use cuDNN kernels since it doesn't meet the criteria. It will use a generic GPU kernel as fallback when running on GPU.\n"
     ]
    }
   ],
   "source": [
    "## 디코더 설계\n",
    "decoder_inputs = Input(shape=(None,))\n",
    "\n",
    "## 디코더의 임베딩 층\n",
    "dec_emb_layer = Embedding(tar_vocab, embedding_dim)\n",
    "dec_emb = dec_emb_layer(decoder_inputs)\n",
    "\n",
    "## 디코더의 LSTM\n",
    "decoder_lstm = LSTM(hidden_size, return_sequences=True, return_state=True, dropout=0.4, recurrent_dropout=0.2)\n",
    "decoder_outputs, _, _ = decoder_lstm(dec_emb, initial_state=[state_h, state_c])"
   ]
  },
  {
   "cell_type": "code",
   "execution_count": 41,
   "id": "a4b9ccdc",
   "metadata": {
    "scrolled": true
   },
   "outputs": [
    {
     "name": "stdout",
     "output_type": "stream",
     "text": [
      "Model: \"model\"\n",
      "__________________________________________________________________________________________________\n",
      "Layer (type)                    Output Shape         Param #     Connected to                     \n",
      "==================================================================================================\n",
      "input_1 (InputLayer)            [(None, 50)]         0                                            \n",
      "__________________________________________________________________________________________________\n",
      "embedding (Embedding)           (None, 50, 128)      1024000     input_1[0][0]                    \n",
      "__________________________________________________________________________________________________\n",
      "lstm (LSTM)                     [(None, 50, 256), (N 394240      embedding[0][0]                  \n",
      "__________________________________________________________________________________________________\n",
      "input_2 (InputLayer)            [(None, None)]       0                                            \n",
      "__________________________________________________________________________________________________\n",
      "lstm_1 (LSTM)                   [(None, 50, 256), (N 525312      lstm[0][0]                       \n",
      "__________________________________________________________________________________________________\n",
      "embedding_1 (Embedding)         (None, None, 128)    256000      input_2[0][0]                    \n",
      "__________________________________________________________________________________________________\n",
      "lstm_2 (LSTM)                   [(None, 50, 256), (N 525312      lstm_1[0][0]                     \n",
      "__________________________________________________________________________________________________\n",
      "lstm_3 (LSTM)                   [(None, None, 256),  394240      embedding_1[0][0]                \n",
      "                                                                 lstm_2[0][1]                     \n",
      "                                                                 lstm_2[0][2]                     \n",
      "__________________________________________________________________________________________________\n",
      "dense (Dense)                   (None, None, 2000)   514000      lstm_3[0][0]                     \n",
      "==================================================================================================\n",
      "Total params: 3,633,104\n",
      "Trainable params: 3,633,104\n",
      "Non-trainable params: 0\n",
      "__________________________________________________________________________________________________\n"
     ]
    }
   ],
   "source": [
    "## 디코더의 출력층\n",
    "decoder_softmax_layer = Dense(tar_vocab, activation='softmax')\n",
    "decoder_softmax_outputs = decoder_softmax_layer(decoder_outputs) \n",
    "\n",
    "## 모델 정의\n",
    "model = Model([encoder_inputs, decoder_inputs], decoder_softmax_outputs)\n",
    "model.summary()"
   ]
  },
  {
   "cell_type": "markdown",
   "id": "e3b347f0",
   "metadata": {},
   "source": [
    "#### 어텐션 메커니즘   \n",
    "#### 또 다른 새로운 신경망을 설계해야 한다는 뜻"
   ]
  },
  {
   "cell_type": "code",
   "execution_count": 42,
   "id": "d181df28",
   "metadata": {
    "scrolled": true
   },
   "outputs": [
    {
     "name": "stdout",
     "output_type": "stream",
     "text": [
      "Model: \"model_1\"\n",
      "__________________________________________________________________________________________________\n",
      "Layer (type)                    Output Shape         Param #     Connected to                     \n",
      "==================================================================================================\n",
      "input_1 (InputLayer)            [(None, 50)]         0                                            \n",
      "__________________________________________________________________________________________________\n",
      "embedding (Embedding)           (None, 50, 128)      1024000     input_1[0][0]                    \n",
      "__________________________________________________________________________________________________\n",
      "lstm (LSTM)                     [(None, 50, 256), (N 394240      embedding[0][0]                  \n",
      "__________________________________________________________________________________________________\n",
      "input_2 (InputLayer)            [(None, None)]       0                                            \n",
      "__________________________________________________________________________________________________\n",
      "lstm_1 (LSTM)                   [(None, 50, 256), (N 525312      lstm[0][0]                       \n",
      "__________________________________________________________________________________________________\n",
      "embedding_1 (Embedding)         (None, None, 128)    256000      input_2[0][0]                    \n",
      "__________________________________________________________________________________________________\n",
      "lstm_2 (LSTM)                   [(None, 50, 256), (N 525312      lstm_1[0][0]                     \n",
      "__________________________________________________________________________________________________\n",
      "lstm_3 (LSTM)                   [(None, None, 256),  394240      embedding_1[0][0]                \n",
      "                                                                 lstm_2[0][1]                     \n",
      "                                                                 lstm_2[0][2]                     \n",
      "__________________________________________________________________________________________________\n",
      "attention_layer (AdditiveAttent (None, None, 256)    256         lstm_3[0][0]                     \n",
      "                                                                 lstm_2[0][0]                     \n",
      "__________________________________________________________________________________________________\n",
      "concat_layer (Concatenate)      (None, None, 512)    0           lstm_3[0][0]                     \n",
      "                                                                 attention_layer[0][0]            \n",
      "__________________________________________________________________________________________________\n",
      "dense_1 (Dense)                 (None, None, 2000)   1026000     concat_layer[0][0]               \n",
      "==================================================================================================\n",
      "Total params: 4,145,360\n",
      "Trainable params: 4,145,360\n",
      "Non-trainable params: 0\n",
      "__________________________________________________________________________________________________\n"
     ]
    }
   ],
   "source": [
    "from tensorflow.keras.layers import AdditiveAttention\n",
    "\n",
    "## 어텐션 층(어텐션 함수)\n",
    "attn_layer = AdditiveAttention(name='attention_layer')\n",
    "\n",
    "## 인코더와 디코더의 모든 time step의 hidden state를 어텐션 층에 전달하고 결과를 리턴\n",
    "attn_out = attn_layer([decoder_outputs, encoder_outputs])\n",
    "\n",
    "\n",
    "## 어텐션의 결과와 디코더의 hidden state들을 연결\n",
    "decoder_concat_input = Concatenate(axis=-1, name='concat_layer')([decoder_outputs, attn_out])\n",
    "\n",
    "## 디코더의 출력층\n",
    "decoder_softmax_layer = Dense(tar_vocab, activation='softmax')\n",
    "decoder_softmax_outputs = decoder_softmax_layer(decoder_concat_input)\n",
    "\n",
    "## 모델 정의\n",
    "model = Model([encoder_inputs, decoder_inputs], decoder_softmax_outputs)\n",
    "model.summary()"
   ]
  },
  {
   "cell_type": "markdown",
   "id": "72986a30",
   "metadata": {},
   "source": [
    "#### 모델 훈련하기  \n",
    "####  EarlyStopping 은 특정 조건이 충족되면 훈련을 멈춘다."
   ]
  },
  {
   "cell_type": "code",
   "execution_count": 43,
   "id": "8af575d6",
   "metadata": {
    "scrolled": true
   },
   "outputs": [
    {
     "name": "stdout",
     "output_type": "stream",
     "text": [
      "Epoch 1/50\n",
      "85/85 [==============================] - 75s 690ms/step - loss: 4.9492 - val_loss: 4.4987\n",
      "Epoch 2/50\n",
      "85/85 [==============================] - 59s 693ms/step - loss: 4.5394 - val_loss: 4.3058\n",
      "Epoch 3/50\n",
      "85/85 [==============================] - 59s 698ms/step - loss: 4.3463 - val_loss: 4.1635\n",
      "Epoch 4/50\n",
      "85/85 [==============================] - 59s 699ms/step - loss: 4.1995 - val_loss: 4.0825\n",
      "Epoch 5/50\n",
      "85/85 [==============================] - 59s 690ms/step - loss: 4.0647 - val_loss: 3.9384\n",
      "Epoch 6/50\n",
      "85/85 [==============================] - 58s 688ms/step - loss: 3.9385 - val_loss: 3.8473\n",
      "Epoch 7/50\n",
      "85/85 [==============================] - 58s 682ms/step - loss: 3.8138 - val_loss: 3.7670\n",
      "Epoch 8/50\n",
      "85/85 [==============================] - 58s 685ms/step - loss: 3.6803 - val_loss: 3.6656\n",
      "Epoch 9/50\n",
      "85/85 [==============================] - 59s 689ms/step - loss: 3.5519 - val_loss: 3.5684\n",
      "Epoch 10/50\n",
      "85/85 [==============================] - 60s 700ms/step - loss: 3.4376 - val_loss: 3.5229\n",
      "Epoch 11/50\n",
      "85/85 [==============================] - 58s 686ms/step - loss: 3.3381 - val_loss: 3.4680\n",
      "Epoch 12/50\n",
      "85/85 [==============================] - 58s 682ms/step - loss: 3.2490 - val_loss: 3.4297\n",
      "Epoch 13/50\n",
      "85/85 [==============================] - 58s 688ms/step - loss: 3.1677 - val_loss: 3.4122\n",
      "Epoch 14/50\n",
      "85/85 [==============================] - 58s 685ms/step - loss: 3.0942 - val_loss: 3.3733\n",
      "Epoch 15/50\n",
      "85/85 [==============================] - 58s 681ms/step - loss: 3.0253 - val_loss: 3.3590\n",
      "Epoch 16/50\n",
      "85/85 [==============================] - 58s 678ms/step - loss: 2.9571 - val_loss: 3.3558\n",
      "Epoch 17/50\n",
      "85/85 [==============================] - 58s 681ms/step - loss: 2.8948 - val_loss: 3.3266\n",
      "Epoch 18/50\n",
      "85/85 [==============================] - 58s 683ms/step - loss: 2.8333 - val_loss: 3.3148\n",
      "Epoch 19/50\n",
      "85/85 [==============================] - 58s 681ms/step - loss: 2.7728 - val_loss: 3.3025\n",
      "Epoch 20/50\n",
      "85/85 [==============================] - 58s 680ms/step - loss: 2.7172 - val_loss: 3.3209\n",
      "Epoch 21/50\n",
      "85/85 [==============================] - 58s 682ms/step - loss: 2.6634 - val_loss: 3.3152\n",
      "Epoch 00021: early stopping\n"
     ]
    }
   ],
   "source": [
    "model.compile(optimizer='rmsprop', loss='sparse_categorical_crossentropy')\n",
    "es = EarlyStopping(monitor='val_loss', patience=2, verbose=1)       ## EarlyStopping 은 특정 조건이 충족되면 훈련을 멈춘다.\n",
    "history = model.fit(x=[encoder_input_train, decoder_input_train], y=decoder_target_train, \\\n",
    "          validation_data=([encoder_input_test, decoder_input_test], decoder_target_test), \\\n",
    "          batch_size=256, callbacks=[es], epochs=50)"
   ]
  },
  {
   "cell_type": "markdown",
   "id": "bd0232e2",
   "metadata": {},
   "source": [
    "#### 훈련 데이터의 손실과 검증 데이터의 손실이 줄어드는 과정을 시각화하기"
   ]
  },
  {
   "cell_type": "code",
   "execution_count": 44,
   "id": "c9afbced",
   "metadata": {
    "scrolled": true
   },
   "outputs": [
    {
     "data": {
      "image/png": "[encoded data removed]",
      "text/plain": [
       "<Figure size 432x288 with 1 Axes>"
      ]
     },
     "metadata": {
      "needs_background": "light"
     },
     "output_type": "display_data"
    }
   ],
   "source": [
    "plt.plot(history.history['loss'], label='train')\n",
    "plt.plot(history.history['val_loss'], label='test')\n",
    "plt.legend()\n",
    "plt.show()"
   ]
  },
  {
   "cell_type": "markdown",
   "id": "80274371",
   "metadata": {},
   "source": [
    "### 인퍼런스 모델 구현하기"
   ]
  },
  {
   "cell_type": "code",
   "execution_count": 52,
   "id": "0bba2afe",
   "metadata": {},
   "outputs": [
    {
     "name": "stdout",
     "output_type": "stream",
     "text": [
      "=3\n"
     ]
    }
   ],
   "source": [
    "src_index_to_word = src_tokenizer.index_word ## 원문 단어 집합에서 정수 -> 단어를 얻음\n",
    "tar_word_to_index = tar_tokenizer.word_index ## 요약 단어 집합에서 단어 -> 정수를 얻음\n",
    "tar_index_to_word = tar_tokenizer.index_word ## 요약 단어 집합에서 정수 -> 단어를 얻음\n",
    "\n",
    "print('=3')"
   ]
  },
  {
   "cell_type": "code",
   "execution_count": 53,
   "id": "85b8f023",
   "metadata": {},
   "outputs": [
    {
     "name": "stdout",
     "output_type": "stream",
     "text": [
      "=3\n"
     ]
    }
   ],
   "source": [
    "## 인코더 설계\n",
    "encoder_model = Model(inputs=encoder_inputs, outputs=[encoder_outputs, state_h, state_c])\n",
    "\n",
    "## 이전 시점의 상태들을 저장하는 텐서\n",
    "decoder_state_input_h = Input(shape=(hidden_size,))\n",
    "decoder_state_input_c = Input(shape=(hidden_size,))\n",
    "\n",
    "dec_emb2 = dec_emb_layer(decoder_inputs)\n",
    "\n",
    "## 문장의 다음 단어를 예측하기 위해서 초기 상태(initial_state)를 이전 시점의 상태로 사용. 이는 뒤의 함수 decode_sequence()에 구현\n",
    "## 훈련 과정에서와 달리 LSTM의 리턴하는 은닉 상태와 셀 상태인 state_h와 state_c를 버리지 않음.\n",
    "decoder_outputs2, state_h2, state_c2 = decoder_lstm(dec_emb2, initial_state=[decoder_state_input_h, decoder_state_input_c])\n",
    "\n",
    "print('=3')"
   ]
  },
  {
   "cell_type": "code",
   "execution_count": 54,
   "id": "520b8b01",
   "metadata": {},
   "outputs": [
    {
     "name": "stdout",
     "output_type": "stream",
     "text": [
      "=3\n"
     ]
    }
   ],
   "source": [
    "## 어텐션 함수\n",
    "decoder_hidden_state_input = Input(shape=(text_max_len, hidden_size))\n",
    "attn_out_inf = attn_layer([decoder_outputs2, decoder_hidden_state_input])\n",
    "decoder_inf_concat = Concatenate(axis=-1, name='concat')([decoder_outputs2, attn_out_inf])\n",
    "\n",
    "## 디코더의 출력층\n",
    "decoder_outputs2 = decoder_softmax_layer(decoder_inf_concat) \n",
    "\n",
    "## 최종 디코더 모델\n",
    "decoder_model = Model(\n",
    "    [decoder_inputs] + [decoder_hidden_state_input,decoder_state_input_h, decoder_state_input_c],\n",
    "    [decoder_outputs2] + [state_h2, state_c2])\n",
    "\n",
    "print('=3')"
   ]
  },
  {
   "cell_type": "code",
   "execution_count": 58,
   "id": "f720ccab",
   "metadata": {},
   "outputs": [
    {
     "name": "stdout",
     "output_type": "stream",
     "text": [
      "=3\n"
     ]
    }
   ],
   "source": [
    "def decode_sequence(input_seq):\n",
    "    ## 입력으로부터 인코더의 상태를 얻음\n",
    "    e_out, e_h, e_c = encoder_model.predict(input_seq)\n",
    "\n",
    "     ## <SOS>에 해당하는 토큰 생성\n",
    "    target_seq = np.zeros((1,1))\n",
    "    target_seq[0, 0] = tar_word_to_index['sostoken']\n",
    "\n",
    "    stop_condition = False\n",
    "    decoded_sentence = ''\n",
    "    while not stop_condition: ## stop_condition이 True가 될 때까지 루프 반복\n",
    "\n",
    "        output_tokens, h, c = decoder_model.predict([target_seq] + [e_out, e_h, e_c])\n",
    "        sampled_token_index = np.argmax(output_tokens[0, -1, :])\n",
    "        sampled_token = tar_index_to_word[sampled_token_index]\n",
    "\n",
    "        if (sampled_token!='eostoken'):\n",
    "            decoded_sentence += ' '+sampled_token\n",
    "\n",
    "        ##  <eos>에 도달하거나 최대 길이를 넘으면 중단.\n",
    "        if (sampled_token == 'eostoken'  or len(decoded_sentence.split()) >= (headlines_max_len-1)):\n",
    "            stop_condition = True\n",
    "\n",
    "        ## 길이가 1인 타겟 시퀀스를 업데이트\n",
    "        target_seq = np.zeros((1,1))\n",
    "        target_seq[0, 0] = sampled_token_index\n",
    "\n",
    "        ## 상태를 업데이트 한다.\n",
    "        e_h, e_c = h, c\n",
    "\n",
    "    return decoded_sentence\n",
    "print('=3')"
   ]
  },
  {
   "cell_type": "markdown",
   "id": "2b1d3e64",
   "metadata": {},
   "source": [
    "## Step 4. 실제 결과와 요약문 비교하기 (추상적 요약)"
   ]
  },
  {
   "cell_type": "code",
   "execution_count": 59,
   "id": "9017b452",
   "metadata": {},
   "outputs": [
    {
     "name": "stdout",
     "output_type": "stream",
     "text": [
      "=3\n"
     ]
    }
   ],
   "source": [
    "## 원문의 정수 시퀀스를 텍스트 시퀀스로 변환\n",
    "def seq2text(input_seq):\n",
    "    temp=''\n",
    "    for i in input_seq:\n",
    "        if (i!=0):\n",
    "            temp = temp + src_index_to_word[i]+' '\n",
    "    return temp\n",
    "\n",
    "## 요약문의 정수 시퀀스를 텍스트 시퀀스로 변환\n",
    "def seq2summary(input_seq):\n",
    "    temp=''\n",
    "    for i in input_seq:\n",
    "        if ((i!=0 and i!=tar_word_to_index['sostoken']) and i!=tar_word_to_index['eostoken']):\n",
    "            temp = temp + tar_index_to_word[i] + ' '\n",
    "    return temp\n",
    "\n",
    "print('=3')"
   ]
  },
  {
   "cell_type": "code",
   "execution_count": 60,
   "id": "bb16c4c1",
   "metadata": {},
   "outputs": [
    {
     "name": "stdout",
     "output_type": "stream",
     "text": [
      "원문 : many residents forced us city due started monday called fire contained spread acres fire department said helicopters aircraft firefighters deployed blaze added \n",
      "실제 요약 : evacuated due to in us \n",
      "예측 요약 :  found in china\n",
      "\n",
      "\n",
      "원문 : hollywood actor tom cruise got hurt shooting stunt upcoming film mission impossible video shows actor jumping two buildings assistance missing edge second roof building later seen collapsing near crew members \n",
      "실제 요약 : cruise gets injured while for \n",
      "예측 요약 :  actress shares pic of\n",
      "\n",
      "\n",
      "원문 : china law appropriate use national anthem introducing criminal prosecution state media reported lyrics could reportedly face criminal prosecution detention days draft legislation also made illegal use national anthem inappropriate private occasions \n",
      "실제 요약 : china law against of national anthem \n",
      "예측 요약 :  saudi arabia to ban\n",
      "\n",
      "\n",
      "원문 : english fan ed teacher profession travelled four months visited countries reach watch first ashes test crossed kilometres without taking single flight task raise funds spread awareness fight cancer \n",
      "실제 요약 : english fan through countries to watch \n",
      "예측 요약 :  australia first ever\n",
      "\n",
      "\n",
      "원문 : indian pm security constituted special protection group sole security organisation pm security gets personnel central forces anti checks pm pm public events following assassination former pm indira gandhi \n",
      "실제 요약 : who security to india prime minister \n",
      "예측 요약 :  pakistan to citizenship in pakistan\n",
      "\n",
      "\n",
      "원문 : indians make total child world according india report nearly million indians married estimated million girls added stated girl child marriages help avoid deaths infant deaths child deaths \n",
      "실제 요약 : child in the world are indian report \n",
      "예측 요약 :  world largest expensive opens in india\n",
      "\n",
      "\n",
      "원문 : according research security group malware targeted technology firms access internal list published contained least tech firms including microsoft google samsung researchers also said computers exposed malware attack earlier month \n",
      "실제 요약 : google microsoft and samsung \n",
      "예측 요약 :  launches its own cryptocurrency\n",
      "\n",
      "\n",
      "원문 : india first wave powered guide ships launched chennai monday developed national institute ocean technology would record data wind speed direction would port authorities conventional solar powered one would energy waves power \n",
      "실제 요약 : india first powered launched \n",
      "예측 요약 :  world largest telescope to\n",
      "\n",
      "\n",
      "원문 : nasa hubble space telescope captured two galaxies million light years away early stage image displays galaxies strongly large number blue star formation look like said nasa adding star formation triggered close interaction galaxies \n",
      "실제 요약 : telescope about to clash \n",
      "예측 요약 :  nasa telescope galaxy\n",
      "\n",
      "\n",
      "원문 : china social media games giant tencent wednesday posted record billion profit second quarter due peak mobile game revenues firm profit year year due honour kings mobile game surpassing pc game revenues first time tencent overall quarterly revenue recorded billion \n",
      "실제 요약 : highest ever profit of billion \n",
      "예측 요약 :  china profit rises to billion in quarter\n",
      "\n",
      "\n",
      "원문 : singer kumar took twitter announce expecting first child husband january shared pictures photo shoot wrote soon blessed god grace one sweet little face share news got married jaipur based businessman \n",
      "실제 요약 : singer kumar husband first child \n",
      "예측 요약 :  actress shares picture with her\n",
      "\n",
      "\n",
      "원문 : amnesty international branded us president donald trump human rights offender comparing leaders venezuelan president nicolas maduro philippine president rodrigo duterte accusing trump taking actions violate human rights home abroad human rights group called us president travel ban move \n",
      "실제 요약 : trump human rights by \n",
      "예측 요약 :  trump calls trump\n",
      "\n",
      "\n",
      "원문 : mit daniel studied earth five mass extinction events last million years found human activities could add enough carbon world oceans triggering another mass extinction identified previous carbon cycles crossing could lead sixth mass extinction event lasting years \n",
      "실제 요약 : mit mass by \n",
      "예측 요약 :  us to launch study\n",
      "\n",
      "\n",
      "원문 : former boxing world champion floyd mayweather reportedly shot leg outside hotel boxing staying attack conducted gunman riding inside white suv believed directed towards mayweather police said undergoing treatment stable condition \n",
      "실제 요약 : mayweather shot outside hotel \n",
      "예측 요약 :  mayweather mcgregor mcgregor in one\n",
      "\n",
      "\n",
      "원문 : shimla police thursday detained two people booked others residents protested ongoing water crisis city police released two detainees later booked people charges assembly shimla facing water shortage past days prompting residents request tourists visit city \n",
      "실제 요약 : booked detained in protest against water crisis \n",
      "예측 요약 :  arrested in terror arrested in\n",
      "\n",
      "\n",
      "원문 : us military tuesday said five gone missing since two planes crashed japan coast last week dead five crew members aircraft collided jet fighter air air exercise search rescue operation called \n",
      "실제 요약 : missing us declared dead after japan crash \n",
      "예측 요약 :  us military killed in military\n",
      "\n",
      "\n",
      "원문 : delhi high court tuesday said delhi university like head sand instead taking action former delhi university students union president law student several firs accused law faculty several occasions \n",
      "실제 요약 : delhi university like an delhi hc \n",
      "예측 요약 :  hc hc hc\n",
      "\n",
      "\n",
      "원문 : united airlines retired last boeing flight often called queen tuesday years san francisco flight featured inspired menu crew uniforms tickets flight cost sold within hours \n",
      "실제 요약 : united its last flight after years \n",
      "예측 요약 :  passenger plane off plane\n",
      "\n",
      "\n",
      "원문 : case registered former deputy chief minister bihar yadav thursday allegedly complaint filed recent comment gorakhpur tragedy tweeted hai hum \n",
      "실제 요약 : case filed against for \n",
      "예측 요약 :  aap mla son to\n",
      "\n",
      "\n",
      "원문 : two people arrested sunday auto allegedly ran retired intelligence bureau officer ghaziabad accused attempted take hospital succumbed injuries way threw body elevated road took away mobile phone \n",
      "실제 요약 : arrested for running over intelligence officer \n",
      "예측 요약 :  arrested for raping woman in delhi\n",
      "\n",
      "\n",
      "원문 : crpf jawans passengers entered terminal building jammu airport board srinagar bound chartered aircraft continued till last jawan left building crpf statement said warm gesture public towards uniform force personnel serve \n",
      "실제 요약 : crpf jawans with at jammu airport \n",
      "예측 요약 :  students carrying bus in delhi\n",
      "\n",
      "\n",
      "원문 : son portugal football team captain cristiano ronaldo cristiano jr begun training juventus youth academy team cristiano jr turned eight years old june joined juventus defender son academy team ronaldo made million move juventus real madrid july \n",
      "실제 요약 : ronaldo son begins training with youth \n",
      "예측 요약 :  ronaldo scores after messi\n",
      "\n",
      "\n",
      "원문 : income tax department begun issuing first set summons people related papers leak according reports summons issued section act ensures persons appear give evidence leak detailed business people companies offshore tax havens \n",
      "실제 요약 : issues first over leak reports \n",
      "예측 요약 :  dept gets lakh for\n",
      "\n",
      "\n",
      "원문 : responding congress president rahul gandhi rafale jet prices pm modi pressure defence minister nirmala sitharaman friday said pact signed france french president told price jets cannot revealed added gandhi said met french president told pact existed \n",
      "실제 요약 : with france was in \n",
      "예측 요약 :  rahul gandhi is rahul gandhi\n",
      "\n",
      "\n",
      "원문 : defence minister nirmala sitharaman sunday described congress president rahul gandhi speech congress session substance talking gandhi comparison bjp congress sitharaman said congress party questioned lord ram existence mocked hindus \n",
      "실제 요약 : rahul speech of defence minister \n",
      "예측 요약 :  congress gandhi to contest\n",
      "\n",
      "\n",
      "원문 : railway minister piyush goyal instructed indian railway catering tourism corporation make railway reserved accommodation available commercial purposes stating place modern india coaches usually feature two toilet kitchen earlier reserved railway officials \n",
      "실제 요약 : railways to coaches for \n",
      "예측 요약 :  railways to get new railway stations\n",
      "\n",
      "\n",
      "원문 : mumbai terror attack mastermind hafiz saeed said us world biggest terrorist slammed pakistan orders jamaat ud dawah chief called pakistan recent crackdown charities us plot us designated saeed global terrorist offered bounty million \n",
      "실제 요약 : mastermind calls us world biggest terrorist \n",
      "예측 요약 :  pakistan rejects pakistan for mastermind hafiz saeed\n",
      "\n",
      "\n",
      "원문 : fir lodged children jharkhand went missing shelter home punjab district police said tuesday police officer investigating case said found evidence showing kids converted taught christian officer also said kids kept conditions \n",
      "실제 요약 : kids missing from punjab police \n",
      "예측 요약 :  police officer arrested for killing\n",
      "\n",
      "\n",
      "원문 : anil ambani led reliance communications invited offers sell jointly develop acre ambani knowledge centre located navi mumbai earlier company also ran advertisement sell around acre delhi office place properties mumbai delhi could company around crore according reports \n",
      "실제 요약 : reliance communications to sell it park \n",
      "예측 요약 :  rcom shares lakh for lakh\n",
      "\n",
      "\n",
      "원문 : video footage truck loaded steel crashing toll barrier along mexico la highway surfaced online crash reportedly happened due failure least seven people working repair area already damaged crash april injured crash reports added \n",
      "실제 요약 : video truck into toll in mexico \n",
      "예측 요약 :  killed injured in truck crash in us\n",
      "\n",
      "\n",
      "원문 : students jawaharlal nehru university thursday confined top officials university building campus students led jawaharlal nehru university students union sat protest since demanding meet university vice chancellor kumar jnu facing protests compulsory attendance system rolled university last month \n",
      "실제 요약 : jnu students university officials in building \n",
      "예측 요약 :  students students students in students\n",
      "\n",
      "\n",
      "원문 : indian army military wing help build new foot road road suburban railway stations mumbai chief minister devendra fadnavis said tuesday comes around people died getting crushed stampede foot overbridge connecting road railway stations september \n",
      "실제 요약 : army to build at mumbai station \n",
      "예측 요약 :  army building along\n",
      "\n",
      "\n",
      "원문 : market value us imaging firm increased million revealed plans launch cryptocurrency tuesday shares surged much since announcement giving firm market capitalisation million company announced image rights platform paid \n",
      "실제 요약 : rises by mn after crypto \n",
      "예측 요약 :  flipkart to acquire in\n",
      "\n",
      "\n",
      "원문 : kerala state beverages corporation written state government deploy liquor vending machines outside liquor shops comes kerala high court corporation taking steps end long outside liquor outlets managing director said proposal make alcohol available end outside outlets \n",
      "실제 요약 : kerala may get liquor machines \n",
      "예측 요약 :  haryana govt orders for\n",
      "\n",
      "\n",
      "원문 : quoting michael us defence department expert china us president donald trump said china total respect large brain us china relations become amid ongoing trade war president trump accusing china attempting upcoming elections \n",
      "실제 요약 : china my very very brain trump \n",
      "예측 요약 :  trump calls us for us\n",
      "\n",
      "\n",
      "원문 : carat diamond weighing found premier mine south africa january named diamond largest ever found diamond gifted britain king edward later cut nine large stones around smaller stones \n",
      "실제 요약 : world largest diamond was found years ago \n",
      "예측 요약 :  crore from\n",
      "\n",
      "\n",
      "원문 : prime minister narendra modi sunday said women chhattisgarh broken carrying heads operating rickshaws dangerous atmosphere praised women creating opportunities becoming self changing face region \n",
      "실제 요약 : women pm \n",
      "예측 요약 :  pm modi statue in\n",
      "\n",
      "\n",
      "원문 : director souza said dance zone hero challenging added helps grow creative person talking latest directorial race said power keep alive till end \n",
      "실제 요약 : dance is is \n",
      "예측 요약 :  was for\n",
      "\n",
      "\n",
      "원문 : students protesting test class class cbse exams claimed leaked question papers sold outside school got know people offering question papers wanted night wanted examination day student said \n",
      "실제 요약 : leaked cbse sold outside school for students \n",
      "예측 요약 :  class students arrested for raping class\n",
      "\n",
      "\n",
      "원문 : many indians rescued safely different countries three years external affairs minister sushma swaraj said sunday also said number passport country increased span three years speaking inauguration india first bhavan mumbai \n",
      "실제 요약 : indians rescued in yrs sushma swaraj \n",
      "예측 요약 :  indians in india\n",
      "\n",
      "\n",
      "원문 : calling prime minister narendra modi congress president rahul gandhi monday slammed th tweet question day series gandhi criticised pm modi allegedly maintaining silence allegations corruption bjp president amit shah son jay gujarat state petroleum corporation among others \n",
      "실제 요약 : cong prez rahul gandhi calls pm modi \n",
      "예측 요약 :  rahul gandhi pm modi\n",
      "\n",
      "\n",
      "원문 : man arrested indira gandhi international airport new delhi allegedly terminal using ticket friday cisf personnel said accused found entered terminal using ticket dubai booked later cancelled said seeing daughter travelling dubai \n",
      "실제 요약 : man into delhi airport using ticket \n",
      "예측 요약 :  driver arrested for stealing\n",
      "\n",
      "\n",
      "원문 : advertising standards council india rejected hindustan unilever objection campaign fair men brand two face contested grounds use language misleading consumers claimed brand subjected studies deliver required results \n",
      "실제 요약 : to ad campaign rejected \n",
      "예측 요약 :  to be\n",
      "\n",
      "\n",
      "원문 : ten member family madhya pradesh fined village panchayat open fine reportedly imposed rate per day family member repeatedly ignored warnings open notices also served families stop practice \n",
      "실제 요약 : family fined for open in madhya pradesh \n",
      "예측 요약 :  delhi to introduce\n",
      "\n",
      "\n",
      "원문 : actress turned author twinkle khanna speaking event said sex important every stage life things found extremely attractive akshay changed time added twinkle akshay got married completed years marriage january year year old son year old daughter \n",
      "실제 요약 : sex is at every khanna \n",
      "예측 요약 :  twitter reacts to attend\n",
      "\n",
      "\n",
      "원문 : facebook launched war room team people park headquarters monitor third party interference elections serves command centre people different including threat intelligence legal data science earlier facebook also introduced tools protect candidates campaign staff foreign \n",
      "실제 요약 : facebook launches people war at \n",
      "예측 요약 :  cryptocurrencies to be in india\n",
      "\n",
      "\n",
      "원문 : german automaker porsche launched rs india price crore car comes litre twin six cylinder engine gives power peak rs go kmph seconds offers top speed kmph \n",
      "실제 요약 : launched in india at crore \n",
      "예측 요약 :  world largest revenue in revenue in\n",
      "\n",
      "\n",
      "원문 : thai national sentenced years prison posting online materials deemed insulting convict charged royal defamation computer crime people charged since coup country law senior members thailand royal family insult threat \n",
      "실제 요약 : man to yrs for \n",
      "예측 요약 :  sexual abuse at\n",
      "\n",
      "\n",
      "원문 : pm narendra modi visited us june first time donald trump presidency modi agreed enhance trade cooperation us meeting ceos top us companies government officials modi gifted stamp issued india marking abraham death among things trump leaving netherlands \n",
      "실제 요약 : in pictures indian pm narendra modi us visit \n",
      "예측 요약 :  india modi to become india\n",
      "\n",
      "\n",
      "원문 : technology giant google developing blockchain like system order cloud business rivals according reports company would also reportedly offer version companies run servers blockchain technology powers bitcoin cryptocurrencies used record transactions process data internet \n",
      "실제 요약 : google its own blockchain technology \n",
      "예측 요약 :  google to start report\n",
      "\n",
      "\n"
     ]
    }
   ],
   "source": [
    "## 테스트 데이터 약 50개의 샘플에 대해서 실제 요약과 예측된 요약을 비교\n",
    "for i in range(50, 100):\n",
    "    print(\"원문 :\", seq2text(encoder_input_test[i]))\n",
    "    print(\"실제 요약 :\", seq2summary(decoder_input_test[i]))\n",
    "    print(\"예측 요약 :\", decode_sequence(encoder_input_test[i].reshape(1, text_max_len)))\n",
    "    print(\"\\n\")"
   ]
  },
  {
   "cell_type": "markdown",
   "id": "bf98339f",
   "metadata": {},
   "source": [
    "## Step 5. Summa을 이용해서 추출적 요약해보기"
   ]
  },
  {
   "cell_type": "markdown",
   "id": "c0b3fd77",
   "metadata": {},
   "source": [
    "### 패키지 설치 & 데이터 다운로드하기"
   ]
  },
  {
   "cell_type": "code",
   "execution_count": 77,
   "id": "fd806fa1",
   "metadata": {},
   "outputs": [],
   "source": [
    "import requests\n",
    "from summa.summarizer import summarize"
   ]
  },
  {
   "cell_type": "code",
   "execution_count": 78,
   "id": "5ed55b6b",
   "metadata": {
    "scrolled": true
   },
   "outputs": [
    {
     "data": {
      "text/plain": [
       "0        Saurav Kant, an alumnus of upGrad and IIIT-B's...\n",
       "1        Kunal Shah's credit card bill payment platform...\n",
       "2        New Zealand defeated India by 8 wickets in the...\n",
       "3        With Aegon Life iTerm Insurance plan, customer...\n",
       "4        Speaking about the sexual harassment allegatio...\n",
       "                               ...                        \n",
       "98396    A CRPF jawan was on Tuesday axed to death with...\n",
       "98397    'Uff Yeh', the first song from the Sonakshi Si...\n",
       "98398    According to reports, a new version of the 199...\n",
       "98399    A new music video shows rapper Snoop Dogg aimi...\n",
       "98400    Madhesi Morcha, an alliance of seven political...\n",
       "Name: text, Length: 98401, dtype: object"
      ]
     },
     "execution_count": 78,
     "metadata": {},
     "output_type": "execute_result"
    }
   ],
   "source": [
    "News = pd.read_csv('news_summary_more.csv', encoding='iso-8859-1')\n",
    "News['text']"
   ]
  },
  {
   "cell_type": "code",
   "execution_count": 79,
   "id": "207b4ee7",
   "metadata": {
    "scrolled": true
   },
   "outputs": [
    {
     "name": "stdout",
     "output_type": "stream",
     "text": [
      "<Original_1:> \n",
      "Saurav Kant, an alumnus of upGrad and IIIT-B's PG Program in Machine learning and Artificial Intelligence, was a Sr Systems Engineer at Infosys with almost 5 years of work experience. The program and upGrad's 360-degree career support helped him transition to a Data Scientist at Tech Mahindra with 90% salary hike. upGrad's Online Power Learning has powered 3 lakh+ careers.\n",
      "[Summary:] \n",
      "The program and upGrad's 360-degree career support helped him transition to a Data Scientist at Tech Mahindra with 90% salary hike.\n",
      "upGrad's Online Power Learning has powered 3 lakh+ careers.\n",
      "\n",
      "<Original_2:> \n",
      "Kunal Shah's credit card bill payment platform, CRED, gave users a chance to win free food from Swiggy for one year. Pranav Kaushik, a Delhi techie, bagged this reward after spending 2000 CRED coins. Users get one CRED coin per rupee of bill paid, which can be used to avail rewards from brands like Ixigo, BookMyShow, UberEats, Cult.Fit and more.\n",
      "[Summary:] \n",
      "Users get one CRED coin per rupee of bill paid, which can be used to avail rewards from brands like Ixigo, BookMyShow, UberEats, Cult.Fit and more.\n",
      "\n",
      "<Original_3:> \n",
      "New Zealand defeated India by 8 wickets in the fourth ODI at Hamilton on Thursday to win their first match of the five-match ODI series. India lost an international match under Rohit Sharma's captaincy after 12 consecutive victories dating back to March 2018. The match witnessed India getting all out for 92, their seventh lowest total in ODI cricket history.\n",
      "[Summary:] \n",
      "The match witnessed India getting all out for 92, their seventh lowest total in ODI cricket history.\n",
      "\n",
      "<Original_4:> \n",
      "With Aegon Life iTerm Insurance plan, customers can enjoy tax benefits on your premiums paid and save up to Ã¢ÂÂ¹46,800^ on taxes. The plan provides life cover up to the age of 100 years. Also, customers have options to insure against Critical Illnesses, Disability and Accidental Death Benefit Rider with a life cover up to the age of 80 years.\n",
      "[Summary:] \n",
      "Also, customers have options to insure against Critical Illnesses, Disability and Accidental Death Benefit Rider with a life cover up to the age of 80 years.\n",
      "\n",
      "<Original_5:> \n",
      "Speaking about the sexual harassment allegations against Rajkumar Hirani, Sonam Kapoor said, \"I've known Hirani for many years...What if it's not true, the [#MeToo] movement will get derailed.\" \"In the #MeToo movement, I always believe a woman. But in this case, we need to reserve our judgment,\" she added. Hirani has been accused by an assistant who worked in 'Sanju'.\n",
      "[Summary:] \n",
      "Speaking about the sexual harassment allegations against Rajkumar Hirani, Sonam Kapoor said, \"I've known Hirani for many years...What if it's not true, the [#MeToo] movement will get derailed.\" \"In the #MeToo movement, I always believe a woman.\n",
      "\n",
      "<Original_6:> \n",
      "Pakistani singer Rahat Fateh Ali Khan has denied receiving any notice from the Enforcement Directorate over allegedly smuggling foreign currency out of India. \"It would have been better if the authorities would have served the notice first if any and then publicised this,\" reads a press release issued on behalf of Rahat. The statement further called the allegation \"bizarre\".\n",
      "[Summary:] \n",
      "Pakistani singer Rahat Fateh Ali Khan has denied receiving any notice from the Enforcement Directorate over allegedly smuggling foreign currency out of India.\n",
      "\n",
      "<Original_7:> \n",
      "India recorded their lowest ODI total in New Zealand after getting all out for 92 runs in 30.5 overs in the fourth ODI at Hamilton on Thursday. Seven of India's batsmen were dismissed for single-digit scores, while their number ten batsman Yuzvendra Chahal top-scored with 18*(37). India's previous lowest ODI total in New Zealand was 108.\n",
      "[Summary:] \n",
      "India's previous lowest ODI total in New Zealand was 108.\n",
      "\n",
      "<Original_8:> \n",
      "Weeks after ex-CBI Director Alok Verma told the Department of Personnel and Training to consider him retired, the Home Ministry asked him to join work on the last day of his fixed tenure as Director on Thursday. The ministry directed him to immediately join as DG, Fire Services, the post he was transferred to after his removal as CBI chief.\n",
      "[Summary:] \n",
      "Weeks after ex-CBI Director Alok Verma told the Department of Personnel and Training to consider him retired, the Home Ministry asked him to join work on the last day of his fixed tenure as Director on Thursday.\n",
      "\n",
      "<Original_9:> \n",
      "Andhra Pradesh CM N Chandrababu Naidu has said, \"When I met then US President Bill Clinton, I addressed him as Mr Clinton, not as 'sir'. (PM Narendra) Modi is my junior in politics...I addressed him as sir 10 times.\" \"I did this...to satisfy his ego in the hope that he will do justice to the state,\" he added.\n",
      "[Summary:] \n",
      "Andhra Pradesh CM N Chandrababu Naidu has said, \"When I met then US President Bill Clinton, I addressed him as Mr Clinton, not as 'sir'.\n",
      "\n",
      "<Original_10:> \n",
      "Congress candidate Shafia Zubair won the Ramgarh Assembly seat in Rajasthan, by defeating BJP's Sukhwant Singh with a margin of 12,228 votes in the bypoll. With this victory, Congress has taken its total to 100 seats in the 200-member assembly. The election to the Ramgarh seat was delayed due to the death of sitting MLA and BSP candidate Laxman Singh.\n",
      "[Summary:] \n",
      "Congress candidate Shafia Zubair won the Ramgarh Assembly seat in Rajasthan, by defeating BJP's Sukhwant Singh with a margin of 12,228 votes in the bypoll.\n",
      "\n"
     ]
    }
   ],
   "source": [
    "for idx, text in enumerate(news_data['text'][:10]):\n",
    "    print(f'<Original_{idx+1}:> \\n{text}')\n",
    "    print(f'[Summary:] \\n{summarize(text, words=20)}\\n')"
   ]
  },
  {
   "cell_type": "code",
   "execution_count": 80,
   "id": "0217b3db",
   "metadata": {},
   "outputs": [
    {
     "name": "stdout",
     "output_type": "stream",
     "text": [
      "Congress candidate Shafia Zubair won the Ramgarh Assembly seat in Rajasthan, by defeating BJP's Sukhwant Singh with a margin of 12,228 votes in the bypoll. With this victory, Congress has taken its total to 100 seats in the 200-member assembly. The election to the Ramgarh seat was delayed due to the death of sitting MLA and BSP candidate Laxman Singh.\n"
     ]
    }
   ],
   "source": [
    "print(text[:1500])"
   ]
  },
  {
   "cell_type": "markdown",
   "id": "209abdea",
   "metadata": {},
   "source": [
    "### summarize 사용하기"
   ]
  },
  {
   "cell_type": "code",
   "execution_count": 84,
   "id": "88220287",
   "metadata": {},
   "outputs": [
    {
     "name": "stdout",
     "output_type": "stream",
     "text": [
      "Summary:\n",
      "Congress candidate Shafia Zubair won the Ramgarh Assembly seat in Rajasthan, by defeating BJP's Sukhwant Singh with a margin of 12,228 votes in the bypoll.\n"
     ]
    }
   ],
   "source": [
    "print('Summary:')\n",
    "print(summarize(text, ratio=0.5))"
   ]
  },
  {
   "cell_type": "code",
   "execution_count": 85,
   "id": "c47315af",
   "metadata": {},
   "outputs": [
    {
     "name": "stdout",
     "output_type": "stream",
     "text": [
      "Summary:\n",
      "[\"Congress candidate Shafia Zubair won the Ramgarh Assembly seat in Rajasthan, by defeating BJP's Sukhwant Singh with a margin of 12,228 votes in the bypoll.\"]\n"
     ]
    }
   ],
   "source": [
    "print('Summary:')\n",
    "print(summarize(text, ratio=0.5, split=True))"
   ]
  },
  {
   "cell_type": "code",
   "execution_count": 86,
   "id": "764589ef",
   "metadata": {},
   "outputs": [
    {
     "name": "stdout",
     "output_type": "stream",
     "text": [
      "Summary:\n",
      "Congress candidate Shafia Zubair won the Ramgarh Assembly seat in Rajasthan, by defeating BJP's Sukhwant Singh with a margin of 12,228 votes in the bypoll.\n",
      "The election to the Ramgarh seat was delayed due to the death of sitting MLA and BSP candidate Laxman Singh.\n"
     ]
    }
   ],
   "source": [
    "print('Summary:')\n",
    "print(summarize(text, words=50))"
   ]
  },
  {
   "cell_type": "markdown",
   "id": "2715e358",
   "metadata": {},
   "source": [
    "# 회고!"
   ]
  },
  {
   "cell_type": "markdown",
   "id": "bc207c4d",
   "metadata": {},
   "source": [
    "## < 어려웠던 점>  \n",
    "음 이번에는 추상적 요약과 추출적 요약을 나눠서 해보았는데 그 용어조차 제대로 몰랐어서 그것부터 찾아봤다. 그리고 모델을 훈련하는 과정에서 epochs이 50이라서 처음에 엄청 당황했었다...EarlyStopping 을 사용하면 특정 조건이 충족되면 훈련을 멈춘다고 해서 다행이었다. 그래도 훈련을 시키는데 시간이 꽤 소비되었던 것 같다. 그리고 마지막 추출적 요약을 하는 과정에서 생각을 조금 했어야 해서 구글링을 열심히 보았다."
   ]
  },
  {
   "cell_type": "markdown",
   "id": "f68ab80e",
   "metadata": {},
   "source": [
    "## < 알아낸 점> & < 아직까지 모호한 점>  \n",
    "추상적 요약은 ! 원문으로부터 내용이 요약된 새로운 문장을 생성해내는 것이다. 반대로 추출적 요약은 단어 그대로 원문에서 문장들을 추출해서 요약하는 방식이다. EarlyStopping이 있는 것도 처음 알게되었다. epochs이 50이었는데 중간에 멈추길래 놀랬는데 알고보니 EarlyStopping 이 있어서 그랬던 것 같다. 그리고 인코딩과 디코딩을 저번에 배우긴 했지만 모델을 설계하는 과정에서 조금 더 알게 되었던 것 같다."
   ]
  },
  {
   "cell_type": "markdown",
   "id": "d1942ef6",
   "metadata": {},
   "source": [
    "## < 자기 다짐>  \n",
    "nlp 하기전에는 항상 막막하게 시작을 했던 적이 많았던 것 같다. 하지만 이번꺼는 시간이 설 덕분에 시간이 넉넉했다. 그래서 시간을 넉넉하게 가지고 찾아보면서 진행하니까 뭔가 재밌었던 것 같다. 데이터 처리도 여러가지 방법이 있고 모델도 여러가지 다양하게 알아본 것 같다. 하기전에 못할 것 같다는 마음을 빼고 일단 해봐야겠다... 화이팅...!!"
   ]
  }
 ],
 "metadata": {
  "kernelspec": {
   "display_name": "Python 3 (ipykernel)",
   "language": "python",
   "name": "python3"
  },
  "language_info": {
   "codemirror_mode": {
    "name": "ipython",
    "version": 3
   },
   "file_extension": ".py",
   "mimetype": "text/x-python",
   "name": "python",
   "nbconvert_exporter": "python",
   "pygments_lexer": "ipython3",
   "version": "3.9.7"
  }
 },
 "nbformat": 4,
 "nbformat_minor": 5
}
