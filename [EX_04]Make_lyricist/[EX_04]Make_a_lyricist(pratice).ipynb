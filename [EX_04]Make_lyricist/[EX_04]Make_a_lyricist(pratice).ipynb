{
 "cells": [
  {
   "cell_type": "code",
   "execution_count": 1,
   "id": "0c1affbc",
   "metadata": {},
   "outputs": [
    {
     "name": "stdout",
     "output_type": "stream",
     "text": [
      "Source 문장: <start>나는 밥을 먹었다.\n",
      "Target 문장: 나는 밥을 먹었다.<end>\n"
     ]
    }
   ],
   "source": [
    "sentence = \"나는 밥을 먹었다.\"\n",
    "\n",
    "source_sentence = \"<start>\" + sentence\n",
    "target_sentence = sentence + \"<end>\"\n",
    "\n",
    "print(\"Source 문장:\", source_sentence)\n",
    "print(\"Target 문장:\", target_sentence)"
   ]
  },
  {
   "cell_type": "code",
   "execution_count": 2,
   "id": "3915346a",
   "metadata": {},
   "outputs": [
    {
     "name": "stdout",
     "output_type": "stream",
     "text": [
      "['First Citizen:', 'Before we proceed any further, hear me speak.', '', 'All:', 'Speak, speak.', '', 'First Citizen:', 'You are all resolved rather to die than to famish?', '']\n"
     ]
    }
   ],
   "source": [
    "import os, re\n",
    "import numpy as np\n",
    "import tensorflow as tf\n",
    "\n",
    "## 파일을 읽기모드로 열기\n",
    "## 라인 단위로 끊어서 list 형태로 읽어온다.\n",
    "\n",
    "file_path = os.getenv(\"HOME\") + \"/aiffel/lyricist/data/shakespeare.txt\"\n",
    "with open(file_path, \"r\") as f:\n",
    "    raw_corpus = f.read().splitlines()\n",
    "    \n",
    "## 앞에서부터 10라인만 화면에 출력해보자\n",
    "print(raw_corpus[:9])"
   ]
  },
  {
   "cell_type": "code",
   "execution_count": 4,
   "id": "4bf5d1dd",
   "metadata": {},
   "outputs": [
    {
     "name": "stdout",
     "output_type": "stream",
     "text": [
      "Before we proceed any further, hear me speak.\n",
      "Speak, speak.\n",
      "You are all resolved rather to die than to famish?\n"
     ]
    }
   ],
   "source": [
    "for idx, sentence in enumerate(raw_corpus):\n",
    "    if len(sentence) == 0: continue       ## 문장의 길이가 0인 문장 (공백)은 넘긴다!\n",
    "    if sentence[-1] == \":\": continue      ## 문장의 끝이 : 로 끝나는 문장은 넘긴다!\n",
    "    \n",
    "    if idx > 9: break        ## 일단 문장 10개만 확인해보자!\n",
    "        \n",
    "    print(sentence)"
   ]
  },
  {
   "cell_type": "code",
   "execution_count": 6,
   "id": "6edb28f6",
   "metadata": {},
   "outputs": [
    {
     "name": "stdout",
     "output_type": "stream",
     "text": [
      "<start> this is sample sentence . <end>\n"
     ]
    }
   ],
   "source": [
    "# 입력된 문장을\n",
    "#     1. 소문자로 바꾸고, 양쪽 공백을 지웁니다\n",
    "#     2. 특수문자 양쪽에 공백을 넣고\n",
    "#     3. 여러개의 공백은 하나의 공백으로 바꿉니다\n",
    "#     4. a-zA-Z?.!,¿가 아닌 모든 문자를 하나의 공백으로 바꿉니다\n",
    "#     5. 다시 양쪽 공백을 지웁니다\n",
    "#     6. 문장 시작에는 <start>, 끝에는 <end>를 추가합니다\n",
    "# 이 순서로 처리해주면 문제가 되는 상황을 방지할 수 있겠네요!\n",
    "def preprocess_sentence(sentence):\n",
    "    sentence = sentence.lower().strip() # 1\n",
    "    sentence = re.sub(r\"([?.!,¿])\", r\" \\1 \", sentence) # 2\n",
    "    sentence = re.sub(r'[\" \"]+', \" \", sentence) # 3\n",
    "    sentence = re.sub(r\"[^a-zA-Z?.!,¿]+\", \" \", sentence) # 4\n",
    "    sentence = sentence.strip() # 5\n",
    "    sentence = '<start> ' + sentence + ' <end>' # 6\n",
    "    return sentence\n",
    "\n",
    "# 이 문장이 어떻게 필터링되는지 확인해 보세요.\n",
    "print(preprocess_sentence(\"This @_is ;;;sample        sentence.\"))"
   ]
  },
  {
   "cell_type": "code",
   "execution_count": 7,
   "id": "ae871ae0",
   "metadata": {},
   "outputs": [
    {
     "name": "stdout",
     "output_type": "stream",
     "text": [
      "['<start> before we proceed any further , hear me speak . <end>', '<start> speak , speak . <end>', '<start> you are all resolved rather to die than to famish ? <end>', '<start> resolved . resolved . <end>', '<start> first , you know caius marcius is chief enemy to the people . <end>', '<start> we know t , we know t . <end>', '<start> let us kill him , and we ll have corn at our own price . <end>', '<start> is t a verdict ? <end>', '<start> no more talking on t let it be done away , away ! <end>', '<start> one word , good citizens . <end>']\n"
     ]
    }
   ],
   "source": [
    "## 빈 리스트에 우리가 정제 시킨 문장을 모을 것이다.\n",
    "corpus = []\n",
    "\n",
    "for sentence in raw_corpus:       ## 우리가 원하지 않는 문장은 건너뛴다고 보면 된다~~\n",
    "    if len(sentence) == 0: continue\n",
    "    if sentence[-1] == \":\": continue\n",
    "        \n",
    "    ## 정제하고 담아줄 것이다.\n",
    "    preprocessed_sentence = preprocess_sentence(sentence)\n",
    "    corpus.append(preprocessed_sentence)\n",
    "    \n",
    "## 10개만 결과 확인하기\n",
    "print(corpus[:10])"
   ]
  },
  {
   "cell_type": "code",
   "execution_count": 8,
   "id": "2a1744b8",
   "metadata": {},
   "outputs": [
    {
     "name": "stdout",
     "output_type": "stream",
     "text": [
      "[[   2  143   40 ...    0    0    0]\n",
      " [   2  110    4 ...    0    0    0]\n",
      " [   2   11   50 ...    0    0    0]\n",
      " ...\n",
      " [   2  149 4553 ...    0    0    0]\n",
      " [   2   34   71 ...    0    0    0]\n",
      " [   2  945   34 ...    0    0    0]] <keras_preprocessing.text.Tokenizer object at 0x7fd07277a1f0>\n"
     ]
    }
   ],
   "source": [
    "# 토큰화 할 때 텐서플로우의 Tokenizer와 pad_sequences를 사용합니다\n",
    "# 더 잘 알기 위해 아래 문서들을 참고하면 좋습니다\n",
    "# https://www.tensorflow.org/api_docs/python/tf/keras/preprocessing/text/Tokenizer\n",
    "# https://www.tensorflow.org/api_docs/python/tf/keras/preprocessing/sequence/pad_sequences\n",
    "def tokenize(corpus):\n",
    "    # 7000단어를 기억할 수 있는 tokenizer를 만들겁니다\n",
    "    # 우리는 이미 문장을 정제했으니 filters가 필요없어요\n",
    "    # 7000단어에 포함되지 못한 단어는 '<unk>'로 바꿀거에요\n",
    "    tokenizer = tf.keras.preprocessing.text.Tokenizer(\n",
    "        num_words=7000, \n",
    "        filters=' ',\n",
    "        oov_token=\"<unk>\"\n",
    "    )\n",
    "    # corpus를 이용해 tokenizer 내부의 단어장을 완성합니다\n",
    "    tokenizer.fit_on_texts(corpus)\n",
    "    # 준비한 tokenizer를 이용해 corpus를 Tensor로 변환합니다\n",
    "    tensor = tokenizer.texts_to_sequences(corpus)   \n",
    "    # 입력 데이터의 시퀀스 길이를 일정하게 맞춰줍니다\n",
    "    # 만약 시퀀스가 짧다면 문장 뒤에 패딩을 붙여 길이를 맞춰줍니다.\n",
    "    # 문장 앞에 패딩을 붙여 길이를 맞추고 싶다면 padding='pre'를 사용합니다\n",
    "    tensor = tf.keras.preprocessing.sequence.pad_sequences(tensor, padding='post')  \n",
    "    \n",
    "    print(tensor,tokenizer)\n",
    "    return tensor, tokenizer\n",
    "\n",
    "tensor, tokenizer = tokenize(corpus)"
   ]
  },
  {
   "cell_type": "code",
   "execution_count": 9,
   "id": "8b020135",
   "metadata": {},
   "outputs": [
    {
     "name": "stdout",
     "output_type": "stream",
     "text": [
      "[[   2  143   40  933  140  591    4  124   24  110]\n",
      " [   2  110    4  110    5    3    0    0    0    0]\n",
      " [   2   11   50   43 1201  316    9  201   74    9]]\n"
     ]
    }
   ],
   "source": [
    "print(tensor[:3, :10])"
   ]
  },
  {
   "cell_type": "code",
   "execution_count": 10,
   "id": "eb53fecf",
   "metadata": {},
   "outputs": [
    {
     "name": "stdout",
     "output_type": "stream",
     "text": [
      "1 : <unk>\n",
      "2 : <start>\n",
      "3 : <end>\n",
      "4 : ,\n",
      "5 : .\n",
      "6 : the\n",
      "7 : and\n",
      "8 : i\n",
      "9 : to\n",
      "10 : of\n"
     ]
    }
   ],
   "source": [
    "for idx in tokenizer.index_word:\n",
    "    print(idx, \":\", tokenizer.index_word[idx])\n",
    "\n",
    "    if idx >= 10: break"
   ]
  },
  {
   "cell_type": "code",
   "execution_count": 11,
   "id": "20d0afff",
   "metadata": {},
   "outputs": [
    {
     "name": "stdout",
     "output_type": "stream",
     "text": [
      "[  2 143  40 933 140 591   4 124  24 110   5   3   0   0   0   0   0   0\n",
      "   0   0]\n",
      "[143  40 933 140 591   4 124  24 110   5   3   0   0   0   0   0   0   0\n",
      "   0   0]\n"
     ]
    }
   ],
   "source": [
    "# tensor에서 마지막 토큰을 잘라내서 소스 문장을 생성합니다\n",
    "# 마지막 토큰은 <end>가 아니라 <pad>일 가능성이 높습니다.\n",
    "src_input = tensor[:, :-1]  \n",
    "# tensor에서 <start>를 잘라내서 타겟 문장을 생성합니다.\n",
    "tgt_input = tensor[:, 1:]    \n",
    "\n",
    "print(src_input[0])\n",
    "print(tgt_input[0])"
   ]
  },
  {
   "cell_type": "code",
   "execution_count": 12,
   "id": "d7dbb084",
   "metadata": {},
   "outputs": [
    {
     "data": {
      "text/plain": [
       "<BatchDataset shapes: ((256, 20), (256, 20)), types: (tf.int32, tf.int32)>"
      ]
     },
     "execution_count": 12,
     "metadata": {},
     "output_type": "execute_result"
    }
   ],
   "source": [
    "BUFFER_SIZE = len(src_input)\n",
    "BATCH_SIZE = 256\n",
    "steps_per_epoch = len(src_input) // BATCH_SIZE\n",
    "\n",
    " # tokenizer가 구축한 단어사전 내 7000개와, 여기 포함되지 않은 0:<pad>를 포함하여 7001개\n",
    "VOCAB_SIZE = tokenizer.num_words + 1   \n",
    "\n",
    "# 준비한 데이터 소스로부터 데이터셋을 만듭니다\n",
    "# 데이터셋에 대해서는 아래 문서를 참고하세요\n",
    "# 자세히 알아둘수록 도움이 많이 되는 중요한 문서입니다\n",
    "# https://www.tensorflow.org/api_docs/python/tf/data/Dataset\n",
    "dataset = tf.data.Dataset.from_tensor_slices((src_input, tgt_input))\n",
    "dataset = dataset.shuffle(BUFFER_SIZE)\n",
    "dataset = dataset.batch(BATCH_SIZE, drop_remainder=True)\n",
    "dataset"
   ]
  },
  {
   "cell_type": "code",
   "execution_count": 14,
   "id": "e98fcba4",
   "metadata": {},
   "outputs": [],
   "source": [
    "class TextGenerator(tf.keras.Model):\n",
    "    def __init__(self, vocab_size, embedding_size, hidden_size):\n",
    "        super().__init__()\n",
    "        \n",
    "        self.embedding = tf.keras.layers.Embedding(vocab_size, embedding_size)\n",
    "        self.rnn_1 = tf.keras.layers.LSTM(hidden_size, return_sequences=True)\n",
    "        self.rnn_2 = tf.keras.layers.LSTM(hidden_size, return_sequences=True)\n",
    "        self.linear = tf.keras.layers.Dense(vocab_size)\n",
    "        \n",
    "    def call(self, x):\n",
    "        out = self.embedding(x)\n",
    "        out = self.rnn_1(out)\n",
    "        out = self.rnn_2(out)\n",
    "        out = self.linear(out)\n",
    "        \n",
    "        return out\n",
    "    \n",
    "embedding_size = 256\n",
    "hidden_size = 1024\n",
    "model = TextGenerator(tokenizer.num_words + 1, embedding_size , hidden_size)"
   ]
  },
  {
   "cell_type": "code",
   "execution_count": 17,
   "id": "5e44fde9",
   "metadata": {},
   "outputs": [
    {
     "data": {
      "text/plain": [
       "<tf.Tensor: shape=(256, 20, 7001), dtype=float32, numpy=\n",
       "array([[[ 1.38847754e-04,  2.13194071e-04,  2.05273551e-04, ...,\n",
       "          2.78079271e-04,  8.15430540e-05,  2.55192106e-04],\n",
       "        [ 1.62744167e-04,  2.88291922e-04,  1.91046740e-04, ...,\n",
       "          6.97698270e-04,  2.98023602e-04,  3.64955456e-04],\n",
       "        [ 3.53955053e-04,  3.74476716e-04,  4.36263799e-04, ...,\n",
       "          6.97834999e-04,  5.58076135e-04, -7.55758811e-05],\n",
       "        ...,\n",
       "        [-2.57393312e-05,  2.58140732e-04, -1.26031286e-03, ...,\n",
       "          5.01164002e-04, -1.76761509e-03,  7.94540665e-06],\n",
       "        [ 8.58611602e-05,  4.44352569e-04, -1.40714773e-03, ...,\n",
       "          9.75404982e-04, -1.81595306e-03, -1.82044430e-04],\n",
       "        [ 1.87821555e-04,  6.32610987e-04, -1.54027028e-03, ...,\n",
       "          1.44729193e-03, -1.82116590e-03, -3.46946617e-04]],\n",
       "\n",
       "       [[ 1.38847754e-04,  2.13194071e-04,  2.05273551e-04, ...,\n",
       "          2.78079271e-04,  8.15430540e-05,  2.55192106e-04],\n",
       "        [ 2.12076950e-04,  2.37284359e-04,  1.22541038e-04, ...,\n",
       "          5.24962554e-04, -5.80844207e-05,  3.93445545e-04],\n",
       "        [ 5.16834902e-04,  1.60278069e-04,  1.87778511e-04, ...,\n",
       "          6.17872691e-04,  6.07120128e-05,  3.45739216e-04],\n",
       "        ...,\n",
       "        [ 1.98389855e-04,  7.51657877e-04, -6.77635311e-04, ...,\n",
       "          1.58046966e-03, -1.70453417e-03, -4.02629434e-04],\n",
       "        [ 2.68221513e-04,  9.34964221e-04, -9.03715787e-04, ...,\n",
       "          1.93148083e-03, -1.83613424e-03, -5.82144363e-04],\n",
       "        [ 3.36475874e-04,  1.10388489e-03, -1.11105875e-03, ...,\n",
       "          2.28864211e-03, -1.90161658e-03, -7.28614919e-04]],\n",
       "\n",
       "       [[ 1.38847754e-04,  2.13194071e-04,  2.05273551e-04, ...,\n",
       "          2.78079271e-04,  8.15430540e-05,  2.55192106e-04],\n",
       "        [ 5.71175369e-05,  6.07923794e-05,  3.45882232e-04, ...,\n",
       "          3.36247525e-04,  2.34832449e-04,  2.27205208e-04],\n",
       "        [-9.01123567e-05, -2.00200710e-04,  6.84904589e-05, ...,\n",
       "          1.76449568e-04,  1.27536041e-04,  1.82310978e-04],\n",
       "        ...,\n",
       "        [ 1.50737818e-03,  1.22779468e-03, -1.11132918e-03, ...,\n",
       "          2.44896580e-03, -1.05080265e-03, -1.29846472e-03],\n",
       "        [ 1.48780469e-03,  1.30033062e-03, -1.26179971e-03, ...,\n",
       "          2.63638841e-03, -1.21737458e-03, -1.40574691e-03],\n",
       "        [ 1.45308010e-03,  1.37356133e-03, -1.39597780e-03, ...,\n",
       "          2.85727438e-03, -1.33031840e-03, -1.46693387e-03]],\n",
       "\n",
       "       ...,\n",
       "\n",
       "       [[ 1.38847754e-04,  2.13194071e-04,  2.05273551e-04, ...,\n",
       "          2.78079271e-04,  8.15430540e-05,  2.55192106e-04],\n",
       "        [ 4.75167006e-04,  4.76762798e-04,  4.74558095e-04, ...,\n",
       "          2.76339328e-04,  2.54734885e-04,  2.56866537e-04],\n",
       "        [ 5.55735489e-04,  4.82307893e-04,  7.64358323e-04, ...,\n",
       "          1.57669507e-04,  5.06997923e-04,  5.39039902e-04],\n",
       "        ...,\n",
       "        [ 8.91828386e-05,  2.01874500e-04, -6.25993998e-04, ...,\n",
       "          1.67520065e-03, -8.47096147e-04, -9.19643033e-04],\n",
       "        [ 1.25944949e-04,  4.06975189e-04, -7.81278359e-04, ...,\n",
       "          1.97849260e-03, -9.99766751e-04, -1.00369973e-03],\n",
       "        [ 1.70741056e-04,  6.15437631e-04, -9.31278861e-04, ...,\n",
       "          2.29943777e-03, -1.09993794e-03, -1.06426596e-03]],\n",
       "\n",
       "       [[ 1.38847754e-04,  2.13194071e-04,  2.05273551e-04, ...,\n",
       "          2.78079271e-04,  8.15430540e-05,  2.55192106e-04],\n",
       "        [ 9.12176347e-06,  1.86310455e-04,  8.53659352e-04, ...,\n",
       "          7.20473065e-04,  2.96428279e-05,  3.14638950e-04],\n",
       "        [ 6.00796302e-05,  3.44903761e-04,  1.22648547e-03, ...,\n",
       "          5.99992403e-04,  2.22653791e-04,  3.45831097e-04],\n",
       "        ...,\n",
       "        [ 3.80714831e-04,  1.33972859e-03, -1.15713058e-03, ...,\n",
       "          2.62451987e-03, -1.45935349e-03, -4.28256084e-04],\n",
       "        [ 4.40457545e-04,  1.43759849e-03, -1.33915956e-03, ...,\n",
       "          2.99516949e-03, -1.43248204e-03, -5.11396967e-04],\n",
       "        [ 4.91758517e-04,  1.52062019e-03, -1.49539264e-03, ...,\n",
       "          3.33217322e-03, -1.38592301e-03, -5.74697799e-04]],\n",
       "\n",
       "       [[ 1.38847754e-04,  2.13194071e-04,  2.05273551e-04, ...,\n",
       "          2.78079271e-04,  8.15430540e-05,  2.55192106e-04],\n",
       "        [ 3.90112371e-04,  1.37790863e-04,  1.09703622e-04, ...,\n",
       "          5.65973925e-04,  4.06419858e-05,  1.60416501e-04],\n",
       "        [ 6.80753030e-04, -8.94402765e-05,  8.70485746e-05, ...,\n",
       "          8.05034593e-04, -1.08503555e-04, -1.60024676e-04],\n",
       "        ...,\n",
       "        [ 1.40299369e-03, -4.02440201e-04, -6.16457372e-04, ...,\n",
       "          6.44085172e-04, -8.62473156e-04, -2.14718937e-04],\n",
       "        [ 1.29953469e-03, -2.04999393e-04, -8.57691048e-04, ...,\n",
       "          9.97839728e-04, -1.00870535e-03, -3.22398380e-04],\n",
       "        [ 1.20508857e-03,  1.11463642e-05, -1.07772020e-03, ...,\n",
       "          1.38139422e-03, -1.12239749e-03, -4.24353639e-04]]],\n",
       "      dtype=float32)>"
      ]
     },
     "execution_count": 17,
     "metadata": {},
     "output_type": "execute_result"
    }
   ],
   "source": [
    "## 데이터셋에서 데이터 한 배치만 불러오는 방법임\n",
    "## 지금 동작원리에 너무 빠지지 않아도 된다~~~~\n",
    "\n",
    "for src_sample, tgt_sample in dataset.take(1):\n",
    "    break\n",
    "    \n",
    "    \n",
    "## 한 배치만 불러온 데이터를 모델에 넣기\n",
    "\n",
    "model(src_sample)"
   ]
  },
  {
   "cell_type": "code",
   "execution_count": 18,
   "id": "6b017b29",
   "metadata": {},
   "outputs": [
    {
     "name": "stdout",
     "output_type": "stream",
     "text": [
      "Model: \"text_generator\"\n",
      "_________________________________________________________________\n",
      "Layer (type)                 Output Shape              Param #   \n",
      "=================================================================\n",
      "embedding (Embedding)        multiple                  1792256   \n",
      "_________________________________________________________________\n",
      "lstm (LSTM)                  multiple                  5246976   \n",
      "_________________________________________________________________\n",
      "lstm_1 (LSTM)                multiple                  8392704   \n",
      "_________________________________________________________________\n",
      "dense (Dense)                multiple                  7176025   \n",
      "=================================================================\n",
      "Total params: 22,607,961\n",
      "Trainable params: 22,607,961\n",
      "Non-trainable params: 0\n",
      "_________________________________________________________________\n"
     ]
    }
   ],
   "source": [
    "model.summary()"
   ]
  },
  {
   "cell_type": "code",
   "execution_count": null,
   "id": "9e7c98be",
   "metadata": {},
   "outputs": [],
   "source": []
  },
  {
   "cell_type": "code",
   "execution_count": null,
   "id": "c795800c",
   "metadata": {},
   "outputs": [],
   "source": []
  },
  {
   "cell_type": "code",
   "execution_count": null,
   "id": "1808f14a",
   "metadata": {},
   "outputs": [],
   "source": []
  },
  {
   "cell_type": "code",
   "execution_count": null,
   "id": "ee6fb645",
   "metadata": {},
   "outputs": [],
   "source": []
  },
  {
   "cell_type": "code",
   "execution_count": null,
   "id": "fe42327d",
   "metadata": {},
   "outputs": [],
   "source": []
  },
  {
   "cell_type": "code",
   "execution_count": null,
   "id": "2d2b4d60",
   "metadata": {},
   "outputs": [],
   "source": []
  },
  {
   "cell_type": "code",
   "execution_count": null,
   "id": "3a86557c",
   "metadata": {},
   "outputs": [],
   "source": []
  },
  {
   "cell_type": "code",
   "execution_count": null,
   "id": "272f144f",
   "metadata": {},
   "outputs": [],
   "source": []
  },
  {
   "cell_type": "code",
   "execution_count": null,
   "id": "e5b8356c",
   "metadata": {},
   "outputs": [],
   "source": []
  }
 ],
 "metadata": {
  "kernelspec": {
   "display_name": "Python 3 (ipykernel)",
   "language": "python",
   "name": "python3"
  },
  "language_info": {
   "codemirror_mode": {
    "name": "ipython",
    "version": 3
   },
   "file_extension": ".py",
   "mimetype": "text/x-python",
   "name": "python",
   "nbconvert_exporter": "python",
   "pygments_lexer": "ipython3",
   "version": "3.9.7"
  }
 },
 "nbformat": 4,
 "nbformat_minor": 5
}
